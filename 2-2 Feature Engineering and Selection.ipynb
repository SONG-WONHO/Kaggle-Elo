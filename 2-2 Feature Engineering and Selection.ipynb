{
 "cells": [
  {
   "cell_type": "markdown",
   "metadata": {},
   "source": [
    "# 사전 작업"
   ]
  },
  {
   "cell_type": "markdown",
   "metadata": {},
   "source": [
    "## 모듈 로드"
   ]
  },
  {
   "cell_type": "code",
   "execution_count": 1,
   "metadata": {
    "ExecuteTime": {
     "end_time": "2019-02-18T18:19:31.682196Z",
     "start_time": "2019-02-18T18:19:30.507835Z"
    }
   },
   "outputs": [],
   "source": [
    "import numpy as np\n",
    "import pandas as pd\n",
    "import matplotlib.pyplot as plt\n",
    "import datetime\n",
    "import seaborn as sns\n",
    "import gc\n",
    "from tqdm import tqdm_notebook"
   ]
  },
  {
   "cell_type": "code",
   "execution_count": 2,
   "metadata": {
    "ExecuteTime": {
     "end_time": "2019-02-18T18:19:31.859312Z",
     "start_time": "2019-02-18T18:19:31.684190Z"
    }
   },
   "outputs": [],
   "source": [
    "import lightgbm as lgb\n",
    "from sklearn.metrics import mean_squared_error\n",
    "from sklearn.metrics import log_loss\n",
    "from sklearn.model_selection import KFold, StratifiedKFold"
   ]
  },
  {
   "cell_type": "code",
   "execution_count": 3,
   "metadata": {
    "ExecuteTime": {
     "end_time": "2019-02-18T18:19:31.863295Z",
     "start_time": "2019-02-18T18:19:31.860302Z"
    }
   },
   "outputs": [],
   "source": [
    "from sklearn.preprocessing import LabelEncoder"
   ]
  },
  {
   "cell_type": "code",
   "execution_count": 4,
   "metadata": {
    "ExecuteTime": {
     "end_time": "2019-02-18T18:19:31.869279Z",
     "start_time": "2019-02-18T18:19:31.865289Z"
    }
   },
   "outputs": [],
   "source": [
    "import warnings\n",
    "warnings.filterwarnings('ignore')"
   ]
  },
  {
   "cell_type": "code",
   "execution_count": 5,
   "metadata": {
    "ExecuteTime": {
     "end_time": "2019-02-18T18:19:31.874266Z",
     "start_time": "2019-02-18T18:19:31.870276Z"
    }
   },
   "outputs": [],
   "source": [
    "pd.set_option('display.max_columns', 400)"
   ]
  },
  {
   "cell_type": "markdown",
   "metadata": {},
   "source": [
    "# 통합 데이터"
   ]
  },
  {
   "cell_type": "code",
   "execution_count": 6,
   "metadata": {
    "ExecuteTime": {
     "end_time": "2019-02-18T18:19:32.799553Z",
     "start_time": "2019-02-18T18:19:32.794566Z"
    }
   },
   "outputs": [],
   "source": [
    "def drop_features(data, keyword, debug=False):\n",
    "    if debug:\n",
    "        data = data[:1000]\n",
    "        \n",
    "    logits = []\n",
    "    for col in data.columns:\n",
    "        if keyword in col:\n",
    "            logits.append(col)\n",
    "        else:\n",
    "            pass\n",
    "    \n",
    "    return logits"
   ]
  },
  {
   "cell_type": "markdown",
   "metadata": {},
   "source": [
    "## 데이터 로드"
   ]
  },
  {
   "cell_type": "code",
   "execution_count": 7,
   "metadata": {
    "ExecuteTime": {
     "end_time": "2019-02-18T18:19:33.851030Z",
     "start_time": "2019-02-18T18:19:33.848037Z"
    }
   },
   "outputs": [],
   "source": [
    "path = './data/'"
   ]
  },
  {
   "cell_type": "code",
   "execution_count": 8,
   "metadata": {
    "ExecuteTime": {
     "end_time": "2019-02-18T18:19:46.018507Z",
     "start_time": "2019-02-18T18:19:34.012593Z"
    }
   },
   "outputs": [],
   "source": [
    "train = pd.read_csv(path + 'train_v4.csv')\n",
    "test = pd.read_csv(path + 'test_v4.csv')"
   ]
  },
  {
   "cell_type": "code",
   "execution_count": 9,
   "metadata": {
    "ExecuteTime": {
     "end_time": "2019-02-18T18:19:46.027458Z",
     "start_time": "2019-02-18T18:19:46.020501Z"
    }
   },
   "outputs": [],
   "source": [
    "train.new_card_id_size.fillna(0, inplace=True)\n",
    "test.new_card_id_size.fillna(0, inplace=True)"
   ]
  },
  {
   "cell_type": "code",
   "execution_count": 10,
   "metadata": {
    "ExecuteTime": {
     "end_time": "2019-02-18T18:20:31.807046Z",
     "start_time": "2019-02-18T18:19:46.028457Z"
    }
   },
   "outputs": [],
   "source": [
    "raw_history = pd.read_csv(path + 'historical_transactions.csv')"
   ]
  },
  {
   "cell_type": "code",
   "execution_count": 11,
   "metadata": {
    "ExecuteTime": {
     "end_time": "2019-02-18T18:20:33.495623Z",
     "start_time": "2019-02-18T18:20:31.809012Z"
    }
   },
   "outputs": [],
   "source": [
    "history = raw_history.copy()"
   ]
  },
  {
   "cell_type": "markdown",
   "metadata": {},
   "source": [
    "## Feature Engineering"
   ]
  },
  {
   "cell_type": "code",
   "execution_count": 12,
   "metadata": {
    "ExecuteTime": {
     "end_time": "2019-02-18T18:20:41.644981Z",
     "start_time": "2019-02-18T18:20:41.640993Z"
    }
   },
   "outputs": [],
   "source": [
    "def null_cnt(x):\n",
    "    return np.sum(x.isna() * 1)"
   ]
  },
  {
   "cell_type": "code",
   "execution_count": 13,
   "metadata": {
    "ExecuteTime": {
     "end_time": "2019-02-18T18:20:41.826341Z",
     "start_time": "2019-02-18T18:20:41.822389Z"
    }
   },
   "outputs": [],
   "source": [
    "def null_rate(x):\n",
    "    return np.sum(x.isna() * 1) / len(x)"
   ]
  },
  {
   "cell_type": "code",
   "execution_count": 14,
   "metadata": {
    "ExecuteTime": {
     "end_time": "2019-02-18T18:20:41.973755Z",
     "start_time": "2019-02-18T18:20:41.970763Z"
    }
   },
   "outputs": [],
   "source": [
    "from scipy import stats\n",
    "def mode(x):\n",
    "    return stats.mode(x)[0][0]"
   ]
  },
  {
   "cell_type": "code",
   "execution_count": 15,
   "metadata": {
    "ExecuteTime": {
     "end_time": "2019-02-18T18:20:42.124856Z",
     "start_time": "2019-02-18T18:20:42.120903Z"
    }
   },
   "outputs": [],
   "source": [
    "def most_value_cnt(x):\n",
    "    return x.value_counts().values[0]"
   ]
  },
  {
   "cell_type": "code",
   "execution_count": 16,
   "metadata": {
    "ExecuteTime": {
     "end_time": "2019-02-18T18:21:57.816855Z",
     "start_time": "2019-02-18T18:21:57.798904Z"
    }
   },
   "outputs": [
    {
     "data": {
      "text/html": [
       "<div>\n",
       "<style scoped>\n",
       "    .dataframe tbody tr th:only-of-type {\n",
       "        vertical-align: middle;\n",
       "    }\n",
       "\n",
       "    .dataframe tbody tr th {\n",
       "        vertical-align: top;\n",
       "    }\n",
       "\n",
       "    .dataframe thead th {\n",
       "        text-align: right;\n",
       "    }\n",
       "</style>\n",
       "<table border=\"1\" class=\"dataframe\">\n",
       "  <thead>\n",
       "    <tr style=\"text-align: right;\">\n",
       "      <th></th>\n",
       "      <th>authorized_flag</th>\n",
       "      <th>card_id</th>\n",
       "      <th>city_id</th>\n",
       "      <th>category_1</th>\n",
       "      <th>installments</th>\n",
       "      <th>category_3</th>\n",
       "      <th>merchant_category_id</th>\n",
       "      <th>merchant_id</th>\n",
       "      <th>month_lag</th>\n",
       "      <th>purchase_amount</th>\n",
       "      <th>purchase_date</th>\n",
       "      <th>category_2</th>\n",
       "      <th>state_id</th>\n",
       "      <th>subsector_id</th>\n",
       "    </tr>\n",
       "  </thead>\n",
       "  <tbody>\n",
       "    <tr>\n",
       "      <th>0</th>\n",
       "      <td>Y</td>\n",
       "      <td>C_ID_4e6213e9bc</td>\n",
       "      <td>88</td>\n",
       "      <td>N</td>\n",
       "      <td>0</td>\n",
       "      <td>A</td>\n",
       "      <td>80</td>\n",
       "      <td>M_ID_e020e9b302</td>\n",
       "      <td>-8</td>\n",
       "      <td>-0.703331</td>\n",
       "      <td>2017-06-25 15:33:07</td>\n",
       "      <td>1.0</td>\n",
       "      <td>16</td>\n",
       "      <td>37</td>\n",
       "    </tr>\n",
       "    <tr>\n",
       "      <th>1</th>\n",
       "      <td>Y</td>\n",
       "      <td>C_ID_4e6213e9bc</td>\n",
       "      <td>88</td>\n",
       "      <td>N</td>\n",
       "      <td>0</td>\n",
       "      <td>A</td>\n",
       "      <td>367</td>\n",
       "      <td>M_ID_86ec983688</td>\n",
       "      <td>-7</td>\n",
       "      <td>-0.733128</td>\n",
       "      <td>2017-07-15 12:10:45</td>\n",
       "      <td>1.0</td>\n",
       "      <td>16</td>\n",
       "      <td>16</td>\n",
       "    </tr>\n",
       "    <tr>\n",
       "      <th>2</th>\n",
       "      <td>Y</td>\n",
       "      <td>C_ID_4e6213e9bc</td>\n",
       "      <td>88</td>\n",
       "      <td>N</td>\n",
       "      <td>0</td>\n",
       "      <td>A</td>\n",
       "      <td>80</td>\n",
       "      <td>M_ID_979ed661fc</td>\n",
       "      <td>-6</td>\n",
       "      <td>-0.720386</td>\n",
       "      <td>2017-08-09 22:04:29</td>\n",
       "      <td>1.0</td>\n",
       "      <td>16</td>\n",
       "      <td>37</td>\n",
       "    </tr>\n",
       "  </tbody>\n",
       "</table>\n",
       "</div>"
      ],
      "text/plain": [
       "  authorized_flag          card_id  city_id category_1  installments  \\\n",
       "0               Y  C_ID_4e6213e9bc       88          N             0   \n",
       "1               Y  C_ID_4e6213e9bc       88          N             0   \n",
       "2               Y  C_ID_4e6213e9bc       88          N             0   \n",
       "\n",
       "  category_3  merchant_category_id      merchant_id  month_lag  \\\n",
       "0          A                    80  M_ID_e020e9b302         -8   \n",
       "1          A                   367  M_ID_86ec983688         -7   \n",
       "2          A                    80  M_ID_979ed661fc         -6   \n",
       "\n",
       "   purchase_amount        purchase_date  category_2  state_id  subsector_id  \n",
       "0        -0.703331  2017-06-25 15:33:07         1.0        16            37  \n",
       "1        -0.733128  2017-07-15 12:10:45         1.0        16            16  \n",
       "2        -0.720386  2017-08-09 22:04:29         1.0        16            37  "
      ]
     },
     "execution_count": 16,
     "metadata": {},
     "output_type": "execute_result"
    }
   ],
   "source": [
    "history.head(3)"
   ]
  },
  {
   "cell_type": "markdown",
   "metadata": {},
   "source": [
    "### 거래가 승인 되고, 오프라인 거래의 city_id"
   ]
  },
  {
   "cell_type": "code",
   "execution_count": 17,
   "metadata": {
    "ExecuteTime": {
     "end_time": "2019-02-18T18:22:16.937221Z",
     "start_time": "2019-02-18T18:22:01.385490Z"
    }
   },
   "outputs": [],
   "source": [
    "temp = history[history.authorized_flag == 'Y']\n",
    "temp = temp[temp.category_1 == 'N']"
   ]
  },
  {
   "cell_type": "code",
   "execution_count": 18,
   "metadata": {
    "ExecuteTime": {
     "end_time": "2019-02-18T18:22:51.933930Z",
     "start_time": "2019-02-18T18:22:16.947159Z"
    }
   },
   "outputs": [
    {
     "data": {
      "text/html": [
       "<div>\n",
       "<style scoped>\n",
       "    .dataframe tbody tr th:only-of-type {\n",
       "        vertical-align: middle;\n",
       "    }\n",
       "\n",
       "    .dataframe tbody tr th {\n",
       "        vertical-align: top;\n",
       "    }\n",
       "\n",
       "    .dataframe thead tr th {\n",
       "        text-align: left;\n",
       "    }\n",
       "\n",
       "    .dataframe thead tr:last-of-type th {\n",
       "        text-align: right;\n",
       "    }\n",
       "</style>\n",
       "<table border=\"1\" class=\"dataframe\">\n",
       "  <thead>\n",
       "    <tr>\n",
       "      <th></th>\n",
       "      <th colspan=\"2\" halign=\"left\">city_id</th>\n",
       "    </tr>\n",
       "    <tr>\n",
       "      <th></th>\n",
       "      <th>mode</th>\n",
       "      <th>nunique</th>\n",
       "    </tr>\n",
       "    <tr>\n",
       "      <th>card_id</th>\n",
       "      <th></th>\n",
       "      <th></th>\n",
       "    </tr>\n",
       "  </thead>\n",
       "  <tbody>\n",
       "    <tr>\n",
       "      <th>C_ID_00007093c1</th>\n",
       "      <td>244</td>\n",
       "      <td>3</td>\n",
       "    </tr>\n",
       "  </tbody>\n",
       "</table>\n",
       "</div>"
      ],
      "text/plain": [
       "                city_id        \n",
       "                   mode nunique\n",
       "card_id                        \n",
       "C_ID_00007093c1     244       3"
      ]
     },
     "execution_count": 18,
     "metadata": {},
     "output_type": "execute_result"
    }
   ],
   "source": [
    "temp = temp.groupby('card_id').agg({'city_id': [mode, 'nunique']})\n",
    "temp.head(1)"
   ]
  },
  {
   "cell_type": "code",
   "execution_count": 19,
   "metadata": {
    "ExecuteTime": {
     "end_time": "2019-02-18T18:22:51.953876Z",
     "start_time": "2019-02-18T18:22:51.934926Z"
    }
   },
   "outputs": [
    {
     "data": {
      "text/html": [
       "<div>\n",
       "<style scoped>\n",
       "    .dataframe tbody tr th:only-of-type {\n",
       "        vertical-align: middle;\n",
       "    }\n",
       "\n",
       "    .dataframe tbody tr th {\n",
       "        vertical-align: top;\n",
       "    }\n",
       "\n",
       "    .dataframe thead th {\n",
       "        text-align: right;\n",
       "    }\n",
       "</style>\n",
       "<table border=\"1\" class=\"dataframe\">\n",
       "  <thead>\n",
       "    <tr style=\"text-align: right;\">\n",
       "      <th></th>\n",
       "      <th>card_id</th>\n",
       "      <th>hist_city_id_mode_authorized_flag_category_1_Y</th>\n",
       "      <th>hist_city_id_nunique_authorized_flag_category_1_Y</th>\n",
       "    </tr>\n",
       "  </thead>\n",
       "  <tbody>\n",
       "    <tr>\n",
       "      <th>0</th>\n",
       "      <td>C_ID_00007093c1</td>\n",
       "      <td>244</td>\n",
       "      <td>3</td>\n",
       "    </tr>\n",
       "  </tbody>\n",
       "</table>\n",
       "</div>"
      ],
      "text/plain": [
       "           card_id  hist_city_id_mode_authorized_flag_category_1_Y  \\\n",
       "0  C_ID_00007093c1                                             244   \n",
       "\n",
       "   hist_city_id_nunique_authorized_flag_category_1_Y  \n",
       "0                                                  3  "
      ]
     },
     "execution_count": 19,
     "metadata": {},
     "output_type": "execute_result"
    }
   ],
   "source": [
    "temp.columns = ['hist_city_id_mode_authorized_flag_category_1_Y', 'hist_city_id_nunique_authorized_flag_category_1_Y']\n",
    "temp.reset_index(inplace=True)\n",
    "temp.head(1)"
   ]
  },
  {
   "cell_type": "code",
   "execution_count": 20,
   "metadata": {
    "ExecuteTime": {
     "end_time": "2019-02-18T18:23:01.708792Z",
     "start_time": "2019-02-18T18:22:51.956867Z"
    }
   },
   "outputs": [],
   "source": [
    "train = train.merge(temp, on='card_id', how='left')\n",
    "test = test.merge(temp, on='card_id', how='left')"
   ]
  },
  {
   "cell_type": "code",
   "execution_count": 21,
   "metadata": {
    "ExecuteTime": {
     "end_time": "2019-02-18T18:23:01.907407Z",
     "start_time": "2019-02-18T18:23:01.710749Z"
    }
   },
   "outputs": [
    {
     "data": {
      "text/plain": [
       "35"
      ]
     },
     "execution_count": 21,
     "metadata": {},
     "output_type": "execute_result"
    }
   ],
   "source": [
    "del temp\n",
    "gc.collect()"
   ]
  },
  {
   "cell_type": "markdown",
   "metadata": {},
   "source": [
    "### 거래가 승인된 category_1"
   ]
  },
  {
   "cell_type": "code",
   "execution_count": 22,
   "metadata": {
    "ExecuteTime": {
     "end_time": "2019-02-18T18:23:06.416382Z",
     "start_time": "2019-02-18T18:23:01.908404Z"
    }
   },
   "outputs": [],
   "source": [
    "temp = history[history.authorized_flag == 'Y']"
   ]
  },
  {
   "cell_type": "code",
   "execution_count": 23,
   "metadata": {
    "ExecuteTime": {
     "end_time": "2019-02-18T18:23:08.962908Z",
     "start_time": "2019-02-18T18:23:06.417345Z"
    }
   },
   "outputs": [],
   "source": [
    "temp.category_1 = temp.category_1.map({'Y':1, 'N':0})"
   ]
  },
  {
   "cell_type": "code",
   "execution_count": 24,
   "metadata": {
    "ExecuteTime": {
     "end_time": "2019-02-18T18:23:15.141524Z",
     "start_time": "2019-02-18T18:23:08.963906Z"
    }
   },
   "outputs": [
    {
     "data": {
      "text/html": [
       "<div>\n",
       "<style scoped>\n",
       "    .dataframe tbody tr th:only-of-type {\n",
       "        vertical-align: middle;\n",
       "    }\n",
       "\n",
       "    .dataframe tbody tr th {\n",
       "        vertical-align: top;\n",
       "    }\n",
       "\n",
       "    .dataframe thead tr th {\n",
       "        text-align: left;\n",
       "    }\n",
       "\n",
       "    .dataframe thead tr:last-of-type th {\n",
       "        text-align: right;\n",
       "    }\n",
       "</style>\n",
       "<table border=\"1\" class=\"dataframe\">\n",
       "  <thead>\n",
       "    <tr>\n",
       "      <th></th>\n",
       "      <th colspan=\"3\" halign=\"left\">category_1</th>\n",
       "    </tr>\n",
       "    <tr>\n",
       "      <th></th>\n",
       "      <th>mean</th>\n",
       "      <th>sum</th>\n",
       "      <th>size</th>\n",
       "    </tr>\n",
       "    <tr>\n",
       "      <th>card_id</th>\n",
       "      <th></th>\n",
       "      <th></th>\n",
       "      <th></th>\n",
       "    </tr>\n",
       "  </thead>\n",
       "  <tbody>\n",
       "    <tr>\n",
       "      <th>C_ID_00007093c1</th>\n",
       "      <td>0.210526</td>\n",
       "      <td>24</td>\n",
       "      <td>114</td>\n",
       "    </tr>\n",
       "  </tbody>\n",
       "</table>\n",
       "</div>"
      ],
      "text/plain": [
       "                category_1         \n",
       "                      mean sum size\n",
       "card_id                            \n",
       "C_ID_00007093c1   0.210526  24  114"
      ]
     },
     "execution_count": 24,
     "metadata": {},
     "output_type": "execute_result"
    }
   ],
   "source": [
    "temp = temp.groupby('card_id').agg({'category_1':['mean', 'sum', 'size']})\n",
    "temp.head(1)"
   ]
  },
  {
   "cell_type": "code",
   "execution_count": 25,
   "metadata": {
    "ExecuteTime": {
     "end_time": "2019-02-18T18:23:15.161472Z",
     "start_time": "2019-02-18T18:23:15.142521Z"
    }
   },
   "outputs": [
    {
     "data": {
      "text/html": [
       "<div>\n",
       "<style scoped>\n",
       "    .dataframe tbody tr th:only-of-type {\n",
       "        vertical-align: middle;\n",
       "    }\n",
       "\n",
       "    .dataframe tbody tr th {\n",
       "        vertical-align: top;\n",
       "    }\n",
       "\n",
       "    .dataframe thead th {\n",
       "        text-align: right;\n",
       "    }\n",
       "</style>\n",
       "<table border=\"1\" class=\"dataframe\">\n",
       "  <thead>\n",
       "    <tr style=\"text-align: right;\">\n",
       "      <th></th>\n",
       "      <th>card_id</th>\n",
       "      <th>hist_category_1_authorized_flag_Y_mean</th>\n",
       "      <th>hist_category_1_authorized_flag_Y_sum</th>\n",
       "      <th>hist_category_1_authorized_flag_Y_size</th>\n",
       "    </tr>\n",
       "  </thead>\n",
       "  <tbody>\n",
       "    <tr>\n",
       "      <th>0</th>\n",
       "      <td>C_ID_00007093c1</td>\n",
       "      <td>0.210526</td>\n",
       "      <td>24</td>\n",
       "      <td>114</td>\n",
       "    </tr>\n",
       "  </tbody>\n",
       "</table>\n",
       "</div>"
      ],
      "text/plain": [
       "           card_id  hist_category_1_authorized_flag_Y_mean  \\\n",
       "0  C_ID_00007093c1                                0.210526   \n",
       "\n",
       "   hist_category_1_authorized_flag_Y_sum  \\\n",
       "0                                     24   \n",
       "\n",
       "   hist_category_1_authorized_flag_Y_size  \n",
       "0                                     114  "
      ]
     },
     "execution_count": 25,
     "metadata": {},
     "output_type": "execute_result"
    }
   ],
   "source": [
    "temp.columns = ['hist_category_1_authorized_flag_Y_mean', 'hist_category_1_authorized_flag_Y_sum', 'hist_category_1_authorized_flag_Y_size']\n",
    "temp.reset_index(inplace=True)\n",
    "temp.head(1)"
   ]
  },
  {
   "cell_type": "code",
   "execution_count": 26,
   "metadata": {
    "ExecuteTime": {
     "end_time": "2019-02-18T18:23:15.179456Z",
     "start_time": "2019-02-18T18:23:15.162467Z"
    }
   },
   "outputs": [],
   "source": [
    "temp.hist_category_1_authorized_flag_Y_mean = np.round(temp.hist_category_1_authorized_flag_Y_mean, 4)"
   ]
  },
  {
   "cell_type": "code",
   "execution_count": 27,
   "metadata": {
    "ExecuteTime": {
     "end_time": "2019-02-18T18:23:15.995480Z",
     "start_time": "2019-02-18T18:23:15.180419Z"
    }
   },
   "outputs": [],
   "source": [
    "train = train.merge(temp, on='card_id', how='left')\n",
    "test = test.merge(temp, on='card_id', how='left')"
   ]
  },
  {
   "cell_type": "code",
   "execution_count": 28,
   "metadata": {
    "ExecuteTime": {
     "end_time": "2019-02-18T18:23:16.122142Z",
     "start_time": "2019-02-18T18:23:15.996477Z"
    }
   },
   "outputs": [
    {
     "data": {
      "text/plain": [
       "35"
      ]
     },
     "execution_count": 28,
     "metadata": {},
     "output_type": "execute_result"
    }
   ],
   "source": [
    "del temp\n",
    "gc.collect()"
   ]
  },
  {
   "cell_type": "markdown",
   "metadata": {},
   "source": [
    "### 거래가 승인된 installments"
   ]
  },
  {
   "cell_type": "code",
   "execution_count": 29,
   "metadata": {
    "ExecuteTime": {
     "end_time": "2019-02-18T18:23:16.128126Z",
     "start_time": "2019-02-18T18:23:16.123141Z"
    }
   },
   "outputs": [],
   "source": [
    "def has_999(data):\n",
    "    # 999가 없을 때\n",
    "    if data[data == 999].__len__() == 0:\n",
    "        return 0\n",
    "    # 999가 있을 때\n",
    "    else:\n",
    "        return 1"
   ]
  },
  {
   "cell_type": "code",
   "execution_count": 30,
   "metadata": {
    "ExecuteTime": {
     "end_time": "2019-02-18T18:23:16.136105Z",
     "start_time": "2019-02-18T18:23:16.130122Z"
    }
   },
   "outputs": [],
   "source": [
    "def cnt_std(data):\n",
    "    value = data.value_counts().std()\n",
    "    if np.isnan(value):\n",
    "        return 0\n",
    "    else:\n",
    "        return value"
   ]
  },
  {
   "cell_type": "code",
   "execution_count": 31,
   "metadata": {
    "ExecuteTime": {
     "end_time": "2019-02-18T18:23:16.923537Z",
     "start_time": "2019-02-18T18:23:16.137101Z"
    }
   },
   "outputs": [],
   "source": [
    "history.installments.replace(-1, np.nan, inplace=True)"
   ]
  },
  {
   "cell_type": "code",
   "execution_count": 32,
   "metadata": {
    "ExecuteTime": {
     "end_time": "2019-02-18T18:23:21.792190Z",
     "start_time": "2019-02-18T18:23:16.924178Z"
    }
   },
   "outputs": [],
   "source": [
    "temp = history[history.authorized_flag == 'Y']"
   ]
  },
  {
   "cell_type": "code",
   "execution_count": 33,
   "metadata": {
    "ExecuteTime": {
     "end_time": "2019-02-18T18:29:00.385183Z",
     "start_time": "2019-02-18T18:23:21.793154Z"
    }
   },
   "outputs": [
    {
     "data": {
      "text/html": [
       "<div>\n",
       "<style scoped>\n",
       "    .dataframe tbody tr th:only-of-type {\n",
       "        vertical-align: middle;\n",
       "    }\n",
       "\n",
       "    .dataframe tbody tr th {\n",
       "        vertical-align: top;\n",
       "    }\n",
       "\n",
       "    .dataframe thead tr th {\n",
       "        text-align: left;\n",
       "    }\n",
       "\n",
       "    .dataframe thead tr:last-of-type th {\n",
       "        text-align: right;\n",
       "    }\n",
       "</style>\n",
       "<table border=\"1\" class=\"dataframe\">\n",
       "  <thead>\n",
       "    <tr>\n",
       "      <th></th>\n",
       "      <th colspan=\"9\" halign=\"left\">installments</th>\n",
       "    </tr>\n",
       "    <tr>\n",
       "      <th></th>\n",
       "      <th>mode</th>\n",
       "      <th>size</th>\n",
       "      <th>mean</th>\n",
       "      <th>max</th>\n",
       "      <th>var</th>\n",
       "      <th>min</th>\n",
       "      <th>null_cnt</th>\n",
       "      <th>null_rate</th>\n",
       "      <th>cnt_std</th>\n",
       "    </tr>\n",
       "    <tr>\n",
       "      <th>card_id</th>\n",
       "      <th></th>\n",
       "      <th></th>\n",
       "      <th></th>\n",
       "      <th></th>\n",
       "      <th></th>\n",
       "      <th></th>\n",
       "      <th></th>\n",
       "      <th></th>\n",
       "      <th></th>\n",
       "    </tr>\n",
       "  </thead>\n",
       "  <tbody>\n",
       "    <tr>\n",
       "      <th>C_ID_00007093c1</th>\n",
       "      <td>1.0</td>\n",
       "      <td>114</td>\n",
       "      <td>1.289474</td>\n",
       "      <td>6.0</td>\n",
       "      <td>0.632278</td>\n",
       "      <td>1.0</td>\n",
       "      <td>0.0</td>\n",
       "      <td>0.0</td>\n",
       "      <td>41.069453</td>\n",
       "    </tr>\n",
       "  </tbody>\n",
       "</table>\n",
       "</div>"
      ],
      "text/plain": [
       "                installments                                              \\\n",
       "                        mode size      mean  max       var  min null_cnt   \n",
       "card_id                                                                    \n",
       "C_ID_00007093c1          1.0  114  1.289474  6.0  0.632278  1.0      0.0   \n",
       "\n",
       "                                      \n",
       "                null_rate    cnt_std  \n",
       "card_id                               \n",
       "C_ID_00007093c1       0.0  41.069453  "
      ]
     },
     "execution_count": 33,
     "metadata": {},
     "output_type": "execute_result"
    }
   ],
   "source": [
    "temp = temp.groupby('card_id').agg({'installments':[mode, 'size', 'mean', 'max', 'var', 'min', null_cnt, null_rate, cnt_std]})\n",
    "temp.head(1)"
   ]
  },
  {
   "cell_type": "code",
   "execution_count": 34,
   "metadata": {
    "ExecuteTime": {
     "end_time": "2019-02-18T18:29:00.422118Z",
     "start_time": "2019-02-18T18:29:00.395154Z"
    }
   },
   "outputs": [
    {
     "data": {
      "text/html": [
       "<div>\n",
       "<style scoped>\n",
       "    .dataframe tbody tr th:only-of-type {\n",
       "        vertical-align: middle;\n",
       "    }\n",
       "\n",
       "    .dataframe tbody tr th {\n",
       "        vertical-align: top;\n",
       "    }\n",
       "\n",
       "    .dataframe thead th {\n",
       "        text-align: right;\n",
       "    }\n",
       "</style>\n",
       "<table border=\"1\" class=\"dataframe\">\n",
       "  <thead>\n",
       "    <tr style=\"text-align: right;\">\n",
       "      <th></th>\n",
       "      <th>card_id</th>\n",
       "      <th>hist_installments_authorized_flag_Y_mode</th>\n",
       "      <th>hist_installments_authorized_flag_Y_size</th>\n",
       "      <th>hist_installments_authorized_flag_Y_mean</th>\n",
       "      <th>hist_installments_authorized_flag_Y_max</th>\n",
       "      <th>hist_installments_authorized_flag_Y_var</th>\n",
       "      <th>hist_installments_authorized_flag_Y_min</th>\n",
       "      <th>hist_installments_authorized_flag_Y_null_cnt</th>\n",
       "      <th>hist_installments_authorized_flag_Y_null_rate</th>\n",
       "      <th>hist_installments_authorized_flag_Y_cnt_std</th>\n",
       "    </tr>\n",
       "  </thead>\n",
       "  <tbody>\n",
       "    <tr>\n",
       "      <th>0</th>\n",
       "      <td>C_ID_00007093c1</td>\n",
       "      <td>1.0</td>\n",
       "      <td>114</td>\n",
       "      <td>1.289474</td>\n",
       "      <td>6.0</td>\n",
       "      <td>0.632278</td>\n",
       "      <td>1.0</td>\n",
       "      <td>0.0</td>\n",
       "      <td>0.0</td>\n",
       "      <td>41.069453</td>\n",
       "    </tr>\n",
       "  </tbody>\n",
       "</table>\n",
       "</div>"
      ],
      "text/plain": [
       "           card_id  hist_installments_authorized_flag_Y_mode  \\\n",
       "0  C_ID_00007093c1                                       1.0   \n",
       "\n",
       "   hist_installments_authorized_flag_Y_size  \\\n",
       "0                                       114   \n",
       "\n",
       "   hist_installments_authorized_flag_Y_mean  \\\n",
       "0                                  1.289474   \n",
       "\n",
       "   hist_installments_authorized_flag_Y_max  \\\n",
       "0                                      6.0   \n",
       "\n",
       "   hist_installments_authorized_flag_Y_var  \\\n",
       "0                                 0.632278   \n",
       "\n",
       "   hist_installments_authorized_flag_Y_min  \\\n",
       "0                                      1.0   \n",
       "\n",
       "   hist_installments_authorized_flag_Y_null_cnt  \\\n",
       "0                                           0.0   \n",
       "\n",
       "   hist_installments_authorized_flag_Y_null_rate  \\\n",
       "0                                            0.0   \n",
       "\n",
       "   hist_installments_authorized_flag_Y_cnt_std  \n",
       "0                                    41.069453  "
      ]
     },
     "execution_count": 34,
     "metadata": {},
     "output_type": "execute_result"
    }
   ],
   "source": [
    "temp.columns = ['hist_installments_authorized_flag_Y_mode', 'hist_installments_authorized_flag_Y_size', 'hist_installments_authorized_flag_Y_mean', 'hist_installments_authorized_flag_Y_max', 'hist_installments_authorized_flag_Y_var', 'hist_installments_authorized_flag_Y_min', 'hist_installments_authorized_flag_Y_null_cnt', 'hist_installments_authorized_flag_Y_null_rate', 'hist_installments_authorized_flag_Y_cnt_std']\n",
    "temp.reset_index(inplace=True)\n",
    "temp.head(1)"
   ]
  },
  {
   "cell_type": "code",
   "execution_count": 35,
   "metadata": {
    "ExecuteTime": {
     "end_time": "2019-02-18T18:29:02.101627Z",
     "start_time": "2019-02-18T18:29:00.426073Z"
    }
   },
   "outputs": [],
   "source": [
    "train = train.merge(temp, on='card_id', how='left')\n",
    "test = test.merge(temp, on='card_id', how='left')"
   ]
  },
  {
   "cell_type": "code",
   "execution_count": 36,
   "metadata": {
    "ExecuteTime": {
     "end_time": "2019-02-18T18:29:02.317039Z",
     "start_time": "2019-02-18T18:29:02.102588Z"
    },
    "scrolled": true
   },
   "outputs": [
    {
     "data": {
      "text/plain": [
       "97"
      ]
     },
     "execution_count": 36,
     "metadata": {},
     "output_type": "execute_result"
    }
   ],
   "source": [
    "del temp\n",
    "gc.collect()"
   ]
  },
  {
   "cell_type": "markdown",
   "metadata": {},
   "source": [
    "### category_3"
   ]
  },
  {
   "cell_type": "code",
   "execution_count": 37,
   "metadata": {
    "ExecuteTime": {
     "end_time": "2019-02-18T18:29:04.979950Z",
     "start_time": "2019-02-18T18:29:02.318035Z"
    }
   },
   "outputs": [],
   "source": [
    "history.category_3 = history.category_3.fillna('D')"
   ]
  },
  {
   "cell_type": "markdown",
   "metadata": {},
   "source": [
    "### 승인된 거래 중 merchant_category_id"
   ]
  },
  {
   "cell_type": "code",
   "execution_count": 38,
   "metadata": {
    "ExecuteTime": {
     "end_time": "2019-02-18T18:29:10.547059Z",
     "start_time": "2019-02-18T18:29:04.980913Z"
    }
   },
   "outputs": [],
   "source": [
    "temp = history[history.authorized_flag == 'Y']"
   ]
  },
  {
   "cell_type": "code",
   "execution_count": 39,
   "metadata": {
    "ExecuteTime": {
     "end_time": "2019-02-18T18:34:25.041834Z",
     "start_time": "2019-02-18T18:29:10.548024Z"
    }
   },
   "outputs": [],
   "source": [
    "temp = temp.groupby('card_id').agg({'merchant_category_id':[mode, 'nunique', null_cnt, cnt_std]})"
   ]
  },
  {
   "cell_type": "code",
   "execution_count": 40,
   "metadata": {
    "ExecuteTime": {
     "end_time": "2019-02-18T18:34:25.084668Z",
     "start_time": "2019-02-18T18:34:25.043814Z"
    }
   },
   "outputs": [
    {
     "data": {
      "text/html": [
       "<div>\n",
       "<style scoped>\n",
       "    .dataframe tbody tr th:only-of-type {\n",
       "        vertical-align: middle;\n",
       "    }\n",
       "\n",
       "    .dataframe tbody tr th {\n",
       "        vertical-align: top;\n",
       "    }\n",
       "\n",
       "    .dataframe thead th {\n",
       "        text-align: right;\n",
       "    }\n",
       "</style>\n",
       "<table border=\"1\" class=\"dataframe\">\n",
       "  <thead>\n",
       "    <tr style=\"text-align: right;\">\n",
       "      <th></th>\n",
       "      <th>card_id</th>\n",
       "      <th>hist_merchant_category_id_authorized_flag_Y_mode</th>\n",
       "      <th>hist_merchant_category_id_authorized_flag_Y_nunique</th>\n",
       "      <th>hist_merchant_category_id_authorized_flag_Y_null_cnt</th>\n",
       "      <th>hist_merchant_category_id_authorized_flag_Y_cnt_std</th>\n",
       "    </tr>\n",
       "  </thead>\n",
       "  <tbody>\n",
       "    <tr>\n",
       "      <th>0</th>\n",
       "      <td>C_ID_00007093c1</td>\n",
       "      <td>307</td>\n",
       "      <td>18</td>\n",
       "      <td>0</td>\n",
       "      <td>10.278476</td>\n",
       "    </tr>\n",
       "  </tbody>\n",
       "</table>\n",
       "</div>"
      ],
      "text/plain": [
       "           card_id  hist_merchant_category_id_authorized_flag_Y_mode  \\\n",
       "0  C_ID_00007093c1                                               307   \n",
       "\n",
       "   hist_merchant_category_id_authorized_flag_Y_nunique  \\\n",
       "0                                                 18     \n",
       "\n",
       "   hist_merchant_category_id_authorized_flag_Y_null_cnt  \\\n",
       "0                                                  0      \n",
       "\n",
       "   hist_merchant_category_id_authorized_flag_Y_cnt_std  \n",
       "0                                          10.278476    "
      ]
     },
     "execution_count": 40,
     "metadata": {},
     "output_type": "execute_result"
    }
   ],
   "source": [
    "temp.columns = ['hist_merchant_category_id_authorized_flag_Y_mode', 'hist_merchant_category_id_authorized_flag_Y_nunique', 'hist_merchant_category_id_authorized_flag_Y_null_cnt', 'hist_merchant_category_id_authorized_flag_Y_cnt_std']\n",
    "temp.reset_index(inplace=True)\n",
    "temp.head(1)"
   ]
  },
  {
   "cell_type": "code",
   "execution_count": 41,
   "metadata": {
    "ExecuteTime": {
     "end_time": "2019-02-18T18:34:25.108602Z",
     "start_time": "2019-02-18T18:34:25.085665Z"
    }
   },
   "outputs": [],
   "source": [
    "temp.hist_merchant_category_id_authorized_flag_Y_cnt_std = np.round(temp.hist_merchant_category_id_authorized_flag_Y_cnt_std, 3)"
   ]
  },
  {
   "cell_type": "code",
   "execution_count": 42,
   "metadata": {
    "ExecuteTime": {
     "end_time": "2019-02-18T18:34:26.402891Z",
     "start_time": "2019-02-18T18:34:25.109599Z"
    }
   },
   "outputs": [],
   "source": [
    "train = train.merge(temp, on='card_id', how='left')\n",
    "test = test.merge(temp, on='card_id', how='left')"
   ]
  },
  {
   "cell_type": "code",
   "execution_count": 43,
   "metadata": {
    "ExecuteTime": {
     "end_time": "2019-02-18T18:34:26.513596Z",
     "start_time": "2019-02-18T18:34:26.403897Z"
    }
   },
   "outputs": [
    {
     "data": {
      "text/plain": [
       "28"
      ]
     },
     "execution_count": 43,
     "metadata": {},
     "output_type": "execute_result"
    }
   ],
   "source": [
    "del temp\n",
    "gc.collect()"
   ]
  },
  {
   "cell_type": "markdown",
   "metadata": {},
   "source": [
    "### merchant_id"
   ]
  },
  {
   "cell_type": "code",
   "execution_count": 44,
   "metadata": {
    "ExecuteTime": {
     "end_time": "2019-02-18T18:34:39.429860Z",
     "start_time": "2019-02-18T18:34:26.514559Z"
    }
   },
   "outputs": [],
   "source": [
    "le = LabelEncoder()\n",
    "le.fit(history.merchant_id.fillna('NULL').values)\n",
    "history.merchant_id = le.transform(history.merchant_id.fillna('NULL'))\n",
    "history.loc[history.merchant_id == 326311, 'merchant_id'] = np.nan"
   ]
  },
  {
   "cell_type": "code",
   "execution_count": 45,
   "metadata": {
    "ExecuteTime": {
     "end_time": "2019-02-18T18:34:45.248342Z",
     "start_time": "2019-02-18T18:34:39.430858Z"
    }
   },
   "outputs": [],
   "source": [
    "temp = history[history.authorized_flag == 'Y']"
   ]
  },
  {
   "cell_type": "code",
   "execution_count": 46,
   "metadata": {
    "ExecuteTime": {
     "end_time": "2019-02-18T18:37:35.523798Z",
     "start_time": "2019-02-18T18:34:45.249296Z"
    }
   },
   "outputs": [
    {
     "data": {
      "text/html": [
       "<div>\n",
       "<style scoped>\n",
       "    .dataframe tbody tr th:only-of-type {\n",
       "        vertical-align: middle;\n",
       "    }\n",
       "\n",
       "    .dataframe tbody tr th {\n",
       "        vertical-align: top;\n",
       "    }\n",
       "\n",
       "    .dataframe thead tr th {\n",
       "        text-align: left;\n",
       "    }\n",
       "\n",
       "    .dataframe thead tr:last-of-type th {\n",
       "        text-align: right;\n",
       "    }\n",
       "</style>\n",
       "<table border=\"1\" class=\"dataframe\">\n",
       "  <thead>\n",
       "    <tr>\n",
       "      <th></th>\n",
       "      <th>merchant_id</th>\n",
       "    </tr>\n",
       "    <tr>\n",
       "      <th></th>\n",
       "      <th>cnt_std</th>\n",
       "    </tr>\n",
       "    <tr>\n",
       "      <th>card_id</th>\n",
       "      <th></th>\n",
       "    </tr>\n",
       "  </thead>\n",
       "  <tbody>\n",
       "    <tr>\n",
       "      <th>C_ID_00007093c1</th>\n",
       "      <td>6.943841</td>\n",
       "    </tr>\n",
       "  </tbody>\n",
       "</table>\n",
       "</div>"
      ],
      "text/plain": [
       "                merchant_id\n",
       "                    cnt_std\n",
       "card_id                    \n",
       "C_ID_00007093c1    6.943841"
      ]
     },
     "execution_count": 46,
     "metadata": {},
     "output_type": "execute_result"
    }
   ],
   "source": [
    "temp = temp.groupby('card_id').agg({'merchant_id': [cnt_std]})\n",
    "temp.head(1)"
   ]
  },
  {
   "cell_type": "code",
   "execution_count": 47,
   "metadata": {
    "ExecuteTime": {
     "end_time": "2019-02-18T18:37:35.542710Z",
     "start_time": "2019-02-18T18:37:35.524758Z"
    }
   },
   "outputs": [
    {
     "data": {
      "text/html": [
       "<div>\n",
       "<style scoped>\n",
       "    .dataframe tbody tr th:only-of-type {\n",
       "        vertical-align: middle;\n",
       "    }\n",
       "\n",
       "    .dataframe tbody tr th {\n",
       "        vertical-align: top;\n",
       "    }\n",
       "\n",
       "    .dataframe thead th {\n",
       "        text-align: right;\n",
       "    }\n",
       "</style>\n",
       "<table border=\"1\" class=\"dataframe\">\n",
       "  <thead>\n",
       "    <tr style=\"text-align: right;\">\n",
       "      <th></th>\n",
       "      <th>card_id</th>\n",
       "      <th>hist_merchant_id_authorized_flag_Y_cnt_std</th>\n",
       "    </tr>\n",
       "  </thead>\n",
       "  <tbody>\n",
       "    <tr>\n",
       "      <th>0</th>\n",
       "      <td>C_ID_00007093c1</td>\n",
       "      <td>6.943841</td>\n",
       "    </tr>\n",
       "  </tbody>\n",
       "</table>\n",
       "</div>"
      ],
      "text/plain": [
       "           card_id  hist_merchant_id_authorized_flag_Y_cnt_std\n",
       "0  C_ID_00007093c1                                    6.943841"
      ]
     },
     "execution_count": 47,
     "metadata": {},
     "output_type": "execute_result"
    }
   ],
   "source": [
    "temp.columns = ['hist_merchant_id_authorized_flag_Y_cnt_std']\n",
    "temp.reset_index(inplace=True)\n",
    "temp.head(1)"
   ]
  },
  {
   "cell_type": "code",
   "execution_count": 48,
   "metadata": {
    "ExecuteTime": {
     "end_time": "2019-02-18T18:37:35.569638Z",
     "start_time": "2019-02-18T18:37:35.543707Z"
    }
   },
   "outputs": [],
   "source": [
    "temp.hist_merchant_id_authorized_flag_Y_cnt_std = np.round(temp.hist_merchant_id_authorized_flag_Y_cnt_std, 3)"
   ]
  },
  {
   "cell_type": "code",
   "execution_count": 49,
   "metadata": {
    "ExecuteTime": {
     "end_time": "2019-02-18T18:37:36.617866Z",
     "start_time": "2019-02-18T18:37:35.571633Z"
    }
   },
   "outputs": [],
   "source": [
    "train = train.merge(temp, on='card_id', how='left')\n",
    "test = test.merge(temp, on='card_id', how='left')"
   ]
  },
  {
   "cell_type": "code",
   "execution_count": 50,
   "metadata": {
    "ExecuteTime": {
     "end_time": "2019-02-18T18:37:36.649751Z",
     "start_time": "2019-02-18T18:37:36.618831Z"
    }
   },
   "outputs": [
    {
     "data": {
      "text/plain": [
       "42"
      ]
     },
     "execution_count": 50,
     "metadata": {},
     "output_type": "execute_result"
    }
   ],
   "source": [
    "del temp\n",
    "gc.collect()"
   ]
  },
  {
   "cell_type": "code",
   "execution_count": 51,
   "metadata": {
    "ExecuteTime": {
     "end_time": "2019-02-18T18:43:30.277834Z",
     "start_time": "2019-02-18T18:37:36.650748Z"
    }
   },
   "outputs": [
    {
     "data": {
      "text/html": [
       "<div>\n",
       "<style scoped>\n",
       "    .dataframe tbody tr th:only-of-type {\n",
       "        vertical-align: middle;\n",
       "    }\n",
       "\n",
       "    .dataframe tbody tr th {\n",
       "        vertical-align: top;\n",
       "    }\n",
       "\n",
       "    .dataframe thead tr th {\n",
       "        text-align: left;\n",
       "    }\n",
       "\n",
       "    .dataframe thead tr:last-of-type th {\n",
       "        text-align: right;\n",
       "    }\n",
       "</style>\n",
       "<table border=\"1\" class=\"dataframe\">\n",
       "  <thead>\n",
       "    <tr>\n",
       "      <th></th>\n",
       "      <th colspan=\"4\" halign=\"left\">merchant_id</th>\n",
       "    </tr>\n",
       "    <tr>\n",
       "      <th></th>\n",
       "      <th>mode</th>\n",
       "      <th>nunique</th>\n",
       "      <th>null_cnt</th>\n",
       "      <th>cnt_std</th>\n",
       "    </tr>\n",
       "    <tr>\n",
       "      <th>card_id</th>\n",
       "      <th></th>\n",
       "      <th></th>\n",
       "      <th></th>\n",
       "      <th></th>\n",
       "    </tr>\n",
       "  </thead>\n",
       "  <tbody>\n",
       "    <tr>\n",
       "      <th>C_ID_00007093c1</th>\n",
       "      <td>188773.0</td>\n",
       "      <td>29</td>\n",
       "      <td>0.0</td>\n",
       "      <td>8.794171</td>\n",
       "    </tr>\n",
       "  </tbody>\n",
       "</table>\n",
       "</div>"
      ],
      "text/plain": [
       "                merchant_id                           \n",
       "                       mode nunique null_cnt   cnt_std\n",
       "card_id                                               \n",
       "C_ID_00007093c1    188773.0      29      0.0  8.794171"
      ]
     },
     "execution_count": 51,
     "metadata": {},
     "output_type": "execute_result"
    }
   ],
   "source": [
    "temp = history.groupby('card_id').agg({'merchant_id': [mode, 'nunique', null_cnt, cnt_std]})\n",
    "temp.head(1)"
   ]
  },
  {
   "cell_type": "code",
   "execution_count": 52,
   "metadata": {
    "ExecuteTime": {
     "end_time": "2019-02-18T18:43:30.306792Z",
     "start_time": "2019-02-18T18:43:30.278830Z"
    }
   },
   "outputs": [
    {
     "data": {
      "text/html": [
       "<div>\n",
       "<style scoped>\n",
       "    .dataframe tbody tr th:only-of-type {\n",
       "        vertical-align: middle;\n",
       "    }\n",
       "\n",
       "    .dataframe tbody tr th {\n",
       "        vertical-align: top;\n",
       "    }\n",
       "\n",
       "    .dataframe thead th {\n",
       "        text-align: right;\n",
       "    }\n",
       "</style>\n",
       "<table border=\"1\" class=\"dataframe\">\n",
       "  <thead>\n",
       "    <tr style=\"text-align: right;\">\n",
       "      <th></th>\n",
       "      <th>card_id</th>\n",
       "      <th>hist_merchant_id_mode</th>\n",
       "      <th>hist_merchant_id_nunique2</th>\n",
       "      <th>hist_merchant_id_null_cnt</th>\n",
       "      <th>hist_merchant_id_cnt_std</th>\n",
       "    </tr>\n",
       "  </thead>\n",
       "  <tbody>\n",
       "    <tr>\n",
       "      <th>0</th>\n",
       "      <td>C_ID_00007093c1</td>\n",
       "      <td>188773.0</td>\n",
       "      <td>29</td>\n",
       "      <td>0.0</td>\n",
       "      <td>8.794171</td>\n",
       "    </tr>\n",
       "  </tbody>\n",
       "</table>\n",
       "</div>"
      ],
      "text/plain": [
       "           card_id  hist_merchant_id_mode  hist_merchant_id_nunique2  \\\n",
       "0  C_ID_00007093c1               188773.0                         29   \n",
       "\n",
       "   hist_merchant_id_null_cnt  hist_merchant_id_cnt_std  \n",
       "0                        0.0                  8.794171  "
      ]
     },
     "execution_count": 52,
     "metadata": {},
     "output_type": "execute_result"
    }
   ],
   "source": [
    "temp.columns = ['hist_merchant_id_mode', 'hist_merchant_id_nunique2', 'hist_merchant_id_null_cnt', 'hist_merchant_id_cnt_std']\n",
    "temp.reset_index(inplace=True)\n",
    "temp.head(1)"
   ]
  },
  {
   "cell_type": "code",
   "execution_count": 53,
   "metadata": {
    "ExecuteTime": {
     "end_time": "2019-02-18T18:43:30.331745Z",
     "start_time": "2019-02-18T18:43:30.307775Z"
    }
   },
   "outputs": [],
   "source": [
    "temp.hist_merchant_id_cnt_std = np.round(temp.hist_merchant_id_cnt_std, 3)"
   ]
  },
  {
   "cell_type": "code",
   "execution_count": 54,
   "metadata": {
    "ExecuteTime": {
     "end_time": "2019-02-18T18:43:31.184019Z",
     "start_time": "2019-02-18T18:43:30.333724Z"
    }
   },
   "outputs": [],
   "source": [
    "train = train.merge(temp, on='card_id', how='left')\n",
    "test = test.merge(temp, on='card_id', how='left')"
   ]
  },
  {
   "cell_type": "code",
   "execution_count": 55,
   "metadata": {
    "ExecuteTime": {
     "end_time": "2019-02-18T18:43:31.211135Z",
     "start_time": "2019-02-18T18:43:31.184019Z"
    }
   },
   "outputs": [
    {
     "data": {
      "text/plain": [
       "28"
      ]
     },
     "execution_count": 55,
     "metadata": {},
     "output_type": "execute_result"
    }
   ],
   "source": [
    "del temp\n",
    "gc.collect()"
   ]
  },
  {
   "cell_type": "markdown",
   "metadata": {},
   "source": [
    "### month_lag"
   ]
  },
  {
   "cell_type": "code",
   "execution_count": 135,
   "metadata": {
    "ExecuteTime": {
     "end_time": "2019-02-18T19:54:46.175089Z",
     "start_time": "2019-02-18T19:51:10.646785Z"
    }
   },
   "outputs": [
    {
     "data": {
      "text/html": [
       "<div>\n",
       "<style scoped>\n",
       "    .dataframe tbody tr th:only-of-type {\n",
       "        vertical-align: middle;\n",
       "    }\n",
       "\n",
       "    .dataframe tbody tr th {\n",
       "        vertical-align: top;\n",
       "    }\n",
       "\n",
       "    .dataframe thead tr th {\n",
       "        text-align: left;\n",
       "    }\n",
       "\n",
       "    .dataframe thead tr:last-of-type th {\n",
       "        text-align: right;\n",
       "    }\n",
       "</style>\n",
       "<table border=\"1\" class=\"dataframe\">\n",
       "  <thead>\n",
       "    <tr>\n",
       "      <th></th>\n",
       "      <th colspan=\"4\" halign=\"left\">month_lag</th>\n",
       "    </tr>\n",
       "    <tr>\n",
       "      <th></th>\n",
       "      <th>mode</th>\n",
       "      <th>min</th>\n",
       "      <th>max</th>\n",
       "      <th>cnt_std</th>\n",
       "    </tr>\n",
       "    <tr>\n",
       "      <th>card_id</th>\n",
       "      <th></th>\n",
       "      <th></th>\n",
       "      <th></th>\n",
       "      <th></th>\n",
       "    </tr>\n",
       "  </thead>\n",
       "  <tbody>\n",
       "    <tr>\n",
       "      <th>C_ID_00007093c1</th>\n",
       "      <td>-8</td>\n",
       "      <td>-12</td>\n",
       "      <td>0</td>\n",
       "      <td>4.701336</td>\n",
       "    </tr>\n",
       "  </tbody>\n",
       "</table>\n",
       "</div>"
      ],
      "text/plain": [
       "                month_lag                  \n",
       "                     mode min max   cnt_std\n",
       "card_id                                    \n",
       "C_ID_00007093c1        -8 -12   0  4.701336"
      ]
     },
     "execution_count": 135,
     "metadata": {},
     "output_type": "execute_result"
    }
   ],
   "source": [
    "temp = history[history.authorized_flag == 'Y']\n",
    "temp = temp[temp.category_1 == 'Y']\n",
    "temp = history.groupby('card_id').agg({'month_lag': [mode, 'min', 'max', cnt_std]})\n",
    "temp.head(1)"
   ]
  },
  {
   "cell_type": "code",
   "execution_count": 136,
   "metadata": {
    "ExecuteTime": {
     "end_time": "2019-02-18T19:54:46.197062Z",
     "start_time": "2019-02-18T19:54:46.177084Z"
    }
   },
   "outputs": [
    {
     "data": {
      "text/html": [
       "<div>\n",
       "<style scoped>\n",
       "    .dataframe tbody tr th:only-of-type {\n",
       "        vertical-align: middle;\n",
       "    }\n",
       "\n",
       "    .dataframe tbody tr th {\n",
       "        vertical-align: top;\n",
       "    }\n",
       "\n",
       "    .dataframe thead th {\n",
       "        text-align: right;\n",
       "    }\n",
       "</style>\n",
       "<table border=\"1\" class=\"dataframe\">\n",
       "  <thead>\n",
       "    <tr style=\"text-align: right;\">\n",
       "      <th></th>\n",
       "      <th>card_id</th>\n",
       "      <th>hist_month_lag_authorized_flag_Y_category_1_Y_mode</th>\n",
       "      <th>hist_month_lag_authorized_flag_Y_category_1_Y_min</th>\n",
       "      <th>hist_month_lag_authorized_flag_Y_category_1_Y_max</th>\n",
       "      <th>hist_month_lag_authorized_flag_Y_category_1_Y_cnt_std</th>\n",
       "    </tr>\n",
       "  </thead>\n",
       "  <tbody>\n",
       "    <tr>\n",
       "      <th>0</th>\n",
       "      <td>C_ID_00007093c1</td>\n",
       "      <td>-8</td>\n",
       "      <td>-12</td>\n",
       "      <td>0</td>\n",
       "      <td>4.701336</td>\n",
       "    </tr>\n",
       "  </tbody>\n",
       "</table>\n",
       "</div>"
      ],
      "text/plain": [
       "           card_id  hist_month_lag_authorized_flag_Y_category_1_Y_mode  \\\n",
       "0  C_ID_00007093c1                                                 -8    \n",
       "\n",
       "   hist_month_lag_authorized_flag_Y_category_1_Y_min  \\\n",
       "0                                                -12   \n",
       "\n",
       "   hist_month_lag_authorized_flag_Y_category_1_Y_max  \\\n",
       "0                                                  0   \n",
       "\n",
       "   hist_month_lag_authorized_flag_Y_category_1_Y_cnt_std  \n",
       "0                                           4.701336      "
      ]
     },
     "execution_count": 136,
     "metadata": {},
     "output_type": "execute_result"
    }
   ],
   "source": [
    "temp.columns = ['hist_month_lag_authorized_flag_Y_category_1_Y_mode', 'hist_month_lag_authorized_flag_Y_category_1_Y_min', 'hist_month_lag_authorized_flag_Y_category_1_Y_max', 'hist_month_lag_authorized_flag_Y_category_1_Y_cnt_std']\n",
    "temp.reset_index(inplace=True)\n",
    "temp.head(1)"
   ]
  },
  {
   "cell_type": "code",
   "execution_count": 138,
   "metadata": {
    "ExecuteTime": {
     "end_time": "2019-02-18T19:54:51.410093Z",
     "start_time": "2019-02-18T19:54:51.390113Z"
    }
   },
   "outputs": [],
   "source": [
    "temp.hist_month_lag_authorized_flag_Y_category_1_Y_cnt_std = np.round(temp.hist_month_lag_authorized_flag_Y_category_1_Y_cnt_std, 3)"
   ]
  },
  {
   "cell_type": "code",
   "execution_count": 139,
   "metadata": {
    "ExecuteTime": {
     "end_time": "2019-02-18T19:55:03.255599Z",
     "start_time": "2019-02-18T19:54:52.285451Z"
    }
   },
   "outputs": [],
   "source": [
    "train = train.merge(temp, on='card_id', how='left')\n",
    "test = test.merge(temp, on='card_id', how='left')"
   ]
  },
  {
   "cell_type": "code",
   "execution_count": 140,
   "metadata": {
    "ExecuteTime": {
     "end_time": "2019-02-18T19:55:03.412181Z",
     "start_time": "2019-02-18T19:55:03.257594Z"
    }
   },
   "outputs": [
    {
     "data": {
      "text/plain": [
       "900"
      ]
     },
     "execution_count": 140,
     "metadata": {},
     "output_type": "execute_result"
    }
   ],
   "source": [
    "del temp\n",
    "gc.collect()"
   ]
  },
  {
   "cell_type": "code",
   "execution_count": 141,
   "metadata": {
    "ExecuteTime": {
     "end_time": "2019-02-18T19:58:51.254425Z",
     "start_time": "2019-02-18T19:55:03.414176Z"
    }
   },
   "outputs": [
    {
     "data": {
      "text/html": [
       "<div>\n",
       "<style scoped>\n",
       "    .dataframe tbody tr th:only-of-type {\n",
       "        vertical-align: middle;\n",
       "    }\n",
       "\n",
       "    .dataframe tbody tr th {\n",
       "        vertical-align: top;\n",
       "    }\n",
       "\n",
       "    .dataframe thead tr th {\n",
       "        text-align: left;\n",
       "    }\n",
       "\n",
       "    .dataframe thead tr:last-of-type th {\n",
       "        text-align: right;\n",
       "    }\n",
       "</style>\n",
       "<table border=\"1\" class=\"dataframe\">\n",
       "  <thead>\n",
       "    <tr>\n",
       "      <th></th>\n",
       "      <th colspan=\"4\" halign=\"left\">month_lag</th>\n",
       "    </tr>\n",
       "    <tr>\n",
       "      <th></th>\n",
       "      <th>mode</th>\n",
       "      <th>min</th>\n",
       "      <th>max</th>\n",
       "      <th>cnt_std</th>\n",
       "    </tr>\n",
       "    <tr>\n",
       "      <th>card_id</th>\n",
       "      <th></th>\n",
       "      <th></th>\n",
       "      <th></th>\n",
       "      <th></th>\n",
       "    </tr>\n",
       "  </thead>\n",
       "  <tbody>\n",
       "    <tr>\n",
       "      <th>C_ID_00007093c1</th>\n",
       "      <td>-8</td>\n",
       "      <td>-12</td>\n",
       "      <td>0</td>\n",
       "      <td>4.701336</td>\n",
       "    </tr>\n",
       "  </tbody>\n",
       "</table>\n",
       "</div>"
      ],
      "text/plain": [
       "                month_lag                  \n",
       "                     mode min max   cnt_std\n",
       "card_id                                    \n",
       "C_ID_00007093c1        -8 -12   0  4.701336"
      ]
     },
     "execution_count": 141,
     "metadata": {},
     "output_type": "execute_result"
    }
   ],
   "source": [
    "temp = history[history.authorized_flag == 'Y']\n",
    "temp = temp[temp.category_1 == 'N']\n",
    "temp = history.groupby('card_id').agg({'month_lag': [mode, 'min', 'max', cnt_std]})\n",
    "temp.head(1)"
   ]
  },
  {
   "cell_type": "code",
   "execution_count": 142,
   "metadata": {
    "ExecuteTime": {
     "end_time": "2019-02-18T19:58:51.290330Z",
     "start_time": "2019-02-18T19:58:51.257417Z"
    }
   },
   "outputs": [
    {
     "data": {
      "text/html": [
       "<div>\n",
       "<style scoped>\n",
       "    .dataframe tbody tr th:only-of-type {\n",
       "        vertical-align: middle;\n",
       "    }\n",
       "\n",
       "    .dataframe tbody tr th {\n",
       "        vertical-align: top;\n",
       "    }\n",
       "\n",
       "    .dataframe thead th {\n",
       "        text-align: right;\n",
       "    }\n",
       "</style>\n",
       "<table border=\"1\" class=\"dataframe\">\n",
       "  <thead>\n",
       "    <tr style=\"text-align: right;\">\n",
       "      <th></th>\n",
       "      <th>card_id</th>\n",
       "      <th>hist_month_lag_authorized_flag_Y_category_1_N_mode</th>\n",
       "      <th>hist_month_lag_authorized_flag_Y_category_1_N_min</th>\n",
       "      <th>hist_month_lag_authorized_flag_Y_category_1_N_max</th>\n",
       "      <th>hist_month_lag_authorized_flag_Y_category_1_N_cnt_std</th>\n",
       "    </tr>\n",
       "  </thead>\n",
       "  <tbody>\n",
       "    <tr>\n",
       "      <th>0</th>\n",
       "      <td>C_ID_00007093c1</td>\n",
       "      <td>-8</td>\n",
       "      <td>-12</td>\n",
       "      <td>0</td>\n",
       "      <td>4.701336</td>\n",
       "    </tr>\n",
       "  </tbody>\n",
       "</table>\n",
       "</div>"
      ],
      "text/plain": [
       "           card_id  hist_month_lag_authorized_flag_Y_category_1_N_mode  \\\n",
       "0  C_ID_00007093c1                                                 -8    \n",
       "\n",
       "   hist_month_lag_authorized_flag_Y_category_1_N_min  \\\n",
       "0                                                -12   \n",
       "\n",
       "   hist_month_lag_authorized_flag_Y_category_1_N_max  \\\n",
       "0                                                  0   \n",
       "\n",
       "   hist_month_lag_authorized_flag_Y_category_1_N_cnt_std  \n",
       "0                                           4.701336      "
      ]
     },
     "execution_count": 142,
     "metadata": {},
     "output_type": "execute_result"
    }
   ],
   "source": [
    "temp.columns = ['hist_month_lag_authorized_flag_Y_category_1_N_mode', 'hist_month_lag_authorized_flag_Y_category_1_N_min', 'hist_month_lag_authorized_flag_Y_category_1_N_max', 'hist_month_lag_authorized_flag_Y_category_1_N_cnt_std']\n",
    "temp.reset_index(inplace=True)\n",
    "temp.head(1)"
   ]
  },
  {
   "cell_type": "code",
   "execution_count": 143,
   "metadata": {
    "ExecuteTime": {
     "end_time": "2019-02-18T19:58:51.326231Z",
     "start_time": "2019-02-18T19:58:51.293321Z"
    }
   },
   "outputs": [],
   "source": [
    "temp.hist_month_lag_authorized_flag_Y_category_1_N_cnt_std = np.round(temp.hist_month_lag_authorized_flag_Y_category_1_N_cnt_std, 3)"
   ]
  },
  {
   "cell_type": "code",
   "execution_count": 144,
   "metadata": {
    "ExecuteTime": {
     "end_time": "2019-02-18T19:58:52.336231Z",
     "start_time": "2019-02-18T19:58:51.328226Z"
    }
   },
   "outputs": [],
   "source": [
    "train = train.merge(temp, on='card_id', how='left')\n",
    "test = test.merge(temp, on='card_id', how='left')"
   ]
  },
  {
   "cell_type": "code",
   "execution_count": 145,
   "metadata": {
    "ExecuteTime": {
     "end_time": "2019-02-18T19:58:52.459932Z",
     "start_time": "2019-02-18T19:58:52.338227Z"
    }
   },
   "outputs": [
    {
     "data": {
      "text/plain": [
       "28"
      ]
     },
     "execution_count": 145,
     "metadata": {},
     "output_type": "execute_result"
    }
   ],
   "source": [
    "del temp\n",
    "gc.collect()"
   ]
  },
  {
   "cell_type": "markdown",
   "metadata": {},
   "source": [
    "### category_2"
   ]
  },
  {
   "cell_type": "code",
   "execution_count": 171,
   "metadata": {
    "ExecuteTime": {
     "end_time": "2019-02-18T20:13:46.022058Z",
     "start_time": "2019-02-18T20:13:40.675533Z"
    }
   },
   "outputs": [],
   "source": [
    "temp = history[history.authorized_flag == 'Y']"
   ]
  },
  {
   "cell_type": "code",
   "execution_count": 172,
   "metadata": {
    "ExecuteTime": {
     "end_time": "2019-02-18T20:19:23.003209Z",
     "start_time": "2019-02-18T20:14:45.318727Z"
    }
   },
   "outputs": [],
   "source": [
    "temp = temp.groupby('card_id').agg({'category_2': [mode, 'nunique', null_cnt, cnt_std]})"
   ]
  },
  {
   "cell_type": "code",
   "execution_count": 173,
   "metadata": {
    "ExecuteTime": {
     "end_time": "2019-02-18T20:19:23.019012Z",
     "start_time": "2019-02-18T20:19:23.003209Z"
    }
   },
   "outputs": [
    {
     "data": {
      "text/html": [
       "<div>\n",
       "<style scoped>\n",
       "    .dataframe tbody tr th:only-of-type {\n",
       "        vertical-align: middle;\n",
       "    }\n",
       "\n",
       "    .dataframe tbody tr th {\n",
       "        vertical-align: top;\n",
       "    }\n",
       "\n",
       "    .dataframe thead tr th {\n",
       "        text-align: left;\n",
       "    }\n",
       "\n",
       "    .dataframe thead tr:last-of-type th {\n",
       "        text-align: right;\n",
       "    }\n",
       "</style>\n",
       "<table border=\"1\" class=\"dataframe\">\n",
       "  <thead>\n",
       "    <tr>\n",
       "      <th></th>\n",
       "      <th colspan=\"4\" halign=\"left\">category_2</th>\n",
       "    </tr>\n",
       "    <tr>\n",
       "      <th></th>\n",
       "      <th>mode</th>\n",
       "      <th>nunique</th>\n",
       "      <th>null_cnt</th>\n",
       "      <th>cnt_std</th>\n",
       "    </tr>\n",
       "    <tr>\n",
       "      <th>card_id</th>\n",
       "      <th></th>\n",
       "      <th></th>\n",
       "      <th></th>\n",
       "      <th></th>\n",
       "    </tr>\n",
       "  </thead>\n",
       "  <tbody>\n",
       "    <tr>\n",
       "      <th>C_ID_00007093c1</th>\n",
       "      <td>3.0</td>\n",
       "      <td>2</td>\n",
       "      <td>24.0</td>\n",
       "      <td>62.225397</td>\n",
       "    </tr>\n",
       "  </tbody>\n",
       "</table>\n",
       "</div>"
      ],
      "text/plain": [
       "                category_2                            \n",
       "                      mode nunique null_cnt    cnt_std\n",
       "card_id                                               \n",
       "C_ID_00007093c1        3.0       2     24.0  62.225397"
      ]
     },
     "execution_count": 173,
     "metadata": {},
     "output_type": "execute_result"
    }
   ],
   "source": [
    "temp.head(1)"
   ]
  },
  {
   "cell_type": "code",
   "execution_count": 174,
   "metadata": {
    "ExecuteTime": {
     "end_time": "2019-02-18T20:19:39.219899Z",
     "start_time": "2019-02-18T20:19:39.196963Z"
    }
   },
   "outputs": [
    {
     "data": {
      "text/html": [
       "<div>\n",
       "<style scoped>\n",
       "    .dataframe tbody tr th:only-of-type {\n",
       "        vertical-align: middle;\n",
       "    }\n",
       "\n",
       "    .dataframe tbody tr th {\n",
       "        vertical-align: top;\n",
       "    }\n",
       "\n",
       "    .dataframe thead th {\n",
       "        text-align: right;\n",
       "    }\n",
       "</style>\n",
       "<table border=\"1\" class=\"dataframe\">\n",
       "  <thead>\n",
       "    <tr style=\"text-align: right;\">\n",
       "      <th></th>\n",
       "      <th>card_id</th>\n",
       "      <th>hist_category_2_authorized_flag_Y_mode</th>\n",
       "      <th>hist_category_2_authorized_flag_Y_nunique</th>\n",
       "      <th>hist_category_2_authorized_flag_Y_null_cnt</th>\n",
       "      <th>hist_category_2_authorized_flag_Y_cnt_std</th>\n",
       "    </tr>\n",
       "  </thead>\n",
       "  <tbody>\n",
       "    <tr>\n",
       "      <th>0</th>\n",
       "      <td>C_ID_00007093c1</td>\n",
       "      <td>3.0</td>\n",
       "      <td>2</td>\n",
       "      <td>24.0</td>\n",
       "      <td>62.225397</td>\n",
       "    </tr>\n",
       "  </tbody>\n",
       "</table>\n",
       "</div>"
      ],
      "text/plain": [
       "           card_id  hist_category_2_authorized_flag_Y_mode  \\\n",
       "0  C_ID_00007093c1                                     3.0   \n",
       "\n",
       "   hist_category_2_authorized_flag_Y_nunique  \\\n",
       "0                                          2   \n",
       "\n",
       "   hist_category_2_authorized_flag_Y_null_cnt  \\\n",
       "0                                        24.0   \n",
       "\n",
       "   hist_category_2_authorized_flag_Y_cnt_std  \n",
       "0                                  62.225397  "
      ]
     },
     "execution_count": 174,
     "metadata": {},
     "output_type": "execute_result"
    }
   ],
   "source": [
    "temp.columns = ['hist_category_2_authorized_flag_Y_mode', 'hist_category_2_authorized_flag_Y_nunique', 'hist_category_2_authorized_flag_Y_null_cnt', 'hist_category_2_authorized_flag_Y_cnt_std']\n",
    "temp.reset_index(inplace=True)\n",
    "temp.head(1)"
   ]
  },
  {
   "cell_type": "code",
   "execution_count": 177,
   "metadata": {
    "ExecuteTime": {
     "end_time": "2019-02-18T20:20:17.154335Z",
     "start_time": "2019-02-18T20:20:04.653788Z"
    }
   },
   "outputs": [],
   "source": [
    "train = train.merge(temp, on='card_id', how='left')\n",
    "test = test.merge(temp, on='card_id', how='left')"
   ]
  },
  {
   "cell_type": "code",
   "execution_count": 178,
   "metadata": {
    "ExecuteTime": {
     "end_time": "2019-02-18T20:20:17.364110Z",
     "start_time": "2019-02-18T20:20:17.154335Z"
    }
   },
   "outputs": [
    {
     "data": {
      "text/plain": [
       "80"
      ]
     },
     "execution_count": 178,
     "metadata": {},
     "output_type": "execute_result"
    }
   ],
   "source": [
    "del temp\n",
    "gc.collect()"
   ]
  },
  {
   "cell_type": "markdown",
   "metadata": {},
   "source": [
    "### subsector"
   ]
  },
  {
   "cell_type": "code",
   "execution_count": 233,
   "metadata": {
    "ExecuteTime": {
     "end_time": "2019-02-18T21:03:57.956553Z",
     "start_time": "2019-02-18T20:58:49.637979Z"
    }
   },
   "outputs": [],
   "source": [
    "# temp = history[history.authorized_flag == 'Y']\n",
    "# temp = temp.groupby('card_id').agg({'subsector_id': [mode, 'nunique', null_cnt, cnt_std]})"
   ]
  },
  {
   "cell_type": "code",
   "execution_count": 234,
   "metadata": {
    "ExecuteTime": {
     "end_time": "2019-02-18T21:03:58.008982Z",
     "start_time": "2019-02-18T21:03:57.956553Z"
    }
   },
   "outputs": [
    {
     "data": {
      "text/html": [
       "<div>\n",
       "<style scoped>\n",
       "    .dataframe tbody tr th:only-of-type {\n",
       "        vertical-align: middle;\n",
       "    }\n",
       "\n",
       "    .dataframe tbody tr th {\n",
       "        vertical-align: top;\n",
       "    }\n",
       "\n",
       "    .dataframe thead th {\n",
       "        text-align: right;\n",
       "    }\n",
       "</style>\n",
       "<table border=\"1\" class=\"dataframe\">\n",
       "  <thead>\n",
       "    <tr style=\"text-align: right;\">\n",
       "      <th></th>\n",
       "      <th>card_id</th>\n",
       "      <th>hist_subsector_id_authorized_flag_Y_mode</th>\n",
       "      <th>hist_subsector_id_authorized_flag_Y_nunique</th>\n",
       "      <th>hist_subsector_id_authorized_flag_Y_null_cnt</th>\n",
       "      <th>hist_subsector_id_authorized_flag_Y_cnt_std</th>\n",
       "    </tr>\n",
       "  </thead>\n",
       "  <tbody>\n",
       "    <tr>\n",
       "      <th>0</th>\n",
       "      <td>C_ID_00007093c1</td>\n",
       "      <td>19</td>\n",
       "      <td>13</td>\n",
       "      <td>0</td>\n",
       "      <td>11.380933</td>\n",
       "    </tr>\n",
       "  </tbody>\n",
       "</table>\n",
       "</div>"
      ],
      "text/plain": [
       "           card_id  hist_subsector_id_authorized_flag_Y_mode  \\\n",
       "0  C_ID_00007093c1                                        19   \n",
       "\n",
       "   hist_subsector_id_authorized_flag_Y_nunique  \\\n",
       "0                                           13   \n",
       "\n",
       "   hist_subsector_id_authorized_flag_Y_null_cnt  \\\n",
       "0                                             0   \n",
       "\n",
       "   hist_subsector_id_authorized_flag_Y_cnt_std  \n",
       "0                                    11.380933  "
      ]
     },
     "execution_count": 234,
     "metadata": {},
     "output_type": "execute_result"
    }
   ],
   "source": [
    "# temp.columns = ['hist_subsector_id_authorized_flag_Y_mode', 'hist_subsector_id_authorized_flag_Y_nunique', 'hist_subsector_id_authorized_flag_Y_null_cnt', 'hist_subsector_id_authorized_flag_Y_cnt_std']\n",
    "# temp.reset_index(inplace=True)\n",
    "# temp.head(1)"
   ]
  },
  {
   "cell_type": "code",
   "execution_count": 235,
   "metadata": {
    "ExecuteTime": {
     "end_time": "2019-02-18T21:04:12.287964Z",
     "start_time": "2019-02-18T21:03:58.009945Z"
    }
   },
   "outputs": [],
   "source": [
    "# train = train.merge(temp, on='card_id', how='left')\n",
    "# test = test.merge(temp, on='card_id', how='left')"
   ]
  },
  {
   "cell_type": "code",
   "execution_count": 236,
   "metadata": {
    "ExecuteTime": {
     "end_time": "2019-02-18T21:04:12.624903Z",
     "start_time": "2019-02-18T21:04:12.290679Z"
    }
   },
   "outputs": [
    {
     "data": {
      "text/plain": [
       "91"
      ]
     },
     "execution_count": 236,
     "metadata": {},
     "output_type": "execute_result"
    }
   ],
   "source": [
    "# del temp\n",
    "# gc.collect()"
   ]
  },
  {
   "cell_type": "markdown",
   "metadata": {},
   "source": [
    "## Feature Selection"
   ]
  },
  {
   "cell_type": "code",
   "execution_count": 237,
   "metadata": {
    "ExecuteTime": {
     "end_time": "2019-02-18T21:04:12.679745Z",
     "start_time": "2019-02-18T21:04:12.626854Z"
    }
   },
   "outputs": [],
   "source": [
    "for df in [train, test]:\n",
    "    df['temp'] = 1 - df.hist_category_1_label_mean\n",
    "    df['hist_category_1_authorized_flag_Y_0_cnt'] = df.hist_category_1_authorized_flag_Y_size - df.hist_category_1_authorized_flag_Y_sum\n",
    "    df.hist_installments_authorized_flag_Y_cnt_std = np.around(df.hist_installments_authorized_flag_Y_cnt_std, 4)\n",
    "    df['temp'] = df.hist_month_lag_max - df.hist_month_lag_min"
   ]
  },
  {
   "cell_type": "code",
   "execution_count": 238,
   "metadata": {
    "ExecuteTime": {
     "end_time": "2019-02-18T21:04:12.859215Z",
     "start_time": "2019-02-18T21:04:12.681707Z"
    }
   },
   "outputs": [
    {
     "data": {
      "text/html": [
       "<div>\n",
       "<style scoped>\n",
       "    .dataframe tbody tr th:only-of-type {\n",
       "        vertical-align: middle;\n",
       "    }\n",
       "\n",
       "    .dataframe tbody tr th {\n",
       "        vertical-align: top;\n",
       "    }\n",
       "\n",
       "    .dataframe thead th {\n",
       "        text-align: right;\n",
       "    }\n",
       "</style>\n",
       "<table border=\"1\" class=\"dataframe\">\n",
       "  <thead>\n",
       "    <tr style=\"text-align: right;\">\n",
       "      <th></th>\n",
       "      <th>card_id</th>\n",
       "      <th>feature_1</th>\n",
       "      <th>feature_2</th>\n",
       "      <th>feature_3</th>\n",
       "      <th>first_active_month</th>\n",
       "      <th>outliers</th>\n",
       "      <th>target</th>\n",
       "      <th>first_active</th>\n",
       "      <th>first_active_year</th>\n",
       "      <th>first_active_elapsed_time_from_trade</th>\n",
       "      <th>first_active_total_day</th>\n",
       "      <th>hist_authorized_flag_label_mode</th>\n",
       "      <th>hist_authorized_flag_label_sum</th>\n",
       "      <th>hist_authorized_flag_label_mean</th>\n",
       "      <th>hist_card_id_size</th>\n",
       "      <th>hist_city_id_mode</th>\n",
       "      <th>hist_city_id_nunique</th>\n",
       "      <th>hist_category_1_label_mode</th>\n",
       "      <th>hist_category_1_label_sum</th>\n",
       "      <th>hist_category_1_label_mean</th>\n",
       "      <th>hist_installments_mode</th>\n",
       "      <th>hist_installments_sum</th>\n",
       "      <th>hist_installments_mean</th>\n",
       "      <th>hist_installments_var</th>\n",
       "      <th>hist_installments_max</th>\n",
       "      <th>hist_installments_min</th>\n",
       "      <th>hist_installments_null_cnt</th>\n",
       "      <th>hist_category_3_label_mode</th>\n",
       "      <th>hist_category_3_label_mean</th>\n",
       "      <th>hist_merchant_category_id_mode</th>\n",
       "      <th>hist_merchant_category_id_nunique</th>\n",
       "      <th>hist_merchant_id_nunique</th>\n",
       "      <th>hist_month_lag_mode</th>\n",
       "      <th>hist_month_lag_sum</th>\n",
       "      <th>hist_month_lag_mean</th>\n",
       "      <th>hist_month_lag_var</th>\n",
       "      <th>hist_month_lag_max</th>\n",
       "      <th>hist_month_lag_min</th>\n",
       "      <th>hist_month_lag_skew</th>\n",
       "      <th>hist_purchase_date_max</th>\n",
       "      <th>hist_purchase_date_min</th>\n",
       "      <th>hist_purchase_amount_sum</th>\n",
       "      <th>hist_purchase_amount_mean</th>\n",
       "      <th>hist_purchase_amount_var</th>\n",
       "      <th>hist_purchase_amount_max</th>\n",
       "      <th>hist_purchase_amount_min</th>\n",
       "      <th>hist_purchase_amount_skew</th>\n",
       "      <th>hist_purchase_amount_over_550</th>\n",
       "      <th>hist_category_2_mode</th>\n",
       "      <th>hist_category_2_mean</th>\n",
       "      <th>hist_state_id_mode</th>\n",
       "      <th>hist_state_id_nunique</th>\n",
       "      <th>hist_subsector_id_mode_x</th>\n",
       "      <th>hist_subsector_id_nunique_x</th>\n",
       "      <th>hist_purchase_amount_trim_sum</th>\n",
       "      <th>hist_purchase_amount_trim_mean</th>\n",
       "      <th>hist_purchase_amount_trim_var</th>\n",
       "      <th>hist_purchase_amount_trim_max</th>\n",
       "      <th>hist_purchase_amount_trim_min</th>\n",
       "      <th>hist_purchase_amount_trim_skew</th>\n",
       "      <th>hist_purchase_year_mode</th>\n",
       "      <th>hist_purchase_year_nunique</th>\n",
       "      <th>hist_purchase_year_mean</th>\n",
       "      <th>hist_purchase_year_max</th>\n",
       "      <th>hist_purchase_year_min</th>\n",
       "      <th>hist_purchase_month_mode</th>\n",
       "      <th>hist_purchase_month_nunique</th>\n",
       "      <th>hist_purchase_month_mean</th>\n",
       "      <th>hist_purchase_month_max</th>\n",
       "      <th>hist_purchase_month_min</th>\n",
       "      <th>hist_purchase_day_mode</th>\n",
       "      <th>hist_purchase_day_nunique</th>\n",
       "      <th>hist_purchase_day_mean</th>\n",
       "      <th>hist_purchase_day_var</th>\n",
       "      <th>hist_purchase_day_max</th>\n",
       "      <th>hist_purchase_day_min</th>\n",
       "      <th>hist_purchase_day_skew</th>\n",
       "      <th>hist_purchase_hour_mode</th>\n",
       "      <th>hist_purchase_hour_nunique</th>\n",
       "      <th>hist_purchase_hour_mean</th>\n",
       "      <th>hist_purchase_hour_var</th>\n",
       "      <th>hist_purchase_hour_max</th>\n",
       "      <th>hist_purchase_hour_min</th>\n",
       "      <th>hist_purchase_hour_skew</th>\n",
       "      <th>hist_purchase_dayofweek_mode</th>\n",
       "      <th>hist_purchase_dayofweek_nunique</th>\n",
       "      <th>hist_purchase_dayofweek_mean</th>\n",
       "      <th>hist_purchase_dayofweek_max</th>\n",
       "      <th>hist_purchase_dayofweek_min</th>\n",
       "      <th>hist_purchase_weekofyear_mode</th>\n",
       "      <th>hist_purchase_weekofyear_nunique</th>\n",
       "      <th>hist_purchase_weekofyear_mean</th>\n",
       "      <th>hist_purchase_weekofyear_max</th>\n",
       "      <th>hist_purchase_weekofyear_min</th>\n",
       "      <th>hist_purchase_weekend_mode</th>\n",
       "      <th>hist_purchase_weekend_sum</th>\n",
       "      <th>hist_purchase_weekend_mean</th>\n",
       "      <th>hist_price_sum</th>\n",
       "      <th>hist_price_mean</th>\n",
       "      <th>hist_price_max</th>\n",
       "      <th>hist_price_min</th>\n",
       "      <th>hist_price_var</th>\n",
       "      <th>hist_month_diff_max</th>\n",
       "      <th>hist_month_diff_min</th>\n",
       "      <th>hist_month_diff_mean</th>\n",
       "      <th>hist_month_diff_var</th>\n",
       "      <th>hist_month_diff_skew</th>\n",
       "      <th>hist_Christmas_Day_2017_mean</th>\n",
       "      <th>hist_Mothers_Day_2017_mean</th>\n",
       "      <th>hist_fathers_day_2017_mean</th>\n",
       "      <th>hist_Children_day_2017_mean</th>\n",
       "      <th>hist_Valentine_Day_2017_mean</th>\n",
       "      <th>hist_Black_Friday_2017_mean</th>\n",
       "      <th>hist_Mothers_Day_2018_mean</th>\n",
       "      <th>hist_duration_mean</th>\n",
       "      <th>hist_duration_min</th>\n",
       "      <th>hist_duration_max</th>\n",
       "      <th>hist_duration_var</th>\n",
       "      <th>hist_duration_skew</th>\n",
       "      <th>hist_amount_month_ratio_mean</th>\n",
       "      <th>hist_amount_month_ratio_min</th>\n",
       "      <th>hist_amount_month_ratio_max</th>\n",
       "      <th>hist_amount_month_ratio_var</th>\n",
       "      <th>hist_amount_month_ratio_skew</th>\n",
       "      <th>hist_category_2_mean_mean</th>\n",
       "      <th>hist_category_2_min_mean</th>\n",
       "      <th>hist_category_2_max_mean</th>\n",
       "      <th>hist_category_2_sum_mean</th>\n",
       "      <th>hist_category_3_mean_mean</th>\n",
       "      <th>hist_category_3_min_mean</th>\n",
       "      <th>hist_category_3_max_mean</th>\n",
       "      <th>hist_category_3_sum_mean</th>\n",
       "      <th>hist_purchase_date_diff</th>\n",
       "      <th>hist_purchase_date_average</th>\n",
       "      <th>hist_purchase_date_uptonow</th>\n",
       "      <th>hist_purchase_date_uptomin</th>\n",
       "      <th>new_authorized_flag_mode</th>\n",
       "      <th>new_authorized_flag_sum</th>\n",
       "      <th>new_authorized_flag_mean</th>\n",
       "      <th>new_card_id_size</th>\n",
       "      <th>new_city_id_mode</th>\n",
       "      <th>new_city_id_nunique</th>\n",
       "      <th>new_category_1_mode</th>\n",
       "      <th>new_category_1_sum</th>\n",
       "      <th>new_category_1_mean</th>\n",
       "      <th>new_installments_mode</th>\n",
       "      <th>new_installments_sum</th>\n",
       "      <th>new_installments_mean</th>\n",
       "      <th>new_installments_var</th>\n",
       "      <th>new_installments_max</th>\n",
       "      <th>new_installments_min</th>\n",
       "      <th>new_installments_null_cnt</th>\n",
       "      <th>new_category_3_mode</th>\n",
       "      <th>new_category_3_mean</th>\n",
       "      <th>new_merchant_category_id_mode</th>\n",
       "      <th>new_merchant_category_id_nunique</th>\n",
       "      <th>new_merchant_id_nunique</th>\n",
       "      <th>new_month_lag_mode</th>\n",
       "      <th>new_month_lag_sum</th>\n",
       "      <th>new_month_lag_mean</th>\n",
       "      <th>new_month_lag_var</th>\n",
       "      <th>new_month_lag_max</th>\n",
       "      <th>new_month_lag_min</th>\n",
       "      <th>new_month_lag_skew</th>\n",
       "      <th>new_purchase_date_max</th>\n",
       "      <th>new_purchase_date_min</th>\n",
       "      <th>new_purchase_amount_sum</th>\n",
       "      <th>new_purchase_amount_mean</th>\n",
       "      <th>new_purchase_amount_var</th>\n",
       "      <th>new_purchase_amount_max</th>\n",
       "      <th>new_purchase_amount_min</th>\n",
       "      <th>new_purchase_amount_skew</th>\n",
       "      <th>new_purchase_amount_over_550</th>\n",
       "      <th>new_category_2_mode</th>\n",
       "      <th>new_category_2_mean</th>\n",
       "      <th>new_state_id_mode</th>\n",
       "      <th>new_state_id_nunique</th>\n",
       "      <th>new_subsector_id_mode</th>\n",
       "      <th>new_subsector_id_nunique</th>\n",
       "      <th>new_purchase_amount_trim_sum</th>\n",
       "      <th>new_purchase_amount_trim_mean</th>\n",
       "      <th>new_purchase_amount_trim_var</th>\n",
       "      <th>new_purchase_amount_trim_max</th>\n",
       "      <th>new_purchase_amount_trim_min</th>\n",
       "      <th>new_purchase_amount_trim_skew</th>\n",
       "      <th>new_purchase_year_mode</th>\n",
       "      <th>new_purchase_year_nunique</th>\n",
       "      <th>new_purchase_year_mean</th>\n",
       "      <th>new_purchase_year_max</th>\n",
       "      <th>new_purchase_year_min</th>\n",
       "      <th>new_purchase_month_mode</th>\n",
       "      <th>new_purchase_month_nunique</th>\n",
       "      <th>new_purchase_month_mean</th>\n",
       "      <th>new_purchase_month_max</th>\n",
       "      <th>new_purchase_month_min</th>\n",
       "      <th>new_purchase_day_mode</th>\n",
       "      <th>new_purchase_day_nunique</th>\n",
       "      <th>new_purchase_day_mean</th>\n",
       "      <th>new_purchase_day_var</th>\n",
       "      <th>new_purchase_day_max</th>\n",
       "      <th>new_purchase_day_min</th>\n",
       "      <th>new_purchase_day_skew</th>\n",
       "      <th>new_purchase_hour_mode</th>\n",
       "      <th>new_purchase_hour_nunique</th>\n",
       "      <th>new_purchase_hour_mean</th>\n",
       "      <th>new_purchase_hour_var</th>\n",
       "      <th>new_purchase_hour_max</th>\n",
       "      <th>new_purchase_hour_min</th>\n",
       "      <th>new_purchase_hour_skew</th>\n",
       "      <th>new_purchase_dayofweek_mode</th>\n",
       "      <th>new_purchase_dayofweek_nunique</th>\n",
       "      <th>new_purchase_dayofweek_mean</th>\n",
       "      <th>new_purchase_dayofweek_max</th>\n",
       "      <th>new_purchase_dayofweek_min</th>\n",
       "      <th>new_purchase_weekofyear_mode</th>\n",
       "      <th>new_purchase_weekofyear_nunique</th>\n",
       "      <th>new_purchase_weekofyear_mean</th>\n",
       "      <th>new_purchase_weekofyear_max</th>\n",
       "      <th>new_purchase_weekofyear_min</th>\n",
       "      <th>new_purchase_weekend_mode</th>\n",
       "      <th>new_purchase_weekend_sum</th>\n",
       "      <th>new_purchase_weekend_mean</th>\n",
       "      <th>new_price_sum</th>\n",
       "      <th>new_price_mean</th>\n",
       "      <th>new_price_max</th>\n",
       "      <th>new_price_min</th>\n",
       "      <th>new_price_var</th>\n",
       "      <th>new_month_diff_max</th>\n",
       "      <th>new_month_diff_min</th>\n",
       "      <th>new_month_diff_mean</th>\n",
       "      <th>new_month_diff_var</th>\n",
       "      <th>new_month_diff_skew</th>\n",
       "      <th>new_Christmas_Day_2017_mean</th>\n",
       "      <th>new_Children_day_2017_mean</th>\n",
       "      <th>new_Black_Friday_2017_mean</th>\n",
       "      <th>new_Mothers_Day_2018_mean</th>\n",
       "      <th>new_duration_mean</th>\n",
       "      <th>new_duration_min</th>\n",
       "      <th>new_duration_max</th>\n",
       "      <th>new_duration_var</th>\n",
       "      <th>new_duration_skew</th>\n",
       "      <th>new_amount_month_ratio_mean</th>\n",
       "      <th>new_amount_month_ratio_min</th>\n",
       "      <th>new_amount_month_ratio_max</th>\n",
       "      <th>new_amount_month_ratio_var</th>\n",
       "      <th>new_amount_month_ratio_skew</th>\n",
       "      <th>new_category_2_mean_mean</th>\n",
       "      <th>new_category_3_mean_mean</th>\n",
       "      <th>new_purchase_date_diff</th>\n",
       "      <th>new_purchase_date_average</th>\n",
       "      <th>new_purchase_date_uptonow</th>\n",
       "      <th>new_purchase_date_uptomin</th>\n",
       "      <th>hist_first_buy</th>\n",
       "      <th>hist_last_buy</th>\n",
       "      <th>new_first_buy</th>\n",
       "      <th>new_last_buy</th>\n",
       "      <th>card_id_total_size</th>\n",
       "      <th>card_id_size_ratio</th>\n",
       "      <th>purchase_amount_total</th>\n",
       "      <th>purchase_amount_mean</th>\n",
       "      <th>purchase_amount_max</th>\n",
       "      <th>purchase_amount_min</th>\n",
       "      <th>purchase_amount_ratio</th>\n",
       "      <th>month_diff_mean</th>\n",
       "      <th>month_diff_ratio</th>\n",
       "      <th>month_lag_mean</th>\n",
       "      <th>month_lag_max</th>\n",
       "      <th>month_lag_min</th>\n",
       "      <th>category_1_mean</th>\n",
       "      <th>installments_total</th>\n",
       "      <th>installments_mean</th>\n",
       "      <th>installments_max</th>\n",
       "      <th>installments_ratio</th>\n",
       "      <th>price_total</th>\n",
       "      <th>price_mean</th>\n",
       "      <th>price_max</th>\n",
       "      <th>duration_mean</th>\n",
       "      <th>duration_min</th>\n",
       "      <th>duration_max</th>\n",
       "      <th>amount_month_ratio_mean</th>\n",
       "      <th>amount_month_ratio_min</th>\n",
       "      <th>amount_month_ratio_max</th>\n",
       "      <th>new_CLV</th>\n",
       "      <th>hist_CLV</th>\n",
       "      <th>CLV_ratio</th>\n",
       "      <th>hist_city_id_mode_authorized_flag_category_1_Y</th>\n",
       "      <th>hist_city_id_nunique_authorized_flag_category_1_Y</th>\n",
       "      <th>hist_category_1_authorized_flag_Y_mean</th>\n",
       "      <th>hist_category_1_authorized_flag_Y_sum</th>\n",
       "      <th>hist_category_1_authorized_flag_Y_size</th>\n",
       "      <th>hist_installments_authorized_flag_Y_mode</th>\n",
       "      <th>hist_installments_authorized_flag_Y_size</th>\n",
       "      <th>hist_installments_authorized_flag_Y_mean</th>\n",
       "      <th>hist_installments_authorized_flag_Y_max</th>\n",
       "      <th>hist_installments_authorized_flag_Y_var</th>\n",
       "      <th>hist_installments_authorized_flag_Y_min</th>\n",
       "      <th>hist_installments_authorized_flag_Y_null_cnt</th>\n",
       "      <th>hist_installments_authorized_flag_Y_null_rate</th>\n",
       "      <th>hist_installments_authorized_flag_Y_cnt_std</th>\n",
       "      <th>hist_merchant_category_id_authorized_flag_Y_mode</th>\n",
       "      <th>hist_merchant_category_id_authorized_flag_Y_nunique</th>\n",
       "      <th>hist_merchant_category_id_authorized_flag_Y_null_cnt</th>\n",
       "      <th>hist_merchant_category_id_authorized_flag_Y_cnt_std</th>\n",
       "      <th>hist_merchant_id_authorized_flag_Y_cnt_std</th>\n",
       "      <th>hist_merchant_id_mode</th>\n",
       "      <th>hist_merchant_id_nunique2</th>\n",
       "      <th>hist_merchant_id_null_cnt</th>\n",
       "      <th>hist_merchant_id_cnt_std</th>\n",
       "      <th>temp</th>\n",
       "      <th>hist_category_1_authorized_flag_Y_0_cnt</th>\n",
       "      <th>hist_month_lag_std</th>\n",
       "      <th>hist_month_lag_authorized_flag_Y_mode</th>\n",
       "      <th>hist_month_lag_authorized_flag_Y_min</th>\n",
       "      <th>hist_month_lag_authorized_flag_Y_max</th>\n",
       "      <th>hist_month_lag_authorized_flag_Y_cnt_std</th>\n",
       "      <th>hist_month_lag_authorized_flag_Y_category_1_Y_mode</th>\n",
       "      <th>hist_month_lag_authorized_flag_Y_category_1_Y_min</th>\n",
       "      <th>hist_month_lag_authorized_flag_Y_category_1_Y_max</th>\n",
       "      <th>hist_month_lag_authorized_flag_Y_category_1_Y_cnt_std</th>\n",
       "      <th>hist_month_lag_authorized_flag_Y_category_1_N_mode</th>\n",
       "      <th>hist_month_lag_authorized_flag_Y_category_1_N_min</th>\n",
       "      <th>hist_month_lag_authorized_flag_Y_category_1_N_max</th>\n",
       "      <th>hist_month_lag_authorized_flag_Y_category_1_N_cnt_std</th>\n",
       "      <th>hist_category_2_authorized_flag_Y_mode</th>\n",
       "      <th>hist_category_2_authorized_flag_Y_nunique</th>\n",
       "      <th>hist_category_2_authorized_flag_Y_null_cnt</th>\n",
       "      <th>hist_category_2_authorized_flag_Y_cnt_std</th>\n",
       "      <th>hist_subsector_id_mode_y</th>\n",
       "      <th>hist_subsector_id_nunique_y</th>\n",
       "      <th>hist_subsector_id_null_cnt</th>\n",
       "      <th>hist_subsector_id_cnt_std</th>\n",
       "      <th>hist_subsector_id_authorized_flag_Y_mode</th>\n",
       "      <th>hist_subsector_id_authorized_flag_Y_nunique</th>\n",
       "      <th>hist_subsector_id_authorized_flag_Y_null_cnt</th>\n",
       "      <th>hist_subsector_id_authorized_flag_Y_cnt_std</th>\n",
       "    </tr>\n",
       "  </thead>\n",
       "  <tbody>\n",
       "    <tr>\n",
       "      <th>0</th>\n",
       "      <td>C_ID_92a2005557</td>\n",
       "      <td>5</td>\n",
       "      <td>2</td>\n",
       "      <td>1</td>\n",
       "      <td>6</td>\n",
       "      <td>0.0</td>\n",
       "      <td>-0.820283</td>\n",
       "      <td>2017-06-01</td>\n",
       "      <td>2017</td>\n",
       "      <td>333</td>\n",
       "      <td>17318.0</td>\n",
       "      <td>1</td>\n",
       "      <td>247.0</td>\n",
       "      <td>0.95</td>\n",
       "      <td>260</td>\n",
       "      <td>69</td>\n",
       "      <td>7</td>\n",
       "      <td>0</td>\n",
       "      <td>0.0</td>\n",
       "      <td>0.0</td>\n",
       "      <td>0.0</td>\n",
       "      <td>4.0</td>\n",
       "      <td>0.01538</td>\n",
       "      <td>0.015205</td>\n",
       "      <td>1.0</td>\n",
       "      <td>0.0</td>\n",
       "      <td>0.0</td>\n",
       "      <td>0</td>\n",
       "      <td>0.01538</td>\n",
       "      <td>560</td>\n",
       "      <td>41</td>\n",
       "      <td>94</td>\n",
       "      <td>-2</td>\n",
       "      <td>-1017.0</td>\n",
       "      <td>-3.912</td>\n",
       "      <td>5.75</td>\n",
       "      <td>0</td>\n",
       "      <td>-8</td>\n",
       "      <td>0.066</td>\n",
       "      <td>1.000000e-09</td>\n",
       "      <td>1.000000e-09</td>\n",
       "      <td>-165.96873</td>\n",
       "      <td>-0.638341</td>\n",
       "      <td>0.045003</td>\n",
       "      <td>2.258395</td>\n",
       "      <td>-0.7393</td>\n",
       "      <td>10.24</td>\n",
       "      <td>0.0</td>\n",
       "      <td>1.0</td>\n",
       "      <td>1.046</td>\n",
       "      <td>9</td>\n",
       "      <td>3</td>\n",
       "      <td>34</td>\n",
       "      <td>21</td>\n",
       "      <td>-167.4</td>\n",
       "      <td>-0.644</td>\n",
       "      <td>0.02057</td>\n",
       "      <td>0.8</td>\n",
       "      <td>-0.7393</td>\n",
       "      <td>5.133</td>\n",
       "      <td>2017</td>\n",
       "      <td>2</td>\n",
       "      <td>2017.0</td>\n",
       "      <td>2018</td>\n",
       "      <td>2017</td>\n",
       "      <td>12</td>\n",
       "      <td>9</td>\n",
       "      <td>8.055</td>\n",
       "      <td>12</td>\n",
       "      <td>1</td>\n",
       "      <td>11</td>\n",
       "      <td>31</td>\n",
       "      <td>15.51</td>\n",
       "      <td>76.9</td>\n",
       "      <td>31</td>\n",
       "      <td>1</td>\n",
       "      <td>0.10236</td>\n",
       "      <td>14</td>\n",
       "      <td>23</td>\n",
       "      <td>13.31</td>\n",
       "      <td>24.69</td>\n",
       "      <td>23</td>\n",
       "      <td>0</td>\n",
       "      <td>-0.887</td>\n",
       "      <td>5</td>\n",
       "      <td>7</td>\n",
       "      <td>3.21</td>\n",
       "      <td>6</td>\n",
       "      <td>0</td>\n",
       "      <td>50</td>\n",
       "      <td>35</td>\n",
       "      <td>33.06</td>\n",
       "      <td>52</td>\n",
       "      <td>1</td>\n",
       "      <td>0</td>\n",
       "      <td>90.0</td>\n",
       "      <td>0.3462</td>\n",
       "      <td>NaN</td>\n",
       "      <td>NaN</td>\n",
       "      <td>inf</td>\n",
       "      <td>-inf</td>\n",
       "      <td>NaN</td>\n",
       "      <td>3</td>\n",
       "      <td>2</td>\n",
       "      <td>2.072</td>\n",
       "      <td>0.068</td>\n",
       "      <td>3.299</td>\n",
       "      <td>13.125</td>\n",
       "      <td>0.0</td>\n",
       "      <td>6.266</td>\n",
       "      <td>26.77</td>\n",
       "      <td>0.0</td>\n",
       "      <td>16.47</td>\n",
       "      <td>7.754</td>\n",
       "      <td>-1.325042</td>\n",
       "      <td>-2.201</td>\n",
       "      <td>4.516789</td>\n",
       "      <td>0.216691</td>\n",
       "      <td>7.734</td>\n",
       "      <td>-0.311</td>\n",
       "      <td>-0.3696</td>\n",
       "      <td>1.129197</td>\n",
       "      <td>0.011823</td>\n",
       "      <td>9.35</td>\n",
       "      <td>0.0725</td>\n",
       "      <td>-0.747</td>\n",
       "      <td>5942464.5</td>\n",
       "      <td>1309718.6</td>\n",
       "      <td>0.3467</td>\n",
       "      <td>-0.747</td>\n",
       "      <td>5920398.5</td>\n",
       "      <td>5429670.5</td>\n",
       "      <td>242</td>\n",
       "      <td>0.9307</td>\n",
       "      <td>346</td>\n",
       "      <td>589</td>\n",
       "      <td>1.0</td>\n",
       "      <td>23.0</td>\n",
       "      <td>1.0</td>\n",
       "      <td>23.0</td>\n",
       "      <td>69.0</td>\n",
       "      <td>3.0</td>\n",
       "      <td>0.0</td>\n",
       "      <td>0.0</td>\n",
       "      <td>0.0</td>\n",
       "      <td>0.0</td>\n",
       "      <td>0.0</td>\n",
       "      <td>0.0</td>\n",
       "      <td>0.0</td>\n",
       "      <td>0.0</td>\n",
       "      <td>0.0</td>\n",
       "      <td>0.0</td>\n",
       "      <td>0.0</td>\n",
       "      <td>0.0</td>\n",
       "      <td>278.0</td>\n",
       "      <td>14.0</td>\n",
       "      <td>23.0</td>\n",
       "      <td>1.0</td>\n",
       "      <td>34.0</td>\n",
       "      <td>1.479</td>\n",
       "      <td>0.261</td>\n",
       "      <td>2.0</td>\n",
       "      <td>1.0</td>\n",
       "      <td>0.09326</td>\n",
       "      <td>1.000000e-09</td>\n",
       "      <td>1.000000e-09</td>\n",
       "      <td>-13.24</td>\n",
       "      <td>-0.5757</td>\n",
       "      <td>0.01843</td>\n",
       "      <td>-0.2961</td>\n",
       "      <td>-0.7246</td>\n",
       "      <td>0.895996</td>\n",
       "      <td>0.0</td>\n",
       "      <td>1.0</td>\n",
       "      <td>1.0</td>\n",
       "      <td>9.0</td>\n",
       "      <td>1.0</td>\n",
       "      <td>37.0</td>\n",
       "      <td>10.0</td>\n",
       "      <td>-13.24</td>\n",
       "      <td>-0.5757</td>\n",
       "      <td>0.01843</td>\n",
       "      <td>-0.2961</td>\n",
       "      <td>-0.7246</td>\n",
       "      <td>0.896</td>\n",
       "      <td>2018.0</td>\n",
       "      <td>1.0</td>\n",
       "      <td>2018.0</td>\n",
       "      <td>2018.0</td>\n",
       "      <td>2018.0</td>\n",
       "      <td>3.0</td>\n",
       "      <td>2.0</td>\n",
       "      <td>3.479</td>\n",
       "      <td>4.0</td>\n",
       "      <td>3.0</td>\n",
       "      <td>6.0</td>\n",
       "      <td>17.0</td>\n",
       "      <td>16.44</td>\n",
       "      <td>88.8</td>\n",
       "      <td>31.0</td>\n",
       "      <td>5.0</td>\n",
       "      <td>0.3389</td>\n",
       "      <td>13.0</td>\n",
       "      <td>8.0</td>\n",
       "      <td>12.87</td>\n",
       "      <td>4.21</td>\n",
       "      <td>16.0</td>\n",
       "      <td>8.0</td>\n",
       "      <td>-0.6035</td>\n",
       "      <td>4.0</td>\n",
       "      <td>7.0</td>\n",
       "      <td>3.13</td>\n",
       "      <td>6.0</td>\n",
       "      <td>0.0</td>\n",
       "      <td>13.0</td>\n",
       "      <td>7.0</td>\n",
       "      <td>13.305</td>\n",
       "      <td>17.0</td>\n",
       "      <td>10.0</td>\n",
       "      <td>0.0</td>\n",
       "      <td>6.0</td>\n",
       "      <td>0.261</td>\n",
       "      <td>-inf</td>\n",
       "      <td>-inf</td>\n",
       "      <td>-inf</td>\n",
       "      <td>-inf</td>\n",
       "      <td>NaN</td>\n",
       "      <td>2.0</td>\n",
       "      <td>2.0</td>\n",
       "      <td>2.0</td>\n",
       "      <td>0.0</td>\n",
       "      <td>0.0</td>\n",
       "      <td>0.0</td>\n",
       "      <td>0.0</td>\n",
       "      <td>0.0</td>\n",
       "      <td>41.75</td>\n",
       "      <td>-1.151</td>\n",
       "      <td>-1.449</td>\n",
       "      <td>-0.5923</td>\n",
       "      <td>0.0737</td>\n",
       "      <td>0.895996</td>\n",
       "      <td>-0.2878</td>\n",
       "      <td>-0.3623</td>\n",
       "      <td>-0.1481</td>\n",
       "      <td>0.00461</td>\n",
       "      <td>0.895996</td>\n",
       "      <td>-0.5503</td>\n",
       "      <td>-0.593</td>\n",
       "      <td>54.0</td>\n",
       "      <td>2.348</td>\n",
       "      <td>283.0</td>\n",
       "      <td>338.0</td>\n",
       "      <td>-17318</td>\n",
       "      <td>-17318</td>\n",
       "      <td>-17318</td>\n",
       "      <td>-17318</td>\n",
       "      <td>283.0</td>\n",
       "      <td>0.088462</td>\n",
       "      <td>-179.20873</td>\n",
       "      <td>-1.214041</td>\n",
       "      <td>1.962295</td>\n",
       "      <td>-1.4639</td>\n",
       "      <td>0.079774</td>\n",
       "      <td>4.072</td>\n",
       "      <td>0.965251</td>\n",
       "      <td>-2.433</td>\n",
       "      <td>2.0</td>\n",
       "      <td>-7.0</td>\n",
       "      <td>0.0</td>\n",
       "      <td>4.0</td>\n",
       "      <td>0.01538</td>\n",
       "      <td>1.0</td>\n",
       "      <td>0.0</td>\n",
       "      <td>-44.802183</td>\n",
       "      <td>-78.936365</td>\n",
       "      <td>1.962295</td>\n",
       "      <td>-2.476042</td>\n",
       "      <td>-3.65</td>\n",
       "      <td>3.924489</td>\n",
       "      <td>-0.5988</td>\n",
       "      <td>-0.7319</td>\n",
       "      <td>0.981097</td>\n",
       "      <td>-152.26</td>\n",
       "      <td>-20826.191988</td>\n",
       "      <td>0.007311</td>\n",
       "      <td>69.0</td>\n",
       "      <td>7.0</td>\n",
       "      <td>0.0</td>\n",
       "      <td>0</td>\n",
       "      <td>247</td>\n",
       "      <td>0.0</td>\n",
       "      <td>247</td>\n",
       "      <td>0.0</td>\n",
       "      <td>0.0</td>\n",
       "      <td>0.0</td>\n",
       "      <td>0.0</td>\n",
       "      <td>0.0</td>\n",
       "      <td>0.0</td>\n",
       "      <td>0.0</td>\n",
       "      <td>560</td>\n",
       "      <td>41</td>\n",
       "      <td>0</td>\n",
       "      <td>11.006</td>\n",
       "      <td>4.419</td>\n",
       "      <td>33816.0</td>\n",
       "      <td>94</td>\n",
       "      <td>6.0</td>\n",
       "      <td>4.569</td>\n",
       "      <td>8</td>\n",
       "      <td>247</td>\n",
       "      <td>17.244</td>\n",
       "      <td>-2</td>\n",
       "      <td>-8</td>\n",
       "      <td>0</td>\n",
       "      <td>17.244</td>\n",
       "      <td>-2</td>\n",
       "      <td>-8</td>\n",
       "      <td>0</td>\n",
       "      <td>17.244</td>\n",
       "      <td>-2</td>\n",
       "      <td>-8</td>\n",
       "      <td>0</td>\n",
       "      <td>17.244</td>\n",
       "      <td>1.0</td>\n",
       "      <td>2</td>\n",
       "      <td>0.0</td>\n",
       "      <td>170.412734</td>\n",
       "      <td>34</td>\n",
       "      <td>21</td>\n",
       "      <td>0</td>\n",
       "      <td>23.410417</td>\n",
       "      <td>34</td>\n",
       "      <td>21</td>\n",
       "      <td>0</td>\n",
       "      <td>22.380583</td>\n",
       "    </tr>\n",
       "  </tbody>\n",
       "</table>\n",
       "</div>"
      ],
      "text/plain": [
       "           card_id  feature_1  feature_2  feature_3  first_active_month  \\\n",
       "0  C_ID_92a2005557          5          2          1                   6   \n",
       "\n",
       "   outliers    target first_active  first_active_year  \\\n",
       "0       0.0 -0.820283   2017-06-01               2017   \n",
       "\n",
       "   first_active_elapsed_time_from_trade  first_active_total_day  \\\n",
       "0                                   333                 17318.0   \n",
       "\n",
       "   hist_authorized_flag_label_mode  hist_authorized_flag_label_sum  \\\n",
       "0                                1                           247.0   \n",
       "\n",
       "   hist_authorized_flag_label_mean  hist_card_id_size  hist_city_id_mode  \\\n",
       "0                             0.95                260                 69   \n",
       "\n",
       "   hist_city_id_nunique  hist_category_1_label_mode  \\\n",
       "0                     7                           0   \n",
       "\n",
       "   hist_category_1_label_sum  hist_category_1_label_mean  \\\n",
       "0                        0.0                         0.0   \n",
       "\n",
       "   hist_installments_mode  hist_installments_sum  hist_installments_mean  \\\n",
       "0                     0.0                    4.0                 0.01538   \n",
       "\n",
       "   hist_installments_var  hist_installments_max  hist_installments_min  \\\n",
       "0               0.015205                    1.0                    0.0   \n",
       "\n",
       "   hist_installments_null_cnt  hist_category_3_label_mode  \\\n",
       "0                         0.0                           0   \n",
       "\n",
       "   hist_category_3_label_mean  hist_merchant_category_id_mode  \\\n",
       "0                     0.01538                             560   \n",
       "\n",
       "   hist_merchant_category_id_nunique  hist_merchant_id_nunique  \\\n",
       "0                                 41                        94   \n",
       "\n",
       "   hist_month_lag_mode  hist_month_lag_sum  hist_month_lag_mean  \\\n",
       "0                   -2             -1017.0               -3.912   \n",
       "\n",
       "   hist_month_lag_var  hist_month_lag_max  hist_month_lag_min  \\\n",
       "0                5.75                   0                  -8   \n",
       "\n",
       "   hist_month_lag_skew  hist_purchase_date_max  hist_purchase_date_min  \\\n",
       "0                0.066            1.000000e-09            1.000000e-09   \n",
       "\n",
       "   hist_purchase_amount_sum  hist_purchase_amount_mean  \\\n",
       "0                -165.96873                  -0.638341   \n",
       "\n",
       "   hist_purchase_amount_var  hist_purchase_amount_max  \\\n",
       "0                  0.045003                  2.258395   \n",
       "\n",
       "   hist_purchase_amount_min  hist_purchase_amount_skew  \\\n",
       "0                   -0.7393                      10.24   \n",
       "\n",
       "   hist_purchase_amount_over_550  hist_category_2_mode  hist_category_2_mean  \\\n",
       "0                            0.0                   1.0                 1.046   \n",
       "\n",
       "   hist_state_id_mode  hist_state_id_nunique  hist_subsector_id_mode_x  \\\n",
       "0                   9                      3                        34   \n",
       "\n",
       "   hist_subsector_id_nunique_x  hist_purchase_amount_trim_sum  \\\n",
       "0                           21                         -167.4   \n",
       "\n",
       "   hist_purchase_amount_trim_mean  hist_purchase_amount_trim_var  \\\n",
       "0                          -0.644                        0.02057   \n",
       "\n",
       "   hist_purchase_amount_trim_max  hist_purchase_amount_trim_min  \\\n",
       "0                            0.8                        -0.7393   \n",
       "\n",
       "   hist_purchase_amount_trim_skew  hist_purchase_year_mode  \\\n",
       "0                           5.133                     2017   \n",
       "\n",
       "   hist_purchase_year_nunique  hist_purchase_year_mean  \\\n",
       "0                           2                   2017.0   \n",
       "\n",
       "   hist_purchase_year_max  hist_purchase_year_min  hist_purchase_month_mode  \\\n",
       "0                    2018                    2017                        12   \n",
       "\n",
       "   hist_purchase_month_nunique  hist_purchase_month_mean  \\\n",
       "0                            9                     8.055   \n",
       "\n",
       "   hist_purchase_month_max  hist_purchase_month_min  hist_purchase_day_mode  \\\n",
       "0                       12                        1                      11   \n",
       "\n",
       "   hist_purchase_day_nunique  hist_purchase_day_mean  hist_purchase_day_var  \\\n",
       "0                         31                   15.51                   76.9   \n",
       "\n",
       "   hist_purchase_day_max  hist_purchase_day_min  hist_purchase_day_skew  \\\n",
       "0                     31                      1                 0.10236   \n",
       "\n",
       "   hist_purchase_hour_mode  hist_purchase_hour_nunique  \\\n",
       "0                       14                          23   \n",
       "\n",
       "   hist_purchase_hour_mean  hist_purchase_hour_var  hist_purchase_hour_max  \\\n",
       "0                    13.31                   24.69                      23   \n",
       "\n",
       "   hist_purchase_hour_min  hist_purchase_hour_skew  \\\n",
       "0                       0                   -0.887   \n",
       "\n",
       "   hist_purchase_dayofweek_mode  hist_purchase_dayofweek_nunique  \\\n",
       "0                             5                                7   \n",
       "\n",
       "   hist_purchase_dayofweek_mean  hist_purchase_dayofweek_max  \\\n",
       "0                          3.21                            6   \n",
       "\n",
       "   hist_purchase_dayofweek_min  hist_purchase_weekofyear_mode  \\\n",
       "0                            0                             50   \n",
       "\n",
       "   hist_purchase_weekofyear_nunique  hist_purchase_weekofyear_mean  \\\n",
       "0                                35                          33.06   \n",
       "\n",
       "   hist_purchase_weekofyear_max  hist_purchase_weekofyear_min  \\\n",
       "0                            52                             1   \n",
       "\n",
       "   hist_purchase_weekend_mode  hist_purchase_weekend_sum  \\\n",
       "0                           0                       90.0   \n",
       "\n",
       "   hist_purchase_weekend_mean  hist_price_sum  hist_price_mean  \\\n",
       "0                      0.3462             NaN              NaN   \n",
       "\n",
       "   hist_price_max  hist_price_min  hist_price_var  hist_month_diff_max  \\\n",
       "0             inf            -inf             NaN                    3   \n",
       "\n",
       "   hist_month_diff_min  hist_month_diff_mean  hist_month_diff_var  \\\n",
       "0                    2                 2.072                0.068   \n",
       "\n",
       "   hist_month_diff_skew  hist_Christmas_Day_2017_mean  \\\n",
       "0                 3.299                        13.125   \n",
       "\n",
       "   hist_Mothers_Day_2017_mean  hist_fathers_day_2017_mean  \\\n",
       "0                         0.0                       6.266   \n",
       "\n",
       "   hist_Children_day_2017_mean  hist_Valentine_Day_2017_mean  \\\n",
       "0                        26.77                           0.0   \n",
       "\n",
       "   hist_Black_Friday_2017_mean  hist_Mothers_Day_2018_mean  \\\n",
       "0                        16.47                       7.754   \n",
       "\n",
       "   hist_duration_mean  hist_duration_min  hist_duration_max  \\\n",
       "0           -1.325042             -2.201           4.516789   \n",
       "\n",
       "   hist_duration_var  hist_duration_skew  hist_amount_month_ratio_mean  \\\n",
       "0           0.216691               7.734                        -0.311   \n",
       "\n",
       "   hist_amount_month_ratio_min  hist_amount_month_ratio_max  \\\n",
       "0                      -0.3696                     1.129197   \n",
       "\n",
       "   hist_amount_month_ratio_var  hist_amount_month_ratio_skew  \\\n",
       "0                     0.011823                          9.35   \n",
       "\n",
       "   hist_category_2_mean_mean  hist_category_2_min_mean  \\\n",
       "0                     0.0725                    -0.747   \n",
       "\n",
       "   hist_category_2_max_mean  hist_category_2_sum_mean  \\\n",
       "0                 5942464.5                 1309718.6   \n",
       "\n",
       "   hist_category_3_mean_mean  hist_category_3_min_mean  \\\n",
       "0                     0.3467                    -0.747   \n",
       "\n",
       "   hist_category_3_max_mean  hist_category_3_sum_mean  \\\n",
       "0                 5920398.5                 5429670.5   \n",
       "\n",
       "   hist_purchase_date_diff  hist_purchase_date_average  \\\n",
       "0                      242                      0.9307   \n",
       "\n",
       "   hist_purchase_date_uptonow  hist_purchase_date_uptomin  \\\n",
       "0                         346                         589   \n",
       "\n",
       "   new_authorized_flag_mode  new_authorized_flag_sum  \\\n",
       "0                       1.0                     23.0   \n",
       "\n",
       "   new_authorized_flag_mean  new_card_id_size  new_city_id_mode  \\\n",
       "0                       1.0              23.0              69.0   \n",
       "\n",
       "   new_city_id_nunique  new_category_1_mode  new_category_1_sum  \\\n",
       "0                  3.0                  0.0                 0.0   \n",
       "\n",
       "   new_category_1_mean  new_installments_mode  new_installments_sum  \\\n",
       "0                  0.0                    0.0                   0.0   \n",
       "\n",
       "   new_installments_mean  new_installments_var  new_installments_max  \\\n",
       "0                    0.0                   0.0                   0.0   \n",
       "\n",
       "   new_installments_min  new_installments_null_cnt  new_category_3_mode  \\\n",
       "0                   0.0                        0.0                  0.0   \n",
       "\n",
       "   new_category_3_mean  new_merchant_category_id_mode  \\\n",
       "0                  0.0                          278.0   \n",
       "\n",
       "   new_merchant_category_id_nunique  new_merchant_id_nunique  \\\n",
       "0                              14.0                     23.0   \n",
       "\n",
       "   new_month_lag_mode  new_month_lag_sum  new_month_lag_mean  \\\n",
       "0                 1.0               34.0               1.479   \n",
       "\n",
       "   new_month_lag_var  new_month_lag_max  new_month_lag_min  \\\n",
       "0              0.261                2.0                1.0   \n",
       "\n",
       "   new_month_lag_skew  new_purchase_date_max  new_purchase_date_min  \\\n",
       "0             0.09326           1.000000e-09           1.000000e-09   \n",
       "\n",
       "   new_purchase_amount_sum  new_purchase_amount_mean  new_purchase_amount_var  \\\n",
       "0                   -13.24                   -0.5757                  0.01843   \n",
       "\n",
       "   new_purchase_amount_max  new_purchase_amount_min  new_purchase_amount_skew  \\\n",
       "0                  -0.2961                  -0.7246                  0.895996   \n",
       "\n",
       "   new_purchase_amount_over_550  new_category_2_mode  new_category_2_mean  \\\n",
       "0                           0.0                  1.0                  1.0   \n",
       "\n",
       "   new_state_id_mode  new_state_id_nunique  new_subsector_id_mode  \\\n",
       "0                9.0                   1.0                   37.0   \n",
       "\n",
       "   new_subsector_id_nunique  new_purchase_amount_trim_sum  \\\n",
       "0                      10.0                        -13.24   \n",
       "\n",
       "   new_purchase_amount_trim_mean  new_purchase_amount_trim_var  \\\n",
       "0                        -0.5757                       0.01843   \n",
       "\n",
       "   new_purchase_amount_trim_max  new_purchase_amount_trim_min  \\\n",
       "0                       -0.2961                       -0.7246   \n",
       "\n",
       "   new_purchase_amount_trim_skew  new_purchase_year_mode  \\\n",
       "0                          0.896                  2018.0   \n",
       "\n",
       "   new_purchase_year_nunique  new_purchase_year_mean  new_purchase_year_max  \\\n",
       "0                        1.0                  2018.0                 2018.0   \n",
       "\n",
       "   new_purchase_year_min  new_purchase_month_mode  new_purchase_month_nunique  \\\n",
       "0                 2018.0                      3.0                         2.0   \n",
       "\n",
       "   new_purchase_month_mean  new_purchase_month_max  new_purchase_month_min  \\\n",
       "0                    3.479                     4.0                     3.0   \n",
       "\n",
       "   new_purchase_day_mode  new_purchase_day_nunique  new_purchase_day_mean  \\\n",
       "0                    6.0                      17.0                  16.44   \n",
       "\n",
       "   new_purchase_day_var  new_purchase_day_max  new_purchase_day_min  \\\n",
       "0                  88.8                  31.0                   5.0   \n",
       "\n",
       "   new_purchase_day_skew  new_purchase_hour_mode  new_purchase_hour_nunique  \\\n",
       "0                 0.3389                    13.0                        8.0   \n",
       "\n",
       "   new_purchase_hour_mean  new_purchase_hour_var  new_purchase_hour_max  \\\n",
       "0                   12.87                   4.21                   16.0   \n",
       "\n",
       "   new_purchase_hour_min  new_purchase_hour_skew  new_purchase_dayofweek_mode  \\\n",
       "0                    8.0                 -0.6035                          4.0   \n",
       "\n",
       "   new_purchase_dayofweek_nunique  new_purchase_dayofweek_mean  \\\n",
       "0                             7.0                         3.13   \n",
       "\n",
       "   new_purchase_dayofweek_max  new_purchase_dayofweek_min  \\\n",
       "0                         6.0                         0.0   \n",
       "\n",
       "   new_purchase_weekofyear_mode  new_purchase_weekofyear_nunique  \\\n",
       "0                          13.0                              7.0   \n",
       "\n",
       "   new_purchase_weekofyear_mean  new_purchase_weekofyear_max  \\\n",
       "0                        13.305                         17.0   \n",
       "\n",
       "   new_purchase_weekofyear_min  new_purchase_weekend_mode  \\\n",
       "0                         10.0                        0.0   \n",
       "\n",
       "   new_purchase_weekend_sum  new_purchase_weekend_mean  new_price_sum  \\\n",
       "0                       6.0                      0.261           -inf   \n",
       "\n",
       "   new_price_mean  new_price_max  new_price_min  new_price_var  \\\n",
       "0            -inf           -inf           -inf            NaN   \n",
       "\n",
       "   new_month_diff_max  new_month_diff_min  new_month_diff_mean  \\\n",
       "0                 2.0                 2.0                  2.0   \n",
       "\n",
       "   new_month_diff_var  new_month_diff_skew  new_Christmas_Day_2017_mean  \\\n",
       "0                 0.0                  0.0                          0.0   \n",
       "\n",
       "   new_Children_day_2017_mean  new_Black_Friday_2017_mean  \\\n",
       "0                         0.0                         0.0   \n",
       "\n",
       "   new_Mothers_Day_2018_mean  new_duration_mean  new_duration_min  \\\n",
       "0                      41.75             -1.151            -1.449   \n",
       "\n",
       "   new_duration_max  new_duration_var  new_duration_skew  \\\n",
       "0           -0.5923            0.0737           0.895996   \n",
       "\n",
       "   new_amount_month_ratio_mean  new_amount_month_ratio_min  \\\n",
       "0                      -0.2878                     -0.3623   \n",
       "\n",
       "   new_amount_month_ratio_max  new_amount_month_ratio_var  \\\n",
       "0                     -0.1481                     0.00461   \n",
       "\n",
       "   new_amount_month_ratio_skew  new_category_2_mean_mean  \\\n",
       "0                     0.895996                   -0.5503   \n",
       "\n",
       "   new_category_3_mean_mean  new_purchase_date_diff  \\\n",
       "0                    -0.593                    54.0   \n",
       "\n",
       "   new_purchase_date_average  new_purchase_date_uptonow  \\\n",
       "0                      2.348                      283.0   \n",
       "\n",
       "   new_purchase_date_uptomin  hist_first_buy  hist_last_buy  new_first_buy  \\\n",
       "0                      338.0          -17318         -17318         -17318   \n",
       "\n",
       "   new_last_buy  card_id_total_size  card_id_size_ratio  \\\n",
       "0        -17318               283.0            0.088462   \n",
       "\n",
       "   purchase_amount_total  purchase_amount_mean  purchase_amount_max  \\\n",
       "0             -179.20873             -1.214041             1.962295   \n",
       "\n",
       "   purchase_amount_min  purchase_amount_ratio  month_diff_mean  \\\n",
       "0              -1.4639               0.079774            4.072   \n",
       "\n",
       "   month_diff_ratio  month_lag_mean  month_lag_max  month_lag_min  \\\n",
       "0          0.965251          -2.433            2.0           -7.0   \n",
       "\n",
       "   category_1_mean  installments_total  installments_mean  installments_max  \\\n",
       "0              0.0                 4.0            0.01538               1.0   \n",
       "\n",
       "   installments_ratio  price_total  price_mean  price_max  duration_mean  \\\n",
       "0                 0.0   -44.802183  -78.936365   1.962295      -2.476042   \n",
       "\n",
       "   duration_min  duration_max  amount_month_ratio_mean  \\\n",
       "0         -3.65      3.924489                  -0.5988   \n",
       "\n",
       "   amount_month_ratio_min  amount_month_ratio_max  new_CLV      hist_CLV  \\\n",
       "0                 -0.7319                0.981097  -152.26 -20826.191988   \n",
       "\n",
       "   CLV_ratio  hist_city_id_mode_authorized_flag_category_1_Y  \\\n",
       "0   0.007311                                            69.0   \n",
       "\n",
       "   hist_city_id_nunique_authorized_flag_category_1_Y  \\\n",
       "0                                                7.0   \n",
       "\n",
       "   hist_category_1_authorized_flag_Y_mean  \\\n",
       "0                                     0.0   \n",
       "\n",
       "   hist_category_1_authorized_flag_Y_sum  \\\n",
       "0                                      0   \n",
       "\n",
       "   hist_category_1_authorized_flag_Y_size  \\\n",
       "0                                     247   \n",
       "\n",
       "   hist_installments_authorized_flag_Y_mode  \\\n",
       "0                                       0.0   \n",
       "\n",
       "   hist_installments_authorized_flag_Y_size  \\\n",
       "0                                       247   \n",
       "\n",
       "   hist_installments_authorized_flag_Y_mean  \\\n",
       "0                                       0.0   \n",
       "\n",
       "   hist_installments_authorized_flag_Y_max  \\\n",
       "0                                      0.0   \n",
       "\n",
       "   hist_installments_authorized_flag_Y_var  \\\n",
       "0                                      0.0   \n",
       "\n",
       "   hist_installments_authorized_flag_Y_min  \\\n",
       "0                                      0.0   \n",
       "\n",
       "   hist_installments_authorized_flag_Y_null_cnt  \\\n",
       "0                                           0.0   \n",
       "\n",
       "   hist_installments_authorized_flag_Y_null_rate  \\\n",
       "0                                            0.0   \n",
       "\n",
       "   hist_installments_authorized_flag_Y_cnt_std  \\\n",
       "0                                          0.0   \n",
       "\n",
       "   hist_merchant_category_id_authorized_flag_Y_mode  \\\n",
       "0                                               560   \n",
       "\n",
       "   hist_merchant_category_id_authorized_flag_Y_nunique  \\\n",
       "0                                                 41     \n",
       "\n",
       "   hist_merchant_category_id_authorized_flag_Y_null_cnt  \\\n",
       "0                                                  0      \n",
       "\n",
       "   hist_merchant_category_id_authorized_flag_Y_cnt_std  \\\n",
       "0                                             11.006     \n",
       "\n",
       "   hist_merchant_id_authorized_flag_Y_cnt_std  hist_merchant_id_mode  \\\n",
       "0                                       4.419                33816.0   \n",
       "\n",
       "   hist_merchant_id_nunique2  hist_merchant_id_null_cnt  \\\n",
       "0                         94                        6.0   \n",
       "\n",
       "   hist_merchant_id_cnt_std  temp  hist_category_1_authorized_flag_Y_0_cnt  \\\n",
       "0                     4.569     8                                      247   \n",
       "\n",
       "   hist_month_lag_std  hist_month_lag_authorized_flag_Y_mode  \\\n",
       "0              17.244                                     -2   \n",
       "\n",
       "   hist_month_lag_authorized_flag_Y_min  hist_month_lag_authorized_flag_Y_max  \\\n",
       "0                                    -8                                     0   \n",
       "\n",
       "   hist_month_lag_authorized_flag_Y_cnt_std  \\\n",
       "0                                    17.244   \n",
       "\n",
       "   hist_month_lag_authorized_flag_Y_category_1_Y_mode  \\\n",
       "0                                                 -2    \n",
       "\n",
       "   hist_month_lag_authorized_flag_Y_category_1_Y_min  \\\n",
       "0                                                 -8   \n",
       "\n",
       "   hist_month_lag_authorized_flag_Y_category_1_Y_max  \\\n",
       "0                                                  0   \n",
       "\n",
       "   hist_month_lag_authorized_flag_Y_category_1_Y_cnt_std  \\\n",
       "0                                             17.244       \n",
       "\n",
       "   hist_month_lag_authorized_flag_Y_category_1_N_mode  \\\n",
       "0                                                 -2    \n",
       "\n",
       "   hist_month_lag_authorized_flag_Y_category_1_N_min  \\\n",
       "0                                                 -8   \n",
       "\n",
       "   hist_month_lag_authorized_flag_Y_category_1_N_max  \\\n",
       "0                                                  0   \n",
       "\n",
       "   hist_month_lag_authorized_flag_Y_category_1_N_cnt_std  \\\n",
       "0                                             17.244       \n",
       "\n",
       "   hist_category_2_authorized_flag_Y_mode  \\\n",
       "0                                     1.0   \n",
       "\n",
       "   hist_category_2_authorized_flag_Y_nunique  \\\n",
       "0                                          2   \n",
       "\n",
       "   hist_category_2_authorized_flag_Y_null_cnt  \\\n",
       "0                                         0.0   \n",
       "\n",
       "   hist_category_2_authorized_flag_Y_cnt_std  hist_subsector_id_mode_y  \\\n",
       "0                                 170.412734                        34   \n",
       "\n",
       "   hist_subsector_id_nunique_y  hist_subsector_id_null_cnt  \\\n",
       "0                           21                           0   \n",
       "\n",
       "   hist_subsector_id_cnt_std  hist_subsector_id_authorized_flag_Y_mode  \\\n",
       "0                  23.410417                                        34   \n",
       "\n",
       "   hist_subsector_id_authorized_flag_Y_nunique  \\\n",
       "0                                           21   \n",
       "\n",
       "   hist_subsector_id_authorized_flag_Y_null_cnt  \\\n",
       "0                                             0   \n",
       "\n",
       "   hist_subsector_id_authorized_flag_Y_cnt_std  \n",
       "0                                    22.380583  "
      ]
     },
     "execution_count": 238,
     "metadata": {},
     "output_type": "execute_result"
    }
   ],
   "source": [
    "train.head(1)"
   ]
  },
  {
   "cell_type": "code",
   "execution_count": null,
   "metadata": {},
   "outputs": [],
   "source": [
    "    'hist_subsector_id_mode', 'hist_subsector_id_nunique', 'hist_subsector_id_null_cnt', 'hist_subsector_id_cnt_std'\n"
   ]
  },
  {
   "cell_type": "code",
   "execution_count": 256,
   "metadata": {
    "ExecuteTime": {
     "end_time": "2019-02-18T21:14:00.762484Z",
     "start_time": "2019-02-18T21:14:00.758528Z"
    }
   },
   "outputs": [],
   "source": [
    "trainable_feature = [\n",
    "    'feature_1', 'feature_2', 'feature_3', \n",
    "    'first_active_month', 'first_active_year', 'first_active_elapsed_time_from_trade', 'first_active_total_day',\n",
    "    'hist_card_id_size', 'new_card_id_size',\n",
    "    'hist_authorized_flag_label_mean', 'hist_authorized_flag_label_sum',\n",
    "    'hist_city_id_mode_authorized_flag_category_1_Y', 'hist_city_id_nunique_authorized_flag_category_1_Y',\n",
    "    'hist_category_1_authorized_flag_Y_mean',\n",
    "    'hist_installments_authorized_flag_Y_max', 'hist_installments_authorized_flag_Y_min', 'hist_installments_authorized_flag_Y_null_cnt', 'hist_installments_authorized_flag_Y_var', 'hist_installments_authorized_flag_Y_cnt_std',\n",
    "    'hist_merchant_category_id_authorized_flag_Y_cnt_std',\n",
    "    'hist_merchant_id_mode', 'hist_merchant_id_nunique2', 'hist_merchant_id_null_cnt', 'hist_merchant_id_authorized_flag_Y_cnt_std',\n",
    "    'hist_month_lag_min', 'hist_month_lag_max', 'hist_month_lag_mode',\n",
    "    'hist_subsector_id_mode', 'hist_subsector_id_nunique'\n",
    "]"
   ]
  },
  {
   "cell_type": "code",
   "execution_count": null,
   "metadata": {},
   "outputs": [],
   "source": []
  },
  {
   "cell_type": "code",
   "execution_count": 257,
   "metadata": {
    "ExecuteTime": {
     "end_time": "2019-02-18T21:14:01.141377Z",
     "start_time": "2019-02-18T21:14:01.137388Z"
    },
    "hide_input": false
   },
   "outputs": [],
   "source": [
    "param = {'num_leaves': 31,\n",
    "         'min_data_in_leaf': 30, \n",
    "         'objective':'regression',\n",
    "         'max_depth': -1,\n",
    "         'learning_rate': 0.01,\n",
    "         \"min_child_samples\": 20,\n",
    "         \"boosting\": \"gbdt\",\n",
    "         \"feature_fraction\": 1,\n",
    "         \"bagging_freq\": 1,\n",
    "         \"bagging_fraction\": 0.9 ,\n",
    "         \"bagging_seed\": 11,\n",
    "         \"metric\": 'rmse',\n",
    "         \"lambda_l1\": 0.1,\n",
    "         \"verbosity\": -1,\n",
    "         \"nthread\": 8,\n",
    "         \"random_state\": 4590}"
   ]
  },
  {
   "cell_type": "code",
   "execution_count": 258,
   "metadata": {
    "ExecuteTime": {
     "end_time": "2019-02-18T21:15:34.364114Z",
     "start_time": "2019-02-18T21:14:01.274942Z"
    }
   },
   "outputs": [
    {
     "name": "stdout",
     "output_type": "stream",
     "text": [
      "fold n°0\n",
      "Training until validation scores don't improve for 200 rounds.\n",
      "[100]\ttraining's rmse: 3.74471\tvalid_1's rmse: 3.78033\n",
      "[200]\ttraining's rmse: 3.69275\tvalid_1's rmse: 3.75913\n",
      "[300]\ttraining's rmse: 3.65825\tvalid_1's rmse: 3.74871\n",
      "[400]\ttraining's rmse: 3.63324\tvalid_1's rmse: 3.74325\n",
      "[500]\ttraining's rmse: 3.61204\tvalid_1's rmse: 3.73955\n",
      "[600]\ttraining's rmse: 3.59389\tvalid_1's rmse: 3.73737\n",
      "[700]\ttraining's rmse: 3.57818\tvalid_1's rmse: 3.73589\n",
      "[800]\ttraining's rmse: 3.56458\tvalid_1's rmse: 3.73567\n",
      "[900]\ttraining's rmse: 3.55126\tvalid_1's rmse: 3.73495\n",
      "[1000]\ttraining's rmse: 3.53845\tvalid_1's rmse: 3.73461\n",
      "[1100]\ttraining's rmse: 3.52718\tvalid_1's rmse: 3.73518\n",
      "Early stopping, best iteration is:\n",
      "[999]\ttraining's rmse: 3.53855\tvalid_1's rmse: 3.7346\n",
      "fold n°1\n",
      "Training until validation scores don't improve for 200 rounds.\n",
      "[100]\ttraining's rmse: 3.74269\tvalid_1's rmse: 3.78062\n",
      "[200]\ttraining's rmse: 3.69135\tvalid_1's rmse: 3.7577\n",
      "[300]\ttraining's rmse: 3.65662\tvalid_1's rmse: 3.74668\n",
      "[400]\ttraining's rmse: 3.631\tvalid_1's rmse: 3.74066\n",
      "[500]\ttraining's rmse: 3.61075\tvalid_1's rmse: 3.73749\n",
      "[600]\ttraining's rmse: 3.59292\tvalid_1's rmse: 3.73558\n",
      "[700]\ttraining's rmse: 3.57754\tvalid_1's rmse: 3.73448\n",
      "[800]\ttraining's rmse: 3.56416\tvalid_1's rmse: 3.73415\n",
      "[900]\ttraining's rmse: 3.55191\tvalid_1's rmse: 3.73375\n",
      "[1000]\ttraining's rmse: 3.54005\tvalid_1's rmse: 3.73333\n",
      "[1100]\ttraining's rmse: 3.52903\tvalid_1's rmse: 3.73339\n",
      "[1200]\ttraining's rmse: 3.51784\tvalid_1's rmse: 3.73347\n",
      "Early stopping, best iteration is:\n",
      "[1067]\ttraining's rmse: 3.5327\tvalid_1's rmse: 3.73315\n",
      "fold n°2\n",
      "Training until validation scores don't improve for 200 rounds.\n",
      "[100]\ttraining's rmse: 3.74008\tvalid_1's rmse: 3.76921\n",
      "[200]\ttraining's rmse: 3.68925\tvalid_1's rmse: 3.75088\n",
      "[300]\ttraining's rmse: 3.65471\tvalid_1's rmse: 3.7436\n",
      "[400]\ttraining's rmse: 3.62825\tvalid_1's rmse: 3.73949\n",
      "[500]\ttraining's rmse: 3.60799\tvalid_1's rmse: 3.73698\n",
      "[600]\ttraining's rmse: 3.5908\tvalid_1's rmse: 3.73569\n",
      "[700]\ttraining's rmse: 3.5752\tvalid_1's rmse: 3.73464\n",
      "[800]\ttraining's rmse: 3.56175\tvalid_1's rmse: 3.73372\n",
      "[900]\ttraining's rmse: 3.5491\tvalid_1's rmse: 3.73303\n",
      "[1000]\ttraining's rmse: 3.53685\tvalid_1's rmse: 3.73274\n",
      "[1100]\ttraining's rmse: 3.52585\tvalid_1's rmse: 3.73254\n",
      "[1200]\ttraining's rmse: 3.51544\tvalid_1's rmse: 3.73217\n",
      "[1300]\ttraining's rmse: 3.5045\tvalid_1's rmse: 3.73196\n",
      "[1400]\ttraining's rmse: 3.49362\tvalid_1's rmse: 3.73185\n",
      "[1500]\ttraining's rmse: 3.48366\tvalid_1's rmse: 3.73168\n",
      "[1600]\ttraining's rmse: 3.47319\tvalid_1's rmse: 3.73167\n",
      "[1700]\ttraining's rmse: 3.46324\tvalid_1's rmse: 3.73195\n",
      "Early stopping, best iteration is:\n",
      "[1507]\ttraining's rmse: 3.48297\tvalid_1's rmse: 3.73156\n",
      "fold n°3\n",
      "Training until validation scores don't improve for 200 rounds.\n",
      "[100]\ttraining's rmse: 3.74315\tvalid_1's rmse: 3.7793\n",
      "[200]\ttraining's rmse: 3.69135\tvalid_1's rmse: 3.75947\n",
      "[300]\ttraining's rmse: 3.65617\tvalid_1's rmse: 3.75089\n",
      "[400]\ttraining's rmse: 3.63145\tvalid_1's rmse: 3.74783\n",
      "[500]\ttraining's rmse: 3.60994\tvalid_1's rmse: 3.7466\n",
      "[600]\ttraining's rmse: 3.59224\tvalid_1's rmse: 3.74533\n",
      "[700]\ttraining's rmse: 3.57685\tvalid_1's rmse: 3.7444\n",
      "[800]\ttraining's rmse: 3.56134\tvalid_1's rmse: 3.74318\n",
      "[900]\ttraining's rmse: 3.54941\tvalid_1's rmse: 3.74351\n",
      "[1000]\ttraining's rmse: 3.53711\tvalid_1's rmse: 3.74304\n",
      "[1100]\ttraining's rmse: 3.52491\tvalid_1's rmse: 3.7427\n",
      "[1200]\ttraining's rmse: 3.51317\tvalid_1's rmse: 3.74269\n",
      "[1300]\ttraining's rmse: 3.50243\tvalid_1's rmse: 3.74273\n",
      "[1400]\ttraining's rmse: 3.49223\tvalid_1's rmse: 3.74253\n",
      "[1500]\ttraining's rmse: 3.48167\tvalid_1's rmse: 3.74231\n",
      "[1600]\ttraining's rmse: 3.4718\tvalid_1's rmse: 3.74244\n",
      "[1700]\ttraining's rmse: 3.4618\tvalid_1's rmse: 3.74249\n",
      "Early stopping, best iteration is:\n",
      "[1533]\ttraining's rmse: 3.47847\tvalid_1's rmse: 3.74216\n",
      "fold n°4\n",
      "Training until validation scores don't improve for 200 rounds.\n",
      "[100]\ttraining's rmse: 3.74767\tvalid_1's rmse: 3.77409\n",
      "[200]\ttraining's rmse: 3.697\tvalid_1's rmse: 3.75004\n",
      "[300]\ttraining's rmse: 3.66319\tvalid_1's rmse: 3.73709\n",
      "[400]\ttraining's rmse: 3.63832\tvalid_1's rmse: 3.73147\n",
      "[500]\ttraining's rmse: 3.61786\tvalid_1's rmse: 3.72753\n",
      "[600]\ttraining's rmse: 3.6008\tvalid_1's rmse: 3.72541\n",
      "[700]\ttraining's rmse: 3.58552\tvalid_1's rmse: 3.72375\n",
      "[800]\ttraining's rmse: 3.57191\tvalid_1's rmse: 3.72275\n",
      "[900]\ttraining's rmse: 3.55926\tvalid_1's rmse: 3.72184\n",
      "[1000]\ttraining's rmse: 3.54731\tvalid_1's rmse: 3.72118\n",
      "[1100]\ttraining's rmse: 3.53575\tvalid_1's rmse: 3.7204\n",
      "[1200]\ttraining's rmse: 3.52515\tvalid_1's rmse: 3.72013\n",
      "[1300]\ttraining's rmse: 3.51408\tvalid_1's rmse: 3.71974\n",
      "[1400]\ttraining's rmse: 3.50423\tvalid_1's rmse: 3.71945\n",
      "[1500]\ttraining's rmse: 3.49491\tvalid_1's rmse: 3.71959\n",
      "[1600]\ttraining's rmse: 3.48564\tvalid_1's rmse: 3.71965\n",
      "Early stopping, best iteration is:\n",
      "[1406]\ttraining's rmse: 3.50357\tvalid_1's rmse: 3.71938\n",
      "CV score: 3.73218 \n"
     ]
    }
   ],
   "source": [
    "folds = StratifiedKFold(n_splits=5, shuffle=True, random_state=15)\n",
    "\n",
    "# train_columns = [f for f in train.columns if f not in FEATS_EXCLUDED]\n",
    "train_columns = trainable_feature\n",
    "\n",
    "oof_lgb = np.zeros(len(train))\n",
    "predictions_lgb = np.zeros(len(test))\n",
    "feature_importance = pd.DataFrame()\n",
    "\n",
    "for fold_, (trn_idx, val_idx) in enumerate(folds.split(train, train['outliers'].values)):    \n",
    "    print(\"fold n°{}\".format(fold_))\n",
    "    trn_data = lgb.Dataset(train.iloc[trn_idx][train_columns], label=train.iloc[trn_idx]['target'])\n",
    "    val_data = lgb.Dataset(train.iloc[val_idx][train_columns], label=train.iloc[val_idx]['target'])\n",
    "\n",
    "    num_round = 10000\n",
    "    clf = lgb.train(param, trn_data, num_round, valid_sets = [trn_data, val_data], verbose_eval=100, early_stopping_rounds = 200)\n",
    "    oof_lgb[val_idx] = clf.predict(train.iloc[val_idx][train_columns], num_iteration=clf.best_iteration)\n",
    "    \n",
    "    predictions_lgb += clf.predict(test[train_columns], num_iteration=clf.best_iteration) / folds.n_splits\n",
    "    \n",
    "    fold_importance = pd.DataFrame()\n",
    "    fold_importance[\"Feature\"] = train_columns\n",
    "    fold_importance[\"importance\"] = clf.feature_importance()\n",
    "    fold_importance[\"fold\"] = fold_ + 1\n",
    "    feature_importance = pd.concat([feature_importance, fold_importance], axis=0)\n",
    "    \n",
    "print(\"CV score: {:<8.5f}\".format(mean_squared_error(train.target.values, oof_lgb)**0.5))"
   ]
  },
  {
   "cell_type": "markdown",
   "metadata": {},
   "source": [
    "score : 3.73218 "
   ]
  },
  {
   "cell_type": "code",
   "execution_count": 259,
   "metadata": {
    "ExecuteTime": {
     "end_time": "2019-02-18T21:15:37.001931Z",
     "start_time": "2019-02-18T21:15:36.926399Z"
    }
   },
   "outputs": [],
   "source": [
    "sub = pd.read_csv('./data/sample_submission.csv')"
   ]
  },
  {
   "cell_type": "code",
   "execution_count": 260,
   "metadata": {
    "ExecuteTime": {
     "end_time": "2019-02-18T21:15:37.486763Z",
     "start_time": "2019-02-18T21:15:37.482775Z"
    }
   },
   "outputs": [],
   "source": [
    "sub.target = predictions_lgb"
   ]
  },
  {
   "cell_type": "code",
   "execution_count": 261,
   "metadata": {
    "ExecuteTime": {
     "end_time": "2019-02-18T21:15:43.903095Z",
     "start_time": "2019-02-18T21:15:43.547154Z"
    }
   },
   "outputs": [],
   "source": [
    "sub.to_csv('./data/sub_3-73218.csv', index=False)"
   ]
  }
 ],
 "metadata": {
  "kernelspec": {
   "display_name": "Python 3",
   "language": "python",
   "name": "python3"
  },
  "language_info": {
   "codemirror_mode": {
    "name": "ipython",
    "version": 3
   },
   "file_extension": ".py",
   "mimetype": "text/x-python",
   "name": "python",
   "nbconvert_exporter": "python",
   "pygments_lexer": "ipython3",
   "version": "3.6.7"
  },
  "toc": {
   "base_numbering": 1,
   "nav_menu": {},
   "number_sections": true,
   "sideBar": true,
   "skip_h1_title": false,
   "title_cell": "Table of Contents",
   "title_sidebar": "Contents",
   "toc_cell": false,
   "toc_position": {},
   "toc_section_display": true,
   "toc_window_display": true
  }
 },
 "nbformat": 4,
 "nbformat_minor": 2
}
