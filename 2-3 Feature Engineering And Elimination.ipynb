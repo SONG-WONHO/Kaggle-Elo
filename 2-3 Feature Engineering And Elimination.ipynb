{
 "cells": [
  {
   "cell_type": "markdown",
   "metadata": {},
   "source": [
    "# 사전 작업"
   ]
  },
  {
   "cell_type": "markdown",
   "metadata": {},
   "source": [
    "## 모듈 로드"
   ]
  },
  {
   "cell_type": "code",
   "execution_count": 32,
   "metadata": {
    "ExecuteTime": {
     "end_time": "2019-02-21T06:15:56.421650Z",
     "start_time": "2019-02-21T06:15:56.416699Z"
    }
   },
   "outputs": [],
   "source": [
    "import numpy as np\n",
    "import pandas as pd\n",
    "import matplotlib.pyplot as plt\n",
    "import datetime\n",
    "import seaborn as sns\n",
    "import gc\n",
    "from tqdm import tqdm_notebook"
   ]
  },
  {
   "cell_type": "code",
   "execution_count": 33,
   "metadata": {
    "ExecuteTime": {
     "end_time": "2019-02-21T06:15:56.772472Z",
     "start_time": "2019-02-21T06:15:56.767448Z"
    }
   },
   "outputs": [],
   "source": [
    "import lightgbm as lgb\n",
    "from sklearn.metrics import mean_squared_error\n",
    "from sklearn.metrics import log_loss\n",
    "from sklearn.model_selection import KFold, StratifiedKFold"
   ]
  },
  {
   "cell_type": "code",
   "execution_count": 34,
   "metadata": {
    "ExecuteTime": {
     "end_time": "2019-02-21T06:15:57.130221Z",
     "start_time": "2019-02-21T06:15:57.127225Z"
    }
   },
   "outputs": [],
   "source": [
    "from sklearn.preprocessing import LabelEncoder"
   ]
  },
  {
   "cell_type": "code",
   "execution_count": 35,
   "metadata": {
    "ExecuteTime": {
     "end_time": "2019-02-21T06:15:57.503043Z",
     "start_time": "2019-02-21T06:15:57.500050Z"
    }
   },
   "outputs": [],
   "source": [
    "import warnings\n",
    "warnings.filterwarnings('ignore')"
   ]
  },
  {
   "cell_type": "code",
   "execution_count": 36,
   "metadata": {
    "ExecuteTime": {
     "end_time": "2019-02-21T06:15:57.979957Z",
     "start_time": "2019-02-21T06:15:57.976927Z"
    }
   },
   "outputs": [],
   "source": [
    "pd.set_option('display.max_columns', 400)"
   ]
  },
  {
   "cell_type": "markdown",
   "metadata": {},
   "source": [
    "## 데이터 로드"
   ]
  },
  {
   "cell_type": "code",
   "execution_count": 37,
   "metadata": {
    "ExecuteTime": {
     "end_time": "2019-02-21T06:15:58.785646Z",
     "start_time": "2019-02-21T06:15:58.781748Z"
    }
   },
   "outputs": [],
   "source": [
    "path = './data/'"
   ]
  },
  {
   "cell_type": "code",
   "execution_count": 38,
   "metadata": {
    "ExecuteTime": {
     "end_time": "2019-02-21T06:16:13.652419Z",
     "start_time": "2019-02-21T06:15:59.187146Z"
    }
   },
   "outputs": [],
   "source": [
    "train = pd.read_csv(path + 'train_v3.csv')\n",
    "test = pd.read_csv(path + 'test_v3.csv')"
   ]
  },
  {
   "cell_type": "markdown",
   "metadata": {},
   "source": [
    "## Feature Elimination"
   ]
  },
  {
   "cell_type": "code",
   "execution_count": 39,
   "metadata": {
    "ExecuteTime": {
     "end_time": "2019-02-21T06:16:13.657406Z",
     "start_time": "2019-02-21T06:16:13.654414Z"
    }
   },
   "outputs": [],
   "source": [
    "FEATS_EXCLUDED = ['first_active', 'card_id', 'target', 'outliers',\n",
    "                  'hist_purchase_date_max', 'hist_purchase_date_min', \n",
    "                  'new_purchase_date_max', 'new_purchase_date_min']"
   ]
  },
  {
   "cell_type": "code",
   "execution_count": 49,
   "metadata": {
    "ExecuteTime": {
     "end_time": "2019-02-21T07:16:29.383452Z",
     "start_time": "2019-02-21T07:16:29.379464Z"
    }
   },
   "outputs": [],
   "source": [
    "param = {'num_leaves': 31,\n",
    "         'min_data_in_leaf': 30, \n",
    "         'objective':'regression',\n",
    "         'max_depth': -1,\n",
    "         'learning_rate': 0.01,\n",
    "         \"min_child_samples\": 20,\n",
    "         \"boosting\": \"gbdt\",\n",
    "         \"feature_fraction\": 0.9,\n",
    "         \"bagging_freq\": 1,\n",
    "         \"bagging_fraction\": 0.9 ,\n",
    "         \"bagging_seed\": 11,\n",
    "         \"metric\": 'rmse',\n",
    "         \"lambda_l1\": 0.1,\n",
    "         \"verbosity\": -1,\n",
    "         \"nthread\": 8,\n",
    "         \"random_state\": 4590}"
   ]
  },
  {
   "cell_type": "code",
   "execution_count": 87,
   "metadata": {
    "ExecuteTime": {
     "end_time": "2019-02-21T07:38:04.438339Z",
     "start_time": "2019-02-21T07:29:43.465340Z"
    }
   },
   "outputs": [
    {
     "name": "stdout",
     "output_type": "stream",
     "text": [
      "fold n°0\n",
      "Training until validation scores don't improve for 200 rounds.\n",
      "[100]\ttraining's rmse: 3.65195\tvalid_1's rmse: 3.71912\n",
      "[200]\ttraining's rmse: 3.56745\tvalid_1's rmse: 3.68735\n",
      "[300]\ttraining's rmse: 3.51187\tvalid_1's rmse: 3.67545\n",
      "[400]\ttraining's rmse: 3.46779\tvalid_1's rmse: 3.6698\n",
      "[500]\ttraining's rmse: 3.43192\tvalid_1's rmse: 3.66621\n",
      "[600]\ttraining's rmse: 3.40063\tvalid_1's rmse: 3.66442\n",
      "[700]\ttraining's rmse: 3.37318\tvalid_1's rmse: 3.66252\n",
      "[800]\ttraining's rmse: 3.34851\tvalid_1's rmse: 3.66127\n",
      "[900]\ttraining's rmse: 3.32576\tvalid_1's rmse: 3.66068\n",
      "[1000]\ttraining's rmse: 3.30495\tvalid_1's rmse: 3.6608\n",
      "Early stopping, best iteration is:\n",
      "[896]\ttraining's rmse: 3.32662\tvalid_1's rmse: 3.66066\n",
      "fold n°1\n",
      "Training until validation scores don't improve for 200 rounds.\n",
      "[100]\ttraining's rmse: 3.64877\tvalid_1's rmse: 3.72618\n",
      "[200]\ttraining's rmse: 3.56139\tvalid_1's rmse: 3.69832\n",
      "[300]\ttraining's rmse: 3.50561\tvalid_1's rmse: 3.6851\n",
      "[400]\ttraining's rmse: 3.46233\tvalid_1's rmse: 3.67675\n",
      "[500]\ttraining's rmse: 3.42695\tvalid_1's rmse: 3.67111\n",
      "[600]\ttraining's rmse: 3.39646\tvalid_1's rmse: 3.66849\n",
      "[700]\ttraining's rmse: 3.36958\tvalid_1's rmse: 3.66663\n",
      "[800]\ttraining's rmse: 3.34544\tvalid_1's rmse: 3.66487\n",
      "[900]\ttraining's rmse: 3.32272\tvalid_1's rmse: 3.66372\n",
      "[1000]\ttraining's rmse: 3.30208\tvalid_1's rmse: 3.66282\n",
      "[1100]\ttraining's rmse: 3.28244\tvalid_1's rmse: 3.66224\n",
      "[1200]\ttraining's rmse: 3.26253\tvalid_1's rmse: 3.66173\n",
      "[1300]\ttraining's rmse: 3.24487\tvalid_1's rmse: 3.66154\n",
      "[1400]\ttraining's rmse: 3.22729\tvalid_1's rmse: 3.66115\n",
      "[1500]\ttraining's rmse: 3.21008\tvalid_1's rmse: 3.66048\n",
      "[1600]\ttraining's rmse: 3.19363\tvalid_1's rmse: 3.66032\n",
      "[1700]\ttraining's rmse: 3.17747\tvalid_1's rmse: 3.6606\n",
      "Early stopping, best iteration is:\n",
      "[1525]\ttraining's rmse: 3.20584\tvalid_1's rmse: 3.6601\n",
      "fold n°2\n",
      "Training until validation scores don't improve for 200 rounds.\n",
      "[100]\ttraining's rmse: 3.65372\tvalid_1's rmse: 3.70827\n",
      "[200]\ttraining's rmse: 3.56765\tvalid_1's rmse: 3.67574\n",
      "[300]\ttraining's rmse: 3.51257\tvalid_1's rmse: 3.6621\n",
      "[400]\ttraining's rmse: 3.47157\tvalid_1's rmse: 3.65394\n",
      "[500]\ttraining's rmse: 3.43626\tvalid_1's rmse: 3.64865\n",
      "[600]\ttraining's rmse: 3.40536\tvalid_1's rmse: 3.64542\n",
      "[700]\ttraining's rmse: 3.37736\tvalid_1's rmse: 3.64344\n",
      "[800]\ttraining's rmse: 3.35265\tvalid_1's rmse: 3.64229\n",
      "[900]\ttraining's rmse: 3.32864\tvalid_1's rmse: 3.6413\n",
      "[1000]\ttraining's rmse: 3.30715\tvalid_1's rmse: 3.64086\n",
      "[1100]\ttraining's rmse: 3.28696\tvalid_1's rmse: 3.64044\n",
      "[1200]\ttraining's rmse: 3.26774\tvalid_1's rmse: 3.63999\n",
      "[1300]\ttraining's rmse: 3.24848\tvalid_1's rmse: 3.64\n",
      "[1400]\ttraining's rmse: 3.23004\tvalid_1's rmse: 3.64021\n",
      "[1500]\ttraining's rmse: 3.21323\tvalid_1's rmse: 3.63966\n",
      "[1600]\ttraining's rmse: 3.19508\tvalid_1's rmse: 3.63977\n",
      "Early stopping, best iteration is:\n",
      "[1496]\ttraining's rmse: 3.21384\tvalid_1's rmse: 3.63961\n",
      "fold n°3\n",
      "Training until validation scores don't improve for 200 rounds.\n",
      "[100]\ttraining's rmse: 3.6561\tvalid_1's rmse: 3.71224\n",
      "[200]\ttraining's rmse: 3.57083\tvalid_1's rmse: 3.67912\n",
      "[300]\ttraining's rmse: 3.51491\tvalid_1's rmse: 3.66592\n",
      "[400]\ttraining's rmse: 3.47173\tvalid_1's rmse: 3.6592\n",
      "[500]\ttraining's rmse: 3.4353\tvalid_1's rmse: 3.65481\n",
      "[600]\ttraining's rmse: 3.40473\tvalid_1's rmse: 3.65174\n",
      "[700]\ttraining's rmse: 3.37778\tvalid_1's rmse: 3.65018\n",
      "[800]\ttraining's rmse: 3.35279\tvalid_1's rmse: 3.64882\n",
      "[900]\ttraining's rmse: 3.32907\tvalid_1's rmse: 3.64794\n",
      "[1000]\ttraining's rmse: 3.30719\tvalid_1's rmse: 3.6471\n",
      "[1100]\ttraining's rmse: 3.28774\tvalid_1's rmse: 3.64637\n",
      "[1200]\ttraining's rmse: 3.26893\tvalid_1's rmse: 3.64628\n",
      "[1300]\ttraining's rmse: 3.25114\tvalid_1's rmse: 3.6468\n",
      "[1400]\ttraining's rmse: 3.23328\tvalid_1's rmse: 3.64682\n",
      "Early stopping, best iteration is:\n",
      "[1203]\ttraining's rmse: 3.26833\tvalid_1's rmse: 3.6462\n",
      "fold n°4\n",
      "Training until validation scores don't improve for 200 rounds.\n",
      "[100]\ttraining's rmse: 3.65167\tvalid_1's rmse: 3.72579\n",
      "[200]\ttraining's rmse: 3.56606\tvalid_1's rmse: 3.69506\n",
      "[300]\ttraining's rmse: 3.51103\tvalid_1's rmse: 3.68152\n",
      "[400]\ttraining's rmse: 3.46846\tvalid_1's rmse: 3.67266\n",
      "[500]\ttraining's rmse: 3.43414\tvalid_1's rmse: 3.667\n",
      "[600]\ttraining's rmse: 3.40401\tvalid_1's rmse: 3.66358\n",
      "[700]\ttraining's rmse: 3.37784\tvalid_1's rmse: 3.66127\n",
      "[800]\ttraining's rmse: 3.3543\tvalid_1's rmse: 3.65911\n",
      "[900]\ttraining's rmse: 3.3312\tvalid_1's rmse: 3.6579\n",
      "[1000]\ttraining's rmse: 3.31056\tvalid_1's rmse: 3.65753\n",
      "[1100]\ttraining's rmse: 3.29074\tvalid_1's rmse: 3.65676\n",
      "[1200]\ttraining's rmse: 3.27105\tvalid_1's rmse: 3.65611\n",
      "[1300]\ttraining's rmse: 3.2534\tvalid_1's rmse: 3.65563\n",
      "[1400]\ttraining's rmse: 3.2346\tvalid_1's rmse: 3.65521\n",
      "[1500]\ttraining's rmse: 3.21693\tvalid_1's rmse: 3.65504\n",
      "[1600]\ttraining's rmse: 3.20098\tvalid_1's rmse: 3.65468\n",
      "[1700]\ttraining's rmse: 3.1844\tvalid_1's rmse: 3.65441\n",
      "[1800]\ttraining's rmse: 3.1689\tvalid_1's rmse: 3.65453\n",
      "[1900]\ttraining's rmse: 3.15329\tvalid_1's rmse: 3.65437\n",
      "[2000]\ttraining's rmse: 3.13775\tvalid_1's rmse: 3.65426\n",
      "[2100]\ttraining's rmse: 3.12199\tvalid_1's rmse: 3.65427\n",
      "[2200]\ttraining's rmse: 3.10667\tvalid_1's rmse: 3.6541\n"
     ]
    },
    {
     "ename": "KeyboardInterrupt",
     "evalue": "",
     "output_type": "error",
     "traceback": [
      "\u001b[1;31m---------------------------------------------------------------------------\u001b[0m",
      "\u001b[1;31mKeyboardInterrupt\u001b[0m                         Traceback (most recent call last)",
      "\u001b[1;32m<ipython-input-87-4d6b34498470>\u001b[0m in \u001b[0;36m<module>\u001b[1;34m\u001b[0m\n\u001b[0;32m     14\u001b[0m \u001b[1;33m\u001b[0m\u001b[0m\n\u001b[0;32m     15\u001b[0m     \u001b[0mnum_round\u001b[0m \u001b[1;33m=\u001b[0m \u001b[1;36m10000\u001b[0m\u001b[1;33m\u001b[0m\u001b[1;33m\u001b[0m\u001b[0m\n\u001b[1;32m---> 16\u001b[1;33m     \u001b[0mclf\u001b[0m \u001b[1;33m=\u001b[0m \u001b[0mlgb\u001b[0m\u001b[1;33m.\u001b[0m\u001b[0mtrain\u001b[0m\u001b[1;33m(\u001b[0m\u001b[0mparam\u001b[0m\u001b[1;33m,\u001b[0m \u001b[0mtrn_data\u001b[0m\u001b[1;33m,\u001b[0m \u001b[0mnum_round\u001b[0m\u001b[1;33m,\u001b[0m \u001b[0mvalid_sets\u001b[0m \u001b[1;33m=\u001b[0m \u001b[1;33m[\u001b[0m\u001b[0mtrn_data\u001b[0m\u001b[1;33m,\u001b[0m \u001b[0mval_data\u001b[0m\u001b[1;33m]\u001b[0m\u001b[1;33m,\u001b[0m \u001b[0mverbose_eval\u001b[0m\u001b[1;33m=\u001b[0m\u001b[1;36m100\u001b[0m\u001b[1;33m,\u001b[0m \u001b[0mearly_stopping_rounds\u001b[0m \u001b[1;33m=\u001b[0m \u001b[1;36m200\u001b[0m\u001b[1;33m)\u001b[0m\u001b[1;33m\u001b[0m\u001b[1;33m\u001b[0m\u001b[0m\n\u001b[0m\u001b[0;32m     17\u001b[0m     \u001b[0moof_lgb\u001b[0m\u001b[1;33m[\u001b[0m\u001b[0mval_idx\u001b[0m\u001b[1;33m]\u001b[0m \u001b[1;33m=\u001b[0m \u001b[0mclf\u001b[0m\u001b[1;33m.\u001b[0m\u001b[0mpredict\u001b[0m\u001b[1;33m(\u001b[0m\u001b[0mtrain\u001b[0m\u001b[1;33m.\u001b[0m\u001b[0miloc\u001b[0m\u001b[1;33m[\u001b[0m\u001b[0mval_idx\u001b[0m\u001b[1;33m]\u001b[0m\u001b[1;33m[\u001b[0m\u001b[0mtrain_columns\u001b[0m\u001b[1;33m]\u001b[0m\u001b[1;33m,\u001b[0m \u001b[0mnum_iteration\u001b[0m\u001b[1;33m=\u001b[0m\u001b[0mclf\u001b[0m\u001b[1;33m.\u001b[0m\u001b[0mbest_iteration\u001b[0m\u001b[1;33m)\u001b[0m\u001b[1;33m\u001b[0m\u001b[1;33m\u001b[0m\u001b[0m\n\u001b[0;32m     18\u001b[0m \u001b[1;33m\u001b[0m\u001b[0m\n",
      "\u001b[1;32mc:\\python\\lib\\site-packages\\lightgbm\\engine.py\u001b[0m in \u001b[0;36mtrain\u001b[1;34m(params, train_set, num_boost_round, valid_sets, valid_names, fobj, feval, init_model, feature_name, categorical_feature, early_stopping_rounds, evals_result, verbose_eval, learning_rates, keep_training_booster, callbacks)\u001b[0m\n\u001b[0;32m    214\u001b[0m                                     evaluation_result_list=None))\n\u001b[0;32m    215\u001b[0m \u001b[1;33m\u001b[0m\u001b[0m\n\u001b[1;32m--> 216\u001b[1;33m         \u001b[0mbooster\u001b[0m\u001b[1;33m.\u001b[0m\u001b[0mupdate\u001b[0m\u001b[1;33m(\u001b[0m\u001b[0mfobj\u001b[0m\u001b[1;33m=\u001b[0m\u001b[0mfobj\u001b[0m\u001b[1;33m)\u001b[0m\u001b[1;33m\u001b[0m\u001b[1;33m\u001b[0m\u001b[0m\n\u001b[0m\u001b[0;32m    217\u001b[0m \u001b[1;33m\u001b[0m\u001b[0m\n\u001b[0;32m    218\u001b[0m         \u001b[0mevaluation_result_list\u001b[0m \u001b[1;33m=\u001b[0m \u001b[1;33m[\u001b[0m\u001b[1;33m]\u001b[0m\u001b[1;33m\u001b[0m\u001b[1;33m\u001b[0m\u001b[0m\n",
      "\u001b[1;32mc:\\python\\lib\\site-packages\\lightgbm\\basic.py\u001b[0m in \u001b[0;36mupdate\u001b[1;34m(self, train_set, fobj)\u001b[0m\n\u001b[0;32m   1758\u001b[0m             _safe_call(_LIB.LGBM_BoosterUpdateOneIter(\n\u001b[0;32m   1759\u001b[0m                 \u001b[0mself\u001b[0m\u001b[1;33m.\u001b[0m\u001b[0mhandle\u001b[0m\u001b[1;33m,\u001b[0m\u001b[1;33m\u001b[0m\u001b[1;33m\u001b[0m\u001b[0m\n\u001b[1;32m-> 1760\u001b[1;33m                 ctypes.byref(is_finished)))\n\u001b[0m\u001b[0;32m   1761\u001b[0m             \u001b[0mself\u001b[0m\u001b[1;33m.\u001b[0m\u001b[0m__is_predicted_cur_iter\u001b[0m \u001b[1;33m=\u001b[0m \u001b[1;33m[\u001b[0m\u001b[1;32mFalse\u001b[0m \u001b[1;32mfor\u001b[0m \u001b[0m_\u001b[0m \u001b[1;32min\u001b[0m \u001b[0mrange_\u001b[0m\u001b[1;33m(\u001b[0m\u001b[0mself\u001b[0m\u001b[1;33m.\u001b[0m\u001b[0m__num_dataset\u001b[0m\u001b[1;33m)\u001b[0m\u001b[1;33m]\u001b[0m\u001b[1;33m\u001b[0m\u001b[1;33m\u001b[0m\u001b[0m\n\u001b[0;32m   1762\u001b[0m             \u001b[1;32mreturn\u001b[0m \u001b[0mis_finished\u001b[0m\u001b[1;33m.\u001b[0m\u001b[0mvalue\u001b[0m \u001b[1;33m==\u001b[0m \u001b[1;36m1\u001b[0m\u001b[1;33m\u001b[0m\u001b[1;33m\u001b[0m\u001b[0m\n",
      "\u001b[1;31mKeyboardInterrupt\u001b[0m: "
     ]
    }
   ],
   "source": [
    "folds = StratifiedKFold(n_splits=5, shuffle=True, random_state=15)\n",
    "\n",
    "oof_lgb = np.zeros(len(train))\n",
    "predictions_lgb = np.zeros(len(test))\n",
    "feature_importance = pd.DataFrame()\n",
    "\n",
    "train_columns = [f for f in train.columns if f not in FEATS_EXCLUDED]\n",
    "train_columns = trainable_feature\n",
    "\n",
    "for fold_, (trn_idx, val_idx) in enumerate(folds.split(train, train['outliers'].values)):    \n",
    "    print(\"fold n°{}\".format(fold_))\n",
    "    trn_data = lgb.Dataset(train.iloc[trn_idx][train_columns], label=train.iloc[trn_idx]['target'])\n",
    "    val_data = lgb.Dataset(train.iloc[val_idx][train_columns], label=train.iloc[val_idx]['target'])\n",
    "\n",
    "    num_round = 10000\n",
    "    clf = lgb.train(param, trn_data, num_round, valid_sets = [trn_data, val_data], verbose_eval=100, early_stopping_rounds = 200)\n",
    "    oof_lgb[val_idx] = clf.predict(train.iloc[val_idx][train_columns], num_iteration=clf.best_iteration)\n",
    "    \n",
    "    predictions_lgb += clf.predict(test[train_columns], num_iteration=clf.best_iteration) / folds.n_splits\n",
    "    \n",
    "    fold_importance = pd.DataFrame()\n",
    "    fold_importance[\"Feature\"] = train_columns\n",
    "    fold_importance[\"importance\"] = clf.feature_importance()\n",
    "    fold_importance[\"fold\"] = fold_ + 1\n",
    "    feature_importance = pd.concat([feature_importance, fold_importance], axis=0)\n",
    "    \n",
    "print(\"CV score: {:<8.5f}\".format(mean_squared_error(train.target.values, oof_lgb)**0.5))"
   ]
  },
  {
   "cell_type": "code",
   "execution_count": 83,
   "metadata": {
    "ExecuteTime": {
     "end_time": "2019-02-21T07:29:32.798230Z",
     "start_time": "2019-02-21T07:29:32.793268Z"
    }
   },
   "outputs": [],
   "source": [
    "meta = feature_importance[feature_importance.fold == 1].Feature.to_frame()\n",
    "meta['importance'] = 0"
   ]
  },
  {
   "cell_type": "code",
   "execution_count": 84,
   "metadata": {
    "ExecuteTime": {
     "end_time": "2019-02-21T07:29:33.121004Z",
     "start_time": "2019-02-21T07:29:33.109001Z"
    }
   },
   "outputs": [],
   "source": [
    "for i in range(5):\n",
    "    meta.importance += feature_importance[feature_importance.fold == i+1].importance / 5\n",
    "\n",
    "meta = meta.sort_values('importance')"
   ]
  },
  {
   "cell_type": "code",
   "execution_count": 86,
   "metadata": {
    "ExecuteTime": {
     "end_time": "2019-02-21T07:29:41.155960Z",
     "start_time": "2019-02-21T07:29:41.151936Z"
    }
   },
   "outputs": [],
   "source": [
    "trainable_feature = meta[meta.importance > 0].Feature.values"
   ]
  },
  {
   "cell_type": "code",
   "execution_count": 46,
   "metadata": {
    "ExecuteTime": {
     "end_time": "2019-02-21T07:10:27.142916Z",
     "start_time": "2019-02-21T07:10:27.075807Z"
    }
   },
   "outputs": [],
   "source": [
    "sub = pd.read_csv('./data/sample_submission.csv')"
   ]
  },
  {
   "cell_type": "code",
   "execution_count": 47,
   "metadata": {
    "ExecuteTime": {
     "end_time": "2019-02-21T07:10:27.625725Z",
     "start_time": "2019-02-21T07:10:27.619742Z"
    }
   },
   "outputs": [],
   "source": [
    "sub.target = predictions_lgb"
   ]
  },
  {
   "cell_type": "code",
   "execution_count": 48,
   "metadata": {
    "ExecuteTime": {
     "end_time": "2019-02-21T07:10:36.204235Z",
     "start_time": "2019-02-21T07:10:35.867733Z"
    }
   },
   "outputs": [],
   "source": [
    "sub.to_csv('./data/sub_3-65132.csv', index=False)"
   ]
  }
 ],
 "metadata": {
  "kernelspec": {
   "display_name": "Python 3",
   "language": "python",
   "name": "python3"
  },
  "language_info": {
   "codemirror_mode": {
    "name": "ipython",
    "version": 3
   },
   "file_extension": ".py",
   "mimetype": "text/x-python",
   "name": "python",
   "nbconvert_exporter": "python",
   "pygments_lexer": "ipython3",
   "version": "3.6.7"
  },
  "toc": {
   "base_numbering": 1,
   "nav_menu": {},
   "number_sections": true,
   "sideBar": true,
   "skip_h1_title": false,
   "title_cell": "Table of Contents",
   "title_sidebar": "Contents",
   "toc_cell": false,
   "toc_position": {},
   "toc_section_display": true,
   "toc_window_display": false
  }
 },
 "nbformat": 4,
 "nbformat_minor": 2
}
