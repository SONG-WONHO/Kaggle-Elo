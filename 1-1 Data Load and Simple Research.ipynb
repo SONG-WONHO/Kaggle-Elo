{
 "cells": [
  {
   "cell_type": "code",
   "execution_count": 1,
   "metadata": {
    "ExecuteTime": {
     "end_time": "2019-01-18T13:40:08.723574Z",
     "start_time": "2019-01-18T13:40:08.131160Z"
    }
   },
   "outputs": [],
   "source": [
    "import numpy as np\n",
    "import pandas as pd\n",
    "import matplotlib.pyplot as plt\n",
    "import gc"
   ]
  },
  {
   "cell_type": "code",
   "execution_count": null,
   "metadata": {
    "ExecuteTime": {
     "start_time": "2019-01-18T13:40:08.133Z"
    }
   },
   "outputs": [],
   "source": [
    "path = './data/'"
   ]
  },
  {
   "cell_type": "markdown",
   "metadata": {},
   "source": [
    "## 컴피티션 설명\n",
    "마을의 익숙지 않은 지역에서 배가 고프며 자신의 취향에 따라 적절한 순간에 레스토랑 추천을 받았다고 상상해보십시오. 추천서는 모퉁이에있는 현지 장소에 대한 신용 카드 제공 업체의 할인을 제공합니다!\n",
    "\n",
    "현재 브라질의 최대 결제 브랜드 중 하나인 Elo 는 카드 회원에 대한 프로모션 또는 할인을 제공하기 위해 상인과의 파트너십을 구축했습니다. 하지만이 프로모션은 소비자 또는 판매자 모두에게 효과가 있습니까? 고객은 그들의 경험을 즐긴다? 상인들은 반복되는 사업을 보나요? 개인화가 중요합니다.\n",
    "\n",
    "Elo는 음식부터 쇼핑에 이르기까지 고객의 라이프 사이클에서 가장 중요한 측면과 선호 사항을 이해하기 위해 기계 학습 모델을 구축했습니다. 그러나 지금까지는 개인이나 프로필을 위해 특별히 맞춤 설정된 것은 없습니다. 이것은 당신이 들어오는 곳입니다.\n",
    "\n",
    "이 경쟁에서, Kagglers는 고객 충성도의 신호를 밝힘으로써 개인에게 가장 관련성 높은 기회를 식별하고 제공하는 알고리즘을 개발할 것입니다. 귀하의 의견은 고객의 삶을 개선하고 Elo가 원치 않는 캠페인을 줄이고 고객을위한 올바른 경험을 창출하도록 도와줍니다."
   ]
  },
  {
   "cell_type": "markdown",
   "metadata": {},
   "source": [
    "## 데이터에 대한 설명\n",
    "\n",
    "historical_transactions.csv 및 new_merchant_transactions.csv 파일은 각 카드의 거래에 대한 정보가 포함되어 있습니다.\n",
    "\n",
    "* historical_transactions.csv에는 각 카드 id별 3개월 거래 데이터 포함\n",
    "\n",
    "* new_merchant_transactions.csv에는 historical 데이터에 한번도 반영되지 않은 상인 아이디에 의해 생성된 각 카드 id별 2개월 거래 데이터\n",
    "\n",
    "* merchants.csv 에는 merchant_id 표시된 상인에 대한 집계 정보"
   ]
  },
  {
   "cell_type": "markdown",
   "metadata": {},
   "source": [
    "## 데이터 로드"
   ]
  },
  {
   "cell_type": "code",
   "execution_count": null,
   "metadata": {
    "ExecuteTime": {
     "start_time": "2019-01-18T13:40:08.137Z"
    },
    "hide_input": false
   },
   "outputs": [],
   "source": [
    "train = pd.read_csv(path + 'train.csv')\n",
    "history = pd.read_csv(path + 'historical_transactions.csv')\n",
    "merchant_transaction = pd.read_csv(path + 'new_merchant_transactions.csv')\n",
    "merchant = pd.read_csv(path + 'merchants.csv')"
   ]
  },
  {
   "cell_type": "markdown",
   "metadata": {},
   "source": [
    "### train 컬럼"
   ]
  },
  {
   "cell_type": "code",
   "execution_count": null,
   "metadata": {
    "ExecuteTime": {
     "start_time": "2019-01-18T13:40:08.141Z"
    }
   },
   "outputs": [],
   "source": [
    "train.info()"
   ]
  },
  {
   "cell_type": "markdown",
   "metadata": {},
   "source": [
    "* first_active_month: 거래 최초 발생 시간, 년 월 표시\n",
    "* card_id: 고유한 카드 식별 정보\n",
    "* feature_1: ?\n",
    "* feature_2: ?\n",
    "* feature_3: ?\n",
    "* target: 평가기간 2개월 후에 계산되는 충성도 점수"
   ]
  },
  {
   "cell_type": "code",
   "execution_count": null,
   "metadata": {
    "ExecuteTime": {
     "start_time": "2019-01-18T13:40:08.143Z"
    }
   },
   "outputs": [],
   "source": [
    "train.shape"
   ]
  },
  {
   "cell_type": "code",
   "execution_count": null,
   "metadata": {
    "ExecuteTime": {
     "start_time": "2019-01-18T13:40:08.148Z"
    }
   },
   "outputs": [],
   "source": [
    "train.head(3)"
   ]
  },
  {
   "cell_type": "markdown",
   "metadata": {},
   "source": [
    "### histroy 컬럼"
   ]
  },
  {
   "cell_type": "code",
   "execution_count": null,
   "metadata": {
    "ExecuteTime": {
     "start_time": "2019-01-18T13:40:08.151Z"
    }
   },
   "outputs": [],
   "source": [
    "history.info()"
   ]
  },
  {
   "cell_type": "markdown",
   "metadata": {},
   "source": [
    "* authorized_flag: 거래요청 승인 내역\n",
    "* card_id: 고유 카드 식별자\n",
    "* city_id: 고유 도시 식별자\n",
    "* category_1: ?\n",
    "* installments: 할부 개월 수\n",
    "* category_3: ?\n",
    "* merchant_category_id: 상인 카테고리 식별자\n",
    "* merchant_id: 상인 식별자\n",
    "* month_lag: 기준일까지 지체시간 잘 모르겠음 ...\n",
    "* purchase_amont: 정규화된 거래 금액\n",
    "* purchase_date: 거래 날짜\n",
    "* category_2: ?\n",
    "* state_id: state 식별자라는데 주 정보인지? 브라질에 주가 있나요? 한번 확인해볼게용\n",
    "* subsector_id: 상인 카테고리 구릅 식별자"
   ]
  },
  {
   "cell_type": "code",
   "execution_count": null,
   "metadata": {
    "ExecuteTime": {
     "start_time": "2019-01-18T13:40:08.153Z"
    }
   },
   "outputs": [],
   "source": [
    "history.shape"
   ]
  },
  {
   "cell_type": "code",
   "execution_count": null,
   "metadata": {
    "ExecuteTime": {
     "start_time": "2019-01-18T13:40:08.155Z"
    },
    "scrolled": true
   },
   "outputs": [],
   "source": [
    "history.head(3)"
   ]
  },
  {
   "cell_type": "markdown",
   "metadata": {},
   "source": [
    "### new merchant 컬럼\n",
    "히스토리랑 똑같음. 다만, 신규 오픈한 가게인지 아닌지 여부에 따라 구분"
   ]
  },
  {
   "cell_type": "markdown",
   "metadata": {},
   "source": [
    "### merchant 컬럼"
   ]
  },
  {
   "cell_type": "code",
   "execution_count": null,
   "metadata": {
    "ExecuteTime": {
     "start_time": "2019-01-18T13:40:08.157Z"
    },
    "scrolled": false
   },
   "outputs": [],
   "source": [
    "merchant.info()"
   ]
  },
  {
   "cell_type": "markdown",
   "metadata": {},
   "source": [
    "* merchant_id: 상인 아이디\n",
    "* merchnat_group_id: 상인 그룹 아이디\n",
    "* merchant_category_id: 상인 카테고리 식별자\n",
    "* subsector_id: 상인 카테고리 그룹\n",
    "* numerical_1: ?\n",
    "* numerical_2: ?\n",
    "* category_1: ?\n",
    "* most_recent_sales_range: 마지막 거래 월의 수익 단위 (A ~ E)\n",
    "* most_recent_purchases_range: 마지막 거래 월의 거래 수량 단위 (A ~ E)\n",
    "* avg_sales_lag3: 최근 3개월동안 수익의 평균을 마지막 거래 수익으로 나눈 값\n",
    "* avg_purchases_lag3: 최근 3개월동안 거래량의 평균을 마지막 거래량 수익으로 나눈 값\n",
    "* active_months_lag3: 지난 세 달동안 거래가 빈번한 달의 수? 양?\n",
    "* 6은 위 3개를 3개월을 6개월로 바꾸면 됩니다.\n",
    "* 12는 위 3개를 3개월을 12개월로 바꾸면 됩니다.\n",
    "* category_4: ?\n",
    "* city_id: 도시 정보\n",
    "* state_id: 주? 정보\n",
    "* category_2: ?"
   ]
  },
  {
   "cell_type": "code",
   "execution_count": null,
   "metadata": {
    "ExecuteTime": {
     "start_time": "2019-01-18T13:40:08.160Z"
    }
   },
   "outputs": [],
   "source": [
    "merchant.shape"
   ]
  },
  {
   "cell_type": "code",
   "execution_count": null,
   "metadata": {
    "ExecuteTime": {
     "start_time": "2019-01-18T13:40:08.163Z"
    }
   },
   "outputs": [],
   "source": [
    "merchant.head(3)"
   ]
  }
 ],
 "metadata": {
  "kernelspec": {
   "display_name": "Python 3",
   "language": "python",
   "name": "python3"
  },
  "language_info": {
   "codemirror_mode": {
    "name": "ipython",
    "version": 3
   },
   "file_extension": ".py",
   "mimetype": "text/x-python",
   "name": "python",
   "nbconvert_exporter": "python",
   "pygments_lexer": "ipython3",
   "version": "3.6.7"
  },
  "toc": {
   "base_numbering": 1,
   "nav_menu": {},
   "number_sections": true,
   "sideBar": true,
   "skip_h1_title": false,
   "title_cell": "Table of Contents",
   "title_sidebar": "Contents",
   "toc_cell": false,
   "toc_position": {
    "height": "calc(100% - 180px)",
    "left": "10px",
    "top": "150px",
    "width": "191.594px"
   },
   "toc_section_display": true,
   "toc_window_display": false
  }
 },
 "nbformat": 4,
 "nbformat_minor": 2
}
