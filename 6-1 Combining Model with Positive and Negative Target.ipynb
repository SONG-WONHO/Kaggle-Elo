{
 "cells": [
  {
   "cell_type": "markdown",
   "metadata": {},
   "source": [
    "# 사전 작업"
   ]
  },
  {
   "cell_type": "markdown",
   "metadata": {},
   "source": [
    "## 모듈 로드"
   ]
  },
  {
   "cell_type": "code",
   "execution_count": 1,
   "metadata": {
    "ExecuteTime": {
     "end_time": "2019-02-06T15:13:41.882732Z",
     "start_time": "2019-02-06T15:13:41.155457Z"
    }
   },
   "outputs": [],
   "source": [
    "import numpy as np\n",
    "import pandas as pd\n",
    "import matplotlib.pyplot as plt\n",
    "import datetime\n",
    "import seaborn as sns\n",
    "import gc"
   ]
  },
  {
   "cell_type": "code",
   "execution_count": 2,
   "metadata": {
    "ExecuteTime": {
     "end_time": "2019-02-06T15:13:41.999374Z",
     "start_time": "2019-02-06T15:13:41.883659Z"
    }
   },
   "outputs": [],
   "source": [
    "import lightgbm as lgb\n",
    "from sklearn.metrics import mean_squared_error\n",
    "from sklearn.metrics import log_loss\n",
    "from sklearn.model_selection import KFold, StratifiedKFold"
   ]
  },
  {
   "cell_type": "code",
   "execution_count": 3,
   "metadata": {
    "ExecuteTime": {
     "end_time": "2019-02-06T15:13:42.013389Z",
     "start_time": "2019-02-06T15:13:42.010398Z"
    }
   },
   "outputs": [],
   "source": [
    "import warnings\n",
    "warnings.filterwarnings('ignore')"
   ]
  },
  {
   "cell_type": "code",
   "execution_count": 4,
   "metadata": {
    "ExecuteTime": {
     "end_time": "2019-02-06T15:13:42.630535Z",
     "start_time": "2019-02-06T15:13:42.626578Z"
    }
   },
   "outputs": [],
   "source": [
    "pd.set_option('display.max_columns', 400)"
   ]
  },
  {
   "cell_type": "markdown",
   "metadata": {},
   "source": [
    "# 데이터 로드"
   ]
  },
  {
   "cell_type": "code",
   "execution_count": 5,
   "metadata": {
    "ExecuteTime": {
     "end_time": "2019-02-06T15:14:02.452430Z",
     "start_time": "2019-02-06T15:14:02.448472Z"
    }
   },
   "outputs": [],
   "source": [
    "path = './data/'"
   ]
  },
  {
   "cell_type": "code",
   "execution_count": 6,
   "metadata": {
    "ExecuteTime": {
     "end_time": "2019-02-06T15:14:16.782704Z",
     "start_time": "2019-02-06T15:14:02.758233Z"
    }
   },
   "outputs": [],
   "source": [
    "train = pd.read_csv(path + 'train_v3.csv')\n",
    "test = pd.read_csv(path + 'test_v3.csv')"
   ]
  },
  {
   "cell_type": "markdown",
   "metadata": {},
   "source": [
    "# 데이터 구분"
   ]
  },
  {
   "cell_type": "code",
   "execution_count": 7,
   "metadata": {
    "ExecuteTime": {
     "end_time": "2019-02-06T15:15:18.799427Z",
     "start_time": "2019-02-06T15:15:18.325632Z"
    }
   },
   "outputs": [],
   "source": [
    "train_neg = train[train.target < 0]\n",
    "train_pos = train[train.target >= 0]\n",
    "train_without_outliers = train[train.outliers == 0]"
   ]
  },
  {
   "cell_type": "markdown",
   "metadata": {},
   "source": [
    "# 모델"
   ]
  },
  {
   "cell_type": "markdown",
   "metadata": {},
   "source": [
    "## 제거할 피처"
   ]
  },
  {
   "cell_type": "code",
   "execution_count": 124,
   "metadata": {
    "ExecuteTime": {
     "end_time": "2019-02-06T17:28:48.317701Z",
     "start_time": "2019-02-06T17:28:48.314707Z"
    }
   },
   "outputs": [],
   "source": [
    "FEATS_EXCLUDED = ['first_active', 'card_id', 'target', 'outliers',\n",
    "                  'hist_purchase_date_max', 'hist_purchase_date_min', \n",
    "                  'new_purchase_date_max', 'new_purchase_date_min']"
   ]
  },
  {
   "cell_type": "code",
   "execution_count": 125,
   "metadata": {
    "ExecuteTime": {
     "end_time": "2019-02-06T17:28:48.526891Z",
     "start_time": "2019-02-06T17:28:48.521905Z"
    }
   },
   "outputs": [],
   "source": [
    "param = {'num_leaves': 31,\n",
    "         'min_data_in_leaf': 30, \n",
    "         'objective':'regression',\n",
    "         'max_depth': -1,\n",
    "         'learning_rate': 0.01,\n",
    "         \"min_child_samples\": 20,\n",
    "         \"boosting\": \"gbdt\",\n",
    "         \"feature_fraction\": 0.9,\n",
    "         \"bagging_freq\": 1,\n",
    "         \"bagging_fraction\": 0.9 ,\n",
    "         \"bagging_seed\": 11,\n",
    "         \"metric\": 'rmse',\n",
    "         \"lambda_l1\": 0.1,\n",
    "         \"verbosity\": -1,\n",
    "         \"nthread\": 4,\n",
    "         \"random_state\": 4590}"
   ]
  },
  {
   "cell_type": "code",
   "execution_count": 126,
   "metadata": {
    "ExecuteTime": {
     "end_time": "2019-02-06T17:39:01.999715Z",
     "start_time": "2019-02-06T17:28:48.907268Z"
    }
   },
   "outputs": [
    {
     "name": "stdout",
     "output_type": "stream",
     "text": [
      "fold n°0\n",
      "Training until validation scores don't improve for 200 rounds.\n",
      "[100]\ttraining's rmse: 3.65093\tvalid_1's rmse: 3.71886\n",
      "[200]\ttraining's rmse: 3.56623\tvalid_1's rmse: 3.68747\n",
      "[300]\ttraining's rmse: 3.50999\tvalid_1's rmse: 3.67526\n",
      "[400]\ttraining's rmse: 3.4668\tvalid_1's rmse: 3.66859\n",
      "[500]\ttraining's rmse: 3.4312\tvalid_1's rmse: 3.66532\n",
      "[600]\ttraining's rmse: 3.40089\tvalid_1's rmse: 3.66367\n",
      "[700]\ttraining's rmse: 3.37362\tvalid_1's rmse: 3.66194\n",
      "[800]\ttraining's rmse: 3.35011\tvalid_1's rmse: 3.66162\n",
      "[900]\ttraining's rmse: 3.32715\tvalid_1's rmse: 3.66089\n",
      "[1000]\ttraining's rmse: 3.30606\tvalid_1's rmse: 3.66029\n",
      "[1100]\ttraining's rmse: 3.28622\tvalid_1's rmse: 3.65951\n",
      "[1200]\ttraining's rmse: 3.26596\tvalid_1's rmse: 3.65943\n",
      "[1300]\ttraining's rmse: 3.24718\tvalid_1's rmse: 3.6596\n",
      "[1400]\ttraining's rmse: 3.22819\tvalid_1's rmse: 3.65974\n",
      "Early stopping, best iteration is:\n",
      "[1248]\ttraining's rmse: 3.25659\tvalid_1's rmse: 3.65928\n",
      "fold n°1\n",
      "Training until validation scores don't improve for 200 rounds.\n",
      "[100]\ttraining's rmse: 3.64903\tvalid_1's rmse: 3.72636\n",
      "[200]\ttraining's rmse: 3.56211\tvalid_1's rmse: 3.69838\n",
      "[300]\ttraining's rmse: 3.50645\tvalid_1's rmse: 3.68524\n",
      "[400]\ttraining's rmse: 3.46402\tvalid_1's rmse: 3.67693\n",
      "[500]\ttraining's rmse: 3.42858\tvalid_1's rmse: 3.67162\n",
      "[600]\ttraining's rmse: 3.39855\tvalid_1's rmse: 3.66882\n",
      "[700]\ttraining's rmse: 3.37194\tvalid_1's rmse: 3.66733\n",
      "[800]\ttraining's rmse: 3.3471\tvalid_1's rmse: 3.66598\n",
      "[900]\ttraining's rmse: 3.32463\tvalid_1's rmse: 3.66463\n",
      "[1000]\ttraining's rmse: 3.30305\tvalid_1's rmse: 3.66363\n",
      "[1100]\ttraining's rmse: 3.28286\tvalid_1's rmse: 3.66316\n",
      "[1200]\ttraining's rmse: 3.26385\tvalid_1's rmse: 3.66275\n",
      "[1300]\ttraining's rmse: 3.24594\tvalid_1's rmse: 3.66245\n",
      "[1400]\ttraining's rmse: 3.22743\tvalid_1's rmse: 3.66212\n",
      "[1500]\ttraining's rmse: 3.21044\tvalid_1's rmse: 3.66231\n",
      "[1600]\ttraining's rmse: 3.19421\tvalid_1's rmse: 3.6621\n",
      "[1700]\ttraining's rmse: 3.17821\tvalid_1's rmse: 3.66198\n",
      "[1800]\ttraining's rmse: 3.16288\tvalid_1's rmse: 3.66218\n",
      "[1900]\ttraining's rmse: 3.14701\tvalid_1's rmse: 3.66217\n",
      "Early stopping, best iteration is:\n",
      "[1713]\ttraining's rmse: 3.17619\tvalid_1's rmse: 3.66182\n",
      "fold n°2\n",
      "Training until validation scores don't improve for 200 rounds.\n",
      "[100]\ttraining's rmse: 3.65378\tvalid_1's rmse: 3.70907\n",
      "[200]\ttraining's rmse: 3.56812\tvalid_1's rmse: 3.67638\n",
      "[300]\ttraining's rmse: 3.51389\tvalid_1's rmse: 3.66229\n",
      "[400]\ttraining's rmse: 3.47142\tvalid_1's rmse: 3.65373\n",
      "[500]\ttraining's rmse: 3.4357\tvalid_1's rmse: 3.64929\n",
      "[600]\ttraining's rmse: 3.40534\tvalid_1's rmse: 3.64578\n",
      "[700]\ttraining's rmse: 3.37769\tvalid_1's rmse: 3.64404\n",
      "[800]\ttraining's rmse: 3.35216\tvalid_1's rmse: 3.64318\n",
      "[900]\ttraining's rmse: 3.32834\tvalid_1's rmse: 3.64229\n",
      "[1000]\ttraining's rmse: 3.30627\tvalid_1's rmse: 3.64207\n",
      "[1100]\ttraining's rmse: 3.28565\tvalid_1's rmse: 3.64173\n",
      "[1200]\ttraining's rmse: 3.2656\tvalid_1's rmse: 3.64131\n",
      "[1300]\ttraining's rmse: 3.24657\tvalid_1's rmse: 3.64132\n",
      "[1400]\ttraining's rmse: 3.22843\tvalid_1's rmse: 3.64161\n",
      "Early stopping, best iteration is:\n",
      "[1211]\ttraining's rmse: 3.26374\tvalid_1's rmse: 3.64108\n",
      "fold n°3\n",
      "Training until validation scores don't improve for 200 rounds.\n",
      "[100]\ttraining's rmse: 3.65546\tvalid_1's rmse: 3.71178\n",
      "[200]\ttraining's rmse: 3.57023\tvalid_1's rmse: 3.67897\n",
      "[300]\ttraining's rmse: 3.51496\tvalid_1's rmse: 3.6665\n",
      "[400]\ttraining's rmse: 3.47169\tvalid_1's rmse: 3.66018\n",
      "[500]\ttraining's rmse: 3.43661\tvalid_1's rmse: 3.65501\n",
      "[600]\ttraining's rmse: 3.4057\tvalid_1's rmse: 3.65185\n",
      "[700]\ttraining's rmse: 3.37886\tvalid_1's rmse: 3.64945\n",
      "[800]\ttraining's rmse: 3.35435\tvalid_1's rmse: 3.64802\n",
      "[900]\ttraining's rmse: 3.3322\tvalid_1's rmse: 3.64687\n",
      "[1000]\ttraining's rmse: 3.31083\tvalid_1's rmse: 3.64592\n",
      "[1100]\ttraining's rmse: 3.2907\tvalid_1's rmse: 3.64532\n",
      "[1200]\ttraining's rmse: 3.27207\tvalid_1's rmse: 3.64521\n",
      "[1300]\ttraining's rmse: 3.25335\tvalid_1's rmse: 3.64506\n",
      "[1400]\ttraining's rmse: 3.23543\tvalid_1's rmse: 3.64522\n",
      "Early stopping, best iteration is:\n",
      "[1229]\ttraining's rmse: 3.26627\tvalid_1's rmse: 3.64478\n",
      "fold n°4\n",
      "Training until validation scores don't improve for 200 rounds.\n",
      "[100]\ttraining's rmse: 3.65146\tvalid_1's rmse: 3.72608\n",
      "[200]\ttraining's rmse: 3.56641\tvalid_1's rmse: 3.69471\n",
      "[300]\ttraining's rmse: 3.51161\tvalid_1's rmse: 3.68044\n",
      "[400]\ttraining's rmse: 3.46915\tvalid_1's rmse: 3.67269\n",
      "[500]\ttraining's rmse: 3.43383\tvalid_1's rmse: 3.66648\n",
      "[600]\ttraining's rmse: 3.40378\tvalid_1's rmse: 3.66254\n",
      "[700]\ttraining's rmse: 3.37728\tvalid_1's rmse: 3.65942\n",
      "[800]\ttraining's rmse: 3.35316\tvalid_1's rmse: 3.6581\n",
      "[900]\ttraining's rmse: 3.33073\tvalid_1's rmse: 3.65721\n",
      "[1000]\ttraining's rmse: 3.30948\tvalid_1's rmse: 3.65595\n",
      "[1100]\ttraining's rmse: 3.29015\tvalid_1's rmse: 3.65544\n",
      "[1200]\ttraining's rmse: 3.27092\tvalid_1's rmse: 3.65552\n",
      "[1300]\ttraining's rmse: 3.25194\tvalid_1's rmse: 3.65502\n",
      "[1400]\ttraining's rmse: 3.23401\tvalid_1's rmse: 3.65429\n",
      "[1500]\ttraining's rmse: 3.21816\tvalid_1's rmse: 3.65422\n",
      "[1600]\ttraining's rmse: 3.20167\tvalid_1's rmse: 3.65354\n",
      "[1700]\ttraining's rmse: 3.18553\tvalid_1's rmse: 3.65301\n",
      "[1800]\ttraining's rmse: 3.16987\tvalid_1's rmse: 3.65265\n",
      "[1900]\ttraining's rmse: 3.15447\tvalid_1's rmse: 3.65216\n",
      "[2000]\ttraining's rmse: 3.13881\tvalid_1's rmse: 3.65147\n",
      "[2100]\ttraining's rmse: 3.12357\tvalid_1's rmse: 3.65111\n",
      "[2200]\ttraining's rmse: 3.10937\tvalid_1's rmse: 3.65152\n",
      "Early stopping, best iteration is:\n",
      "[2087]\ttraining's rmse: 3.12531\tvalid_1's rmse: 3.65105\n",
      "CV score: 3.65161 \n"
     ]
    }
   ],
   "source": [
    "folds = StratifiedKFold(n_splits=5, shuffle=True, random_state=15)\n",
    "\n",
    "oof_lgb = np.zeros(len(train))\n",
    "predictions_lgb = np.zeros(len(test))\n",
    "feature_importance = pd.DataFrame()\n",
    "\n",
    "train_columns = [f for f in train.columns if f not in FEATS_EXCLUDED]\n",
    "\n",
    "for fold_, (trn_idx, val_idx) in enumerate(folds.split(train, train['outliers'].values)):    \n",
    "    print(\"fold n°{}\".format(fold_))\n",
    "    trn_data = lgb.Dataset(train.iloc[trn_idx][train_columns], label=train.iloc[trn_idx]['target'])\n",
    "    val_data = lgb.Dataset(train.iloc[val_idx][train_columns], label=train.iloc[val_idx]['target'])\n",
    "\n",
    "    num_round = 10000\n",
    "    clf = lgb.train(param, trn_data, num_round, valid_sets = [trn_data, val_data], verbose_eval=100, early_stopping_rounds = 200)\n",
    "    oof_lgb[val_idx] = clf.predict(train.iloc[val_idx][train_columns], num_iteration=clf.best_iteration)\n",
    "    \n",
    "    predictions_lgb += clf.predict(test[train_columns], num_iteration=clf.best_iteration) / folds.n_splits\n",
    "    \n",
    "    fold_importance = pd.DataFrame()\n",
    "    fold_importance[\"Feature\"] = train_columns\n",
    "    fold_importance[\"importance\"] = clf.feature_importance()\n",
    "    fold_importance[\"fold\"] = fold_ + 1\n",
    "    feature_importance = pd.concat([feature_importance, fold_importance], axis=0)\n",
    "    \n",
    "print(\"CV score: {:<8.5f}\".format(mean_squared_error(train.target.values, oof_lgb)**0.5))"
   ]
  },
  {
   "cell_type": "code",
   "execution_count": 11,
   "metadata": {
    "ExecuteTime": {
     "end_time": "2019-02-06T15:58:07.768967Z",
     "start_time": "2019-02-06T15:40:20.355161Z"
    }
   },
   "outputs": [
    {
     "name": "stdout",
     "output_type": "stream",
     "text": [
      "fold n°0\n",
      "Training until validation scores don't improve for 200 rounds.\n",
      "[100]\ttraining's rmse: 4.37729\tvalid_1's rmse: 4.48336\n",
      "[200]\ttraining's rmse: 4.20132\tvalid_1's rmse: 4.41881\n",
      "[300]\ttraining's rmse: 4.09083\tvalid_1's rmse: 4.40427\n",
      "[400]\ttraining's rmse: 4.01414\tvalid_1's rmse: 4.39889\n",
      "[500]\ttraining's rmse: 3.95348\tvalid_1's rmse: 4.39641\n",
      "[600]\ttraining's rmse: 3.90102\tvalid_1's rmse: 4.39408\n",
      "[700]\ttraining's rmse: 3.85493\tvalid_1's rmse: 4.3923\n",
      "[800]\ttraining's rmse: 3.81237\tvalid_1's rmse: 4.39143\n",
      "[900]\ttraining's rmse: 3.77291\tvalid_1's rmse: 4.39225\n",
      "Early stopping, best iteration is:\n",
      "[793]\ttraining's rmse: 3.81512\tvalid_1's rmse: 4.39137\n",
      "fold n°1\n",
      "Training until validation scores don't improve for 200 rounds.\n",
      "[100]\ttraining's rmse: 4.37377\tvalid_1's rmse: 4.50167\n",
      "[200]\ttraining's rmse: 4.19686\tvalid_1's rmse: 4.42827\n",
      "[300]\ttraining's rmse: 4.08735\tvalid_1's rmse: 4.40599\n",
      "[400]\ttraining's rmse: 4.01152\tvalid_1's rmse: 4.39848\n",
      "[500]\ttraining's rmse: 3.95058\tvalid_1's rmse: 4.39508\n",
      "[600]\ttraining's rmse: 3.89862\tvalid_1's rmse: 4.39253\n",
      "[700]\ttraining's rmse: 3.852\tvalid_1's rmse: 4.39194\n",
      "[800]\ttraining's rmse: 3.80843\tvalid_1's rmse: 4.3909\n",
      "[900]\ttraining's rmse: 3.76913\tvalid_1's rmse: 4.3913\n",
      "[1000]\ttraining's rmse: 3.73063\tvalid_1's rmse: 4.39062\n",
      "[1100]\ttraining's rmse: 3.69453\tvalid_1's rmse: 4.38986\n",
      "[1200]\ttraining's rmse: 3.66075\tvalid_1's rmse: 4.39035\n",
      "Early stopping, best iteration is:\n",
      "[1069]\ttraining's rmse: 3.70487\tvalid_1's rmse: 4.38963\n",
      "fold n°2\n",
      "Training until validation scores don't improve for 200 rounds.\n",
      "[100]\ttraining's rmse: 4.37435\tvalid_1's rmse: 4.50556\n",
      "[200]\ttraining's rmse: 4.19634\tvalid_1's rmse: 4.44524\n",
      "[300]\ttraining's rmse: 4.08383\tvalid_1's rmse: 4.42929\n",
      "[400]\ttraining's rmse: 4.00795\tvalid_1's rmse: 4.42228\n",
      "[500]\ttraining's rmse: 3.94994\tvalid_1's rmse: 4.41997\n",
      "[600]\ttraining's rmse: 3.89782\tvalid_1's rmse: 4.41892\n",
      "[700]\ttraining's rmse: 3.85384\tvalid_1's rmse: 4.41796\n",
      "[800]\ttraining's rmse: 3.81086\tvalid_1's rmse: 4.41719\n",
      "[900]\ttraining's rmse: 3.77171\tvalid_1's rmse: 4.41685\n",
      "[1000]\ttraining's rmse: 3.73387\tvalid_1's rmse: 4.41595\n",
      "[1100]\ttraining's rmse: 3.69803\tvalid_1's rmse: 4.41546\n",
      "[1200]\ttraining's rmse: 3.66442\tvalid_1's rmse: 4.41504\n",
      "[1300]\ttraining's rmse: 3.63136\tvalid_1's rmse: 4.41603\n",
      "Early stopping, best iteration is:\n",
      "[1169]\ttraining's rmse: 3.67516\tvalid_1's rmse: 4.41458\n",
      "fold n°3\n",
      "Training until validation scores don't improve for 200 rounds.\n",
      "[100]\ttraining's rmse: 4.37993\tvalid_1's rmse: 4.48797\n",
      "[200]\ttraining's rmse: 4.20509\tvalid_1's rmse: 4.42174\n",
      "[300]\ttraining's rmse: 4.09855\tvalid_1's rmse: 4.40003\n",
      "[400]\ttraining's rmse: 4.02125\tvalid_1's rmse: 4.39178\n",
      "[500]\ttraining's rmse: 3.96048\tvalid_1's rmse: 4.38907\n",
      "[600]\ttraining's rmse: 3.90764\tvalid_1's rmse: 4.38711\n",
      "[700]\ttraining's rmse: 3.85984\tvalid_1's rmse: 4.38653\n",
      "[800]\ttraining's rmse: 3.81735\tvalid_1's rmse: 4.3865\n",
      "[900]\ttraining's rmse: 3.7767\tvalid_1's rmse: 4.38676\n",
      "Early stopping, best iteration is:\n",
      "[778]\ttraining's rmse: 3.82609\tvalid_1's rmse: 4.38577\n",
      "fold n°4\n",
      "Training until validation scores don't improve for 200 rounds.\n",
      "[100]\ttraining's rmse: 4.37347\tvalid_1's rmse: 4.5038\n",
      "[200]\ttraining's rmse: 4.19783\tvalid_1's rmse: 4.44364\n",
      "[300]\ttraining's rmse: 4.08905\tvalid_1's rmse: 4.42708\n",
      "[400]\ttraining's rmse: 4.01395\tvalid_1's rmse: 4.42089\n",
      "[500]\ttraining's rmse: 3.95689\tvalid_1's rmse: 4.41981\n",
      "[600]\ttraining's rmse: 3.90525\tvalid_1's rmse: 4.41852\n",
      "[700]\ttraining's rmse: 3.85887\tvalid_1's rmse: 4.41798\n",
      "[800]\ttraining's rmse: 3.81523\tvalid_1's rmse: 4.41643\n",
      "[900]\ttraining's rmse: 3.77643\tvalid_1's rmse: 4.41744\n",
      "Early stopping, best iteration is:\n",
      "[755]\ttraining's rmse: 3.8341\tvalid_1's rmse: 4.41627\n",
      "CV score: 4.39954 \n"
     ]
    }
   ],
   "source": [
    "folds = StratifiedKFold(n_splits=5, shuffle=True, random_state=15)\n",
    "\n",
    "oof_lgb = np.zeros(len(train_neg))\n",
    "predictions_lgb_neg = np.zeros(len(test))\n",
    "feature_importance = pd.DataFrame()\n",
    "\n",
    "train_columns = [f for f in train_neg.columns if f not in FEATS_EXCLUDED]\n",
    "\n",
    "for fold_, (trn_idx, val_idx) in enumerate(folds.split(train_neg, train_neg['outliers'].values)):    \n",
    "    print(\"fold n°{}\".format(fold_))\n",
    "    trn_data = lgb.Dataset(train_neg.iloc[trn_idx][train_columns], label=train_neg.iloc[trn_idx]['target'])\n",
    "    val_data = lgb.Dataset(train_neg.iloc[val_idx][train_columns], label=train_neg.iloc[val_idx]['target'])\n",
    "\n",
    "    num_round = 10000\n",
    "    clf = lgb.train(param, trn_data, num_round, valid_sets = [trn_data, val_data], verbose_eval=100, early_stopping_rounds = 200)\n",
    "    oof_lgb[val_idx] = clf.predict(train_neg.iloc[val_idx][train_columns], num_iteration=clf.best_iteration)\n",
    "    \n",
    "    predictions_lgb_neg += clf.predict(test[train_columns], num_iteration=clf.best_iteration) / folds.n_splits\n",
    "    \n",
    "    fold_importance = pd.DataFrame()\n",
    "    fold_importance[\"Feature\"] = train_columns\n",
    "    fold_importance[\"importance\"] = clf.feature_importance()\n",
    "    fold_importance[\"fold\"] = fold_ + 1\n",
    "    feature_importance = pd.concat([feature_importance, fold_importance], axis=0)\n",
    "    \n",
    "print(\"CV score: {:<8.5f}\".format(mean_squared_error(train_neg.target.values, oof_lgb)**0.5))"
   ]
  },
  {
   "cell_type": "code",
   "execution_count": 12,
   "metadata": {
    "ExecuteTime": {
     "end_time": "2019-02-06T15:58:07.768967Z",
     "start_time": "2019-02-06T15:40:20.355161Z"
    },
    "scrolled": false
   },
   "outputs": [
    {
     "name": "stdout",
     "output_type": "stream",
     "text": [
      "fold n°0\n",
      "Training until validation scores don't improve for 200 rounds.\n",
      "[100]\ttraining's rmse: 1.09163\tvalid_1's rmse: 1.12028\n",
      "[200]\ttraining's rmse: 1.05349\tvalid_1's rmse: 1.0887\n",
      "[300]\ttraining's rmse: 1.03405\tvalid_1's rmse: 1.07696\n",
      "[400]\ttraining's rmse: 1.02055\tvalid_1's rmse: 1.07118\n",
      "[500]\ttraining's rmse: 1.00977\tvalid_1's rmse: 1.06757\n",
      "[600]\ttraining's rmse: 1.00037\tvalid_1's rmse: 1.06554\n",
      "[700]\ttraining's rmse: 0.991945\tvalid_1's rmse: 1.06445\n",
      "[800]\ttraining's rmse: 0.984353\tvalid_1's rmse: 1.06328\n",
      "[900]\ttraining's rmse: 0.977305\tvalid_1's rmse: 1.06244\n",
      "[1000]\ttraining's rmse: 0.970732\tvalid_1's rmse: 1.06198\n",
      "[1100]\ttraining's rmse: 0.964622\tvalid_1's rmse: 1.06162\n",
      "[1200]\ttraining's rmse: 0.958608\tvalid_1's rmse: 1.06127\n",
      "[1300]\ttraining's rmse: 0.9528\tvalid_1's rmse: 1.06094\n",
      "[1400]\ttraining's rmse: 0.947226\tvalid_1's rmse: 1.06065\n",
      "[1500]\ttraining's rmse: 0.941975\tvalid_1's rmse: 1.0606\n",
      "[1600]\ttraining's rmse: 0.936464\tvalid_1's rmse: 1.06038\n",
      "[1700]\ttraining's rmse: 0.931153\tvalid_1's rmse: 1.0602\n",
      "[1800]\ttraining's rmse: 0.925959\tvalid_1's rmse: 1.06006\n",
      "[1900]\ttraining's rmse: 0.920989\tvalid_1's rmse: 1.05996\n",
      "[2000]\ttraining's rmse: 0.916046\tvalid_1's rmse: 1.05977\n",
      "[2100]\ttraining's rmse: 0.911188\tvalid_1's rmse: 1.0597\n",
      "[2200]\ttraining's rmse: 0.906453\tvalid_1's rmse: 1.0597\n",
      "[2300]\ttraining's rmse: 0.901634\tvalid_1's rmse: 1.05976\n",
      "Early stopping, best iteration is:\n",
      "[2145]\ttraining's rmse: 0.909072\tvalid_1's rmse: 1.05963\n",
      "fold n°1\n",
      "Training until validation scores don't improve for 200 rounds.\n",
      "[100]\ttraining's rmse: 1.09754\tvalid_1's rmse: 1.09493\n",
      "[200]\ttraining's rmse: 1.05901\tvalid_1's rmse: 1.0654\n",
      "[300]\ttraining's rmse: 1.03919\tvalid_1's rmse: 1.05438\n",
      "[400]\ttraining's rmse: 1.02534\tvalid_1's rmse: 1.04864\n",
      "[500]\ttraining's rmse: 1.01416\tvalid_1's rmse: 1.04544\n",
      "[600]\ttraining's rmse: 1.00452\tvalid_1's rmse: 1.04325\n",
      "[700]\ttraining's rmse: 0.996102\tvalid_1's rmse: 1.04207\n",
      "[800]\ttraining's rmse: 0.988378\tvalid_1's rmse: 1.04119\n",
      "[900]\ttraining's rmse: 0.981211\tvalid_1's rmse: 1.04062\n",
      "[1000]\ttraining's rmse: 0.974374\tvalid_1's rmse: 1.04006\n",
      "[1100]\ttraining's rmse: 0.968183\tvalid_1's rmse: 1.03975\n",
      "[1200]\ttraining's rmse: 0.961936\tvalid_1's rmse: 1.03934\n",
      "[1300]\ttraining's rmse: 0.956164\tvalid_1's rmse: 1.0391\n",
      "[1400]\ttraining's rmse: 0.950424\tvalid_1's rmse: 1.03898\n",
      "[1500]\ttraining's rmse: 0.944995\tvalid_1's rmse: 1.03868\n",
      "[1600]\ttraining's rmse: 0.939454\tvalid_1's rmse: 1.03861\n",
      "[1700]\ttraining's rmse: 0.934263\tvalid_1's rmse: 1.03853\n",
      "[1800]\ttraining's rmse: 0.929024\tvalid_1's rmse: 1.03848\n",
      "[1900]\ttraining's rmse: 0.923971\tvalid_1's rmse: 1.03845\n",
      "[2000]\ttraining's rmse: 0.919061\tvalid_1's rmse: 1.03834\n",
      "[2100]\ttraining's rmse: 0.914119\tvalid_1's rmse: 1.03833\n",
      "[2200]\ttraining's rmse: 0.909265\tvalid_1's rmse: 1.0384\n",
      "Early stopping, best iteration is:\n",
      "[2033]\ttraining's rmse: 0.917434\tvalid_1's rmse: 1.03832\n",
      "fold n°2\n",
      "Training until validation scores don't improve for 200 rounds.\n",
      "[100]\ttraining's rmse: 1.09437\tvalid_1's rmse: 1.1038\n",
      "[200]\ttraining's rmse: 1.05544\tvalid_1's rmse: 1.07561\n",
      "[300]\ttraining's rmse: 1.03553\tvalid_1's rmse: 1.06586\n",
      "[400]\ttraining's rmse: 1.02177\tvalid_1's rmse: 1.06162\n",
      "[500]\ttraining's rmse: 1.01063\tvalid_1's rmse: 1.05891\n",
      "[600]\ttraining's rmse: 1.00099\tvalid_1's rmse: 1.05697\n",
      "[700]\ttraining's rmse: 0.9925\tvalid_1's rmse: 1.05576\n",
      "[800]\ttraining's rmse: 0.984728\tvalid_1's rmse: 1.05496\n",
      "[900]\ttraining's rmse: 0.977475\tvalid_1's rmse: 1.05441\n",
      "[1000]\ttraining's rmse: 0.970603\tvalid_1's rmse: 1.05399\n",
      "[1100]\ttraining's rmse: 0.964276\tvalid_1's rmse: 1.0537\n",
      "[1200]\ttraining's rmse: 0.958017\tvalid_1's rmse: 1.05332\n",
      "[1300]\ttraining's rmse: 0.952074\tvalid_1's rmse: 1.05298\n",
      "[1400]\ttraining's rmse: 0.946303\tvalid_1's rmse: 1.05283\n",
      "[1500]\ttraining's rmse: 0.940588\tvalid_1's rmse: 1.05273\n",
      "[1600]\ttraining's rmse: 0.935077\tvalid_1's rmse: 1.0526\n",
      "[1700]\ttraining's rmse: 0.929724\tvalid_1's rmse: 1.05246\n",
      "[1800]\ttraining's rmse: 0.924453\tvalid_1's rmse: 1.05249\n",
      "[1900]\ttraining's rmse: 0.919307\tvalid_1's rmse: 1.05248\n",
      "Early stopping, best iteration is:\n",
      "[1735]\ttraining's rmse: 0.927915\tvalid_1's rmse: 1.05239\n",
      "fold n°3\n",
      "Training until validation scores don't improve for 200 rounds.\n",
      "[100]\ttraining's rmse: 1.08908\tvalid_1's rmse: 1.12809\n",
      "[200]\ttraining's rmse: 1.05014\tvalid_1's rmse: 1.09896\n",
      "[300]\ttraining's rmse: 1.03018\tvalid_1's rmse: 1.08832\n",
      "[400]\ttraining's rmse: 1.01649\tvalid_1's rmse: 1.08359\n",
      "[500]\ttraining's rmse: 1.00522\tvalid_1's rmse: 1.08054\n",
      "[600]\ttraining's rmse: 0.995673\tvalid_1's rmse: 1.07868\n",
      "[700]\ttraining's rmse: 0.987246\tvalid_1's rmse: 1.07751\n",
      "[800]\ttraining's rmse: 0.979574\tvalid_1's rmse: 1.07679\n",
      "[900]\ttraining's rmse: 0.972377\tvalid_1's rmse: 1.07623\n",
      "[1000]\ttraining's rmse: 0.965659\tvalid_1's rmse: 1.0759\n",
      "[1100]\ttraining's rmse: 0.959386\tvalid_1's rmse: 1.07572\n",
      "[1200]\ttraining's rmse: 0.953318\tvalid_1's rmse: 1.07555\n",
      "[1300]\ttraining's rmse: 0.947382\tvalid_1's rmse: 1.07547\n",
      "[1400]\ttraining's rmse: 0.941721\tvalid_1's rmse: 1.07546\n",
      "[1500]\ttraining's rmse: 0.936307\tvalid_1's rmse: 1.07534\n",
      "[1600]\ttraining's rmse: 0.930973\tvalid_1's rmse: 1.07526\n",
      "[1700]\ttraining's rmse: 0.925746\tvalid_1's rmse: 1.07518\n",
      "[1800]\ttraining's rmse: 0.920672\tvalid_1's rmse: 1.07517\n",
      "[1900]\ttraining's rmse: 0.915672\tvalid_1's rmse: 1.07516\n",
      "[2000]\ttraining's rmse: 0.910599\tvalid_1's rmse: 1.07504\n",
      "[2100]\ttraining's rmse: 0.905666\tvalid_1's rmse: 1.07511\n",
      "Early stopping, best iteration is:\n",
      "[1984]\ttraining's rmse: 0.911364\tvalid_1's rmse: 1.07498\n",
      "fold n°4\n",
      "Training until validation scores don't improve for 200 rounds.\n",
      "[100]\ttraining's rmse: 1.10119\tvalid_1's rmse: 1.07645\n",
      "[200]\ttraining's rmse: 1.06192\tvalid_1's rmse: 1.04842\n",
      "[300]\ttraining's rmse: 1.04197\tvalid_1's rmse: 1.03818\n",
      "[400]\ttraining's rmse: 1.02819\tvalid_1's rmse: 1.03345\n",
      "[500]\ttraining's rmse: 1.01697\tvalid_1's rmse: 1.03051\n",
      "[600]\ttraining's rmse: 1.00732\tvalid_1's rmse: 1.02848\n",
      "[700]\ttraining's rmse: 0.998847\tvalid_1's rmse: 1.0272\n",
      "[800]\ttraining's rmse: 0.991111\tvalid_1's rmse: 1.0264\n",
      "[900]\ttraining's rmse: 0.983879\tvalid_1's rmse: 1.02572\n",
      "[1000]\ttraining's rmse: 0.976983\tvalid_1's rmse: 1.02536\n",
      "[1100]\ttraining's rmse: 0.970436\tvalid_1's rmse: 1.02499\n",
      "[1200]\ttraining's rmse: 0.964287\tvalid_1's rmse: 1.0248\n",
      "[1300]\ttraining's rmse: 0.95818\tvalid_1's rmse: 1.02447\n",
      "[1400]\ttraining's rmse: 0.952417\tvalid_1's rmse: 1.02441\n",
      "[1500]\ttraining's rmse: 0.94687\tvalid_1's rmse: 1.02428\n",
      "[1600]\ttraining's rmse: 0.941462\tvalid_1's rmse: 1.02428\n",
      "[1700]\ttraining's rmse: 0.93601\tvalid_1's rmse: 1.0242\n",
      "Early stopping, best iteration is:\n",
      "[1554]\ttraining's rmse: 0.943914\tvalid_1's rmse: 1.02418\n",
      "CV score: 1.05005 \n"
     ]
    }
   ],
   "source": [
    "folds = StratifiedKFold(n_splits=5, shuffle=True, random_state=15)\n",
    "\n",
    "oof_lgb = np.zeros(len(train_pos))\n",
    "predictions_lgb_pos = np.zeros(len(test))\n",
    "feature_importance = pd.DataFrame()\n",
    "\n",
    "train_columns = [f for f in train_pos.columns if f not in FEATS_EXCLUDED]\n",
    "\n",
    "for fold_, (trn_idx, val_idx) in enumerate(folds.split(train_pos, train_pos['outliers'].values)):    \n",
    "    print(\"fold n°{}\".format(fold_))\n",
    "    trn_data = lgb.Dataset(train_pos.iloc[trn_idx][train_columns], label=train_pos.iloc[trn_idx]['target'])\n",
    "    val_data = lgb.Dataset(train_pos.iloc[val_idx][train_columns], label=train_pos.iloc[val_idx]['target'])\n",
    "\n",
    "    num_round = 10000\n",
    "    clf = lgb.train(param, trn_data, num_round, valid_sets = [trn_data, val_data], verbose_eval=100, early_stopping_rounds = 200)\n",
    "    oof_lgb[val_idx] = clf.predict(train_pos.iloc[val_idx][train_columns], num_iteration=clf.best_iteration)\n",
    "    \n",
    "    predictions_lgb_pos += clf.predict(test[train_columns], num_iteration=clf.best_iteration) / folds.n_splits\n",
    "    \n",
    "    fold_importance = pd.DataFrame()\n",
    "    fold_importance[\"Feature\"] = train_columns\n",
    "    fold_importance[\"importance\"] = clf.feature_importance()\n",
    "    fold_importance[\"fold\"] = fold_ + 1\n",
    "    feature_importance = pd.concat([feature_importance, fold_importance], axis=0)\n",
    "    \n",
    "print(\"CV score: {:<8.5f}\".format(mean_squared_error(train_pos.target.values, oof_lgb)**0.5))"
   ]
  },
  {
   "cell_type": "code",
   "execution_count": 13,
   "metadata": {
    "ExecuteTime": {
     "end_time": "2019-02-06T15:58:07.768967Z",
     "start_time": "2019-02-06T15:40:20.355161Z"
    },
    "scrolled": false
   },
   "outputs": [
    {
     "name": "stdout",
     "output_type": "stream",
     "text": [
      "fold n°0\n",
      "Training until validation scores don't improve for 200 rounds.\n",
      "[100]\ttraining's rmse: 1.60508\tvalid_1's rmse: 1.61676\n",
      "[200]\ttraining's rmse: 1.57258\tvalid_1's rmse: 1.58947\n",
      "[300]\ttraining's rmse: 1.5569\tvalid_1's rmse: 1.57843\n",
      "[400]\ttraining's rmse: 1.54652\tvalid_1's rmse: 1.57278\n",
      "[500]\ttraining's rmse: 1.53831\tvalid_1's rmse: 1.56901\n",
      "[600]\ttraining's rmse: 1.53133\tvalid_1's rmse: 1.56669\n",
      "[700]\ttraining's rmse: 1.52511\tvalid_1's rmse: 1.56515\n",
      "[800]\ttraining's rmse: 1.51955\tvalid_1's rmse: 1.56427\n",
      "[900]\ttraining's rmse: 1.51443\tvalid_1's rmse: 1.5636\n",
      "[1000]\ttraining's rmse: 1.50958\tvalid_1's rmse: 1.56307\n",
      "[1100]\ttraining's rmse: 1.50494\tvalid_1's rmse: 1.56258\n",
      "[1200]\ttraining's rmse: 1.50054\tvalid_1's rmse: 1.56232\n",
      "[1300]\ttraining's rmse: 1.49619\tvalid_1's rmse: 1.56206\n",
      "[1400]\ttraining's rmse: 1.492\tvalid_1's rmse: 1.5618\n",
      "[1500]\ttraining's rmse: 1.4879\tvalid_1's rmse: 1.56166\n",
      "[1600]\ttraining's rmse: 1.48388\tvalid_1's rmse: 1.56144\n",
      "[1700]\ttraining's rmse: 1.47992\tvalid_1's rmse: 1.56131\n",
      "[1800]\ttraining's rmse: 1.47591\tvalid_1's rmse: 1.56122\n",
      "[1900]\ttraining's rmse: 1.47199\tvalid_1's rmse: 1.5611\n",
      "[2000]\ttraining's rmse: 1.46814\tvalid_1's rmse: 1.56108\n",
      "[2100]\ttraining's rmse: 1.46424\tvalid_1's rmse: 1.56107\n",
      "[2200]\ttraining's rmse: 1.46048\tvalid_1's rmse: 1.56106\n",
      "Early stopping, best iteration is:\n",
      "[2009]\ttraining's rmse: 1.46783\tvalid_1's rmse: 1.56104\n",
      "fold n°1\n",
      "Training until validation scores don't improve for 200 rounds.\n",
      "[100]\ttraining's rmse: 1.60584\tvalid_1's rmse: 1.61461\n",
      "[200]\ttraining's rmse: 1.57339\tvalid_1's rmse: 1.58669\n",
      "[300]\ttraining's rmse: 1.55754\tvalid_1's rmse: 1.5757\n",
      "[400]\ttraining's rmse: 1.54694\tvalid_1's rmse: 1.57008\n",
      "[500]\ttraining's rmse: 1.53863\tvalid_1's rmse: 1.56661\n",
      "[600]\ttraining's rmse: 1.53148\tvalid_1's rmse: 1.56436\n",
      "[700]\ttraining's rmse: 1.52518\tvalid_1's rmse: 1.56301\n",
      "[800]\ttraining's rmse: 1.51953\tvalid_1's rmse: 1.56204\n",
      "[900]\ttraining's rmse: 1.51431\tvalid_1's rmse: 1.56134\n",
      "[1000]\ttraining's rmse: 1.50943\tvalid_1's rmse: 1.56088\n",
      "[1100]\ttraining's rmse: 1.50482\tvalid_1's rmse: 1.56052\n",
      "[1200]\ttraining's rmse: 1.50026\tvalid_1's rmse: 1.56021\n",
      "[1300]\ttraining's rmse: 1.49585\tvalid_1's rmse: 1.55998\n",
      "[1400]\ttraining's rmse: 1.49155\tvalid_1's rmse: 1.5597\n",
      "[1500]\ttraining's rmse: 1.48751\tvalid_1's rmse: 1.5596\n",
      "[1600]\ttraining's rmse: 1.48351\tvalid_1's rmse: 1.55945\n",
      "[1700]\ttraining's rmse: 1.47957\tvalid_1's rmse: 1.55936\n",
      "[1800]\ttraining's rmse: 1.47572\tvalid_1's rmse: 1.55924\n",
      "[1900]\ttraining's rmse: 1.47172\tvalid_1's rmse: 1.55916\n",
      "[2000]\ttraining's rmse: 1.46794\tvalid_1's rmse: 1.55911\n",
      "[2100]\ttraining's rmse: 1.46406\tvalid_1's rmse: 1.55906\n",
      "[2200]\ttraining's rmse: 1.4604\tvalid_1's rmse: 1.55904\n",
      "[2300]\ttraining's rmse: 1.45669\tvalid_1's rmse: 1.55894\n",
      "[2400]\ttraining's rmse: 1.453\tvalid_1's rmse: 1.5589\n",
      "[2500]\ttraining's rmse: 1.44937\tvalid_1's rmse: 1.55896\n",
      "Early stopping, best iteration is:\n",
      "[2340]\ttraining's rmse: 1.45518\tvalid_1's rmse: 1.55886\n",
      "fold n°2\n",
      "Training until validation scores don't improve for 200 rounds.\n",
      "[100]\ttraining's rmse: 1.61072\tvalid_1's rmse: 1.59327\n",
      "[200]\ttraining's rmse: 1.57845\tvalid_1's rmse: 1.56552\n",
      "[300]\ttraining's rmse: 1.56276\tvalid_1's rmse: 1.55478\n",
      "[400]\ttraining's rmse: 1.55234\tvalid_1's rmse: 1.54917\n",
      "[500]\ttraining's rmse: 1.54409\tvalid_1's rmse: 1.54587\n",
      "[600]\ttraining's rmse: 1.53698\tvalid_1's rmse: 1.54351\n",
      "[700]\ttraining's rmse: 1.53075\tvalid_1's rmse: 1.54193\n",
      "[800]\ttraining's rmse: 1.52514\tvalid_1's rmse: 1.54095\n",
      "[900]\ttraining's rmse: 1.51991\tvalid_1's rmse: 1.54028\n",
      "[1000]\ttraining's rmse: 1.51496\tvalid_1's rmse: 1.5397\n",
      "[1100]\ttraining's rmse: 1.5103\tvalid_1's rmse: 1.53929\n",
      "[1200]\ttraining's rmse: 1.50583\tvalid_1's rmse: 1.53903\n",
      "[1300]\ttraining's rmse: 1.50156\tvalid_1's rmse: 1.53884\n",
      "[1400]\ttraining's rmse: 1.49735\tvalid_1's rmse: 1.53867\n",
      "[1500]\ttraining's rmse: 1.49316\tvalid_1's rmse: 1.53842\n",
      "[1600]\ttraining's rmse: 1.48908\tvalid_1's rmse: 1.53824\n",
      "[1700]\ttraining's rmse: 1.48513\tvalid_1's rmse: 1.5382\n",
      "[1800]\ttraining's rmse: 1.48117\tvalid_1's rmse: 1.53814\n",
      "[1900]\ttraining's rmse: 1.47719\tvalid_1's rmse: 1.53812\n",
      "[2000]\ttraining's rmse: 1.47332\tvalid_1's rmse: 1.53811\n",
      "[2100]\ttraining's rmse: 1.46949\tvalid_1's rmse: 1.53796\n",
      "[2200]\ttraining's rmse: 1.46578\tvalid_1's rmse: 1.53788\n",
      "[2300]\ttraining's rmse: 1.46198\tvalid_1's rmse: 1.53771\n",
      "[2400]\ttraining's rmse: 1.45823\tvalid_1's rmse: 1.53766\n",
      "[2500]\ttraining's rmse: 1.45458\tvalid_1's rmse: 1.53766\n",
      "[2600]\ttraining's rmse: 1.45098\tvalid_1's rmse: 1.53763\n",
      "[2700]\ttraining's rmse: 1.44753\tvalid_1's rmse: 1.53766\n",
      "[2800]\ttraining's rmse: 1.44397\tvalid_1's rmse: 1.53755\n",
      "[2900]\ttraining's rmse: 1.44049\tvalid_1's rmse: 1.53756\n",
      "[3000]\ttraining's rmse: 1.43708\tvalid_1's rmse: 1.53756\n",
      "Early stopping, best iteration is:\n",
      "[2827]\ttraining's rmse: 1.44299\tvalid_1's rmse: 1.53752\n",
      "fold n°3\n",
      "Training until validation scores don't improve for 200 rounds.\n",
      "[100]\ttraining's rmse: 1.60593\tvalid_1's rmse: 1.61355\n",
      "[200]\ttraining's rmse: 1.57368\tvalid_1's rmse: 1.58562\n",
      "[300]\ttraining's rmse: 1.55802\tvalid_1's rmse: 1.57458\n",
      "[400]\ttraining's rmse: 1.54765\tvalid_1's rmse: 1.569\n",
      "[500]\ttraining's rmse: 1.53949\tvalid_1's rmse: 1.56552\n",
      "[600]\ttraining's rmse: 1.53253\tvalid_1's rmse: 1.56334\n",
      "[700]\ttraining's rmse: 1.52628\tvalid_1's rmse: 1.56195\n",
      "[800]\ttraining's rmse: 1.52065\tvalid_1's rmse: 1.56101\n",
      "[900]\ttraining's rmse: 1.51555\tvalid_1's rmse: 1.56044\n",
      "[1000]\ttraining's rmse: 1.51064\tvalid_1's rmse: 1.55996\n",
      "[1100]\ttraining's rmse: 1.50611\tvalid_1's rmse: 1.55967\n",
      "[1200]\ttraining's rmse: 1.50167\tvalid_1's rmse: 1.55953\n",
      "[1300]\ttraining's rmse: 1.49734\tvalid_1's rmse: 1.55922\n",
      "[1400]\ttraining's rmse: 1.49322\tvalid_1's rmse: 1.55908\n",
      "[1500]\ttraining's rmse: 1.48899\tvalid_1's rmse: 1.55898\n",
      "[1600]\ttraining's rmse: 1.48502\tvalid_1's rmse: 1.55893\n",
      "[1700]\ttraining's rmse: 1.48107\tvalid_1's rmse: 1.55866\n",
      "[1800]\ttraining's rmse: 1.47718\tvalid_1's rmse: 1.55857\n",
      "[1900]\ttraining's rmse: 1.47327\tvalid_1's rmse: 1.55847\n",
      "[2000]\ttraining's rmse: 1.46946\tvalid_1's rmse: 1.55835\n",
      "[2100]\ttraining's rmse: 1.46566\tvalid_1's rmse: 1.55827\n",
      "[2200]\ttraining's rmse: 1.46196\tvalid_1's rmse: 1.55813\n",
      "[2300]\ttraining's rmse: 1.45828\tvalid_1's rmse: 1.55807\n",
      "[2400]\ttraining's rmse: 1.4545\tvalid_1's rmse: 1.55808\n",
      "[2500]\ttraining's rmse: 1.45083\tvalid_1's rmse: 1.55801\n",
      "[2600]\ttraining's rmse: 1.44723\tvalid_1's rmse: 1.55799\n",
      "[2700]\ttraining's rmse: 1.44368\tvalid_1's rmse: 1.55795\n",
      "Early stopping, best iteration is:\n",
      "[2561]\ttraining's rmse: 1.44862\tvalid_1's rmse: 1.5579\n",
      "fold n°4\n",
      "Training until validation scores don't improve for 200 rounds.\n",
      "[100]\ttraining's rmse: 1.60496\tvalid_1's rmse: 1.61764\n",
      "[200]\ttraining's rmse: 1.5728\tvalid_1's rmse: 1.58927\n",
      "[300]\ttraining's rmse: 1.55708\tvalid_1's rmse: 1.57802\n",
      "[400]\ttraining's rmse: 1.5467\tvalid_1's rmse: 1.57251\n",
      "[500]\ttraining's rmse: 1.53848\tvalid_1's rmse: 1.56926\n",
      "[600]\ttraining's rmse: 1.53131\tvalid_1's rmse: 1.56703\n",
      "[700]\ttraining's rmse: 1.5251\tvalid_1's rmse: 1.56561\n",
      "[800]\ttraining's rmse: 1.51946\tvalid_1's rmse: 1.56454\n",
      "[900]\ttraining's rmse: 1.51439\tvalid_1's rmse: 1.56397\n",
      "[1000]\ttraining's rmse: 1.50963\tvalid_1's rmse: 1.56345\n",
      "[1100]\ttraining's rmse: 1.50491\tvalid_1's rmse: 1.56295\n",
      "[1200]\ttraining's rmse: 1.50048\tvalid_1's rmse: 1.5627\n",
      "[1300]\ttraining's rmse: 1.49605\tvalid_1's rmse: 1.56248\n",
      "[1400]\ttraining's rmse: 1.49174\tvalid_1's rmse: 1.56232\n",
      "[1500]\ttraining's rmse: 1.48761\tvalid_1's rmse: 1.56223\n",
      "[1600]\ttraining's rmse: 1.48359\tvalid_1's rmse: 1.56199\n",
      "[1700]\ttraining's rmse: 1.47965\tvalid_1's rmse: 1.56192\n",
      "[1800]\ttraining's rmse: 1.47565\tvalid_1's rmse: 1.56176\n",
      "[1900]\ttraining's rmse: 1.47187\tvalid_1's rmse: 1.56168\n",
      "[2000]\ttraining's rmse: 1.46798\tvalid_1's rmse: 1.56154\n",
      "[2100]\ttraining's rmse: 1.4641\tvalid_1's rmse: 1.56138\n",
      "[2200]\ttraining's rmse: 1.46037\tvalid_1's rmse: 1.56136\n",
      "[2300]\ttraining's rmse: 1.45658\tvalid_1's rmse: 1.56128\n",
      "[2400]\ttraining's rmse: 1.45303\tvalid_1's rmse: 1.56124\n",
      "[2500]\ttraining's rmse: 1.4494\tvalid_1's rmse: 1.56122\n",
      "[2600]\ttraining's rmse: 1.44584\tvalid_1's rmse: 1.56117\n",
      "[2700]\ttraining's rmse: 1.44221\tvalid_1's rmse: 1.56117\n",
      "[2800]\ttraining's rmse: 1.4387\tvalid_1's rmse: 1.5611\n",
      "[2900]\ttraining's rmse: 1.43526\tvalid_1's rmse: 1.56115\n",
      "Early stopping, best iteration is:\n",
      "[2783]\ttraining's rmse: 1.4393\tvalid_1's rmse: 1.56109\n",
      "CV score: 1.55531 \n"
     ]
    }
   ],
   "source": [
    "folds = StratifiedKFold(n_splits=5, shuffle=True, random_state=15)\n",
    "\n",
    "oof_lgb = np.zeros(len(train_without_outliers))\n",
    "predictions_lgb_without_outliers = np.zeros(len(test))\n",
    "feature_importance = pd.DataFrame()\n",
    "\n",
    "train_columns = [f for f in train_without_outliers.columns if f not in FEATS_EXCLUDED]\n",
    "\n",
    "for fold_, (trn_idx, val_idx) in enumerate(folds.split(train_without_outliers, train_without_outliers['outliers'].values)):    \n",
    "    print(\"fold n°{}\".format(fold_))\n",
    "    trn_data = lgb.Dataset(train_without_outliers.iloc[trn_idx][train_columns], label=train_without_outliers.iloc[trn_idx]['target'])\n",
    "    val_data = lgb.Dataset(train_without_outliers.iloc[val_idx][train_columns], label=train_without_outliers.iloc[val_idx]['target'])\n",
    "\n",
    "    num_round = 10000\n",
    "    clf = lgb.train(param, trn_data, num_round, valid_sets = [trn_data, val_data], verbose_eval=100, early_stopping_rounds = 200)\n",
    "    oof_lgb[val_idx] = clf.predict(train_without_outliers.iloc[val_idx][train_columns], num_iteration=clf.best_iteration)\n",
    "    \n",
    "    predictions_lgb_without_outliers += clf.predict(test[train_columns], num_iteration=clf.best_iteration) / folds.n_splits\n",
    "    \n",
    "    fold_importance = pd.DataFrame()\n",
    "    fold_importance[\"Feature\"] = train_columns\n",
    "    fold_importance[\"importance\"] = clf.feature_importance()\n",
    "    fold_importance[\"fold\"] = fold_ + 1\n",
    "    feature_importance = pd.concat([feature_importance, fold_importance], axis=0)\n",
    "    \n",
    "print(\"CV score: {:<8.5f}\".format(mean_squared_error(train_without_outliers.target.values, oof_lgb)**0.5))"
   ]
  },
  {
   "cell_type": "code",
   "execution_count": 156,
   "metadata": {
    "ExecuteTime": {
     "end_time": "2019-02-06T17:49:57.440209Z",
     "start_time": "2019-02-06T17:49:57.434222Z"
    }
   },
   "outputs": [],
   "source": [
    "t1 = pd.DataFrame({\"normal\":predictions_lgb, \"neg\":predictions_lgb_neg, \"pos\":predictions_lgb_pos, \"outlier\":predictions_lgb_without_outliers})"
   ]
  },
  {
   "cell_type": "code",
   "execution_count": 157,
   "metadata": {
    "ExecuteTime": {
     "end_time": "2019-02-06T17:49:57.769391Z",
     "start_time": "2019-02-06T17:49:57.762409Z"
    }
   },
   "outputs": [],
   "source": [
    "t1['new'] = (t1.neg + t1.pos) / 2"
   ]
  },
  {
   "cell_type": "code",
   "execution_count": 158,
   "metadata": {
    "ExecuteTime": {
     "end_time": "2019-02-06T17:49:58.482305Z",
     "start_time": "2019-02-06T17:49:58.415483Z"
    }
   },
   "outputs": [
    {
     "data": {
      "text/html": [
       "<div>\n",
       "<style scoped>\n",
       "    .dataframe tbody tr th:only-of-type {\n",
       "        vertical-align: middle;\n",
       "    }\n",
       "\n",
       "    .dataframe tbody tr th {\n",
       "        vertical-align: top;\n",
       "    }\n",
       "\n",
       "    .dataframe thead th {\n",
       "        text-align: right;\n",
       "    }\n",
       "</style>\n",
       "<table border=\"1\" class=\"dataframe\">\n",
       "  <thead>\n",
       "    <tr style=\"text-align: right;\">\n",
       "      <th></th>\n",
       "      <th>normal</th>\n",
       "      <th>neg</th>\n",
       "      <th>pos</th>\n",
       "      <th>outlier</th>\n",
       "      <th>new</th>\n",
       "    </tr>\n",
       "  </thead>\n",
       "  <tbody>\n",
       "    <tr>\n",
       "      <th>count</th>\n",
       "      <td>123623.000000</td>\n",
       "      <td>123623.000000</td>\n",
       "      <td>123623.000000</td>\n",
       "      <td>123623.000000</td>\n",
       "      <td>123623.000000</td>\n",
       "    </tr>\n",
       "    <tr>\n",
       "      <th>mean</th>\n",
       "      <td>-0.394675</td>\n",
       "      <td>-1.913839</td>\n",
       "      <td>1.036633</td>\n",
       "      <td>-0.029702</td>\n",
       "      <td>-0.438603</td>\n",
       "    </tr>\n",
       "    <tr>\n",
       "      <th>std</th>\n",
       "      <td>1.185794</td>\n",
       "      <td>1.831866</td>\n",
       "      <td>0.577003</td>\n",
       "      <td>0.712724</td>\n",
       "      <td>0.855673</td>\n",
       "    </tr>\n",
       "    <tr>\n",
       "      <th>min</th>\n",
       "      <td>-21.561490</td>\n",
       "      <td>-28.058831</td>\n",
       "      <td>-0.096679</td>\n",
       "      <td>-4.386942</td>\n",
       "      <td>-13.277049</td>\n",
       "    </tr>\n",
       "    <tr>\n",
       "      <th>25%</th>\n",
       "      <td>-0.646938</td>\n",
       "      <td>-1.984022</td>\n",
       "      <td>0.619404</td>\n",
       "      <td>-0.452410</td>\n",
       "      <td>-0.441549</td>\n",
       "    </tr>\n",
       "    <tr>\n",
       "      <th>50%</th>\n",
       "      <td>-0.211090</td>\n",
       "      <td>-1.388727</td>\n",
       "      <td>0.851169</td>\n",
       "      <td>-0.071796</td>\n",
       "      <td>-0.217155</td>\n",
       "    </tr>\n",
       "    <tr>\n",
       "      <th>75%</th>\n",
       "      <td>0.166128</td>\n",
       "      <td>-1.033168</td>\n",
       "      <td>1.295027</td>\n",
       "      <td>0.361093</td>\n",
       "      <td>-0.100269</td>\n",
       "    </tr>\n",
       "    <tr>\n",
       "      <th>max</th>\n",
       "      <td>3.204042</td>\n",
       "      <td>-0.371032</td>\n",
       "      <td>6.514404</td>\n",
       "      <td>4.793803</td>\n",
       "      <td>1.819758</td>\n",
       "    </tr>\n",
       "  </tbody>\n",
       "</table>\n",
       "</div>"
      ],
      "text/plain": [
       "              normal            neg            pos        outlier  \\\n",
       "count  123623.000000  123623.000000  123623.000000  123623.000000   \n",
       "mean       -0.394675      -1.913839       1.036633      -0.029702   \n",
       "std         1.185794       1.831866       0.577003       0.712724   \n",
       "min       -21.561490     -28.058831      -0.096679      -4.386942   \n",
       "25%        -0.646938      -1.984022       0.619404      -0.452410   \n",
       "50%        -0.211090      -1.388727       0.851169      -0.071796   \n",
       "75%         0.166128      -1.033168       1.295027       0.361093   \n",
       "max         3.204042      -0.371032       6.514404       4.793803   \n",
       "\n",
       "                 new  \n",
       "count  123623.000000  \n",
       "mean       -0.438603  \n",
       "std         0.855673  \n",
       "min       -13.277049  \n",
       "25%        -0.441549  \n",
       "50%        -0.217155  \n",
       "75%        -0.100269  \n",
       "max         1.819758  "
      ]
     },
     "execution_count": 158,
     "metadata": {},
     "output_type": "execute_result"
    }
   ],
   "source": [
    "t1.describe()"
   ]
  },
  {
   "cell_type": "code",
   "execution_count": 132,
   "metadata": {
    "ExecuteTime": {
     "end_time": "2019-02-06T17:45:06.572537Z",
     "start_time": "2019-02-06T17:45:05.977402Z"
    }
   },
   "outputs": [
    {
     "data": {
      "text/plain": [
       "<matplotlib.axes._subplots.AxesSubplot at 0x1d8cd8d7b70>"
      ]
     },
     "execution_count": 132,
     "metadata": {},
     "output_type": "execute_result"
    },
    {
     "data": {
      "image/png": "[encoded data removed]",
      "text/plain": [
       "<Figure size 432x288 with 1 Axes>"
      ]
     },
     "metadata": {
      "needs_background": "light"
     },
     "output_type": "display_data"
    }
   ],
   "source": [
    "sns.distplot(t1.normal)"
   ]
  },
  {
   "cell_type": "code",
   "execution_count": 133,
   "metadata": {
    "ExecuteTime": {
     "end_time": "2019-02-06T17:45:08.721794Z",
     "start_time": "2019-02-06T17:45:08.084494Z"
    }
   },
   "outputs": [
    {
     "data": {
      "text/plain": [
       "<matplotlib.axes._subplots.AxesSubplot at 0x1d8a5649dd8>"
      ]
     },
     "execution_count": 133,
     "metadata": {},
     "output_type": "execute_result"
    },
    {
     "data": {
      "image/png": "[encoded data removed]",
      "text/plain": [
       "<Figure size 432x288 with 1 Axes>"
      ]
     },
     "metadata": {
      "needs_background": "light"
     },
     "output_type": "display_data"
    }
   ],
   "source": [
    "sns.distplot(t1.neg)"
   ]
  },
  {
   "cell_type": "code",
   "execution_count": 134,
   "metadata": {
    "ExecuteTime": {
     "end_time": "2019-02-06T17:45:09.293698Z",
     "start_time": "2019-02-06T17:45:08.723788Z"
    }
   },
   "outputs": [
    {
     "data": {
      "text/plain": [
       "<matplotlib.axes._subplots.AxesSubplot at 0x1d8cd9d7f28>"
      ]
     },
     "execution_count": 134,
     "metadata": {},
     "output_type": "execute_result"
    },
    {
     "data": {
      "image/png": "[encoded data removed]",
      "text/plain": [
       "<Figure size 432x288 with 1 Axes>"
      ]
     },
     "metadata": {
      "needs_background": "light"
     },
     "output_type": "display_data"
    }
   ],
   "source": [
    "sns.distplot(t1.pos)"
   ]
  },
  {
   "cell_type": "code",
   "execution_count": 135,
   "metadata": {
    "ExecuteTime": {
     "end_time": "2019-02-06T17:45:09.907073Z",
     "start_time": "2019-02-06T17:45:09.295703Z"
    }
   },
   "outputs": [
    {
     "data": {
      "text/plain": [
       "<matplotlib.axes._subplots.AxesSubplot at 0x1d8a56a7940>"
      ]
     },
     "execution_count": 135,
     "metadata": {},
     "output_type": "execute_result"
    },
    {
     "data": {
      "image/png": "[encoded data removed]",
      "text/plain": [
       "<Figure size 432x288 with 1 Axes>"
      ]
     },
     "metadata": {
      "needs_background": "light"
     },
     "output_type": "display_data"
    }
   ],
   "source": [
    "sns.distplot(t1.outlier)"
   ]
  },
  {
   "cell_type": "code",
   "execution_count": 136,
   "metadata": {
    "ExecuteTime": {
     "end_time": "2019-02-06T17:45:11.033479Z",
     "start_time": "2019-02-06T17:45:10.434626Z"
    }
   },
   "outputs": [
    {
     "data": {
      "text/plain": [
       "<matplotlib.axes._subplots.AxesSubplot at 0x1d8cda7c898>"
      ]
     },
     "execution_count": 136,
     "metadata": {},
     "output_type": "execute_result"
    },
    {
     "data": {
      "image/png": "[encoded data removed]",
      "text/plain": [
       "<Figure size 432x288 with 1 Axes>"
      ]
     },
     "metadata": {
      "needs_background": "light"
     },
     "output_type": "display_data"
    }
   ],
   "source": [
    "sns.distplot(t1.new)"
   ]
  },
  {
   "cell_type": "markdown",
   "metadata": {},
   "source": [
    "# 이상치 예측 모델"
   ]
  },
  {
   "cell_type": "code",
   "execution_count": 138,
   "metadata": {
    "ExecuteTime": {
     "end_time": "2019-02-06T17:45:38.602073Z",
     "start_time": "2019-02-06T17:45:38.599081Z"
    }
   },
   "outputs": [],
   "source": [
    "target = train['outliers']"
   ]
  },
  {
   "cell_type": "markdown",
   "metadata": {},
   "source": [
    "## 제거할 피처"
   ]
  },
  {
   "cell_type": "code",
   "execution_count": 139,
   "metadata": {
    "ExecuteTime": {
     "end_time": "2019-02-06T17:45:39.297313Z",
     "start_time": "2019-02-06T17:45:39.293358Z"
    }
   },
   "outputs": [],
   "source": [
    "FEATS_EXCLUDED = ['first_active', 'card_id', 'target', 'outliers',\n",
    "                  'hist_purchase_date_max', 'hist_purchase_date_min', \n",
    "                  'new_purchase_date_max', 'new_purchase_date_min']"
   ]
  },
  {
   "cell_type": "markdown",
   "metadata": {},
   "source": [
    "## 파라미터"
   ]
  },
  {
   "cell_type": "code",
   "execution_count": 140,
   "metadata": {
    "ExecuteTime": {
     "end_time": "2019-02-06T17:45:39.726674Z",
     "start_time": "2019-02-06T17:45:39.720691Z"
    }
   },
   "outputs": [],
   "source": [
    "param = {'num_leaves': 31,\n",
    "         'min_data_in_leaf': 30, \n",
    "         'objective':'binary',\n",
    "         'max_depth': 6,\n",
    "         'learning_rate': 0.01,\n",
    "         \"boosting\": \"rf\",\n",
    "         \"feature_fraction\": 0.9,\n",
    "         \"bagging_freq\": 1,\n",
    "         \"bagging_fraction\": 0.9 ,\n",
    "         \"bagging_seed\": 11,\n",
    "         \"metric\": 'binary_logloss',\n",
    "         \"lambda_l1\": 0.1,\n",
    "         \"verbosity\": -1,\n",
    "         \"random_state\": 2333}"
   ]
  },
  {
   "cell_type": "code",
   "execution_count": 141,
   "metadata": {
    "ExecuteTime": {
     "end_time": "2019-02-06T17:48:21.407247Z",
     "start_time": "2019-02-06T17:45:45.542467Z"
    }
   },
   "outputs": [
    {
     "name": "stdout",
     "output_type": "stream",
     "text": [
      "fold n°0\n",
      "Training until validation scores don't improve for 200 rounds.\n",
      "[100]\ttraining's binary_logloss: 0.0439393\tvalid_1's binary_logloss: 0.0466941\n",
      "[200]\ttraining's binary_logloss: 0.0439582\tvalid_1's binary_logloss: 0.0466935\n",
      "Early stopping, best iteration is:\n",
      "[9]\ttraining's binary_logloss: 0.0439586\tvalid_1's binary_logloss: 0.0465615\n",
      "fold n°1\n",
      "Training until validation scores don't improve for 200 rounds.\n",
      "[100]\ttraining's binary_logloss: 0.0439916\tvalid_1's binary_logloss: 0.0471326\n",
      "[200]\ttraining's binary_logloss: 0.044006\tvalid_1's binary_logloss: 0.0471322\n",
      "Early stopping, best iteration is:\n",
      "[23]\ttraining's binary_logloss: 0.0439602\tvalid_1's binary_logloss: 0.0470829\n",
      "fold n°2\n",
      "Training until validation scores don't improve for 200 rounds.\n",
      "[100]\ttraining's binary_logloss: 0.0444197\tvalid_1's binary_logloss: 0.046345\n",
      "[200]\ttraining's binary_logloss: 0.0443985\tvalid_1's binary_logloss: 0.046319\n",
      "[300]\ttraining's binary_logloss: 0.0443899\tvalid_1's binary_logloss: 0.0462997\n",
      "[400]\ttraining's binary_logloss: 0.0443929\tvalid_1's binary_logloss: 0.0462866\n",
      "[500]\ttraining's binary_logloss: 0.0443896\tvalid_1's binary_logloss: 0.0462947\n",
      "[600]\ttraining's binary_logloss: 0.0443942\tvalid_1's binary_logloss: 0.0463057\n",
      "Early stopping, best iteration is:\n",
      "[406]\ttraining's binary_logloss: 0.0443867\tvalid_1's binary_logloss: 0.0462782\n",
      "fold n°3\n",
      "Training until validation scores don't improve for 200 rounds.\n",
      "[100]\ttraining's binary_logloss: 0.0442598\tvalid_1's binary_logloss: 0.0448344\n",
      "[200]\ttraining's binary_logloss: 0.0442657\tvalid_1's binary_logloss: 0.0448134\n",
      "[300]\ttraining's binary_logloss: 0.0442635\tvalid_1's binary_logloss: 0.0448185\n",
      "Early stopping, best iteration is:\n",
      "[187]\ttraining's binary_logloss: 0.0442536\tvalid_1's binary_logloss: 0.0448076\n",
      "fold n°4\n",
      "Training until validation scores don't improve for 200 rounds.\n",
      "[100]\ttraining's binary_logloss: 0.0442483\tvalid_1's binary_logloss: 0.0464303\n",
      "[200]\ttraining's binary_logloss: 0.0442343\tvalid_1's binary_logloss: 0.0463916\n",
      "Early stopping, best iteration is:\n",
      "[32]\ttraining's binary_logloss: 0.0442167\tvalid_1's binary_logloss: 0.0464128\n",
      "CV score: 0.04623 \n"
     ]
    }
   ],
   "source": [
    "folds = StratifiedKFold(n_splits=5, shuffle=True, random_state=15)\n",
    "\n",
    "oof_lgb = np.zeros(len(train))\n",
    "predictions_lgb_log = np.zeros(len(test))\n",
    "feature_importance = pd.DataFrame()\n",
    "\n",
    "train_columns = [f for f in train.columns if f not in FEATS_EXCLUDED]\n",
    "\n",
    "for fold_, (trn_idx, val_idx) in enumerate(folds.split(train, train['outliers'].values)):    \n",
    "    print(\"fold n°{}\".format(fold_))\n",
    "    trn_data = lgb.Dataset(train.iloc[trn_idx][train_columns], label=target.iloc[trn_idx])\n",
    "    val_data = lgb.Dataset(train.iloc[val_idx][train_columns], label=target.iloc[val_idx])\n",
    "\n",
    "    num_round = 10000\n",
    "    clf = lgb.train(param, trn_data, num_round, valid_sets = [trn_data, val_data], verbose_eval=100, early_stopping_rounds = 200)\n",
    "    oof_lgb[val_idx] = clf.predict(train.iloc[val_idx][train_columns], num_iteration=clf.best_iteration)\n",
    "    \n",
    "    predictions_lgb_log += clf.predict(test[train_columns], num_iteration=clf.best_iteration) / folds.n_splits\n",
    "    \n",
    "    fold_importance = pd.DataFrame()\n",
    "    fold_importance[\"Feature\"] = train_columns\n",
    "    fold_importance[\"importance\"] = clf.feature_importance()\n",
    "    fold_importance[\"fold\"] = fold_ + 1\n",
    "    feature_importance = pd.concat([feature_importance, fold_importance], axis=0)\n",
    "    \n",
    "print(\"CV score: {:<8.5f}\".format(log_loss(target.values, oof_lgb)))"
   ]
  },
  {
   "cell_type": "code",
   "execution_count": 142,
   "metadata": {
    "ExecuteTime": {
     "end_time": "2019-02-06T17:48:28.557553Z",
     "start_time": "2019-02-06T17:48:28.549576Z"
    }
   },
   "outputs": [],
   "source": [
    "outlier_prob = pd.DataFrame({\"card_id\":test[\"card_id\"].values})\n",
    "outlier_prob[\"target\"] = predictions_lgb_log"
   ]
  },
  {
   "cell_type": "markdown",
   "metadata": {},
   "source": [
    "# Combining"
   ]
  },
  {
   "cell_type": "code",
   "execution_count": 143,
   "metadata": {
    "ExecuteTime": {
     "end_time": "2019-02-06T17:48:33.249453Z",
     "start_time": "2019-02-06T17:48:33.243433Z"
    }
   },
   "outputs": [],
   "source": [
    "model_without_outliers = pd.DataFrame({\"card_id\":test[\"card_id\"].values})\n",
    "model_without_outliers[\"target\"] = predictions_lgb_without_outliers"
   ]
  },
  {
   "cell_type": "code",
   "execution_count": 166,
   "metadata": {
    "ExecuteTime": {
     "end_time": "2019-02-06T18:00:37.966098Z",
     "start_time": "2019-02-06T18:00:37.943163Z"
    }
   },
   "outputs": [],
   "source": [
    "outlier_id = pd.DataFrame(outlier_prob.sort_values(by='target',ascending = False).head(200)['card_id'])"
   ]
  },
  {
   "cell_type": "code",
   "execution_count": 160,
   "metadata": {
    "ExecuteTime": {
     "end_time": "2019-02-06T17:50:04.381731Z",
     "start_time": "2019-02-06T17:50:04.372712Z"
    }
   },
   "outputs": [],
   "source": [
    "t1 = t1.set_index(test.card_id.values)"
   ]
  },
  {
   "cell_type": "code",
   "execution_count": 161,
   "metadata": {
    "ExecuteTime": {
     "end_time": "2019-02-06T17:50:04.667779Z",
     "start_time": "2019-02-06T17:50:04.655778Z"
    }
   },
   "outputs": [],
   "source": [
    "t1 = t1.reset_index()"
   ]
  },
  {
   "cell_type": "code",
   "execution_count": 162,
   "metadata": {
    "ExecuteTime": {
     "end_time": "2019-02-06T17:50:04.966352Z",
     "start_time": "2019-02-06T17:50:04.961366Z"
    }
   },
   "outputs": [],
   "source": [
    "t1.columns = ['card_id', 'normal', 'neg', 'pos', 'outlier', 'new']"
   ]
  },
  {
   "cell_type": "code",
   "execution_count": 167,
   "metadata": {
    "ExecuteTime": {
     "end_time": "2019-02-06T18:00:47.648783Z",
     "start_time": "2019-02-06T18:00:45.330694Z"
    }
   },
   "outputs": [
    {
     "name": "stdout",
     "output_type": "stream",
     "text": [
      "          normal        neg       pos  outlier        new\n",
      "32446 -19.551338 -25.015652  1.433756 -0.18222 -11.790948\n",
      "          normal        neg       pos   outlier       new\n",
      "22650 -13.454734 -12.853212  0.743834 -1.122873 -6.054689\n",
      "          normal        neg       pos   outlier        new\n",
      "67665 -17.380549 -23.399879  1.980673  0.506923 -10.709603\n",
      "           normal        neg       pos   outlier       new\n",
      "105394 -14.014343 -13.819111  0.881716 -0.937218 -6.468698\n",
      "          normal        neg       pos   outlier       new\n",
      "33610 -14.763466 -16.116402  0.834797 -0.747194 -7.640803\n",
      "          normal        neg       pos   outlier     new\n",
      "41138 -15.419618 -20.974463  1.686063  0.027103 -9.6442\n",
      "         normal        neg       pos   outlier      new\n",
      "23336 -15.11739 -16.043246  1.239305 -1.048192 -7.40197\n",
      "           normal        neg       pos   outlier       new\n",
      "109705 -14.067543 -16.777381  0.881053 -1.023589 -7.948164\n",
      "          normal        neg       pos   outlier       new\n",
      "24677 -14.584636 -14.573376  0.717608 -1.459048 -6.927884\n",
      "          normal        neg       pos   outlier      new\n",
      "107920 -9.631133 -15.379762  1.686142  0.457507 -6.84681\n",
      "          normal        neg       pos  outlier       new\n",
      "83399 -15.718171 -19.757663  0.921747 -0.80235 -9.417958\n",
      "          normal        neg       pos   outlier        new\n",
      "25568 -20.668267 -28.058831  1.504733  0.383516 -13.277049\n",
      "           normal        neg       pos   outlier       new\n",
      "114106 -18.158531 -21.406592  2.296688 -1.002996 -9.554952\n",
      "          normal        neg      pos   outlier        new\n",
      "67890 -20.282833 -27.621949  1.54686  0.748473 -13.037544\n",
      "          normal        neg       pos   outlier       new\n",
      "17778 -13.903242 -20.384866  0.946776 -0.313731 -9.719045\n",
      "          normal        neg       pos  outlier       new\n",
      "35851 -16.961869 -18.514864  0.860339 -1.74518 -8.827263\n",
      "          normal        neg       pos   outlier       new\n",
      "111473 -8.000742 -17.066242  1.450532  0.479897 -7.807855\n",
      "          normal        neg       pos   outlier        new\n",
      "21724 -16.936897 -25.398893  1.451765  0.435793 -11.973564\n",
      "          normal        neg       pos  outlier        new\n",
      "96354 -17.394538 -24.427859  2.122015  1.17233 -11.152922\n",
      "          normal        neg       pos   outlier       new\n",
      "12995 -11.679877 -19.380382  2.194843  0.921402 -8.592769\n",
      "          normal        neg       pos   outlier       new\n",
      "88027 -10.096297 -12.194869  0.926701 -0.416135 -5.634084\n",
      "          normal        neg       pos   outlier       new\n",
      "27436 -14.093796 -22.580352  2.694448  0.719218 -9.942952\n",
      "          normal        neg       pos   outlier       new\n",
      "38784 -11.109876 -13.888032  0.723508 -0.775391 -6.582262\n",
      "          normal        neg       pos   outlier       new\n",
      "77297 -15.106953 -20.491408  1.760711  0.181718 -9.365348\n",
      "          normal        neg       pos   outlier       new\n",
      "59178 -13.098496 -18.164286  1.280173  0.013683 -8.442056\n",
      "          normal        neg       pos   outlier       new\n",
      "56780 -16.055609 -19.170581  0.783085 -0.632804 -9.193748\n",
      "         normal        neg       pos   outlier       new\n",
      "95474 -9.772914 -16.864243  1.515858  0.115099 -7.674193\n",
      "         normal        neg       pos  outlier       new\n",
      "25739 -8.711769 -15.215122  2.116737  1.08881 -6.549192\n",
      "           normal        neg       pos   outlier       new\n",
      "114462 -13.726472 -20.653595  1.672243  0.848577 -9.490676\n",
      "          normal      neg      pos   outlier       new\n",
      "61601 -12.993247 -17.8083  1.07521 -0.589421 -8.366545\n",
      "          normal        neg       pos  outlier        new\n",
      "78078 -14.857953 -23.751353  1.550121  0.26911 -11.100616\n",
      "          normal     neg       pos   outlier       new\n",
      "86562 -14.054752 -16.469  0.715928 -0.628823 -7.876536\n",
      "         normal        neg       pos   outlier       new\n",
      "69335 -7.858153 -11.567428  0.866419 -0.503265 -5.350504\n",
      "         normal        neg      pos   outlier       new\n",
      "99474 -8.551651 -11.265153  0.79064 -0.579567 -5.237257\n",
      "       normal        neg      pos  outlier       new\n",
      "7042 -10.9227 -15.602404  1.38201 -0.22834 -7.110197\n",
      "        normal        neg       pos   outlier      new\n",
      "9451 -5.739153 -13.310222  2.456922  1.295483 -5.42665\n",
      "          normal        neg       pos   outlier       new\n",
      "105347 -9.429638 -18.570405  2.146098  0.963849 -8.212153\n",
      "          normal        neg       pos   outlier       new\n",
      "96155 -10.718951 -19.374061  2.175109  0.981036 -8.599476\n",
      "         normal       neg       pos   outlier       new\n",
      "31421 -14.27104 -16.49571  0.667453 -1.403511 -7.914129\n",
      "           normal       neg       pos   outlier        new\n",
      "120151 -16.344422 -22.36311  1.974767  0.433719 -10.194171\n",
      "         normal        neg       pos   outlier       new\n",
      "72604 -9.240931 -16.618614  1.976838  0.535261 -7.320888\n",
      "         normal       neg       pos   outlier       new\n",
      "89012 -8.886735 -15.17242  1.965494  0.481305 -6.603463\n",
      "          normal        neg       pos   outlier       new\n",
      "43215 -12.541467 -20.093706  2.243536  0.927143 -8.925085\n",
      "        normal        neg       pos   outlier       new\n",
      "5395 -8.815475 -11.401961  1.238233 -0.231808 -5.081864\n",
      "          normal        neg       pos   outlier       new\n",
      "69317 -13.107289 -16.458252  1.816225 -0.428113 -7.321014\n",
      "        normal        neg       pos   outlier       new\n",
      "4618 -9.218875 -17.357705  2.530889  0.920506 -7.413408\n",
      "          normal        neg      pos   outlier        new\n",
      "12446 -11.553128 -22.606294  2.00845  0.733263 -10.298922\n",
      "           normal        neg       pos   outlier       new\n",
      "121630 -11.728049 -15.739213  1.447065 -0.520772 -7.146074\n",
      "          normal        neg       pos   outlier       new\n",
      "40613 -10.695459 -14.081009  0.828462 -0.733944 -6.626274\n",
      "          normal       neg       pos   outlier        new\n",
      "104991 -19.41815 -21.98276  1.288063 -0.999098 -10.347348\n",
      "          normal        neg      pos   outlier       new\n",
      "83378 -10.551058 -20.530779  2.34085  1.191472 -9.094964\n",
      "          normal        neg       pos   outlier       new\n",
      "90216 -11.481686 -21.586562  2.252235  1.273897 -9.667164\n",
      "         normal        neg       pos  outlier        new\n",
      "5008 -16.197645 -23.850645  1.803031  0.75181 -11.023807\n",
      "          normal        neg       pos   outlier       new\n",
      "44743 -10.666112 -13.916812  0.598138 -0.916963 -6.659337\n",
      "          normal        neg       pos   outlier       new\n",
      "19114 -12.964637 -17.512999  0.658596 -1.066296 -8.427201\n",
      "          normal        neg       pos   outlier       new\n",
      "96996 -13.177947 -16.686968  1.120465 -0.858327 -7.783252\n",
      "           normal        neg       pos   outlier       new\n",
      "109260 -11.352091 -17.897431  1.998108  0.717225 -7.949662\n",
      "         normal        neg       pos  outlier       new\n",
      "42391 -8.895424 -13.123625  1.213478 -0.35733 -5.955074\n",
      "         normal        neg       pos   outlier       new\n",
      "11161 -9.804627 -14.853161  1.349405 -0.037711 -6.751878\n",
      "          normal        neg       pos   outlier       new\n",
      "27314 -12.773838 -13.170469  0.711351 -2.262214 -6.229559\n",
      "        normal        neg       pos   outlier       new\n",
      "9989 -5.251647 -12.287406  2.061609  1.105742 -5.112898\n",
      "          normal        neg       pos   outlier       new\n",
      "28753 -10.714074 -15.259947  1.103638 -0.014727 -7.078155\n",
      "         normal        neg       pos   outlier       new\n",
      "30947 -9.937867 -15.313123  1.251479 -0.243829 -7.030822\n",
      "          normal        neg       pos   outlier       new\n",
      "81594 -12.264308 -15.281413  1.347305 -0.124894 -6.967054\n",
      "          normal        neg       pos   outlier      new\n",
      "58516 -10.771692 -15.591239  0.800358 -0.645459 -7.39544\n",
      "         normal        neg      pos  outlier       new\n",
      "91197 -11.83323 -21.300282  1.38274  0.48485 -9.958771\n",
      "          normal        neg       pos   outlier       new\n",
      "87496 -13.247137 -15.898115  0.832527 -0.825366 -7.532794\n",
      "          normal        neg       pos   outlier       new\n",
      "97162 -11.806675 -16.122626  0.952121 -0.476835 -7.585253\n",
      "           normal        neg       pos   outlier       new\n",
      "105967 -12.222827 -15.007747  0.708932 -0.387045 -7.149408\n",
      "           normal        neg       pos   outlier       new\n",
      "113597 -10.801475 -21.450966  2.878184  1.291265 -9.286391\n",
      "          normal       neg       pos   outlier       new\n",
      "48945 -12.973252 -15.34031  0.697408 -1.445659 -7.321451\n",
      "           normal        neg       pos   outlier       new\n",
      "102469 -10.279066 -17.378162  1.053445  0.240814 -8.162358\n",
      "           normal        neg       pos   outlier       new\n",
      "115682 -13.933941 -14.413117  0.642342 -0.704309 -6.885388\n",
      "          normal        neg       pos   outlier      new\n",
      "122743 -6.558551 -14.240979  1.857999  0.702439 -6.19149\n",
      "          normal        neg       pos   outlier        new\n",
      "88754 -12.900376 -21.500837  1.340759  0.315391 -10.080039\n",
      "           normal        neg       pos   outlier       new\n",
      "118122 -11.325622 -17.644363  0.893289 -0.336544 -8.375537\n",
      "         normal        neg       pos   outlier       new\n",
      "13645 -9.032356 -12.118139  0.608373 -0.903502 -5.754883\n",
      "         normal        neg       pos   outlier       new\n",
      "30531 -8.782574 -18.137733  2.963021  1.369786 -7.587356\n",
      "          normal        neg       pos   outlier       new\n",
      "16795 -11.294062 -14.241362  1.250431 -0.826679 -6.495465\n"
     ]
    },
    {
     "name": "stdout",
     "output_type": "stream",
     "text": [
      "           normal        neg      pos   outlier       new\n",
      "107752 -14.375095 -16.567882  0.64258 -1.203142 -7.962651\n",
      "          normal        neg       pos   outlier       new\n",
      "63477 -12.122657 -22.835023  1.954744  1.088635 -10.44014\n",
      "          normal        neg       pos  outlier       new\n",
      "117101 -10.61213 -17.405485  1.349071  0.74986 -8.028207\n",
      "          normal        neg       pos   outlier      new\n",
      "63189 -13.531019 -18.444299  0.991719 -0.426175 -8.72629\n",
      "          normal        neg       pos  outlier      new\n",
      "22430 -11.753752 -16.878647  1.555627  0.32368 -7.66151\n",
      "         normal       neg       pos   outlier       new\n",
      "51752 -9.110929 -20.43943  2.378198  1.491076 -9.030616\n",
      "          normal      neg       pos   outlier       new\n",
      "23168 -14.402786 -18.8431  0.982873 -0.579784 -8.930114\n",
      "          normal        neg       pos   outlier       new\n",
      "23022 -11.591874 -16.045951  0.757435 -0.819013 -7.644258\n",
      "           normal        neg       pos   outlier        new\n",
      "108111 -16.586536 -24.255934  1.975277  0.867841 -11.140329\n",
      "          normal        neg       pos   outlier       new\n",
      "75740 -13.901278 -20.916448  2.091542  1.042211 -9.412453\n",
      "         normal        neg       pos   outlier       new\n",
      "65911 -14.03082 -19.192648  0.916842 -0.299933 -9.137903\n",
      "        normal        neg       pos   outlier       new\n",
      "83684 -9.16147 -15.105983  1.337447  0.033027 -6.884268\n",
      "           normal        neg       pos   outlier        new\n",
      "100556 -18.351773 -26.240135  1.080938  0.197528 -12.579599\n",
      "         normal        neg       pos   outlier       new\n",
      "31294 -6.582594 -11.339226  0.796799 -0.452007 -5.271213\n",
      "          normal       neg      pos   outlier       new\n",
      "29598 -11.250918 -14.11044  0.92855 -0.632046 -6.590945\n",
      "          normal        neg       pos   outlier       new\n",
      "23193 -10.881619 -17.156292  0.791406 -0.549842 -8.182443\n",
      "          normal        neg       pos   outlier       new\n",
      "80840 -14.548624 -16.123184  0.709809 -1.277645 -7.706687\n",
      "         normal        neg       pos   outlier       new\n",
      "24808 -9.198685 -13.082489  1.272499  0.020194 -5.904995\n",
      "          normal        neg       pos   outlier       new\n",
      "53710 -12.809833 -21.050786  1.816089  0.826443 -9.617348\n",
      "           normal        neg       pos  outlier       new\n",
      "107443 -14.009959 -19.623838  1.397046  0.42313 -9.113396\n",
      "          normal        neg       pos   outlier       new\n",
      "47616 -16.521344 -16.387087  0.551911 -1.615067 -7.917588\n",
      "          normal        neg       pos   outlier       new\n",
      "16074 -10.197652 -13.320252  0.743829 -0.819264 -6.288211\n",
      "         normal        neg       pos   outlier       new\n",
      "93863 -5.050866 -13.637345  2.400191  1.137037 -5.618577\n",
      "          normal        neg       pos   outlier      new\n",
      "44491 -13.802377 -18.120166  0.690245 -0.635762 -8.71496\n",
      "         normal        neg       pos   outlier       new\n",
      "5888 -10.969288 -14.573331  0.835267 -0.403681 -6.869032\n",
      "          normal        neg       pos   outlier       new\n",
      "94759 -10.937698 -18.205771  1.564292  0.093464 -8.320739\n",
      "          normal        neg       pos   outlier       new\n",
      "29773 -17.278001 -15.580925  0.814023 -1.422066 -7.383451\n",
      "           normal        neg       pos   outlier       new\n",
      "118725 -12.251159 -17.247671  1.540794 -0.350126 -7.853438\n",
      "          normal        neg       pos  outlier       new\n",
      "43763 -11.652476 -18.251039  2.402956  1.08217 -7.924042\n",
      "        normal        neg       pos   outlier       new\n",
      "1732 -10.60456 -14.504503  1.330097  0.321371 -6.587203\n",
      "           normal        neg       pos  outlier        new\n",
      "103851 -17.207709 -25.738704  1.916853  0.77658 -11.910926\n",
      "          normal        neg       pos   outlier       new\n",
      "74233 -12.585187 -19.471721  1.216259  0.007157 -9.127731\n",
      "          normal        neg       pos   outlier       new\n",
      "92908 -13.029937 -19.282498  1.317687  0.442276 -8.982405\n",
      "         normal        neg       pos   outlier       new\n",
      "60781 -8.279224 -16.615681  2.522007  1.132003 -7.046837\n",
      "         normal        neg       pos   outlier       new\n",
      "87735 -10.06059 -14.341454  1.019911 -0.524597 -6.660771\n",
      "        normal        neg       pos   outlier       new\n",
      "2424 -8.105606 -13.587704  0.881697 -0.738827 -6.353003\n",
      "          normal        neg       pos  outlier      new\n",
      "82194 -12.972939 -20.759584  1.268764 -0.67917 -9.74541\n",
      "         normal        neg       pos   outlier       new\n",
      "92236 -12.00676 -13.376922  0.970531 -0.887882 -6.203195\n",
      "         normal        neg       pos   outlier       new\n",
      "77658 -7.580897 -15.697111  2.670478  1.274187 -6.513316\n",
      "         normal        neg       pos   outlier      new\n",
      "55548 -11.14361 -13.338307  1.330666 -0.454175 -6.00382\n",
      "           normal        neg       pos   outlier        new\n",
      "109960 -11.883701 -22.350439  2.025005  0.810156 -10.162717\n",
      "        normal        neg       pos   outlier       new\n",
      "496 -13.416251 -18.847703  1.514548  0.620091 -8.666577\n",
      "           normal        neg      pos  outlier        new\n",
      "117442 -13.325452 -21.517313  1.35622  0.28264 -10.080546\n",
      "         normal        neg      pos   outlier       new\n",
      "5707 -11.605113 -20.977291  1.44314  0.247161 -9.767075\n",
      "         normal        neg       pos   outlier      new\n",
      "92653 -7.280722 -14.533576  1.990716  0.944713 -6.27143\n",
      "        normal        neg       pos   outlier       new\n",
      "97721 -6.76262 -12.028299  1.352532  0.483156 -5.337884\n",
      "           normal        neg       pos   outlier       new\n",
      "119851 -10.264965 -14.306686  0.557505 -0.243398 -6.874591\n",
      "          normal        neg       pos   outlier       new\n",
      "27384 -10.145139 -17.758507  2.223458  1.259702 -7.767525\n",
      "       normal        neg       pos   outlier       new\n",
      "514 -8.863594 -14.047239  1.118241  0.010903 -6.464499\n",
      "          normal        neg       pos   outlier       new\n",
      "66560 -10.265009 -14.107567  0.809313 -0.840728 -6.649127\n",
      "          normal        neg       pos   outlier      new\n",
      "101664 -9.391239 -15.769176  1.365297  0.057083 -7.20194\n",
      "          normal        neg       pos   outlier        new\n",
      "61935 -12.596427 -22.241193  2.034905  0.874218 -10.103144\n",
      "         normal        neg       pos   outlier       new\n",
      "86223 -9.837782 -14.836012  1.344388 -0.162816 -6.745812\n",
      "          normal        neg       pos   outlier        new\n",
      "20556 -19.279287 -23.426284  1.448321 -0.583408 -10.988981\n",
      "           normal       neg       pos   outlier       new\n",
      "107019 -10.100466 -19.48494  1.623711  0.805689 -8.930615\n",
      "          normal        neg       pos   outlier       new\n",
      "57626 -12.174113 -20.875282  1.992489  1.023962 -9.441396\n",
      "         normal        neg       pos   outlier       new\n",
      "29828 -8.932633 -16.336082  1.723808  0.828707 -7.306137\n",
      "        normal        neg       pos   outlier      new\n",
      "11757 -12.2819 -14.612562  1.251442 -0.724947 -6.68056\n",
      "         normal        neg       pos   outlier       new\n",
      "73269 -8.190533 -16.931304  2.181859  0.950724 -7.374722\n",
      "         normal        neg       pos   outlier       new\n",
      "99154 -9.343212 -13.848349  0.948931 -0.128831 -6.449709\n",
      "        normal        neg      pos   outlier      new\n",
      "162 -10.446982 -12.622791  1.07547 -0.424889 -5.77366\n",
      "          normal        neg       pos   outlier       new\n",
      "88084 -10.949354 -19.835625  1.540618  0.532148 -9.147504\n",
      "          normal        neg       pos   outlier        new\n",
      "75745 -12.582359 -25.019517  1.366611  0.383688 -11.826453\n",
      "         normal        neg       pos   outlier       new\n",
      "38319 -8.516058 -19.366117  1.870151  0.901112 -8.747983\n",
      "          normal        neg       pos   outlier       new\n",
      "57547 -11.350337 -18.776808  2.501207  0.357394 -8.137801\n",
      "          normal        neg       pos   outlier        new\n",
      "72221 -20.049266 -25.235199  1.024724  0.162751 -12.105238\n",
      "           normal        neg       pos   outlier       new\n",
      "119449 -15.675392 -18.769267  0.850842 -0.578809 -8.959212\n",
      "          normal        neg       pos   outlier       new\n",
      "108467 -9.027601 -18.770754  1.845007  0.747516 -8.462874\n",
      "        normal        neg      pos  outlier       new\n",
      "42661 -7.88046 -14.932311  1.94144  0.93679 -6.495436\n",
      "         normal       neg       pos  outlier       new\n",
      "9144 -10.545777 -11.94504  0.588498 -0.87605 -5.678271\n",
      "         normal        neg       pos   outlier      new\n",
      "53915 -7.165895 -12.926171  1.450051 -0.207758 -5.73806\n",
      "         normal        neg       pos  outlier      new\n",
      "2726 -12.690519 -17.649711  0.865012 -0.74755 -8.39235\n",
      "          normal        neg      pos   outlier       new\n",
      "29299 -14.830347 -15.696661  0.60035 -1.690954 -7.548155\n",
      "          normal        neg       pos   outlier       new\n",
      "100004 -6.098036 -15.357485  1.937012  0.833025 -6.710237\n"
     ]
    },
    {
     "name": "stdout",
     "output_type": "stream",
     "text": [
      "          normal        neg       pos   outlier        new\n",
      "76303 -14.746477 -23.579936  1.703331  0.522765 -10.938303\n",
      "         normal       neg       pos   outlier       new\n",
      "61930 -9.819118 -13.56434  0.672712 -0.548388 -6.445814\n",
      "         normal        neg       pos   outlier       new\n",
      "59438 -10.07932 -17.507452  2.172384  1.064217 -7.667534\n",
      "           normal        neg       pos   outlier       new\n",
      "108678 -12.401197 -19.391207  2.106996  0.763365 -8.642106\n",
      "         normal        neg       pos   outlier       new\n",
      "80980 -7.697289 -11.913264  1.304167  0.107133 -5.304548\n",
      "          normal        neg       pos   outlier       new\n",
      "94668 -12.927277 -18.981574  1.344536 -0.034377 -8.818519\n",
      "         normal        neg       pos   outlier       new\n",
      "59340 -9.777366 -18.210949  1.646959  0.765643 -8.281995\n",
      "         normal        neg       pos   outlier       new\n",
      "97925 -8.515063 -20.068535  1.951646  1.095857 -9.058444\n",
      "        normal        neg       pos   outlier       new\n",
      "13324 -7.44704 -11.646829  0.742879 -0.647185 -5.451975\n",
      "          normal        neg       pos   outlier       new\n",
      "88190 -11.531612 -17.651562  0.917419  0.203793 -8.367071\n",
      "          normal        neg       pos   outlier       new\n",
      "37421 -14.634322 -20.966449  1.476595  0.376328 -9.744927\n",
      "         normal        neg       pos   outlier       new\n",
      "96635 -8.159431 -14.120398  1.386503  0.390929 -6.366947\n",
      "          normal        neg       pos   outlier       new\n",
      "114351 -8.846673 -11.965634  1.189716 -0.170982 -5.387959\n",
      "          normal       neg       pos   outlier       new\n",
      "18533 -12.626789 -18.92916  0.891585  0.130366 -9.018787\n",
      "         normal        neg      pos   outlier      new\n",
      "78912 -6.327316 -16.676091  2.70375  1.387675 -6.98617\n",
      "         normal        neg       pos   outlier       new\n",
      "52206 -9.282261 -13.433401  2.207777  0.390488 -5.612812\n",
      "           normal        neg       pos   outlier       new\n",
      "106250 -11.207373 -15.564161  1.057825 -0.427025 -7.253168\n",
      "          normal        neg       pos   outlier       new\n",
      "70552 -13.606739 -20.958476  2.326463  0.353153 -9.316007\n",
      "         normal        neg       pos   outlier       new\n",
      "79345 -7.538512 -16.515776  2.099227  0.897885 -7.208274\n",
      "         normal        neg       pos   outlier       new\n",
      "27933 -9.782249 -15.666633  1.869611  0.667767 -6.898511\n",
      "         normal        neg       pos   outlier       new\n",
      "10099 -7.289329 -14.785355  2.159925  1.101104 -6.312715\n",
      "          normal        neg       pos   outlier       new\n",
      "19705 -11.137962 -14.977566  0.939315 -0.978026 -7.019126\n",
      "          normal        neg       pos  outlier       new\n",
      "27924 -13.979813 -19.848681  1.650664  0.55231 -9.099008\n",
      "         normal        neg       pos   outlier     new\n",
      "68615 -10.00587 -19.236393  1.734594  0.707043 -8.7509\n",
      "          normal        neg       pos   outlier       new\n",
      "122177 -8.813717 -14.858392  1.275801  0.347641 -6.791295\n",
      "         normal        neg       pos   outlier       new\n",
      "4191 -10.083828 -17.698956  1.475805  0.384115 -8.111576\n",
      "         normal        neg       pos   outlier       new\n",
      "42380 -7.791435 -14.819158  0.956829 -0.644052 -6.931164\n",
      "         normal        neg      pos   outlier       new\n",
      "18150 -6.032069 -12.853493  2.09993  0.985303 -5.376781\n",
      "         normal        neg       pos   outlier       new\n",
      "38407 -9.991583 -21.862256  2.294389  1.035224 -9.783933\n",
      "          normal       neg       pos   outlier       new\n",
      "82001 -10.395397 -20.55722  1.507507  0.608412 -9.524857\n",
      "         normal        neg       pos   outlier       new\n",
      "105187 -9.84012 -14.687274  1.522386  0.018922 -6.582444\n",
      "         normal        neg      pos  outlier      new\n",
      "68208 -6.972784 -11.022251  0.74773 -0.67559 -5.13726\n",
      "         normal      neg       pos   outlier       new\n",
      "28888 -8.212354 -14.1142  1.043262 -0.600333 -6.535469\n",
      "           normal        neg       pos   outlier       new\n",
      "102513 -11.355849 -14.741534  1.032043 -0.582109 -6.854745\n",
      "          normal        neg       pos   outlier       new\n",
      "85921 -12.236585 -14.897606  0.999283 -1.480045 -6.949162\n",
      "        normal        neg       pos   outlier       new\n",
      "6026 -14.33628 -18.642806  1.384148 -0.241586 -8.629329\n",
      "       normal        neg       pos   outlier       new\n",
      "2426 -11.0899 -21.232516  1.690265  0.672372 -9.771126\n",
      "         normal        neg       pos   outlier       new\n",
      "72998 -9.177129 -19.542705  2.305899  1.083683 -8.618403\n",
      "         normal        neg       pos   outlier       new\n",
      "25789 -7.318001 -17.836763  1.822945  0.942101 -8.006909\n",
      "          normal        neg       pos   outlier       new\n",
      "95808 -11.325422 -15.933486  1.436227 -0.329954 -7.248629\n",
      "          normal       neg       pos  outlier       new\n",
      "93124 -11.432459 -17.22817  0.805827 -0.51589 -8.211171\n",
      "         normal        neg       pos   outlier       new\n",
      "19032 -9.632878 -17.562658  1.916366  1.010992 -7.823146\n",
      "           normal        neg       pos   outlier       new\n",
      "113427 -10.208933 -20.883814  1.999279  0.840897 -9.442268\n",
      "         normal        neg       pos   outlier       new\n",
      "13826 -7.197908 -16.777564  2.146595  1.282967 -7.315484\n",
      "          normal        neg       pos   outlier       new\n",
      "118251 -8.809287 -18.563559  2.108075  0.906519 -8.227742\n",
      "          normal        neg       pos   outlier       new\n",
      "61756 -12.434456 -15.996563  0.794698 -0.434222 -7.600932\n",
      "          normal        neg       pos   outlier       new\n",
      "122822 -7.997514 -14.116447  2.031045  0.718335 -6.042701\n"
     ]
    }
   ],
   "source": [
    "for v in outlier_id.card_id:\n",
    "    print(t1[t1.card_id == v][['normal', 'neg', 'pos', 'outlier', 'new']])"
   ]
  },
  {
   "cell_type": "code",
   "execution_count": 165,
   "metadata": {
    "ExecuteTime": {
     "end_time": "2019-02-06T17:58:28.490272Z",
     "start_time": "2019-02-06T17:51:12.008900Z"
    }
   },
   "outputs": [],
   "source": [
    "for card_id in outlier_id.card_id:\n",
    "    model_without_outliers.loc[model_without_outliers['card_id'] == card_id, 'target'] = t1.loc[t1['card_id'] == card_id, 'normal']"
   ]
  },
  {
   "cell_type": "code",
   "execution_count": 168,
   "metadata": {
    "ExecuteTime": {
     "end_time": "2019-02-06T18:02:46.128072Z",
     "start_time": "2019-02-06T18:02:41.299380Z"
    }
   },
   "outputs": [],
   "source": [
    "for card_id in outlier_id.card_id:\n",
    "    model_without_outliers.loc[model_without_outliers['card_id'] == card_id, 'target'] = (t1.loc[t1['card_id'] == card_id, 'normal'] + t1.loc[t1['card_id'] == card_id, 'neg']) / 2"
   ]
  },
  {
   "cell_type": "code",
   "execution_count": 169,
   "metadata": {
    "ExecuteTime": {
     "end_time": "2019-02-06T18:02:49.826055Z",
     "start_time": "2019-02-06T18:02:49.488895Z"
    }
   },
   "outputs": [],
   "source": [
    "model_without_outliers.to_csv(\"./data/submission_combining_neg.csv\", index=False)"
   ]
  },
  {
   "cell_type": "code",
   "execution_count": 171,
   "metadata": {
    "ExecuteTime": {
     "end_time": "2019-02-06T18:03:00.276923Z",
     "start_time": "2019-02-06T18:02:59.632952Z"
    }
   },
   "outputs": [
    {
     "data": {
      "text/plain": [
       "<matplotlib.axes._subplots.AxesSubplot at 0x1d8804aa7b8>"
      ]
     },
     "execution_count": 171,
     "metadata": {},
     "output_type": "execute_result"
    },
    {
     "data": {
      "image/png": "[encoded data removed]",
      "text/plain": [
       "<Figure size 432x288 with 1 Axes>"
      ]
     },
     "metadata": {
      "needs_background": "light"
     },
     "output_type": "display_data"
    }
   ],
   "source": [
    "sns.distplot(model_without_outliers.target)"
   ]
  },
  {
   "cell_type": "code",
   "execution_count": null,
   "metadata": {},
   "outputs": [],
   "source": []
  },
  {
   "cell_type": "code",
   "execution_count": null,
   "metadata": {},
   "outputs": [],
   "source": []
  }
 ],
 "metadata": {
  "kernelspec": {
   "display_name": "Python 3",
   "language": "python",
   "name": "python3"
  },
  "language_info": {
   "codemirror_mode": {
    "name": "ipython",
    "version": 3
   },
   "file_extension": ".py",
   "mimetype": "text/x-python",
   "name": "python",
   "nbconvert_exporter": "python",
   "pygments_lexer": "ipython3",
   "version": "3.6.7"
  },
  "toc": {
   "base_numbering": 1,
   "nav_menu": {},
   "number_sections": true,
   "sideBar": true,
   "skip_h1_title": false,
   "title_cell": "Table of Contents",
   "title_sidebar": "Contents",
   "toc_cell": false,
   "toc_position": {},
   "toc_section_display": true,
   "toc_window_display": false
  }
 },
 "nbformat": 4,
 "nbformat_minor": 2
}
