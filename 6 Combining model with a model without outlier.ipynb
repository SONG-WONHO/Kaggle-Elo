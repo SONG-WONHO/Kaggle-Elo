{
 "cells": [
  {
   "cell_type": "markdown",
   "metadata": {},
   "source": [
    "# 사전 작업"
   ]
  },
  {
   "cell_type": "markdown",
   "metadata": {},
   "source": [
    "## 모듈 로드"
   ]
  },
  {
   "cell_type": "code",
   "execution_count": 1,
   "metadata": {
    "ExecuteTime": {
     "end_time": "2019-02-05T06:58:56.760220Z",
     "start_time": "2019-02-05T06:58:53.351263Z"
    }
   },
   "outputs": [],
   "source": [
    "import numpy as np\n",
    "import pandas as pd\n",
    "import matplotlib.pyplot as plt\n",
    "import datetime\n",
    "import seaborn as sns\n",
    "import gc"
   ]
  },
  {
   "cell_type": "code",
   "execution_count": 25,
   "metadata": {
    "ExecuteTime": {
     "end_time": "2019-02-05T07:33:06.973209Z",
     "start_time": "2019-02-05T07:33:06.969181Z"
    }
   },
   "outputs": [],
   "source": [
    "import lightgbm as lgb\n",
    "from sklearn.metrics import mean_squared_error\n",
    "from sklearn.metrics import log_loss\n",
    "from sklearn.model_selection import KFold, StratifiedKFold"
   ]
  },
  {
   "cell_type": "code",
   "execution_count": 2,
   "metadata": {
    "ExecuteTime": {
     "end_time": "2019-02-05T06:58:57.730637Z",
     "start_time": "2019-02-05T06:58:57.727644Z"
    }
   },
   "outputs": [],
   "source": [
    "import warnings\n",
    "warnings.filterwarnings('ignore')"
   ]
  },
  {
   "cell_type": "code",
   "execution_count": 3,
   "metadata": {
    "ExecuteTime": {
     "end_time": "2019-02-05T06:59:00.609862Z",
     "start_time": "2019-02-05T06:59:00.606783Z"
    }
   },
   "outputs": [],
   "source": [
    "pd.set_option('display.max_columns', 400)"
   ]
  },
  {
   "cell_type": "markdown",
   "metadata": {},
   "source": [
    "# 이상치 없는 데이터"
   ]
  },
  {
   "cell_type": "markdown",
   "metadata": {},
   "source": [
    "## 데이터 로드"
   ]
  },
  {
   "cell_type": "code",
   "execution_count": 4,
   "metadata": {
    "ExecuteTime": {
     "end_time": "2019-02-05T06:59:14.110418Z",
     "start_time": "2019-02-05T06:59:14.106431Z"
    }
   },
   "outputs": [],
   "source": [
    "path = './data/'"
   ]
  },
  {
   "cell_type": "code",
   "execution_count": 10,
   "metadata": {
    "ExecuteTime": {
     "end_time": "2019-02-05T07:00:52.241303Z",
     "start_time": "2019-02-05T07:00:38.268629Z"
    }
   },
   "outputs": [],
   "source": [
    "train = pd.read_csv(path + 'train_v2.csv')\n",
    "test = pd.read_csv(path + 'test_v2.csv')"
   ]
  },
  {
   "cell_type": "code",
   "execution_count": 13,
   "metadata": {
    "ExecuteTime": {
     "end_time": "2019-02-05T07:02:27.768329Z",
     "start_time": "2019-02-05T07:02:27.567526Z"
    }
   },
   "outputs": [],
   "source": [
    "train = train[train.outliers == 0]"
   ]
  },
  {
   "cell_type": "markdown",
   "metadata": {},
   "source": [
    "## 제거할 피처"
   ]
  },
  {
   "cell_type": "code",
   "execution_count": 14,
   "metadata": {
    "ExecuteTime": {
     "end_time": "2019-02-05T07:04:23.059942Z",
     "start_time": "2019-02-05T07:04:23.054980Z"
    }
   },
   "outputs": [],
   "source": [
    "FEATS_EXCLUDED = ['first_active', 'card_id', 'target',\n",
    "                  'hist_purchase_date_max', 'hist_purchase_date_min', \n",
    "                  'new_purchase_date_max', 'new_purchase_date_min']"
   ]
  },
  {
   "cell_type": "markdown",
   "metadata": {},
   "source": [
    "## Parameter"
   ]
  },
  {
   "cell_type": "code",
   "execution_count": 15,
   "metadata": {
    "ExecuteTime": {
     "end_time": "2019-02-05T07:04:58.305603Z",
     "start_time": "2019-02-05T07:04:58.301615Z"
    }
   },
   "outputs": [],
   "source": [
    "param = {'num_leaves': 31,\n",
    "         'min_data_in_leaf': 30, \n",
    "         'objective':'regression',\n",
    "         'max_depth': -1,\n",
    "         'learning_rate': 0.01,\n",
    "         \"min_child_samples\": 20,\n",
    "         \"boosting\": \"gbdt\",\n",
    "         \"feature_fraction\": 0.9,\n",
    "         \"bagging_freq\": 1,\n",
    "         \"bagging_fraction\": 0.9 ,\n",
    "         \"bagging_seed\": 11,\n",
    "         \"metric\": 'rmse',\n",
    "         \"lambda_l1\": 0.1,\n",
    "         \"verbosity\": -1,\n",
    "         \"nthread\": 4,\n",
    "         \"random_state\": 4590}"
   ]
  },
  {
   "cell_type": "markdown",
   "metadata": {},
   "source": [
    "## training model"
   ]
  },
  {
   "cell_type": "code",
   "execution_count": 19,
   "metadata": {
    "ExecuteTime": {
     "end_time": "2019-02-05T07:27:22.305981Z",
     "start_time": "2019-02-05T07:10:05.630855Z"
    },
    "collapsed": true
   },
   "outputs": [
    {
     "name": "stdout",
     "output_type": "stream",
     "text": [
      "fold n°0\n",
      "Training until validation scores don't improve for 200 rounds.\n",
      "[100]\ttraining's rmse: 1.60488\tvalid_1's rmse: 1.61672\n",
      "[200]\ttraining's rmse: 1.57256\tvalid_1's rmse: 1.58959\n",
      "[300]\ttraining's rmse: 1.55697\tvalid_1's rmse: 1.57874\n",
      "[400]\ttraining's rmse: 1.54665\tvalid_1's rmse: 1.57308\n",
      "[500]\ttraining's rmse: 1.53847\tvalid_1's rmse: 1.56948\n",
      "[600]\ttraining's rmse: 1.53136\tvalid_1's rmse: 1.5673\n",
      "[700]\ttraining's rmse: 1.5252\tvalid_1's rmse: 1.56578\n",
      "[800]\ttraining's rmse: 1.51956\tvalid_1's rmse: 1.56474\n",
      "[900]\ttraining's rmse: 1.51443\tvalid_1's rmse: 1.56397\n",
      "[1000]\ttraining's rmse: 1.50961\tvalid_1's rmse: 1.56353\n",
      "[1100]\ttraining's rmse: 1.50501\tvalid_1's rmse: 1.56313\n",
      "[1200]\ttraining's rmse: 1.50057\tvalid_1's rmse: 1.56279\n",
      "[1300]\ttraining's rmse: 1.49636\tvalid_1's rmse: 1.56255\n",
      "[1400]\ttraining's rmse: 1.49207\tvalid_1's rmse: 1.5624\n",
      "[1500]\ttraining's rmse: 1.48794\tvalid_1's rmse: 1.56218\n",
      "[1600]\ttraining's rmse: 1.48391\tvalid_1's rmse: 1.56205\n",
      "[1700]\ttraining's rmse: 1.47994\tvalid_1's rmse: 1.56189\n",
      "[1800]\ttraining's rmse: 1.4759\tvalid_1's rmse: 1.56187\n",
      "[1900]\ttraining's rmse: 1.47205\tvalid_1's rmse: 1.56181\n",
      "[2000]\ttraining's rmse: 1.46828\tvalid_1's rmse: 1.56175\n",
      "[2100]\ttraining's rmse: 1.46443\tvalid_1's rmse: 1.56171\n",
      "[2200]\ttraining's rmse: 1.46072\tvalid_1's rmse: 1.56164\n",
      "[2300]\ttraining's rmse: 1.4571\tvalid_1's rmse: 1.56157\n",
      "[2400]\ttraining's rmse: 1.45343\tvalid_1's rmse: 1.56137\n",
      "[2500]\ttraining's rmse: 1.44977\tvalid_1's rmse: 1.5614\n",
      "[2600]\ttraining's rmse: 1.4462\tvalid_1's rmse: 1.56127\n",
      "[2700]\ttraining's rmse: 1.44255\tvalid_1's rmse: 1.56129\n",
      "[2800]\ttraining's rmse: 1.43883\tvalid_1's rmse: 1.56129\n",
      "[2900]\ttraining's rmse: 1.43531\tvalid_1's rmse: 1.5612\n",
      "[3000]\ttraining's rmse: 1.43171\tvalid_1's rmse: 1.56112\n",
      "[3100]\ttraining's rmse: 1.42824\tvalid_1's rmse: 1.56116\n",
      "[3200]\ttraining's rmse: 1.42472\tvalid_1's rmse: 1.56116\n",
      "Early stopping, best iteration is:\n",
      "[3030]\ttraining's rmse: 1.43065\tvalid_1's rmse: 1.5611\n",
      "fold n°1\n",
      "Training until validation scores don't improve for 200 rounds.\n",
      "[100]\ttraining's rmse: 1.60581\tvalid_1's rmse: 1.61466\n",
      "[200]\ttraining's rmse: 1.57335\tvalid_1's rmse: 1.58672\n",
      "[300]\ttraining's rmse: 1.55765\tvalid_1's rmse: 1.5757\n",
      "[400]\ttraining's rmse: 1.54709\tvalid_1's rmse: 1.57002\n",
      "[500]\ttraining's rmse: 1.53878\tvalid_1's rmse: 1.56668\n",
      "[600]\ttraining's rmse: 1.53168\tvalid_1's rmse: 1.56447\n",
      "[700]\ttraining's rmse: 1.52542\tvalid_1's rmse: 1.56315\n",
      "[800]\ttraining's rmse: 1.5198\tvalid_1's rmse: 1.56221\n",
      "[900]\ttraining's rmse: 1.5145\tvalid_1's rmse: 1.56149\n",
      "[1000]\ttraining's rmse: 1.50962\tvalid_1's rmse: 1.56108\n",
      "[1100]\ttraining's rmse: 1.50491\tvalid_1's rmse: 1.56066\n",
      "[1200]\ttraining's rmse: 1.50041\tvalid_1's rmse: 1.56042\n",
      "[1300]\ttraining's rmse: 1.49609\tvalid_1's rmse: 1.56019\n",
      "[1400]\ttraining's rmse: 1.4918\tvalid_1's rmse: 1.55998\n",
      "[1500]\ttraining's rmse: 1.48769\tvalid_1's rmse: 1.55983\n",
      "[1600]\ttraining's rmse: 1.4836\tvalid_1's rmse: 1.55968\n",
      "[1700]\ttraining's rmse: 1.47967\tvalid_1's rmse: 1.55957\n",
      "[1800]\ttraining's rmse: 1.4757\tvalid_1's rmse: 1.55952\n",
      "[1900]\ttraining's rmse: 1.47162\tvalid_1's rmse: 1.55949\n",
      "[2000]\ttraining's rmse: 1.46788\tvalid_1's rmse: 1.55944\n",
      "[2100]\ttraining's rmse: 1.46399\tvalid_1's rmse: 1.55937\n",
      "[2200]\ttraining's rmse: 1.46032\tvalid_1's rmse: 1.55933\n",
      "[2300]\ttraining's rmse: 1.45662\tvalid_1's rmse: 1.5592\n",
      "[2400]\ttraining's rmse: 1.453\tvalid_1's rmse: 1.55911\n",
      "[2500]\ttraining's rmse: 1.44942\tvalid_1's rmse: 1.55911\n",
      "[2600]\ttraining's rmse: 1.44587\tvalid_1's rmse: 1.55907\n",
      "[2700]\ttraining's rmse: 1.44233\tvalid_1's rmse: 1.55912\n",
      "Early stopping, best iteration is:\n",
      "[2592]\ttraining's rmse: 1.44615\tvalid_1's rmse: 1.55905\n",
      "fold n°2\n",
      "Training until validation scores don't improve for 200 rounds.\n",
      "[100]\ttraining's rmse: 1.61077\tvalid_1's rmse: 1.59346\n",
      "[200]\ttraining's rmse: 1.5784\tvalid_1's rmse: 1.56572\n",
      "[300]\ttraining's rmse: 1.56272\tvalid_1's rmse: 1.55485\n",
      "[400]\ttraining's rmse: 1.55241\tvalid_1's rmse: 1.54935\n",
      "[500]\ttraining's rmse: 1.54422\tvalid_1's rmse: 1.54586\n",
      "[600]\ttraining's rmse: 1.53721\tvalid_1's rmse: 1.54348\n",
      "[700]\ttraining's rmse: 1.53099\tvalid_1's rmse: 1.54185\n",
      "[800]\ttraining's rmse: 1.52526\tvalid_1's rmse: 1.54091\n",
      "[900]\ttraining's rmse: 1.52005\tvalid_1's rmse: 1.54014\n",
      "[1000]\ttraining's rmse: 1.51521\tvalid_1's rmse: 1.53954\n",
      "[1100]\ttraining's rmse: 1.51054\tvalid_1's rmse: 1.53922\n",
      "[1200]\ttraining's rmse: 1.50592\tvalid_1's rmse: 1.53894\n",
      "[1300]\ttraining's rmse: 1.50161\tvalid_1's rmse: 1.53878\n",
      "[1400]\ttraining's rmse: 1.49729\tvalid_1's rmse: 1.5386\n",
      "[1500]\ttraining's rmse: 1.49331\tvalid_1's rmse: 1.53849\n",
      "[1600]\ttraining's rmse: 1.48925\tvalid_1's rmse: 1.53834\n",
      "[1700]\ttraining's rmse: 1.48523\tvalid_1's rmse: 1.53823\n",
      "[1800]\ttraining's rmse: 1.48126\tvalid_1's rmse: 1.53815\n",
      "[1900]\ttraining's rmse: 1.47731\tvalid_1's rmse: 1.53797\n",
      "[2000]\ttraining's rmse: 1.47347\tvalid_1's rmse: 1.53785\n",
      "[2100]\ttraining's rmse: 1.46964\tvalid_1's rmse: 1.5378\n",
      "[2200]\ttraining's rmse: 1.4659\tvalid_1's rmse: 1.53768\n",
      "[2300]\ttraining's rmse: 1.4621\tvalid_1's rmse: 1.53759\n",
      "[2400]\ttraining's rmse: 1.45847\tvalid_1's rmse: 1.5375\n",
      "[2500]\ttraining's rmse: 1.45481\tvalid_1's rmse: 1.53744\n",
      "[2600]\ttraining's rmse: 1.45117\tvalid_1's rmse: 1.53737\n",
      "[2700]\ttraining's rmse: 1.44765\tvalid_1's rmse: 1.53741\n",
      "[2800]\ttraining's rmse: 1.44412\tvalid_1's rmse: 1.53739\n",
      "Early stopping, best iteration is:\n",
      "[2656]\ttraining's rmse: 1.44912\tvalid_1's rmse: 1.53733\n",
      "fold n°3\n",
      "Training until validation scores don't improve for 200 rounds.\n",
      "[100]\ttraining's rmse: 1.60597\tvalid_1's rmse: 1.61351\n",
      "[200]\ttraining's rmse: 1.57375\tvalid_1's rmse: 1.58554\n",
      "[300]\ttraining's rmse: 1.55811\tvalid_1's rmse: 1.5745\n",
      "[400]\ttraining's rmse: 1.54776\tvalid_1's rmse: 1.56897\n",
      "[500]\ttraining's rmse: 1.53957\tvalid_1's rmse: 1.56545\n",
      "[600]\ttraining's rmse: 1.53265\tvalid_1's rmse: 1.56346\n",
      "[700]\ttraining's rmse: 1.52643\tvalid_1's rmse: 1.56205\n",
      "[800]\ttraining's rmse: 1.52076\tvalid_1's rmse: 1.56097\n",
      "[900]\ttraining's rmse: 1.5157\tvalid_1's rmse: 1.56047\n",
      "[1000]\ttraining's rmse: 1.51072\tvalid_1's rmse: 1.55995\n",
      "[1100]\ttraining's rmse: 1.50608\tvalid_1's rmse: 1.55961\n",
      "[1200]\ttraining's rmse: 1.5016\tvalid_1's rmse: 1.55951\n",
      "[1300]\ttraining's rmse: 1.49732\tvalid_1's rmse: 1.5592\n",
      "[1400]\ttraining's rmse: 1.49322\tvalid_1's rmse: 1.55897\n",
      "[1500]\ttraining's rmse: 1.48895\tvalid_1's rmse: 1.55885\n",
      "[1600]\ttraining's rmse: 1.48492\tvalid_1's rmse: 1.55876\n",
      "[1700]\ttraining's rmse: 1.48094\tvalid_1's rmse: 1.55856\n",
      "[1800]\ttraining's rmse: 1.47708\tvalid_1's rmse: 1.55843\n",
      "[1900]\ttraining's rmse: 1.47322\tvalid_1's rmse: 1.55836\n",
      "[2000]\ttraining's rmse: 1.46939\tvalid_1's rmse: 1.55827\n",
      "[2100]\ttraining's rmse: 1.46566\tvalid_1's rmse: 1.55823\n",
      "[2200]\ttraining's rmse: 1.46202\tvalid_1's rmse: 1.55811\n",
      "[2300]\ttraining's rmse: 1.45825\tvalid_1's rmse: 1.55796\n",
      "[2400]\ttraining's rmse: 1.45462\tvalid_1's rmse: 1.5579\n",
      "[2500]\ttraining's rmse: 1.45097\tvalid_1's rmse: 1.55783\n",
      "[2600]\ttraining's rmse: 1.44731\tvalid_1's rmse: 1.55783\n",
      "[2700]\ttraining's rmse: 1.44372\tvalid_1's rmse: 1.55788\n",
      "Early stopping, best iteration is:\n",
      "[2567]\ttraining's rmse: 1.44852\tvalid_1's rmse: 1.55778\n",
      "fold n°4\n",
      "Training until validation scores don't improve for 200 rounds.\n",
      "[100]\ttraining's rmse: 1.60498\tvalid_1's rmse: 1.61767\n",
      "[200]\ttraining's rmse: 1.57273\tvalid_1's rmse: 1.5893\n",
      "[300]\ttraining's rmse: 1.55705\tvalid_1's rmse: 1.57815\n",
      "[400]\ttraining's rmse: 1.54663\tvalid_1's rmse: 1.57251\n",
      "[500]\ttraining's rmse: 1.53837\tvalid_1's rmse: 1.5692\n",
      "[600]\ttraining's rmse: 1.53125\tvalid_1's rmse: 1.56706\n",
      "[700]\ttraining's rmse: 1.52497\tvalid_1's rmse: 1.56562\n",
      "[800]\ttraining's rmse: 1.51934\tvalid_1's rmse: 1.5646\n",
      "[900]\ttraining's rmse: 1.51421\tvalid_1's rmse: 1.56403\n",
      "[1000]\ttraining's rmse: 1.50948\tvalid_1's rmse: 1.5636\n",
      "[1100]\ttraining's rmse: 1.50482\tvalid_1's rmse: 1.56315\n",
      "[1200]\ttraining's rmse: 1.50038\tvalid_1's rmse: 1.56289\n",
      "[1300]\ttraining's rmse: 1.49597\tvalid_1's rmse: 1.56277\n",
      "[1400]\ttraining's rmse: 1.49183\tvalid_1's rmse: 1.56258\n",
      "[1500]\ttraining's rmse: 1.48768\tvalid_1's rmse: 1.56241\n",
      "[1600]\ttraining's rmse: 1.48359\tvalid_1's rmse: 1.56223\n",
      "[1700]\ttraining's rmse: 1.47954\tvalid_1's rmse: 1.562\n",
      "[1800]\ttraining's rmse: 1.47561\tvalid_1's rmse: 1.56187\n",
      "[1900]\ttraining's rmse: 1.47172\tvalid_1's rmse: 1.56173\n",
      "[2000]\ttraining's rmse: 1.46786\tvalid_1's rmse: 1.5617\n",
      "[2100]\ttraining's rmse: 1.46401\tvalid_1's rmse: 1.56163\n"
     ]
    },
    {
     "name": "stdout",
     "output_type": "stream",
     "text": [
      "[2200]\ttraining's rmse: 1.46036\tvalid_1's rmse: 1.56154\n",
      "[2300]\ttraining's rmse: 1.45661\tvalid_1's rmse: 1.5615\n",
      "[2400]\ttraining's rmse: 1.4531\tvalid_1's rmse: 1.56139\n",
      "[2500]\ttraining's rmse: 1.44949\tvalid_1's rmse: 1.56142\n",
      "[2600]\ttraining's rmse: 1.44586\tvalid_1's rmse: 1.56134\n",
      "[2700]\ttraining's rmse: 1.44234\tvalid_1's rmse: 1.56132\n",
      "[2800]\ttraining's rmse: 1.43878\tvalid_1's rmse: 1.56128\n",
      "[2900]\ttraining's rmse: 1.43536\tvalid_1's rmse: 1.56124\n",
      "[3000]\ttraining's rmse: 1.43192\tvalid_1's rmse: 1.56124\n",
      "[3100]\ttraining's rmse: 1.42846\tvalid_1's rmse: 1.56128\n",
      "[3200]\ttraining's rmse: 1.42502\tvalid_1's rmse: 1.56125\n",
      "[3300]\ttraining's rmse: 1.42167\tvalid_1's rmse: 1.56124\n",
      "Early stopping, best iteration is:\n",
      "[3159]\ttraining's rmse: 1.4264\tvalid_1's rmse: 1.5612\n"
     ]
    },
    {
     "ename": "NameError",
     "evalue": "name 'oof_lgb_3' is not defined",
     "output_type": "error",
     "traceback": [
      "\u001b[1;31m---------------------------------------------------------------------------\u001b[0m",
      "\u001b[1;31mNameError\u001b[0m                                 Traceback (most recent call last)",
      "\u001b[1;32m<ipython-input-19-b031856233e9>\u001b[0m in \u001b[0;36m<module>\u001b[1;34m\u001b[0m\n\u001b[0;32m     24\u001b[0m     \u001b[0mfeature_importance\u001b[0m \u001b[1;33m=\u001b[0m \u001b[0mpd\u001b[0m\u001b[1;33m.\u001b[0m\u001b[0mconcat\u001b[0m\u001b[1;33m(\u001b[0m\u001b[1;33m[\u001b[0m\u001b[0mfeature_importance\u001b[0m\u001b[1;33m,\u001b[0m \u001b[0mfold_importance\u001b[0m\u001b[1;33m]\u001b[0m\u001b[1;33m,\u001b[0m \u001b[0maxis\u001b[0m\u001b[1;33m=\u001b[0m\u001b[1;36m0\u001b[0m\u001b[1;33m)\u001b[0m\u001b[1;33m\u001b[0m\u001b[1;33m\u001b[0m\u001b[0m\n\u001b[0;32m     25\u001b[0m \u001b[1;33m\u001b[0m\u001b[0m\n\u001b[1;32m---> 26\u001b[1;33m \u001b[0mprint\u001b[0m\u001b[1;33m(\u001b[0m\u001b[1;34m\"CV score: {:<8.5f}\"\u001b[0m\u001b[1;33m.\u001b[0m\u001b[0mformat\u001b[0m\u001b[1;33m(\u001b[0m\u001b[0mmean_squared_error\u001b[0m\u001b[1;33m(\u001b[0m\u001b[0moof_lgb_3\u001b[0m\u001b[1;33m,\u001b[0m \u001b[0mtarget\u001b[0m\u001b[1;33m)\u001b[0m\u001b[1;33m**\u001b[0m\u001b[1;36m0.5\u001b[0m\u001b[1;33m)\u001b[0m\u001b[1;33m)\u001b[0m\u001b[1;33m\u001b[0m\u001b[1;33m\u001b[0m\u001b[0m\n\u001b[0m",
      "\u001b[1;31mNameError\u001b[0m: name 'oof_lgb_3' is not defined"
     ]
    }
   ],
   "source": [
    "folds = StratifiedKFold(n_splits=5, shuffle=True, random_state=15)\n",
    "\n",
    "oof_lgb = np.zeros(len(train))\n",
    "predictions_lgb = np.zeros(len(test))\n",
    "feature_importance = pd.DataFrame()\n",
    "\n",
    "train_columns = [f for f in train.columns if f not in FEATS_EXCLUDED]\n",
    "\n",
    "for fold_, (trn_idx, val_idx) in enumerate(folds.split(train, train['outliers'].values)):    \n",
    "    print(\"fold n°{}\".format(fold_))\n",
    "    trn_data = lgb.Dataset(train.iloc[trn_idx][train_columns], label=train.iloc[trn_idx]['target'])\n",
    "    val_data = lgb.Dataset(train.iloc[val_idx][train_columns], label=train.iloc[val_idx]['target'])\n",
    "\n",
    "    num_round = 10000\n",
    "    clf = lgb.train(param, trn_data, num_round, valid_sets = [trn_data, val_data], verbose_eval=100, early_stopping_rounds = 200)\n",
    "    oof_lgb[val_idx] = clf.predict(train.iloc[val_idx][train_columns], num_iteration=clf.best_iteration)\n",
    "    \n",
    "    predictions_lgb += clf.predict(test[train_columns], num_iteration=clf.best_iteration) / folds.n_splits\n",
    "    \n",
    "    fold_importance = pd.DataFrame()\n",
    "    fold_importance[\"Feature\"] = train_columns\n",
    "    fold_importance[\"importance\"] = clf.feature_importance()\n",
    "    fold_importance[\"fold\"] = fold_ + 1\n",
    "    feature_importance = pd.concat([feature_importance, fold_importance], axis=0)\n",
    "    \n",
    "print(\"CV score: {:<8.5f}\".format(mean_squared_error(oof_lgb, target)**0.5))"
   ]
  },
  {
   "cell_type": "code",
   "execution_count": 21,
   "metadata": {
    "ExecuteTime": {
     "end_time": "2019-02-05T07:28:49.404739Z",
     "start_time": "2019-02-05T07:28:49.398754Z"
    }
   },
   "outputs": [],
   "source": [
    "model_without_outliers = pd.DataFrame({\"card_id\":test[\"card_id\"].values})\n",
    "model_without_outliers[\"target\"] = predictions_lgb"
   ]
  },
  {
   "cell_type": "markdown",
   "metadata": {},
   "source": [
    "# 이상치 예측 모델"
   ]
  },
  {
   "cell_type": "markdown",
   "metadata": {},
   "source": [
    "## 데이터 로드"
   ]
  },
  {
   "cell_type": "code",
   "execution_count": 22,
   "metadata": {
    "ExecuteTime": {
     "end_time": "2019-02-05T07:29:25.731387Z",
     "start_time": "2019-02-05T07:29:12.161695Z"
    }
   },
   "outputs": [],
   "source": [
    "train = pd.read_csv(path + 'train_v2.csv')\n",
    "test = pd.read_csv(path + 'test_v2.csv')"
   ]
  },
  {
   "cell_type": "code",
   "execution_count": 23,
   "metadata": {
    "ExecuteTime": {
     "end_time": "2019-02-05T07:30:18.850059Z",
     "start_time": "2019-02-05T07:30:18.847067Z"
    }
   },
   "outputs": [],
   "source": [
    "target = train['outliers']"
   ]
  },
  {
   "cell_type": "markdown",
   "metadata": {},
   "source": [
    "## 제거할 피처"
   ]
  },
  {
   "cell_type": "code",
   "execution_count": 24,
   "metadata": {
    "ExecuteTime": {
     "end_time": "2019-02-05T07:30:53.650065Z",
     "start_time": "2019-02-05T07:30:53.647104Z"
    }
   },
   "outputs": [],
   "source": [
    "FEATS_EXCLUDED = ['first_active', 'card_id', 'target', 'outliers',\n",
    "                  'hist_purchase_date_max', 'hist_purchase_date_min', \n",
    "                  'new_purchase_date_max', 'new_purchase_date_min']"
   ]
  },
  {
   "cell_type": "markdown",
   "metadata": {},
   "source": [
    "## 파라미터"
   ]
  },
  {
   "cell_type": "code",
   "execution_count": 27,
   "metadata": {
    "ExecuteTime": {
     "end_time": "2019-02-05T07:34:08.343765Z",
     "start_time": "2019-02-05T07:34:08.339774Z"
    }
   },
   "outputs": [],
   "source": [
    "param = {'num_leaves': 31,\n",
    "         'min_data_in_leaf': 30, \n",
    "         'objective':'binary',\n",
    "         'max_depth': 6,\n",
    "         'learning_rate': 0.01,\n",
    "         \"boosting\": \"rf\",\n",
    "         \"feature_fraction\": 0.9,\n",
    "         \"bagging_freq\": 1,\n",
    "         \"bagging_fraction\": 0.9 ,\n",
    "         \"bagging_seed\": 11,\n",
    "         \"metric\": 'binary_logloss',\n",
    "         \"lambda_l1\": 0.1,\n",
    "         \"verbosity\": -1,\n",
    "         \"random_state\": 2333}"
   ]
  },
  {
   "cell_type": "code",
   "execution_count": 31,
   "metadata": {
    "ExecuteTime": {
     "end_time": "2019-02-05T07:38:46.019698Z",
     "start_time": "2019-02-05T07:36:55.005497Z"
    }
   },
   "outputs": [
    {
     "name": "stdout",
     "output_type": "stream",
     "text": [
      "fold n°0\n",
      "Training until validation scores don't improve for 200 rounds.\n",
      "[100]\ttraining's binary_logloss: 0.0439766\tvalid_1's binary_logloss: 0.0466665\n",
      "[200]\ttraining's binary_logloss: 0.0439966\tvalid_1's binary_logloss: 0.0466482\n",
      "Early stopping, best iteration is:\n",
      "[11]\ttraining's binary_logloss: 0.0439433\tvalid_1's binary_logloss: 0.0467616\n",
      "fold n°1\n",
      "Training until validation scores don't improve for 200 rounds.\n",
      "[100]\ttraining's binary_logloss: 0.043985\tvalid_1's binary_logloss: 0.0471713\n",
      "[200]\ttraining's binary_logloss: 0.0440124\tvalid_1's binary_logloss: 0.0471722\n",
      "Early stopping, best iteration is:\n",
      "[3]\ttraining's binary_logloss: 0.0440217\tvalid_1's binary_logloss: 0.0470251\n",
      "fold n°2\n",
      "Training until validation scores don't improve for 200 rounds.\n",
      "[100]\ttraining's binary_logloss: 0.04429\tvalid_1's binary_logloss: 0.046208\n",
      "[200]\ttraining's binary_logloss: 0.044373\tvalid_1's binary_logloss: 0.0463012\n",
      "Early stopping, best iteration is:\n",
      "[60]\ttraining's binary_logloss: 0.044278\tvalid_1's binary_logloss: 0.0461625\n",
      "fold n°3\n",
      "Training until validation scores don't improve for 200 rounds.\n",
      "[100]\ttraining's binary_logloss: 0.0442436\tvalid_1's binary_logloss: 0.0447846\n",
      "[200]\ttraining's binary_logloss: 0.0442705\tvalid_1's binary_logloss: 0.0447922\n",
      "Early stopping, best iteration is:\n",
      "[59]\ttraining's binary_logloss: 0.0442686\tvalid_1's binary_logloss: 0.0447758\n",
      "fold n°4\n",
      "Training until validation scores don't improve for 200 rounds.\n",
      "[100]\ttraining's binary_logloss: 0.0442107\tvalid_1's binary_logloss: 0.0463885\n",
      "[200]\ttraining's binary_logloss: 0.0442242\tvalid_1's binary_logloss: 0.0464153\n",
      "Early stopping, best iteration is:\n",
      "[16]\ttraining's binary_logloss: 0.0441763\tvalid_1's binary_logloss: 0.0464318\n"
     ]
    },
    {
     "ename": "ValueError",
     "evalue": "Unknown label type: (array([0.00185538, 0.01493974, 0.00208452, ..., 0.00468058, 0.01714252,\n       0.00185538]),)",
     "output_type": "error",
     "traceback": [
      "\u001b[1;31m---------------------------------------------------------------------------\u001b[0m",
      "\u001b[1;31mValueError\u001b[0m                                Traceback (most recent call last)",
      "\u001b[1;32m<ipython-input-31-3855a926fb86>\u001b[0m in \u001b[0;36m<module>\u001b[1;34m\u001b[0m\n\u001b[0;32m     24\u001b[0m     \u001b[0mfeature_importance\u001b[0m \u001b[1;33m=\u001b[0m \u001b[0mpd\u001b[0m\u001b[1;33m.\u001b[0m\u001b[0mconcat\u001b[0m\u001b[1;33m(\u001b[0m\u001b[1;33m[\u001b[0m\u001b[0mfeature_importance\u001b[0m\u001b[1;33m,\u001b[0m \u001b[0mfold_importance\u001b[0m\u001b[1;33m]\u001b[0m\u001b[1;33m,\u001b[0m \u001b[0maxis\u001b[0m\u001b[1;33m=\u001b[0m\u001b[1;36m0\u001b[0m\u001b[1;33m)\u001b[0m\u001b[1;33m\u001b[0m\u001b[1;33m\u001b[0m\u001b[0m\n\u001b[0;32m     25\u001b[0m \u001b[1;33m\u001b[0m\u001b[0m\n\u001b[1;32m---> 26\u001b[1;33m \u001b[0mprint\u001b[0m\u001b[1;33m(\u001b[0m\u001b[1;34m\"CV score: {:<8.5f}\"\u001b[0m\u001b[1;33m.\u001b[0m\u001b[0mformat\u001b[0m\u001b[1;33m(\u001b[0m\u001b[0mlog_loss\u001b[0m\u001b[1;33m(\u001b[0m\u001b[0moof_lgb\u001b[0m\u001b[1;33m,\u001b[0m \u001b[0mtarget\u001b[0m\u001b[1;33m.\u001b[0m\u001b[0mvalues\u001b[0m\u001b[1;33m)\u001b[0m\u001b[1;33m**\u001b[0m\u001b[1;36m0.5\u001b[0m\u001b[1;33m)\u001b[0m\u001b[1;33m)\u001b[0m\u001b[1;33m\u001b[0m\u001b[1;33m\u001b[0m\u001b[0m\n\u001b[0m",
      "\u001b[1;32mc:\\python\\lib\\site-packages\\sklearn\\metrics\\classification.py\u001b[0m in \u001b[0;36mlog_loss\u001b[1;34m(y_true, y_pred, eps, normalize, sample_weight, labels)\u001b[0m\n\u001b[0;32m   1769\u001b[0m         \u001b[0mlb\u001b[0m\u001b[1;33m.\u001b[0m\u001b[0mfit\u001b[0m\u001b[1;33m(\u001b[0m\u001b[0mlabels\u001b[0m\u001b[1;33m)\u001b[0m\u001b[1;33m\u001b[0m\u001b[1;33m\u001b[0m\u001b[0m\n\u001b[0;32m   1770\u001b[0m     \u001b[1;32melse\u001b[0m\u001b[1;33m:\u001b[0m\u001b[1;33m\u001b[0m\u001b[1;33m\u001b[0m\u001b[0m\n\u001b[1;32m-> 1771\u001b[1;33m         \u001b[0mlb\u001b[0m\u001b[1;33m.\u001b[0m\u001b[0mfit\u001b[0m\u001b[1;33m(\u001b[0m\u001b[0my_true\u001b[0m\u001b[1;33m)\u001b[0m\u001b[1;33m\u001b[0m\u001b[1;33m\u001b[0m\u001b[0m\n\u001b[0m\u001b[0;32m   1772\u001b[0m \u001b[1;33m\u001b[0m\u001b[0m\n\u001b[0;32m   1773\u001b[0m     \u001b[1;32mif\u001b[0m \u001b[0mlen\u001b[0m\u001b[1;33m(\u001b[0m\u001b[0mlb\u001b[0m\u001b[1;33m.\u001b[0m\u001b[0mclasses_\u001b[0m\u001b[1;33m)\u001b[0m \u001b[1;33m==\u001b[0m \u001b[1;36m1\u001b[0m\u001b[1;33m:\u001b[0m\u001b[1;33m\u001b[0m\u001b[1;33m\u001b[0m\u001b[0m\n",
      "\u001b[1;32mc:\\python\\lib\\site-packages\\sklearn\\preprocessing\\label.py\u001b[0m in \u001b[0;36mfit\u001b[1;34m(self, y)\u001b[0m\n\u001b[0;32m    411\u001b[0m \u001b[1;33m\u001b[0m\u001b[0m\n\u001b[0;32m    412\u001b[0m         \u001b[0mself\u001b[0m\u001b[1;33m.\u001b[0m\u001b[0msparse_input_\u001b[0m \u001b[1;33m=\u001b[0m \u001b[0msp\u001b[0m\u001b[1;33m.\u001b[0m\u001b[0missparse\u001b[0m\u001b[1;33m(\u001b[0m\u001b[0my\u001b[0m\u001b[1;33m)\u001b[0m\u001b[1;33m\u001b[0m\u001b[1;33m\u001b[0m\u001b[0m\n\u001b[1;32m--> 413\u001b[1;33m         \u001b[0mself\u001b[0m\u001b[1;33m.\u001b[0m\u001b[0mclasses_\u001b[0m \u001b[1;33m=\u001b[0m \u001b[0munique_labels\u001b[0m\u001b[1;33m(\u001b[0m\u001b[0my\u001b[0m\u001b[1;33m)\u001b[0m\u001b[1;33m\u001b[0m\u001b[1;33m\u001b[0m\u001b[0m\n\u001b[0m\u001b[0;32m    414\u001b[0m         \u001b[1;32mreturn\u001b[0m \u001b[0mself\u001b[0m\u001b[1;33m\u001b[0m\u001b[1;33m\u001b[0m\u001b[0m\n\u001b[0;32m    415\u001b[0m \u001b[1;33m\u001b[0m\u001b[0m\n",
      "\u001b[1;32mc:\\python\\lib\\site-packages\\sklearn\\utils\\multiclass.py\u001b[0m in \u001b[0;36munique_labels\u001b[1;34m(*ys)\u001b[0m\n\u001b[0;32m     94\u001b[0m     \u001b[0m_unique_labels\u001b[0m \u001b[1;33m=\u001b[0m \u001b[0m_FN_UNIQUE_LABELS\u001b[0m\u001b[1;33m.\u001b[0m\u001b[0mget\u001b[0m\u001b[1;33m(\u001b[0m\u001b[0mlabel_type\u001b[0m\u001b[1;33m,\u001b[0m \u001b[1;32mNone\u001b[0m\u001b[1;33m)\u001b[0m\u001b[1;33m\u001b[0m\u001b[1;33m\u001b[0m\u001b[0m\n\u001b[0;32m     95\u001b[0m     \u001b[1;32mif\u001b[0m \u001b[1;32mnot\u001b[0m \u001b[0m_unique_labels\u001b[0m\u001b[1;33m:\u001b[0m\u001b[1;33m\u001b[0m\u001b[1;33m\u001b[0m\u001b[0m\n\u001b[1;32m---> 96\u001b[1;33m         \u001b[1;32mraise\u001b[0m \u001b[0mValueError\u001b[0m\u001b[1;33m(\u001b[0m\u001b[1;34m\"Unknown label type: %s\"\u001b[0m \u001b[1;33m%\u001b[0m \u001b[0mrepr\u001b[0m\u001b[1;33m(\u001b[0m\u001b[0mys\u001b[0m\u001b[1;33m)\u001b[0m\u001b[1;33m)\u001b[0m\u001b[1;33m\u001b[0m\u001b[1;33m\u001b[0m\u001b[0m\n\u001b[0m\u001b[0;32m     97\u001b[0m \u001b[1;33m\u001b[0m\u001b[0m\n\u001b[0;32m     98\u001b[0m     \u001b[0mys_labels\u001b[0m \u001b[1;33m=\u001b[0m \u001b[0mset\u001b[0m\u001b[1;33m(\u001b[0m\u001b[0mchain\u001b[0m\u001b[1;33m.\u001b[0m\u001b[0mfrom_iterable\u001b[0m\u001b[1;33m(\u001b[0m\u001b[0m_unique_labels\u001b[0m\u001b[1;33m(\u001b[0m\u001b[0my\u001b[0m\u001b[1;33m)\u001b[0m \u001b[1;32mfor\u001b[0m \u001b[0my\u001b[0m \u001b[1;32min\u001b[0m \u001b[0mys\u001b[0m\u001b[1;33m)\u001b[0m\u001b[1;33m)\u001b[0m\u001b[1;33m\u001b[0m\u001b[1;33m\u001b[0m\u001b[0m\n",
      "\u001b[1;31mValueError\u001b[0m: Unknown label type: (array([0.00185538, 0.01493974, 0.00208452, ..., 0.00468058, 0.01714252,\n       0.00185538]),)"
     ]
    }
   ],
   "source": [
    "folds = StratifiedKFold(n_splits=5, shuffle=True, random_state=15)\n",
    "\n",
    "oof_lgb = np.zeros(len(train))\n",
    "predictions_lgb = np.zeros(len(test))\n",
    "feature_importance = pd.DataFrame()\n",
    "\n",
    "train_columns = [f for f in train.columns if f not in FEATS_EXCLUDED]\n",
    "\n",
    "for fold_, (trn_idx, val_idx) in enumerate(folds.split(train, train['outliers'].values)):    \n",
    "    print(\"fold n°{}\".format(fold_))\n",
    "    trn_data = lgb.Dataset(train.iloc[trn_idx][train_columns], label=target.iloc[trn_idx])\n",
    "    val_data = lgb.Dataset(train.iloc[val_idx][train_columns], label=target.iloc[val_idx])\n",
    "\n",
    "    num_round = 10000\n",
    "    clf = lgb.train(param, trn_data, num_round, valid_sets = [trn_data, val_data], verbose_eval=100, early_stopping_rounds = 200)\n",
    "    oof_lgb[val_idx] = clf.predict(train.iloc[val_idx][train_columns], num_iteration=clf.best_iteration)\n",
    "    \n",
    "    predictions_lgb += clf.predict(test[train_columns], num_iteration=clf.best_iteration) / folds.n_splits\n",
    "    \n",
    "    fold_importance = pd.DataFrame()\n",
    "    fold_importance[\"Feature\"] = train_columns\n",
    "    fold_importance[\"importance\"] = clf.feature_importance()\n",
    "    fold_importance[\"fold\"] = fold_ + 1\n",
    "    feature_importance = pd.concat([feature_importance, fold_importance], axis=0)\n",
    "    \n",
    "print(\"CV score: {:<8.5f}\".format(log_loss(target.values, oof_lgb)))"
   ]
  },
  {
   "cell_type": "code",
   "execution_count": 39,
   "metadata": {
    "ExecuteTime": {
     "end_time": "2019-02-05T07:40:48.388499Z",
     "start_time": "2019-02-05T07:40:48.378528Z"
    }
   },
   "outputs": [
    {
     "data": {
      "text/html": [
       "<div>\n",
       "<style scoped>\n",
       "    .dataframe tbody tr th:only-of-type {\n",
       "        vertical-align: middle;\n",
       "    }\n",
       "\n",
       "    .dataframe tbody tr th {\n",
       "        vertical-align: top;\n",
       "    }\n",
       "\n",
       "    .dataframe thead th {\n",
       "        text-align: right;\n",
       "    }\n",
       "</style>\n",
       "<table border=\"1\" class=\"dataframe\">\n",
       "  <thead>\n",
       "    <tr style=\"text-align: right;\">\n",
       "      <th></th>\n",
       "      <th>card_id</th>\n",
       "      <th>target</th>\n",
       "    </tr>\n",
       "  </thead>\n",
       "  <tbody>\n",
       "    <tr>\n",
       "      <th>0</th>\n",
       "      <td>C_ID_0ab67a22ab</td>\n",
       "      <td>0.095006</td>\n",
       "    </tr>\n",
       "    <tr>\n",
       "      <th>1</th>\n",
       "      <td>C_ID_130fd0cbdd</td>\n",
       "      <td>0.001793</td>\n",
       "    </tr>\n",
       "    <tr>\n",
       "      <th>2</th>\n",
       "      <td>C_ID_b709037bc5</td>\n",
       "      <td>0.006206</td>\n",
       "    </tr>\n",
       "    <tr>\n",
       "      <th>3</th>\n",
       "      <td>C_ID_d27d835a9f</td>\n",
       "      <td>0.001715</td>\n",
       "    </tr>\n",
       "    <tr>\n",
       "      <th>4</th>\n",
       "      <td>C_ID_2b5e3df5c2</td>\n",
       "      <td>0.002374</td>\n",
       "    </tr>\n",
       "  </tbody>\n",
       "</table>\n",
       "</div>"
      ],
      "text/plain": [
       "           card_id    target\n",
       "0  C_ID_0ab67a22ab  0.095006\n",
       "1  C_ID_130fd0cbdd  0.001793\n",
       "2  C_ID_b709037bc5  0.006206\n",
       "3  C_ID_d27d835a9f  0.001715\n",
       "4  C_ID_2b5e3df5c2  0.002374"
      ]
     },
     "execution_count": 39,
     "metadata": {},
     "output_type": "execute_result"
    }
   ],
   "source": [
    "outlier_prob = pd.DataFrame({\"card_id\":test[\"card_id\"].values})\n",
    "outlier_prob[\"target\"] = predictions_lgb\n",
    "outlier_prob.head()"
   ]
  },
  {
   "cell_type": "code",
   "execution_count": 71,
   "metadata": {
    "ExecuteTime": {
     "end_time": "2019-02-05T08:09:12.640091Z",
     "start_time": "2019-02-05T08:09:11.971636Z"
    }
   },
   "outputs": [
    {
     "data": {
      "text/plain": [
       "<matplotlib.axes._subplots.AxesSubplot at 0x16c185f2a20>"
      ]
     },
     "execution_count": 71,
     "metadata": {},
     "output_type": "execute_result"
    },
    {
     "data": {
      "image/png": "[encoded data removed]",
      "text/plain": [
       "<Figure size 432x288 with 1 Axes>"
      ]
     },
     "metadata": {
      "needs_background": "light"
     },
     "output_type": "display_data"
    }
   ],
   "source": [
    "sns.distplot(outlier_prob.sort_values('target')['target'])"
   ]
  },
  {
   "cell_type": "code",
   "execution_count": 77,
   "metadata": {
    "ExecuteTime": {
     "end_time": "2019-02-05T08:10:22.959075Z",
     "start_time": "2019-02-05T08:10:22.942084Z"
    }
   },
   "outputs": [],
   "source": [
    "outt = outlier_prob.sort_values('target')[-10:].card_id"
   ]
  },
  {
   "cell_type": "code",
   "execution_count": 61,
   "metadata": {
    "ExecuteTime": {
     "end_time": "2019-02-05T08:07:24.577333Z",
     "start_time": "2019-02-05T08:07:24.553408Z"
    }
   },
   "outputs": [],
   "source": [
    "outlier_id = pd.DataFrame(outlier_prob.sort_values(by='target',ascending = False).head(25000)['card_id'])"
   ]
  },
  {
   "cell_type": "code",
   "execution_count": 49,
   "metadata": {
    "ExecuteTime": {
     "end_time": "2019-02-05T08:02:02.714726Z",
     "start_time": "2019-02-05T08:02:02.621619Z"
    }
   },
   "outputs": [],
   "source": [
    "best_submission = pd.read_csv(path + 'submission_best_score.csv')"
   ]
  },
  {
   "cell_type": "code",
   "execution_count": 44,
   "metadata": {
    "ExecuteTime": {
     "end_time": "2019-02-05T07:44:16.336295Z",
     "start_time": "2019-02-05T07:44:16.261457Z"
    }
   },
   "outputs": [
    {
     "data": {
      "text/html": [
       "<div>\n",
       "<style scoped>\n",
       "    .dataframe tbody tr th:only-of-type {\n",
       "        vertical-align: middle;\n",
       "    }\n",
       "\n",
       "    .dataframe tbody tr th {\n",
       "        vertical-align: top;\n",
       "    }\n",
       "\n",
       "    .dataframe thead th {\n",
       "        text-align: right;\n",
       "    }\n",
       "</style>\n",
       "<table border=\"1\" class=\"dataframe\">\n",
       "  <thead>\n",
       "    <tr style=\"text-align: right;\">\n",
       "      <th></th>\n",
       "      <th>card_id</th>\n",
       "      <th>target</th>\n",
       "    </tr>\n",
       "  </thead>\n",
       "  <tbody>\n",
       "    <tr>\n",
       "      <th>0</th>\n",
       "      <td>C_ID_0ab67a22ab</td>\n",
       "      <td>-2.897076</td>\n",
       "    </tr>\n",
       "    <tr>\n",
       "      <th>1</th>\n",
       "      <td>C_ID_6d8dba8475</td>\n",
       "      <td>-0.808007</td>\n",
       "    </tr>\n",
       "    <tr>\n",
       "      <th>2</th>\n",
       "      <td>C_ID_7f1041e8e1</td>\n",
       "      <td>-5.447275</td>\n",
       "    </tr>\n",
       "    <tr>\n",
       "      <th>3</th>\n",
       "      <td>C_ID_22e4a47c72</td>\n",
       "      <td>-0.088087</td>\n",
       "    </tr>\n",
       "    <tr>\n",
       "      <th>4</th>\n",
       "      <td>C_ID_b54cfad8b2</td>\n",
       "      <td>-0.996847</td>\n",
       "    </tr>\n",
       "  </tbody>\n",
       "</table>\n",
       "</div>"
      ],
      "text/plain": [
       "           card_id    target\n",
       "0  C_ID_0ab67a22ab -2.897076\n",
       "1  C_ID_6d8dba8475 -0.808007\n",
       "2  C_ID_7f1041e8e1 -5.447275\n",
       "3  C_ID_22e4a47c72 -0.088087\n",
       "4  C_ID_b54cfad8b2 -0.996847"
      ]
     },
     "execution_count": 44,
     "metadata": {},
     "output_type": "execute_result"
    }
   ],
   "source": [
    "most_likely_liers = best_submission.merge(outlier_id,how='right')\n",
    "most_likely_liers.head()"
   ]
  },
  {
   "cell_type": "code",
   "execution_count": 56,
   "metadata": {
    "ExecuteTime": {
     "end_time": "2019-02-05T08:04:35.566549Z",
     "start_time": "2019-02-05T08:04:24.773963Z"
    }
   },
   "outputs": [],
   "source": [
    "for card_id in outlier_id['card_id']:\n",
    "    model_without_outliers.loc[model_without_outliers['card_id']==card_id,'target'] = -33"
   ]
  },
  {
   "cell_type": "code",
   "execution_count": 45,
   "metadata": {
    "ExecuteTime": {
     "end_time": "2019-02-05T07:51:18.991481Z",
     "start_time": "2019-02-05T07:46:24.682058Z"
    }
   },
   "outputs": [],
   "source": [
    "for card_id in most_likely_liers['card_id']:\n",
    "    model_without_outliers.loc[model_without_outliers['card_id']==card_id,'target'] = most_likely_liers.loc[most_likely_liers['card_id']==card_id,'target'].values"
   ]
  },
  {
   "cell_type": "code",
   "execution_count": 60,
   "metadata": {
    "ExecuteTime": {
     "end_time": "2019-02-05T08:05:40.813632Z",
     "start_time": "2019-02-05T08:05:40.483196Z"
    }
   },
   "outputs": [],
   "source": [
    "model_without_outliers.to_csv(\"./data/combining_submission.csv\", index=False)"
   ]
  },
  {
   "cell_type": "code",
   "execution_count": 72,
   "metadata": {
    "ExecuteTime": {
     "end_time": "2019-02-05T08:09:59.146317Z",
     "start_time": "2019-02-05T08:09:59.052251Z"
    }
   },
   "outputs": [],
   "source": [
    "subbb = pd.read_csv(path + 'submission_combining.csv')"
   ]
  },
  {
   "cell_type": "code",
   "execution_count": 74,
   "metadata": {
    "ExecuteTime": {
     "end_time": "2019-02-05T08:10:02.742187Z",
     "start_time": "2019-02-05T08:10:02.728201Z"
    }
   },
   "outputs": [
    {
     "data": {
      "text/html": [
       "<div>\n",
       "<style scoped>\n",
       "    .dataframe tbody tr th:only-of-type {\n",
       "        vertical-align: middle;\n",
       "    }\n",
       "\n",
       "    .dataframe tbody tr th {\n",
       "        vertical-align: top;\n",
       "    }\n",
       "\n",
       "    .dataframe thead th {\n",
       "        text-align: right;\n",
       "    }\n",
       "</style>\n",
       "<table border=\"1\" class=\"dataframe\">\n",
       "  <thead>\n",
       "    <tr style=\"text-align: right;\">\n",
       "      <th></th>\n",
       "      <th>card_id</th>\n",
       "      <th>target</th>\n",
       "    </tr>\n",
       "  </thead>\n",
       "  <tbody>\n",
       "    <tr>\n",
       "      <th>0</th>\n",
       "      <td>C_ID_0ab67a22ab</td>\n",
       "      <td>-2.897076</td>\n",
       "    </tr>\n",
       "    <tr>\n",
       "      <th>1</th>\n",
       "      <td>C_ID_130fd0cbdd</td>\n",
       "      <td>-0.218844</td>\n",
       "    </tr>\n",
       "    <tr>\n",
       "      <th>2</th>\n",
       "      <td>C_ID_b709037bc5</td>\n",
       "      <td>-0.295622</td>\n",
       "    </tr>\n",
       "    <tr>\n",
       "      <th>3</th>\n",
       "      <td>C_ID_d27d835a9f</td>\n",
       "      <td>-0.122080</td>\n",
       "    </tr>\n",
       "    <tr>\n",
       "      <th>4</th>\n",
       "      <td>C_ID_2b5e3df5c2</td>\n",
       "      <td>-1.369583</td>\n",
       "    </tr>\n",
       "    <tr>\n",
       "      <th>5</th>\n",
       "      <td>C_ID_5814b4f13c</td>\n",
       "      <td>0.847385</td>\n",
       "    </tr>\n",
       "    <tr>\n",
       "      <th>6</th>\n",
       "      <td>C_ID_a1b3c75277</td>\n",
       "      <td>0.187328</td>\n",
       "    </tr>\n",
       "    <tr>\n",
       "      <th>7</th>\n",
       "      <td>C_ID_f7cada36d3</td>\n",
       "      <td>0.899611</td>\n",
       "    </tr>\n",
       "    <tr>\n",
       "      <th>8</th>\n",
       "      <td>C_ID_9d2bc8dfc4</td>\n",
       "      <td>-0.734100</td>\n",
       "    </tr>\n",
       "    <tr>\n",
       "      <th>9</th>\n",
       "      <td>C_ID_6d8dba8475</td>\n",
       "      <td>-0.808007</td>\n",
       "    </tr>\n",
       "    <tr>\n",
       "      <th>10</th>\n",
       "      <td>C_ID_4859ac9ed5</td>\n",
       "      <td>-0.444291</td>\n",
       "    </tr>\n",
       "    <tr>\n",
       "      <th>11</th>\n",
       "      <td>C_ID_0e281e8ad6</td>\n",
       "      <td>0.097339</td>\n",
       "    </tr>\n",
       "    <tr>\n",
       "      <th>12</th>\n",
       "      <td>C_ID_8375dfdaa2</td>\n",
       "      <td>0.225073</td>\n",
       "    </tr>\n",
       "    <tr>\n",
       "      <th>13</th>\n",
       "      <td>C_ID_79d149c008</td>\n",
       "      <td>-0.072638</td>\n",
       "    </tr>\n",
       "    <tr>\n",
       "      <th>14</th>\n",
       "      <td>C_ID_7f1041e8e1</td>\n",
       "      <td>-5.447275</td>\n",
       "    </tr>\n",
       "    <tr>\n",
       "      <th>15</th>\n",
       "      <td>C_ID_f72513589e</td>\n",
       "      <td>0.600045</td>\n",
       "    </tr>\n",
       "    <tr>\n",
       "      <th>16</th>\n",
       "      <td>C_ID_a7f2d6984e</td>\n",
       "      <td>0.535676</td>\n",
       "    </tr>\n",
       "    <tr>\n",
       "      <th>17</th>\n",
       "      <td>C_ID_15489b42d3</td>\n",
       "      <td>-0.027905</td>\n",
       "    </tr>\n",
       "    <tr>\n",
       "      <th>18</th>\n",
       "      <td>C_ID_e457bbd71d</td>\n",
       "      <td>0.141888</td>\n",
       "    </tr>\n",
       "    <tr>\n",
       "      <th>19</th>\n",
       "      <td>C_ID_3f74e10c7e</td>\n",
       "      <td>-0.251997</td>\n",
       "    </tr>\n",
       "    <tr>\n",
       "      <th>20</th>\n",
       "      <td>C_ID_48243da9c4</td>\n",
       "      <td>0.221728</td>\n",
       "    </tr>\n",
       "    <tr>\n",
       "      <th>21</th>\n",
       "      <td>C_ID_7ea1fcf117</td>\n",
       "      <td>-0.841892</td>\n",
       "    </tr>\n",
       "    <tr>\n",
       "      <th>22</th>\n",
       "      <td>C_ID_22e4a47c72</td>\n",
       "      <td>-0.088087</td>\n",
       "    </tr>\n",
       "    <tr>\n",
       "      <th>23</th>\n",
       "      <td>C_ID_5d30729184</td>\n",
       "      <td>0.249210</td>\n",
       "    </tr>\n",
       "    <tr>\n",
       "      <th>24</th>\n",
       "      <td>C_ID_b54cfad8b2</td>\n",
       "      <td>-0.996847</td>\n",
       "    </tr>\n",
       "    <tr>\n",
       "      <th>25</th>\n",
       "      <td>C_ID_4b82e26faa</td>\n",
       "      <td>0.271304</td>\n",
       "    </tr>\n",
       "    <tr>\n",
       "      <th>26</th>\n",
       "      <td>C_ID_60a453531a</td>\n",
       "      <td>-0.850357</td>\n",
       "    </tr>\n",
       "    <tr>\n",
       "      <th>27</th>\n",
       "      <td>C_ID_0c9315feec</td>\n",
       "      <td>-0.437878</td>\n",
       "    </tr>\n",
       "    <tr>\n",
       "      <th>28</th>\n",
       "      <td>C_ID_1e28804d36</td>\n",
       "      <td>-0.108256</td>\n",
       "    </tr>\n",
       "    <tr>\n",
       "      <th>29</th>\n",
       "      <td>C_ID_68de79f7e2</td>\n",
       "      <td>-0.384975</td>\n",
       "    </tr>\n",
       "    <tr>\n",
       "      <th>...</th>\n",
       "      <td>...</td>\n",
       "      <td>...</td>\n",
       "    </tr>\n",
       "    <tr>\n",
       "      <th>123593</th>\n",
       "      <td>C_ID_cd42a5db89</td>\n",
       "      <td>-0.330300</td>\n",
       "    </tr>\n",
       "    <tr>\n",
       "      <th>123594</th>\n",
       "      <td>C_ID_715b9a183d</td>\n",
       "      <td>-1.223933</td>\n",
       "    </tr>\n",
       "    <tr>\n",
       "      <th>123595</th>\n",
       "      <td>C_ID_9b25df3309</td>\n",
       "      <td>-0.110162</td>\n",
       "    </tr>\n",
       "    <tr>\n",
       "      <th>123596</th>\n",
       "      <td>C_ID_043b3c2ccd</td>\n",
       "      <td>1.273591</td>\n",
       "    </tr>\n",
       "    <tr>\n",
       "      <th>123597</th>\n",
       "      <td>C_ID_7685eae7b2</td>\n",
       "      <td>-0.544589</td>\n",
       "    </tr>\n",
       "    <tr>\n",
       "      <th>123598</th>\n",
       "      <td>C_ID_7ee1a21a95</td>\n",
       "      <td>-0.547448</td>\n",
       "    </tr>\n",
       "    <tr>\n",
       "      <th>123599</th>\n",
       "      <td>C_ID_2bf12fed6b</td>\n",
       "      <td>0.531491</td>\n",
       "    </tr>\n",
       "    <tr>\n",
       "      <th>123600</th>\n",
       "      <td>C_ID_2932a6ea37</td>\n",
       "      <td>-1.368305</td>\n",
       "    </tr>\n",
       "    <tr>\n",
       "      <th>123601</th>\n",
       "      <td>C_ID_cc33d0d508</td>\n",
       "      <td>-1.442398</td>\n",
       "    </tr>\n",
       "    <tr>\n",
       "      <th>123602</th>\n",
       "      <td>C_ID_8852708dcb</td>\n",
       "      <td>-0.199926</td>\n",
       "    </tr>\n",
       "    <tr>\n",
       "      <th>123603</th>\n",
       "      <td>C_ID_c3e88ef62d</td>\n",
       "      <td>0.042724</td>\n",
       "    </tr>\n",
       "    <tr>\n",
       "      <th>123604</th>\n",
       "      <td>C_ID_650557248c</td>\n",
       "      <td>0.664800</td>\n",
       "    </tr>\n",
       "    <tr>\n",
       "      <th>123605</th>\n",
       "      <td>C_ID_f14af9cb56</td>\n",
       "      <td>-0.644553</td>\n",
       "    </tr>\n",
       "    <tr>\n",
       "      <th>123606</th>\n",
       "      <td>C_ID_068dcf31e8</td>\n",
       "      <td>-0.480944</td>\n",
       "    </tr>\n",
       "    <tr>\n",
       "      <th>123607</th>\n",
       "      <td>C_ID_6659f4625a</td>\n",
       "      <td>0.749455</td>\n",
       "    </tr>\n",
       "    <tr>\n",
       "      <th>123608</th>\n",
       "      <td>C_ID_dc842bba27</td>\n",
       "      <td>-0.458040</td>\n",
       "    </tr>\n",
       "    <tr>\n",
       "      <th>123609</th>\n",
       "      <td>C_ID_bd625edce0</td>\n",
       "      <td>0.104644</td>\n",
       "    </tr>\n",
       "    <tr>\n",
       "      <th>123610</th>\n",
       "      <td>C_ID_278446cc2f</td>\n",
       "      <td>0.255153</td>\n",
       "    </tr>\n",
       "    <tr>\n",
       "      <th>123611</th>\n",
       "      <td>C_ID_ad358eb92e</td>\n",
       "      <td>-1.024303</td>\n",
       "    </tr>\n",
       "    <tr>\n",
       "      <th>123612</th>\n",
       "      <td>C_ID_7d9bcec574</td>\n",
       "      <td>-0.746830</td>\n",
       "    </tr>\n",
       "    <tr>\n",
       "      <th>123613</th>\n",
       "      <td>C_ID_b588b35e15</td>\n",
       "      <td>0.394054</td>\n",
       "    </tr>\n",
       "    <tr>\n",
       "      <th>123614</th>\n",
       "      <td>C_ID_7147e348c3</td>\n",
       "      <td>0.976667</td>\n",
       "    </tr>\n",
       "    <tr>\n",
       "      <th>123615</th>\n",
       "      <td>C_ID_727d3ec5da</td>\n",
       "      <td>-0.961920</td>\n",
       "    </tr>\n",
       "    <tr>\n",
       "      <th>123616</th>\n",
       "      <td>C_ID_107d93e20c</td>\n",
       "      <td>1.388133</td>\n",
       "    </tr>\n",
       "    <tr>\n",
       "      <th>123617</th>\n",
       "      <td>C_ID_0e74bd4966</td>\n",
       "      <td>0.530503</td>\n",
       "    </tr>\n",
       "    <tr>\n",
       "      <th>123618</th>\n",
       "      <td>C_ID_7a239d2eda</td>\n",
       "      <td>1.454841</td>\n",
       "    </tr>\n",
       "    <tr>\n",
       "      <th>123619</th>\n",
       "      <td>C_ID_75ace375ae</td>\n",
       "      <td>-0.576348</td>\n",
       "    </tr>\n",
       "    <tr>\n",
       "      <th>123620</th>\n",
       "      <td>C_ID_21d56d950c</td>\n",
       "      <td>1.076122</td>\n",
       "    </tr>\n",
       "    <tr>\n",
       "      <th>123621</th>\n",
       "      <td>C_ID_6c46fc5a9d</td>\n",
       "      <td>-3.233429</td>\n",
       "    </tr>\n",
       "    <tr>\n",
       "      <th>123622</th>\n",
       "      <td>C_ID_87e7979a5f</td>\n",
       "      <td>0.130671</td>\n",
       "    </tr>\n",
       "  </tbody>\n",
       "</table>\n",
       "<p>123623 rows × 2 columns</p>\n",
       "</div>"
      ],
      "text/plain": [
       "                card_id    target\n",
       "0       C_ID_0ab67a22ab -2.897076\n",
       "1       C_ID_130fd0cbdd -0.218844\n",
       "2       C_ID_b709037bc5 -0.295622\n",
       "3       C_ID_d27d835a9f -0.122080\n",
       "4       C_ID_2b5e3df5c2 -1.369583\n",
       "5       C_ID_5814b4f13c  0.847385\n",
       "6       C_ID_a1b3c75277  0.187328\n",
       "7       C_ID_f7cada36d3  0.899611\n",
       "8       C_ID_9d2bc8dfc4 -0.734100\n",
       "9       C_ID_6d8dba8475 -0.808007\n",
       "10      C_ID_4859ac9ed5 -0.444291\n",
       "11      C_ID_0e281e8ad6  0.097339\n",
       "12      C_ID_8375dfdaa2  0.225073\n",
       "13      C_ID_79d149c008 -0.072638\n",
       "14      C_ID_7f1041e8e1 -5.447275\n",
       "15      C_ID_f72513589e  0.600045\n",
       "16      C_ID_a7f2d6984e  0.535676\n",
       "17      C_ID_15489b42d3 -0.027905\n",
       "18      C_ID_e457bbd71d  0.141888\n",
       "19      C_ID_3f74e10c7e -0.251997\n",
       "20      C_ID_48243da9c4  0.221728\n",
       "21      C_ID_7ea1fcf117 -0.841892\n",
       "22      C_ID_22e4a47c72 -0.088087\n",
       "23      C_ID_5d30729184  0.249210\n",
       "24      C_ID_b54cfad8b2 -0.996847\n",
       "25      C_ID_4b82e26faa  0.271304\n",
       "26      C_ID_60a453531a -0.850357\n",
       "27      C_ID_0c9315feec -0.437878\n",
       "28      C_ID_1e28804d36 -0.108256\n",
       "29      C_ID_68de79f7e2 -0.384975\n",
       "...                 ...       ...\n",
       "123593  C_ID_cd42a5db89 -0.330300\n",
       "123594  C_ID_715b9a183d -1.223933\n",
       "123595  C_ID_9b25df3309 -0.110162\n",
       "123596  C_ID_043b3c2ccd  1.273591\n",
       "123597  C_ID_7685eae7b2 -0.544589\n",
       "123598  C_ID_7ee1a21a95 -0.547448\n",
       "123599  C_ID_2bf12fed6b  0.531491\n",
       "123600  C_ID_2932a6ea37 -1.368305\n",
       "123601  C_ID_cc33d0d508 -1.442398\n",
       "123602  C_ID_8852708dcb -0.199926\n",
       "123603  C_ID_c3e88ef62d  0.042724\n",
       "123604  C_ID_650557248c  0.664800\n",
       "123605  C_ID_f14af9cb56 -0.644553\n",
       "123606  C_ID_068dcf31e8 -0.480944\n",
       "123607  C_ID_6659f4625a  0.749455\n",
       "123608  C_ID_dc842bba27 -0.458040\n",
       "123609  C_ID_bd625edce0  0.104644\n",
       "123610  C_ID_278446cc2f  0.255153\n",
       "123611  C_ID_ad358eb92e -1.024303\n",
       "123612  C_ID_7d9bcec574 -0.746830\n",
       "123613  C_ID_b588b35e15  0.394054\n",
       "123614  C_ID_7147e348c3  0.976667\n",
       "123615  C_ID_727d3ec5da -0.961920\n",
       "123616  C_ID_107d93e20c  1.388133\n",
       "123617  C_ID_0e74bd4966  0.530503\n",
       "123618  C_ID_7a239d2eda  1.454841\n",
       "123619  C_ID_75ace375ae -0.576348\n",
       "123620  C_ID_21d56d950c  1.076122\n",
       "123621  C_ID_6c46fc5a9d -3.233429\n",
       "123622  C_ID_87e7979a5f  0.130671\n",
       "\n",
       "[123623 rows x 2 columns]"
      ]
     },
     "execution_count": 74,
     "metadata": {},
     "output_type": "execute_result"
    }
   ],
   "source": [
    "subbb"
   ]
  },
  {
   "cell_type": "code",
   "execution_count": 78,
   "metadata": {
    "ExecuteTime": {
     "end_time": "2019-02-05T08:10:57.286304Z",
     "start_time": "2019-02-05T08:10:57.188976Z"
    }
   },
   "outputs": [],
   "source": [
    "for card_id in outt:\n",
    "        subbb.loc[subbb['card_id']==card_id,'target'] = -33"
   ]
  },
  {
   "cell_type": "code",
   "execution_count": 80,
   "metadata": {
    "ExecuteTime": {
     "end_time": "2019-02-05T08:11:22.152414Z",
     "start_time": "2019-02-05T08:11:21.793826Z"
    }
   },
   "outputs": [],
   "source": [
    "\n",
    "subbb.to_csv('./data/submission_combining3.csv')"
   ]
  },
  {
   "cell_type": "code",
   "execution_count": null,
   "metadata": {},
   "outputs": [],
   "source": []
  }
 ],
 "metadata": {
  "kernelspec": {
   "display_name": "Python 3",
   "language": "python",
   "name": "python3"
  },
  "language_info": {
   "codemirror_mode": {
    "name": "ipython",
    "version": 3
   },
   "file_extension": ".py",
   "mimetype": "text/x-python",
   "name": "python",
   "nbconvert_exporter": "python",
   "pygments_lexer": "ipython3",
   "version": "3.6.7"
  },
  "toc": {
   "base_numbering": 1,
   "nav_menu": {},
   "number_sections": true,
   "sideBar": true,
   "skip_h1_title": false,
   "title_cell": "Table of Contents",
   "title_sidebar": "Contents",
   "toc_cell": false,
   "toc_position": {},
   "toc_section_display": true,
   "toc_window_display": false
  }
 },
 "nbformat": 4,
 "nbformat_minor": 2
}
