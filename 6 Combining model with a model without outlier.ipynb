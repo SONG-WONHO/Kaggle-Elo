{
 "cells": [
  {
   "cell_type": "markdown",
   "metadata": {},
   "source": [
    "# 사전 작업"
   ]
  },
  {
   "cell_type": "markdown",
   "metadata": {},
   "source": [
    "## 모듈 로드"
   ]
  },
  {
   "cell_type": "code",
   "execution_count": 15,
   "metadata": {
    "ExecuteTime": {
     "end_time": "2019-02-16T13:40:17.538392Z",
     "start_time": "2019-02-16T13:40:17.534431Z"
    }
   },
   "outputs": [],
   "source": [
    "import numpy as np\n",
    "import pandas as pd\n",
    "import matplotlib.pyplot as plt\n",
    "import datetime\n",
    "import seaborn as sns\n",
    "import gc\n",
    "from tqdm import tqdm_notebook"
   ]
  },
  {
   "cell_type": "code",
   "execution_count": 3,
   "metadata": {
    "ExecuteTime": {
     "end_time": "2019-02-16T13:38:48.160267Z",
     "start_time": "2019-02-16T13:38:48.016005Z"
    }
   },
   "outputs": [],
   "source": [
    "import lightgbm as lgb\n",
    "from sklearn.metrics import mean_squared_error\n",
    "from sklearn.metrics import log_loss\n",
    "from sklearn.model_selection import KFold, StratifiedKFold"
   ]
  },
  {
   "cell_type": "code",
   "execution_count": 4,
   "metadata": {
    "ExecuteTime": {
     "end_time": "2019-02-16T13:38:48.165254Z",
     "start_time": "2019-02-16T13:38:48.161264Z"
    }
   },
   "outputs": [],
   "source": [
    "import warnings\n",
    "warnings.filterwarnings('ignore')"
   ]
  },
  {
   "cell_type": "code",
   "execution_count": 5,
   "metadata": {
    "ExecuteTime": {
     "end_time": "2019-02-16T13:38:48.170240Z",
     "start_time": "2019-02-16T13:38:48.167247Z"
    }
   },
   "outputs": [],
   "source": [
    "pd.set_option('display.max_columns', 400)"
   ]
  },
  {
   "cell_type": "markdown",
   "metadata": {},
   "source": [
    "# 통합 데이터"
   ]
  },
  {
   "cell_type": "code",
   "execution_count": 6,
   "metadata": {
    "ExecuteTime": {
     "end_time": "2019-02-16T13:38:48.903588Z",
     "start_time": "2019-02-16T13:38:48.898634Z"
    }
   },
   "outputs": [],
   "source": [
    "def drop_features(data, keyword, debug=False):\n",
    "    if debug:\n",
    "        data = data[:1000]\n",
    "        \n",
    "    logits = []\n",
    "    for col in data.columns:\n",
    "        if keyword in col:\n",
    "            logits.append(col)\n",
    "        else:\n",
    "            pass\n",
    "    \n",
    "    return logits"
   ]
  },
  {
   "cell_type": "markdown",
   "metadata": {},
   "source": [
    "## 데이터 로드"
   ]
  },
  {
   "cell_type": "code",
   "execution_count": 7,
   "metadata": {
    "ExecuteTime": {
     "end_time": "2019-02-16T13:38:49.474788Z",
     "start_time": "2019-02-16T13:38:49.470828Z"
    }
   },
   "outputs": [],
   "source": [
    "path = './data/'"
   ]
  },
  {
   "cell_type": "code",
   "execution_count": 8,
   "metadata": {
    "ExecuteTime": {
     "end_time": "2019-02-16T13:39:04.886905Z",
     "start_time": "2019-02-16T13:38:49.947808Z"
    }
   },
   "outputs": [],
   "source": [
    "train = pd.read_csv(path + 'train_v3.csv')\n",
    "test = pd.read_csv(path + 'test_v3.csv')"
   ]
  },
  {
   "cell_type": "markdown",
   "metadata": {},
   "source": [
    "## 제거할 피처"
   ]
  },
  {
   "cell_type": "code",
   "execution_count": 9,
   "metadata": {
    "ExecuteTime": {
     "end_time": "2019-02-16T13:39:04.892838Z",
     "start_time": "2019-02-16T13:39:04.888848Z"
    }
   },
   "outputs": [],
   "source": [
    "FEATS_EXCLUDED = ['first_active', 'card_id', 'target', 'outliers',\n",
    "                  'hist_purchase_date_max', 'hist_purchase_date_min', \n",
    "                  'new_purchase_date_max', 'new_purchase_date_min']\n",
    "\n",
    "# FEATS_EXCLUDED += drop_features(train, 'hist_duration')\n",
    "# FEATS_EXCLUDED += drop_features(train, 'hist_amount_month_ratio')\n",
    "# FEATS_EXCLUDED += drop_features(train, 'new_duration')\n",
    "# FEATS_EXCLUDED += drop_features(train, 'new_amount_month_ratio')\n",
    "# FEATS_EXCLUDED += drop_features(train, 'hist_price')\n",
    "# FEATS_EXCLUDED += drop_features(train, 'new_price')\n",
    "# FEATS_EXCLUDED += drop_features(train, 'days_')\n",
    "# FEATS_EXCLUDED += drop_features(train, 'feature_1_outlier')"
   ]
  },
  {
   "cell_type": "code",
   "execution_count": 10,
   "metadata": {
    "ExecuteTime": {
     "end_time": "2019-02-16T13:39:04.899817Z",
     "start_time": "2019-02-16T13:39:04.894831Z"
    }
   },
   "outputs": [],
   "source": [
    "param = {'num_leaves': 31,\n",
    "         'min_data_in_leaf': 30, \n",
    "         'objective':'regression',\n",
    "         'max_depth': -1,\n",
    "         'learning_rate': 0.01,\n",
    "         \"min_child_samples\": 20,\n",
    "         \"boosting\": \"gbdt\",\n",
    "         \"feature_fraction\": 0.9,\n",
    "         \"bagging_freq\": 1,\n",
    "         \"bagging_fraction\": 0.9 ,\n",
    "         \"bagging_seed\": 11,\n",
    "         \"metric\": 'rmse',\n",
    "         \"lambda_l1\": 0.1,\n",
    "         \"verbosity\": -1,\n",
    "         \"nthread\": 4,\n",
    "         \"random_state\": 4590}"
   ]
  },
  {
   "cell_type": "code",
   "execution_count": 11,
   "metadata": {
    "ExecuteTime": {
     "end_time": "2019-02-16T13:39:15.811627Z",
     "start_time": "2019-02-16T13:39:15.805682Z"
    }
   },
   "outputs": [],
   "source": [
    "train_columns = [f for f in train.columns if f not in FEATS_EXCLUDED + list_discarded]"
   ]
  },
  {
   "cell_type": "code",
   "execution_count": 16,
   "metadata": {
    "ExecuteTime": {
     "end_time": "2019-02-16T13:40:36.891196Z",
     "start_time": "2019-02-16T13:40:24.813150Z"
    }
   },
   "outputs": [
    {
     "data": {
      "application/vnd.jupyter.widget-view+json": {
       "model_id": "d589be5050734913aebd24573af8f646",
       "version_major": 2,
       "version_minor": 0
      },
      "text/plain": [
       "HBox(children=(IntProgress(value=0, max=303), HTML(value='')))"
      ]
     },
     "metadata": {},
     "output_type": "display_data"
    },
    {
     "name": "stdout",
     "output_type": "stream",
     "text": [
      "\n"
     ]
    }
   ],
   "source": [
    "from scipy.stats import ks_2samp\n",
    "list_p_value =[]\n",
    "\n",
    "for i in tqdm_notebook(train_columns):\n",
    "    list_p_value.append(ks_2samp(test[i] , train[i])[1])\n",
    "\n",
    "Se = pd.Series(list_p_value, index = train_columns).sort_values() \n",
    "list_discarded = list(Se[Se < .1].index)"
   ]
  },
  {
   "cell_type": "code",
   "execution_count": 18,
   "metadata": {
    "ExecuteTime": {
     "end_time": "2019-02-16T13:40:47.747965Z",
     "start_time": "2019-02-16T13:40:47.743015Z"
    }
   },
   "outputs": [
    {
     "data": {
      "text/plain": [
       "['amount_month_ratio_max',\n",
       " 'purchase_amount_max',\n",
       " 'duration_max',\n",
       " 'price_max',\n",
       " 'new_price_mean',\n",
       " 'new_price_sum',\n",
       " 'hist_price_max',\n",
       " 'hist_amount_month_ratio_max',\n",
       " 'new_duration_mean',\n",
       " 'hist_price_sum',\n",
       " 'new_category_2_mean',\n",
       " 'new_purchase_amount_mean',\n",
       " 'price_total',\n",
       " 'new_purchase_amount_trim_mean',\n",
       " 'hist_purchase_amount_max',\n",
       " 'hist_purchase_amount_trim_max',\n",
       " 'new_purchase_day_var',\n",
       " 'new_purchase_hour_mean',\n",
       " 'hist_price_mean',\n",
       " 'purchase_amount_mean',\n",
       " 'price_mean',\n",
       " 'new_purchase_hour_min',\n",
       " 'hist_category_3_mean_mean',\n",
       " 'hist_category_3_max_mean',\n",
       " 'hist_category_3_sum_mean',\n",
       " 'hist_category_3_label_mean',\n",
       " 'installments_mean',\n",
       " 'hist_installments_mean']"
      ]
     },
     "execution_count": 18,
     "metadata": {},
     "output_type": "execute_result"
    }
   ],
   "source": [
    "list_discarded"
   ]
  },
  {
   "cell_type": "code",
   "execution_count": 19,
   "metadata": {
    "ExecuteTime": {
     "end_time": "2019-02-16T13:51:16.738823Z",
     "start_time": "2019-02-16T13:41:27.909502Z"
    },
    "scrolled": false
   },
   "outputs": [
    {
     "name": "stdout",
     "output_type": "stream",
     "text": [
      "fold n°0\n",
      "Training until validation scores don't improve for 200 rounds.\n",
      "[100]\ttraining's rmse: 3.65294\tvalid_1's rmse: 3.7165\n",
      "[200]\ttraining's rmse: 3.56787\tvalid_1's rmse: 3.68408\n",
      "[300]\ttraining's rmse: 3.51361\tvalid_1's rmse: 3.67329\n",
      "[400]\ttraining's rmse: 3.47183\tvalid_1's rmse: 3.66742\n",
      "[500]\ttraining's rmse: 3.43683\tvalid_1's rmse: 3.66403\n",
      "[600]\ttraining's rmse: 3.40713\tvalid_1's rmse: 3.66205\n",
      "[700]\ttraining's rmse: 3.38093\tvalid_1's rmse: 3.66025\n",
      "[800]\ttraining's rmse: 3.3567\tvalid_1's rmse: 3.65888\n",
      "[900]\ttraining's rmse: 3.33419\tvalid_1's rmse: 3.65822\n",
      "[1000]\ttraining's rmse: 3.31378\tvalid_1's rmse: 3.65839\n",
      "[1100]\ttraining's rmse: 3.29459\tvalid_1's rmse: 3.65857\n",
      "Early stopping, best iteration is:\n",
      "[953]\ttraining's rmse: 3.32289\tvalid_1's rmse: 3.65805\n",
      "fold n°1\n",
      "Training until validation scores don't improve for 200 rounds.\n",
      "[100]\ttraining's rmse: 3.65077\tvalid_1's rmse: 3.72681\n",
      "[200]\ttraining's rmse: 3.56358\tvalid_1's rmse: 3.69838\n",
      "[300]\ttraining's rmse: 3.50908\tvalid_1's rmse: 3.68491\n",
      "[400]\ttraining's rmse: 3.46668\tvalid_1's rmse: 3.67705\n",
      "[500]\ttraining's rmse: 3.43145\tvalid_1's rmse: 3.67147\n",
      "[600]\ttraining's rmse: 3.40179\tvalid_1's rmse: 3.66835\n",
      "[700]\ttraining's rmse: 3.37527\tvalid_1's rmse: 3.66666\n",
      "[800]\ttraining's rmse: 3.35166\tvalid_1's rmse: 3.66608\n",
      "[900]\ttraining's rmse: 3.32972\tvalid_1's rmse: 3.665\n",
      "[1000]\ttraining's rmse: 3.30863\tvalid_1's rmse: 3.66464\n",
      "[1100]\ttraining's rmse: 3.28879\tvalid_1's rmse: 3.66386\n",
      "[1200]\ttraining's rmse: 3.27003\tvalid_1's rmse: 3.66356\n",
      "[1300]\ttraining's rmse: 3.2523\tvalid_1's rmse: 3.66317\n",
      "[1400]\ttraining's rmse: 3.23488\tvalid_1's rmse: 3.66284\n",
      "[1500]\ttraining's rmse: 3.2181\tvalid_1's rmse: 3.66288\n",
      "[1600]\ttraining's rmse: 3.20189\tvalid_1's rmse: 3.6625\n",
      "[1700]\ttraining's rmse: 3.18584\tvalid_1's rmse: 3.66224\n",
      "[1800]\ttraining's rmse: 3.1697\tvalid_1's rmse: 3.66262\n",
      "[1900]\ttraining's rmse: 3.15474\tvalid_1's rmse: 3.66273\n",
      "Early stopping, best iteration is:\n",
      "[1702]\ttraining's rmse: 3.18553\tvalid_1's rmse: 3.66222\n",
      "fold n°2\n",
      "Training until validation scores don't improve for 200 rounds.\n",
      "[100]\ttraining's rmse: 3.65558\tvalid_1's rmse: 3.70935\n",
      "[200]\ttraining's rmse: 3.57108\tvalid_1's rmse: 3.67495\n",
      "[300]\ttraining's rmse: 3.51661\tvalid_1's rmse: 3.66077\n",
      "[400]\ttraining's rmse: 3.47571\tvalid_1's rmse: 3.65375\n",
      "[500]\ttraining's rmse: 3.43998\tvalid_1's rmse: 3.64963\n",
      "[600]\ttraining's rmse: 3.41014\tvalid_1's rmse: 3.64768\n",
      "[700]\ttraining's rmse: 3.38243\tvalid_1's rmse: 3.64541\n",
      "[800]\ttraining's rmse: 3.35811\tvalid_1's rmse: 3.644\n",
      "[900]\ttraining's rmse: 3.33449\tvalid_1's rmse: 3.64332\n",
      "[1000]\ttraining's rmse: 3.31369\tvalid_1's rmse: 3.64283\n",
      "[1100]\ttraining's rmse: 3.29462\tvalid_1's rmse: 3.64247\n",
      "[1200]\ttraining's rmse: 3.2752\tvalid_1's rmse: 3.64205\n",
      "[1300]\ttraining's rmse: 3.25699\tvalid_1's rmse: 3.64212\n",
      "[1400]\ttraining's rmse: 3.23914\tvalid_1's rmse: 3.64225\n",
      "[1500]\ttraining's rmse: 3.22154\tvalid_1's rmse: 3.6422\n",
      "Early stopping, best iteration is:\n",
      "[1354]\ttraining's rmse: 3.24694\tvalid_1's rmse: 3.64191\n",
      "fold n°3\n",
      "Training until validation scores don't improve for 200 rounds.\n",
      "[100]\ttraining's rmse: 3.65675\tvalid_1's rmse: 3.71358\n",
      "[200]\ttraining's rmse: 3.57128\tvalid_1's rmse: 3.68186\n",
      "[300]\ttraining's rmse: 3.51669\tvalid_1's rmse: 3.66888\n",
      "[400]\ttraining's rmse: 3.47435\tvalid_1's rmse: 3.66209\n",
      "[500]\ttraining's rmse: 3.43906\tvalid_1's rmse: 3.65764\n",
      "[600]\ttraining's rmse: 3.40898\tvalid_1's rmse: 3.65505\n",
      "[700]\ttraining's rmse: 3.38275\tvalid_1's rmse: 3.65294\n",
      "[800]\ttraining's rmse: 3.35897\tvalid_1's rmse: 3.65137\n",
      "[900]\ttraining's rmse: 3.33709\tvalid_1's rmse: 3.65088\n",
      "[1000]\ttraining's rmse: 3.31602\tvalid_1's rmse: 3.65042\n",
      "[1100]\ttraining's rmse: 3.2959\tvalid_1's rmse: 3.65022\n",
      "[1200]\ttraining's rmse: 3.27723\tvalid_1's rmse: 3.65022\n",
      "[1300]\ttraining's rmse: 3.25961\tvalid_1's rmse: 3.6504\n",
      "[1400]\ttraining's rmse: 3.2414\tvalid_1's rmse: 3.65065\n",
      "Early stopping, best iteration is:\n",
      "[1240]\ttraining's rmse: 3.27001\tvalid_1's rmse: 3.64981\n",
      "fold n°4\n",
      "Training until validation scores don't improve for 200 rounds.\n",
      "[100]\ttraining's rmse: 3.65201\tvalid_1's rmse: 3.7262\n",
      "[200]\ttraining's rmse: 3.56791\tvalid_1's rmse: 3.69623\n",
      "[300]\ttraining's rmse: 3.51328\tvalid_1's rmse: 3.68231\n",
      "[400]\ttraining's rmse: 3.47202\tvalid_1's rmse: 3.67361\n",
      "[500]\ttraining's rmse: 3.43717\tvalid_1's rmse: 3.66818\n",
      "[600]\ttraining's rmse: 3.40764\tvalid_1's rmse: 3.66405\n",
      "[700]\ttraining's rmse: 3.3821\tvalid_1's rmse: 3.6613\n",
      "[800]\ttraining's rmse: 3.35785\tvalid_1's rmse: 3.65924\n",
      "[900]\ttraining's rmse: 3.33639\tvalid_1's rmse: 3.6579\n",
      "[1000]\ttraining's rmse: 3.31549\tvalid_1's rmse: 3.657\n",
      "[1100]\ttraining's rmse: 3.29603\tvalid_1's rmse: 3.65628\n",
      "[1200]\ttraining's rmse: 3.27749\tvalid_1's rmse: 3.65567\n",
      "[1300]\ttraining's rmse: 3.25918\tvalid_1's rmse: 3.65502\n",
      "[1400]\ttraining's rmse: 3.24098\tvalid_1's rmse: 3.65438\n",
      "[1500]\ttraining's rmse: 3.22416\tvalid_1's rmse: 3.65376\n",
      "[1600]\ttraining's rmse: 3.20681\tvalid_1's rmse: 3.65331\n",
      "[1700]\ttraining's rmse: 3.19117\tvalid_1's rmse: 3.65302\n",
      "[1800]\ttraining's rmse: 3.1758\tvalid_1's rmse: 3.65254\n",
      "[1900]\ttraining's rmse: 3.15968\tvalid_1's rmse: 3.65227\n",
      "[2000]\ttraining's rmse: 3.1444\tvalid_1's rmse: 3.65254\n",
      "Early stopping, best iteration is:\n",
      "[1876]\ttraining's rmse: 3.16335\tvalid_1's rmse: 3.65226\n",
      "CV score: 3.65286 \n"
     ]
    }
   ],
   "source": [
    "folds = StratifiedKFold(n_splits=5, shuffle=True, random_state=15)\n",
    "\n",
    "train_columns = [f for f in train.columns if f not in FEATS_EXCLUDED + list_discarded]\n",
    "\n",
    "oof_lgb = np.zeros(len(train))\n",
    "predictions_lgb = np.zeros(len(test))\n",
    "feature_importance = pd.DataFrame()\n",
    "\n",
    "for fold_, (trn_idx, val_idx) in enumerate(folds.split(train, train['outliers'].values)):    \n",
    "    print(\"fold n°{}\".format(fold_))\n",
    "    trn_data = lgb.Dataset(train.iloc[trn_idx][train_columns], label=train.iloc[trn_idx]['target'])\n",
    "    val_data = lgb.Dataset(train.iloc[val_idx][train_columns], label=train.iloc[val_idx]['target'])\n",
    "\n",
    "    num_round = 10000\n",
    "    clf = lgb.train(param, trn_data, num_round, valid_sets = [trn_data, val_data], verbose_eval=100, early_stopping_rounds = 200)\n",
    "    oof_lgb[val_idx] = clf.predict(train.iloc[val_idx][train_columns], num_iteration=clf.best_iteration)\n",
    "    \n",
    "    predictions_lgb += clf.predict(test[train_columns], num_iteration=clf.best_iteration) / folds.n_splits\n",
    "    \n",
    "    fold_importance = pd.DataFrame()\n",
    "    fold_importance[\"Feature\"] = train_columns\n",
    "    fold_importance[\"importance\"] = clf.feature_importance()\n",
    "    fold_importance[\"fold\"] = fold_ + 1\n",
    "    feature_importance = pd.concat([feature_importance, fold_importance], axis=0)\n",
    "    \n",
    "print(\"CV score: {:<8.5f}\".format(mean_squared_error(train.target.values, oof_lgb)**0.5))"
   ]
  },
  {
   "cell_type": "code",
   "execution_count": 44,
   "metadata": {
    "ExecuteTime": {
     "end_time": "2019-02-15T23:46:16.549113Z",
     "start_time": "2019-02-15T23:46:16.432386Z"
    }
   },
   "outputs": [],
   "source": [
    "feat_imp = feature_importance[feature_importance.fold == 1][['Feature']]\n",
    "feat_imp['importance'] = 0"
   ]
  },
  {
   "cell_type": "code",
   "execution_count": 45,
   "metadata": {
    "ExecuteTime": {
     "end_time": "2019-02-15T23:46:22.217265Z",
     "start_time": "2019-02-15T23:46:22.201305Z"
    }
   },
   "outputs": [],
   "source": [
    "for i in range(5):\n",
    "    feat_imp.importance = feat_imp.importance + feature_importance[feature_importance.fold == i+1].importance / 5"
   ]
  },
  {
   "cell_type": "code",
   "execution_count": 63,
   "metadata": {
    "ExecuteTime": {
     "end_time": "2019-02-15T23:56:22.014385Z",
     "start_time": "2019-02-15T23:56:22.010395Z"
    }
   },
   "outputs": [],
   "source": [
    "new_feat = feat_imp.Feature[:270].values.tolist()"
   ]
  },
  {
   "cell_type": "code",
   "execution_count": 51,
   "metadata": {
    "ExecuteTime": {
     "end_time": "2019-02-15T23:49:35.959470Z",
     "start_time": "2019-02-15T23:49:35.835112Z"
    }
   },
   "outputs": [
    {
     "data": {
      "text/plain": [
       "[<matplotlib.lines.Line2D at 0x2161afd8da0>]"
      ]
     },
     "execution_count": 51,
     "metadata": {},
     "output_type": "execute_result"
    },
    {
     "data": {
      "image/png": "[encoded data removed]",
      "text/plain": [
       "<Figure size 432x288 with 1 Axes>"
      ]
     },
     "metadata": {
      "needs_background": "light"
     },
     "output_type": "display_data"
    }
   ],
   "source": [
    "plt.plot(feat_imp.sort_values('importance', ascending=False).importance.values)"
   ]
  },
  {
   "cell_type": "code",
   "execution_count": null,
   "metadata": {},
   "outputs": [],
   "source": []
  },
  {
   "cell_type": "markdown",
   "metadata": {},
   "source": [
    "# 이상치 없는 데이터"
   ]
  },
  {
   "cell_type": "markdown",
   "metadata": {},
   "source": [
    "## 데이터 로드"
   ]
  },
  {
   "cell_type": "code",
   "execution_count": 20,
   "metadata": {
    "ExecuteTime": {
     "end_time": "2019-02-16T13:51:42.672998Z",
     "start_time": "2019-02-16T13:51:42.669993Z"
    }
   },
   "outputs": [],
   "source": [
    "path = './data/'"
   ]
  },
  {
   "cell_type": "code",
   "execution_count": 21,
   "metadata": {
    "ExecuteTime": {
     "end_time": "2019-02-16T13:51:57.867572Z",
     "start_time": "2019-02-16T13:51:43.175662Z"
    }
   },
   "outputs": [],
   "source": [
    "train = pd.read_csv(path + 'train_v3.csv')\n",
    "test = pd.read_csv(path + 'test_v3.csv')"
   ]
  },
  {
   "cell_type": "code",
   "execution_count": 22,
   "metadata": {
    "ExecuteTime": {
     "end_time": "2019-02-16T13:51:58.131449Z",
     "start_time": "2019-02-16T13:51:57.867572Z"
    }
   },
   "outputs": [],
   "source": [
    "train = train[train.outliers == 0]"
   ]
  },
  {
   "cell_type": "markdown",
   "metadata": {},
   "source": [
    "## 제거할 피처"
   ]
  },
  {
   "cell_type": "code",
   "execution_count": 23,
   "metadata": {
    "ExecuteTime": {
     "end_time": "2019-02-16T13:51:58.135388Z",
     "start_time": "2019-02-16T13:51:58.132434Z"
    }
   },
   "outputs": [],
   "source": [
    "FEATS_EXCLUDED = ['first_active', 'card_id', 'target', 'outliers',\n",
    "                  'hist_purchase_date_max', 'hist_purchase_date_min', \n",
    "                  'new_purchase_date_max', 'new_purchase_date_min']"
   ]
  },
  {
   "cell_type": "markdown",
   "metadata": {},
   "source": [
    "## Parameter"
   ]
  },
  {
   "cell_type": "code",
   "execution_count": 24,
   "metadata": {
    "ExecuteTime": {
     "end_time": "2019-02-16T13:51:58.143369Z",
     "start_time": "2019-02-16T13:51:58.137385Z"
    }
   },
   "outputs": [],
   "source": [
    "param = {'num_leaves': 31,\n",
    "         'min_data_in_leaf': 30, \n",
    "         'objective':'regression',\n",
    "         'max_depth': -1,\n",
    "         'learning_rate': 0.01,\n",
    "         \"min_child_samples\": 20,\n",
    "         \"boosting\": \"gbdt\",\n",
    "         \"feature_fraction\": 0.9,\n",
    "         \"bagging_freq\": 1,\n",
    "         \"bagging_fraction\": 0.9 ,\n",
    "         \"bagging_seed\": 11,\n",
    "         \"metric\": 'rmse',\n",
    "         \"lambda_l1\": 0.1,\n",
    "         \"verbosity\": -1,\n",
    "         \"nthread\": 4,\n",
    "         \"random_state\": 4590}"
   ]
  },
  {
   "cell_type": "markdown",
   "metadata": {},
   "source": [
    "## training model"
   ]
  },
  {
   "cell_type": "code",
   "execution_count": 25,
   "metadata": {
    "ExecuteTime": {
     "end_time": "2019-02-16T14:11:58.668194Z",
     "start_time": "2019-02-16T13:51:58.145363Z"
    },
    "scrolled": false
   },
   "outputs": [
    {
     "name": "stdout",
     "output_type": "stream",
     "text": [
      "fold n°0\n",
      "Training until validation scores don't improve for 200 rounds.\n",
      "[100]\ttraining's rmse: 1.60508\tvalid_1's rmse: 1.61676\n",
      "[200]\ttraining's rmse: 1.57258\tvalid_1's rmse: 1.58947\n",
      "[300]\ttraining's rmse: 1.5569\tvalid_1's rmse: 1.57843\n",
      "[400]\ttraining's rmse: 1.54652\tvalid_1's rmse: 1.57278\n",
      "[500]\ttraining's rmse: 1.53831\tvalid_1's rmse: 1.56901\n",
      "[600]\ttraining's rmse: 1.53133\tvalid_1's rmse: 1.56669\n",
      "[700]\ttraining's rmse: 1.52511\tvalid_1's rmse: 1.56515\n",
      "[800]\ttraining's rmse: 1.51955\tvalid_1's rmse: 1.56427\n",
      "[900]\ttraining's rmse: 1.51443\tvalid_1's rmse: 1.5636\n",
      "[1000]\ttraining's rmse: 1.50958\tvalid_1's rmse: 1.56307\n",
      "[1100]\ttraining's rmse: 1.50494\tvalid_1's rmse: 1.56258\n",
      "[1200]\ttraining's rmse: 1.50054\tvalid_1's rmse: 1.56232\n",
      "[1300]\ttraining's rmse: 1.49619\tvalid_1's rmse: 1.56206\n",
      "[1400]\ttraining's rmse: 1.492\tvalid_1's rmse: 1.5618\n",
      "[1500]\ttraining's rmse: 1.4879\tvalid_1's rmse: 1.56166\n",
      "[1600]\ttraining's rmse: 1.48388\tvalid_1's rmse: 1.56144\n",
      "[1700]\ttraining's rmse: 1.47992\tvalid_1's rmse: 1.56131\n",
      "[1800]\ttraining's rmse: 1.47591\tvalid_1's rmse: 1.56122\n",
      "[1900]\ttraining's rmse: 1.47199\tvalid_1's rmse: 1.5611\n",
      "[2000]\ttraining's rmse: 1.46814\tvalid_1's rmse: 1.56108\n",
      "[2100]\ttraining's rmse: 1.46424\tvalid_1's rmse: 1.56107\n",
      "[2200]\ttraining's rmse: 1.46048\tvalid_1's rmse: 1.56106\n",
      "Early stopping, best iteration is:\n",
      "[2009]\ttraining's rmse: 1.46783\tvalid_1's rmse: 1.56104\n",
      "fold n°1\n",
      "Training until validation scores don't improve for 200 rounds.\n",
      "[100]\ttraining's rmse: 1.60584\tvalid_1's rmse: 1.61461\n",
      "[200]\ttraining's rmse: 1.57339\tvalid_1's rmse: 1.58669\n",
      "[300]\ttraining's rmse: 1.55754\tvalid_1's rmse: 1.5757\n",
      "[400]\ttraining's rmse: 1.54694\tvalid_1's rmse: 1.57008\n",
      "[500]\ttraining's rmse: 1.53863\tvalid_1's rmse: 1.56661\n",
      "[600]\ttraining's rmse: 1.53148\tvalid_1's rmse: 1.56436\n",
      "[700]\ttraining's rmse: 1.52518\tvalid_1's rmse: 1.56301\n",
      "[800]\ttraining's rmse: 1.51953\tvalid_1's rmse: 1.56204\n",
      "[900]\ttraining's rmse: 1.51431\tvalid_1's rmse: 1.56134\n",
      "[1000]\ttraining's rmse: 1.50943\tvalid_1's rmse: 1.56088\n",
      "[1100]\ttraining's rmse: 1.50482\tvalid_1's rmse: 1.56052\n",
      "[1200]\ttraining's rmse: 1.50026\tvalid_1's rmse: 1.56021\n",
      "[1300]\ttraining's rmse: 1.49585\tvalid_1's rmse: 1.55998\n",
      "[1400]\ttraining's rmse: 1.49155\tvalid_1's rmse: 1.5597\n",
      "[1500]\ttraining's rmse: 1.48751\tvalid_1's rmse: 1.5596\n",
      "[1600]\ttraining's rmse: 1.48351\tvalid_1's rmse: 1.55945\n",
      "[1700]\ttraining's rmse: 1.47957\tvalid_1's rmse: 1.55936\n",
      "[1800]\ttraining's rmse: 1.47572\tvalid_1's rmse: 1.55924\n",
      "[1900]\ttraining's rmse: 1.47172\tvalid_1's rmse: 1.55916\n",
      "[2000]\ttraining's rmse: 1.46794\tvalid_1's rmse: 1.55911\n",
      "[2100]\ttraining's rmse: 1.46406\tvalid_1's rmse: 1.55906\n",
      "[2200]\ttraining's rmse: 1.4604\tvalid_1's rmse: 1.55904\n",
      "[2300]\ttraining's rmse: 1.45669\tvalid_1's rmse: 1.55894\n",
      "[2400]\ttraining's rmse: 1.453\tvalid_1's rmse: 1.5589\n",
      "[2500]\ttraining's rmse: 1.44937\tvalid_1's rmse: 1.55896\n",
      "Early stopping, best iteration is:\n",
      "[2340]\ttraining's rmse: 1.45518\tvalid_1's rmse: 1.55886\n",
      "fold n°2\n",
      "Training until validation scores don't improve for 200 rounds.\n",
      "[100]\ttraining's rmse: 1.61072\tvalid_1's rmse: 1.59327\n",
      "[200]\ttraining's rmse: 1.57845\tvalid_1's rmse: 1.56552\n",
      "[300]\ttraining's rmse: 1.56276\tvalid_1's rmse: 1.55478\n",
      "[400]\ttraining's rmse: 1.55234\tvalid_1's rmse: 1.54917\n",
      "[500]\ttraining's rmse: 1.54409\tvalid_1's rmse: 1.54587\n",
      "[600]\ttraining's rmse: 1.53698\tvalid_1's rmse: 1.54351\n",
      "[700]\ttraining's rmse: 1.53075\tvalid_1's rmse: 1.54193\n",
      "[800]\ttraining's rmse: 1.52514\tvalid_1's rmse: 1.54095\n",
      "[900]\ttraining's rmse: 1.51991\tvalid_1's rmse: 1.54028\n",
      "[1000]\ttraining's rmse: 1.51496\tvalid_1's rmse: 1.5397\n",
      "[1100]\ttraining's rmse: 1.5103\tvalid_1's rmse: 1.53929\n",
      "[1200]\ttraining's rmse: 1.50583\tvalid_1's rmse: 1.53903\n",
      "[1300]\ttraining's rmse: 1.50156\tvalid_1's rmse: 1.53884\n",
      "[1400]\ttraining's rmse: 1.49735\tvalid_1's rmse: 1.53867\n",
      "[1500]\ttraining's rmse: 1.49316\tvalid_1's rmse: 1.53842\n",
      "[1600]\ttraining's rmse: 1.48908\tvalid_1's rmse: 1.53824\n",
      "[1700]\ttraining's rmse: 1.48513\tvalid_1's rmse: 1.5382\n",
      "[1800]\ttraining's rmse: 1.48117\tvalid_1's rmse: 1.53814\n",
      "[1900]\ttraining's rmse: 1.47719\tvalid_1's rmse: 1.53812\n",
      "[2000]\ttraining's rmse: 1.47332\tvalid_1's rmse: 1.53811\n",
      "[2100]\ttraining's rmse: 1.46949\tvalid_1's rmse: 1.53796\n",
      "[2200]\ttraining's rmse: 1.46578\tvalid_1's rmse: 1.53788\n",
      "[2300]\ttraining's rmse: 1.46198\tvalid_1's rmse: 1.53771\n",
      "[2400]\ttraining's rmse: 1.45823\tvalid_1's rmse: 1.53766\n",
      "[2500]\ttraining's rmse: 1.45458\tvalid_1's rmse: 1.53766\n",
      "[2600]\ttraining's rmse: 1.45098\tvalid_1's rmse: 1.53763\n",
      "[2700]\ttraining's rmse: 1.44753\tvalid_1's rmse: 1.53766\n",
      "[2800]\ttraining's rmse: 1.44397\tvalid_1's rmse: 1.53755\n",
      "[2900]\ttraining's rmse: 1.44049\tvalid_1's rmse: 1.53756\n",
      "[3000]\ttraining's rmse: 1.43708\tvalid_1's rmse: 1.53756\n",
      "Early stopping, best iteration is:\n",
      "[2827]\ttraining's rmse: 1.44299\tvalid_1's rmse: 1.53752\n",
      "fold n°3\n",
      "Training until validation scores don't improve for 200 rounds.\n",
      "[100]\ttraining's rmse: 1.60593\tvalid_1's rmse: 1.61355\n",
      "[200]\ttraining's rmse: 1.57368\tvalid_1's rmse: 1.58562\n",
      "[300]\ttraining's rmse: 1.55802\tvalid_1's rmse: 1.57458\n",
      "[400]\ttraining's rmse: 1.54765\tvalid_1's rmse: 1.569\n",
      "[500]\ttraining's rmse: 1.53949\tvalid_1's rmse: 1.56552\n",
      "[600]\ttraining's rmse: 1.53253\tvalid_1's rmse: 1.56334\n",
      "[700]\ttraining's rmse: 1.52628\tvalid_1's rmse: 1.56195\n",
      "[800]\ttraining's rmse: 1.52065\tvalid_1's rmse: 1.56101\n",
      "[900]\ttraining's rmse: 1.51555\tvalid_1's rmse: 1.56044\n",
      "[1000]\ttraining's rmse: 1.51064\tvalid_1's rmse: 1.55996\n",
      "[1100]\ttraining's rmse: 1.50611\tvalid_1's rmse: 1.55967\n",
      "[1200]\ttraining's rmse: 1.50167\tvalid_1's rmse: 1.55953\n",
      "[1300]\ttraining's rmse: 1.49734\tvalid_1's rmse: 1.55922\n",
      "[1400]\ttraining's rmse: 1.49322\tvalid_1's rmse: 1.55908\n",
      "[1500]\ttraining's rmse: 1.48899\tvalid_1's rmse: 1.55898\n",
      "[1600]\ttraining's rmse: 1.48502\tvalid_1's rmse: 1.55893\n",
      "[1700]\ttraining's rmse: 1.48107\tvalid_1's rmse: 1.55866\n",
      "[1800]\ttraining's rmse: 1.47718\tvalid_1's rmse: 1.55857\n",
      "[1900]\ttraining's rmse: 1.47327\tvalid_1's rmse: 1.55847\n",
      "[2000]\ttraining's rmse: 1.46946\tvalid_1's rmse: 1.55835\n",
      "[2100]\ttraining's rmse: 1.46566\tvalid_1's rmse: 1.55827\n",
      "[2200]\ttraining's rmse: 1.46196\tvalid_1's rmse: 1.55813\n",
      "[2300]\ttraining's rmse: 1.45828\tvalid_1's rmse: 1.55807\n",
      "[2400]\ttraining's rmse: 1.4545\tvalid_1's rmse: 1.55808\n",
      "[2500]\ttraining's rmse: 1.45083\tvalid_1's rmse: 1.55801\n",
      "[2600]\ttraining's rmse: 1.44723\tvalid_1's rmse: 1.55799\n",
      "[2700]\ttraining's rmse: 1.44368\tvalid_1's rmse: 1.55795\n",
      "Early stopping, best iteration is:\n",
      "[2561]\ttraining's rmse: 1.44862\tvalid_1's rmse: 1.5579\n",
      "fold n°4\n",
      "Training until validation scores don't improve for 200 rounds.\n",
      "[100]\ttraining's rmse: 1.60496\tvalid_1's rmse: 1.61764\n",
      "[200]\ttraining's rmse: 1.5728\tvalid_1's rmse: 1.58927\n",
      "[300]\ttraining's rmse: 1.55708\tvalid_1's rmse: 1.57802\n",
      "[400]\ttraining's rmse: 1.5467\tvalid_1's rmse: 1.57251\n",
      "[500]\ttraining's rmse: 1.53848\tvalid_1's rmse: 1.56926\n",
      "[600]\ttraining's rmse: 1.53131\tvalid_1's rmse: 1.56703\n",
      "[700]\ttraining's rmse: 1.5251\tvalid_1's rmse: 1.56561\n",
      "[800]\ttraining's rmse: 1.51946\tvalid_1's rmse: 1.56454\n",
      "[900]\ttraining's rmse: 1.51439\tvalid_1's rmse: 1.56397\n",
      "[1000]\ttraining's rmse: 1.50963\tvalid_1's rmse: 1.56345\n",
      "[1100]\ttraining's rmse: 1.50491\tvalid_1's rmse: 1.56295\n",
      "[1200]\ttraining's rmse: 1.50048\tvalid_1's rmse: 1.5627\n",
      "[1300]\ttraining's rmse: 1.49605\tvalid_1's rmse: 1.56248\n",
      "[1400]\ttraining's rmse: 1.49174\tvalid_1's rmse: 1.56232\n",
      "[1500]\ttraining's rmse: 1.48761\tvalid_1's rmse: 1.56223\n",
      "[1600]\ttraining's rmse: 1.48359\tvalid_1's rmse: 1.56199\n",
      "[1700]\ttraining's rmse: 1.47965\tvalid_1's rmse: 1.56192\n",
      "[1800]\ttraining's rmse: 1.47565\tvalid_1's rmse: 1.56176\n",
      "[1900]\ttraining's rmse: 1.47187\tvalid_1's rmse: 1.56168\n",
      "[2000]\ttraining's rmse: 1.46798\tvalid_1's rmse: 1.56154\n",
      "[2100]\ttraining's rmse: 1.4641\tvalid_1's rmse: 1.56138\n",
      "[2200]\ttraining's rmse: 1.46037\tvalid_1's rmse: 1.56136\n",
      "[2300]\ttraining's rmse: 1.45658\tvalid_1's rmse: 1.56128\n",
      "[2400]\ttraining's rmse: 1.45303\tvalid_1's rmse: 1.56124\n",
      "[2500]\ttraining's rmse: 1.4494\tvalid_1's rmse: 1.56122\n",
      "[2600]\ttraining's rmse: 1.44584\tvalid_1's rmse: 1.56117\n",
      "[2700]\ttraining's rmse: 1.44221\tvalid_1's rmse: 1.56117\n",
      "[2800]\ttraining's rmse: 1.4387\tvalid_1's rmse: 1.5611\n",
      "[2900]\ttraining's rmse: 1.43526\tvalid_1's rmse: 1.56115\n",
      "Early stopping, best iteration is:\n",
      "[2783]\ttraining's rmse: 1.4393\tvalid_1's rmse: 1.56109\n"
     ]
    },
    {
     "name": "stdout",
     "output_type": "stream",
     "text": [
      "CV score: 1.55531 \n"
     ]
    }
   ],
   "source": [
    "folds = StratifiedKFold(n_splits=5, shuffle=True, random_state=15)\n",
    "\n",
    "oof_lgb = np.zeros(len(train))\n",
    "predictions_lgb = np.zeros(len(test))\n",
    "feature_importance = pd.DataFrame()\n",
    "\n",
    "train_columns = [f for f in train.columns if f not in FEATS_EXCLUDED]\n",
    "\n",
    "for fold_, (trn_idx, val_idx) in enumerate(folds.split(train, train['outliers'].values)):    \n",
    "    print(\"fold n°{}\".format(fold_))\n",
    "    trn_data = lgb.Dataset(train.iloc[trn_idx][train_columns], label=train.iloc[trn_idx]['target'])\n",
    "    val_data = lgb.Dataset(train.iloc[val_idx][train_columns], label=train.iloc[val_idx]['target'])\n",
    "    \n",
    "    num_round = 10000\n",
    "    clf = lgb.train(param, trn_data, num_round, valid_sets = [trn_data, val_data], verbose_eval=100, early_stopping_rounds = 200)\n",
    "    oof_lgb[val_idx] = clf.predict(train.iloc[val_idx][train_columns], num_iteration=clf.best_iteration)\n",
    "    \n",
    "    predictions_lgb += clf.predict(test[train_columns], num_iteration=clf.best_iteration) / folds.n_splits\n",
    "    \n",
    "    fold_importance = pd.DataFrame()\n",
    "    fold_importance[\"Feature\"] = train_columns\n",
    "    fold_importance[\"importance\"] = clf.feature_importance()\n",
    "    fold_importance[\"fold\"] = fold_ + 1\n",
    "    feature_importance = pd.concat([feature_importance, fold_importance], axis=0)\n",
    "    \n",
    "print(\"CV score: {:<8.5f}\".format(mean_squared_error(train.target.values, oof_lgb)**0.5))"
   ]
  },
  {
   "cell_type": "code",
   "execution_count": 27,
   "metadata": {
    "ExecuteTime": {
     "end_time": "2019-02-16T17:20:37.988665Z",
     "start_time": "2019-02-16T17:20:37.971710Z"
    }
   },
   "outputs": [],
   "source": [
    "model_without_outliers = pd.DataFrame({\"card_id\":test[\"card_id\"].values})\n",
    "model_without_outliers[\"target\"] = predictions_lgb"
   ]
  },
  {
   "cell_type": "markdown",
   "metadata": {},
   "source": [
    "# 이상치 예측 모델"
   ]
  },
  {
   "cell_type": "markdown",
   "metadata": {},
   "source": [
    "## 데이터 로드"
   ]
  },
  {
   "cell_type": "code",
   "execution_count": 28,
   "metadata": {
    "ExecuteTime": {
     "end_time": "2019-02-16T17:21:03.106402Z",
     "start_time": "2019-02-16T17:20:48.168973Z"
    }
   },
   "outputs": [],
   "source": [
    "train = pd.read_csv(path + 'train_v3.csv')\n",
    "test = pd.read_csv(path + 'test_v3.csv')"
   ]
  },
  {
   "cell_type": "code",
   "execution_count": 29,
   "metadata": {
    "ExecuteTime": {
     "end_time": "2019-02-16T17:21:03.112591Z",
     "start_time": "2019-02-16T17:21:03.106402Z"
    }
   },
   "outputs": [],
   "source": [
    "target = train['outliers']"
   ]
  },
  {
   "cell_type": "markdown",
   "metadata": {},
   "source": [
    "## 제거할 피처"
   ]
  },
  {
   "cell_type": "code",
   "execution_count": 30,
   "metadata": {
    "ExecuteTime": {
     "end_time": "2019-02-16T17:21:17.348688Z",
     "start_time": "2019-02-16T17:21:17.344664Z"
    }
   },
   "outputs": [],
   "source": [
    "FEATS_EXCLUDED = ['first_active', 'card_id', 'target', 'outliers',\n",
    "                  'hist_purchase_date_max', 'hist_purchase_date_min', \n",
    "                  'new_purchase_date_max', 'new_purchase_date_min']"
   ]
  },
  {
   "cell_type": "markdown",
   "metadata": {},
   "source": [
    "## 파라미터"
   ]
  },
  {
   "cell_type": "code",
   "execution_count": 31,
   "metadata": {
    "ExecuteTime": {
     "end_time": "2019-02-16T17:21:18.075186Z",
     "start_time": "2019-02-16T17:21:18.070199Z"
    }
   },
   "outputs": [],
   "source": [
    "param = {'num_leaves': 31,\n",
    "         'min_data_in_leaf': 30, \n",
    "         'objective':'binary',\n",
    "         'max_depth': 6,\n",
    "         'learning_rate': 0.01,\n",
    "         \"boosting\": \"rf\",\n",
    "         \"feature_fraction\": 0.9,\n",
    "         \"bagging_freq\": 1,\n",
    "         \"bagging_fraction\": 0.9 ,\n",
    "         \"bagging_seed\": 11,\n",
    "         \"metric\": 'binary_logloss',\n",
    "         \"lambda_l1\": 0.1,\n",
    "         \"verbosity\": -1,\n",
    "         \"random_state\": 2333}"
   ]
  },
  {
   "cell_type": "code",
   "execution_count": 32,
   "metadata": {
    "ExecuteTime": {
     "end_time": "2019-02-16T17:24:25.693968Z",
     "start_time": "2019-02-16T17:21:20.510654Z"
    }
   },
   "outputs": [
    {
     "name": "stdout",
     "output_type": "stream",
     "text": [
      "fold n°0\n",
      "Training until validation scores don't improve for 200 rounds.\n",
      "[100]\ttraining's binary_logloss: 0.0439393\tvalid_1's binary_logloss: 0.0466941\n",
      "[200]\ttraining's binary_logloss: 0.0439582\tvalid_1's binary_logloss: 0.0466935\n",
      "Early stopping, best iteration is:\n",
      "[9]\ttraining's binary_logloss: 0.0439586\tvalid_1's binary_logloss: 0.0465615\n",
      "fold n°1\n",
      "Training until validation scores don't improve for 200 rounds.\n",
      "[100]\ttraining's binary_logloss: 0.0439916\tvalid_1's binary_logloss: 0.0471326\n",
      "[200]\ttraining's binary_logloss: 0.044006\tvalid_1's binary_logloss: 0.0471322\n",
      "Early stopping, best iteration is:\n",
      "[23]\ttraining's binary_logloss: 0.0439602\tvalid_1's binary_logloss: 0.0470829\n",
      "fold n°2\n",
      "Training until validation scores don't improve for 200 rounds.\n",
      "[100]\ttraining's binary_logloss: 0.0444197\tvalid_1's binary_logloss: 0.046345\n",
      "[200]\ttraining's binary_logloss: 0.0443985\tvalid_1's binary_logloss: 0.046319\n",
      "[300]\ttraining's binary_logloss: 0.0443899\tvalid_1's binary_logloss: 0.0462997\n",
      "[400]\ttraining's binary_logloss: 0.0443929\tvalid_1's binary_logloss: 0.0462866\n",
      "[500]\ttraining's binary_logloss: 0.0443896\tvalid_1's binary_logloss: 0.0462947\n",
      "[600]\ttraining's binary_logloss: 0.0443942\tvalid_1's binary_logloss: 0.0463057\n",
      "Early stopping, best iteration is:\n",
      "[406]\ttraining's binary_logloss: 0.0443867\tvalid_1's binary_logloss: 0.0462782\n",
      "fold n°3\n",
      "Training until validation scores don't improve for 200 rounds.\n",
      "[100]\ttraining's binary_logloss: 0.0442598\tvalid_1's binary_logloss: 0.0448344\n",
      "[200]\ttraining's binary_logloss: 0.0442657\tvalid_1's binary_logloss: 0.0448134\n",
      "[300]\ttraining's binary_logloss: 0.0442635\tvalid_1's binary_logloss: 0.0448185\n",
      "Early stopping, best iteration is:\n",
      "[187]\ttraining's binary_logloss: 0.0442536\tvalid_1's binary_logloss: 0.0448076\n",
      "fold n°4\n",
      "Training until validation scores don't improve for 200 rounds.\n",
      "[100]\ttraining's binary_logloss: 0.0442483\tvalid_1's binary_logloss: 0.0464303\n",
      "[200]\ttraining's binary_logloss: 0.0442343\tvalid_1's binary_logloss: 0.0463916\n",
      "Early stopping, best iteration is:\n",
      "[32]\ttraining's binary_logloss: 0.0442167\tvalid_1's binary_logloss: 0.0464128\n",
      "CV score: 0.04623 \n"
     ]
    }
   ],
   "source": [
    "folds = StratifiedKFold(n_splits=5, shuffle=True, random_state=15)\n",
    "\n",
    "oof_lgb = np.zeros(len(train))\n",
    "predictions_lgb = np.zeros(len(test))\n",
    "feature_importance = pd.DataFrame()\n",
    "\n",
    "train_columns = [f for f in train.columns if f not in FEATS_EXCLUDED]\n",
    "\n",
    "for fold_, (trn_idx, val_idx) in enumerate(folds.split(train, train['outliers'].values)):    \n",
    "    print(\"fold n°{}\".format(fold_))\n",
    "    trn_data = lgb.Dataset(train.iloc[trn_idx][train_columns], label=target.iloc[trn_idx])\n",
    "    val_data = lgb.Dataset(train.iloc[val_idx][train_columns], label=target.iloc[val_idx])\n",
    "\n",
    "    num_round = 10000\n",
    "    clf = lgb.train(param, trn_data, num_round, valid_sets = [trn_data, val_data], verbose_eval=100, early_stopping_rounds = 200)\n",
    "    oof_lgb[val_idx] = clf.predict(train.iloc[val_idx][train_columns], num_iteration=clf.best_iteration)\n",
    "    \n",
    "    predictions_lgb += clf.predict(test[train_columns], num_iteration=clf.best_iteration) / folds.n_splits\n",
    "    \n",
    "    fold_importance = pd.DataFrame()\n",
    "    fold_importance[\"Feature\"] = train_columns\n",
    "    fold_importance[\"importance\"] = clf.feature_importance()\n",
    "    fold_importance[\"fold\"] = fold_ + 1\n",
    "    feature_importance = pd.concat([feature_importance, fold_importance], axis=0)\n",
    "    \n",
    "print(\"CV score: {:<8.5f}\".format(log_loss(target.values, oof_lgb)))"
   ]
  },
  {
   "cell_type": "code",
   "execution_count": null,
   "metadata": {},
   "outputs": [],
   "source": []
  },
  {
   "cell_type": "code",
   "execution_count": 43,
   "metadata": {
    "ExecuteTime": {
     "end_time": "2019-02-16T17:28:12.553020Z",
     "start_time": "2019-02-16T17:28:11.449395Z"
    }
   },
   "outputs": [
    {
     "data": {
      "text/plain": [
       "array([0.10801868, 0.00260161, 0.00512331, ..., 0.00345008, 0.03046886,\n",
       "       0.00325212])"
      ]
     },
     "execution_count": 43,
     "metadata": {},
     "output_type": "execute_result"
    }
   ],
   "source": [
    "clf.predict(test[train_columns])"
   ]
  },
  {
   "cell_type": "code",
   "execution_count": 33,
   "metadata": {
    "ExecuteTime": {
     "end_time": "2019-02-16T17:24:30.677190Z",
     "start_time": "2019-02-16T17:24:30.671196Z"
    }
   },
   "outputs": [],
   "source": [
    "outlier_prob = pd.DataFrame({\"card_id\":test[\"card_id\"].values})\n",
    "outlier_prob[\"target\"] = predictions_lgb"
   ]
  },
  {
   "cell_type": "markdown",
   "metadata": {},
   "source": [
    "# Combining"
   ]
  },
  {
   "cell_type": "code",
   "execution_count": 24,
   "metadata": {
    "ExecuteTime": {
     "end_time": "2019-02-08T07:28:02.793934Z",
     "start_time": "2019-02-08T07:28:01.622516Z"
    }
   },
   "outputs": [
    {
     "data": {
      "text/plain": [
       "<matplotlib.axes._subplots.AxesSubplot at 0x250f9fdb470>"
      ]
     },
     "execution_count": 24,
     "metadata": {},
     "output_type": "execute_result"
    },
    {
     "data": {
      "image/png": "[encoded data removed]",
      "text/plain": [
       "<Figure size 432x288 with 1 Axes>"
      ]
     },
     "metadata": {
      "needs_background": "light"
     },
     "output_type": "display_data"
    }
   ],
   "source": [
    "sns.distplot(train.target)"
   ]
  },
  {
   "cell_type": "code",
   "execution_count": 25,
   "metadata": {
    "ExecuteTime": {
     "end_time": "2019-02-08T07:28:26.920603Z",
     "start_time": "2019-02-08T07:28:26.899659Z"
    }
   },
   "outputs": [],
   "source": [
    "outlier_id = pd.DataFrame(outlier_prob.sort_values(by='target',ascending = False).head(50000)['card_id'])"
   ]
  },
  {
   "cell_type": "code",
   "execution_count": 26,
   "metadata": {
    "ExecuteTime": {
     "end_time": "2019-02-08T07:28:28.712224Z",
     "start_time": "2019-02-08T07:28:28.602265Z"
    }
   },
   "outputs": [],
   "source": [
    "best_submission = pd.read_csv(path + 'submission_best_score.csv')"
   ]
  },
  {
   "cell_type": "code",
   "execution_count": 27,
   "metadata": {
    "ExecuteTime": {
     "end_time": "2019-02-08T07:28:29.490918Z",
     "start_time": "2019-02-08T07:28:29.430879Z"
    }
   },
   "outputs": [],
   "source": [
    "most_likely_liers = best_submission.merge(outlier_id,how='right')"
   ]
  },
  {
   "cell_type": "code",
   "execution_count": 28,
   "metadata": {
    "ExecuteTime": {
     "end_time": "2019-02-08T07:28:58.071494Z",
     "start_time": "2019-02-08T07:28:31.439469Z"
    }
   },
   "outputs": [],
   "source": [
    "for card_id in most_likely_liers['card_id']:\n",
    "    model_without_outliers.loc[model_without_outliers['card_id']==card_id,'target'] = most_likely_liers.loc[most_likely_liers['card_id']==card_id,'target'].values"
   ]
  },
  {
   "cell_type": "code",
   "execution_count": 29,
   "metadata": {
    "ExecuteTime": {
     "end_time": "2019-02-08T07:28:58.489697Z",
     "start_time": "2019-02-08T07:28:58.073499Z"
    }
   },
   "outputs": [],
   "source": [
    "model_without_outliers.to_csv(\"./data/combining_submission.csv\", index=False)"
   ]
  },
  {
   "cell_type": "code",
   "execution_count": null,
   "metadata": {},
   "outputs": [],
   "source": []
  }
 ],
 "metadata": {
  "kernelspec": {
   "display_name": "Python 3",
   "language": "python",
   "name": "python3"
  },
  "language_info": {
   "codemirror_mode": {
    "name": "ipython",
    "version": 3
   },
   "file_extension": ".py",
   "mimetype": "text/x-python",
   "name": "python",
   "nbconvert_exporter": "python",
   "pygments_lexer": "ipython3",
   "version": "3.6.7"
  },
  "toc": {
   "base_numbering": 1,
   "nav_menu": {},
   "number_sections": true,
   "sideBar": true,
   "skip_h1_title": false,
   "title_cell": "Table of Contents",
   "title_sidebar": "Contents",
   "toc_cell": false,
   "toc_position": {},
   "toc_section_display": true,
   "toc_window_display": true
  }
 },
 "nbformat": 4,
 "nbformat_minor": 2
}
