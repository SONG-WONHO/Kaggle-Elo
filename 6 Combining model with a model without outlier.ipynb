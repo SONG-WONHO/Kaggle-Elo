{
 "cells": [
  {
   "cell_type": "markdown",
   "metadata": {},
   "source": [
    "# 사전 작업"
   ]
  },
  {
   "cell_type": "markdown",
   "metadata": {},
   "source": [
    "## 모듈 로드"
   ]
  },
  {
   "cell_type": "code",
   "execution_count": 3,
   "metadata": {
    "ExecuteTime": {
     "end_time": "2019-02-08T08:10:53.418817Z",
     "start_time": "2019-02-08T08:10:50.785627Z"
    }
   },
   "outputs": [],
   "source": [
    "import numpy as np\n",
    "import pandas as pd\n",
    "import matplotlib.pyplot as plt\n",
    "import datetime\n",
    "import seaborn as sns\n",
    "import gc"
   ]
  },
  {
   "cell_type": "code",
   "execution_count": 4,
   "metadata": {
    "ExecuteTime": {
     "end_time": "2019-02-08T08:10:53.771145Z",
     "start_time": "2019-02-08T08:10:53.426167Z"
    }
   },
   "outputs": [],
   "source": [
    "import lightgbm as lgb\n",
    "from sklearn.metrics import mean_squared_error\n",
    "from sklearn.metrics import log_loss\n",
    "from sklearn.model_selection import KFold, StratifiedKFold"
   ]
  },
  {
   "cell_type": "code",
   "execution_count": 5,
   "metadata": {
    "ExecuteTime": {
     "end_time": "2019-02-08T08:10:53.781607Z",
     "start_time": "2019-02-08T08:10:53.774203Z"
    }
   },
   "outputs": [],
   "source": [
    "import warnings\n",
    "warnings.filterwarnings('ignore')"
   ]
  },
  {
   "cell_type": "code",
   "execution_count": 6,
   "metadata": {
    "ExecuteTime": {
     "end_time": "2019-02-08T08:10:53.799637Z",
     "start_time": "2019-02-08T08:10:53.790301Z"
    }
   },
   "outputs": [],
   "source": [
    "pd.set_option('display.max_columns', 400)"
   ]
  },
  {
   "cell_type": "markdown",
   "metadata": {},
   "source": [
    "# 통합 데이터"
   ]
  },
  {
   "cell_type": "code",
   "execution_count": 57,
   "metadata": {
    "ExecuteTime": {
     "end_time": "2019-02-08T09:00:01.367955Z",
     "start_time": "2019-02-08T09:00:01.359915Z"
    }
   },
   "outputs": [],
   "source": [
    "def drop_features(data, keyword, debug=False):\n",
    "    if debug:\n",
    "        data = data[:1000]\n",
    "        \n",
    "    logits = []\n",
    "    for col in data.columns:\n",
    "        if keyword in col:\n",
    "            logits.append(col)\n",
    "        else:\n",
    "            pass\n",
    "    \n",
    "    return logits"
   ]
  },
  {
   "cell_type": "markdown",
   "metadata": {},
   "source": [
    "## 데이터 로드"
   ]
  },
  {
   "cell_type": "code",
   "execution_count": 51,
   "metadata": {
    "ExecuteTime": {
     "end_time": "2019-02-08T08:58:44.112080Z",
     "start_time": "2019-02-08T08:58:44.101135Z"
    }
   },
   "outputs": [],
   "source": [
    "path = './data/'"
   ]
  },
  {
   "cell_type": "code",
   "execution_count": 52,
   "metadata": {
    "ExecuteTime": {
     "end_time": "2019-02-08T08:59:22.466781Z",
     "start_time": "2019-02-08T08:58:44.339017Z"
    }
   },
   "outputs": [],
   "source": [
    "train = pd.read_csv(path + 'train_v3.csv')\n",
    "test = pd.read_csv(path + 'test_v3.csv')"
   ]
  },
  {
   "cell_type": "markdown",
   "metadata": {},
   "source": [
    "## 제거할 피처"
   ]
  },
  {
   "cell_type": "code",
   "execution_count": 63,
   "metadata": {
    "ExecuteTime": {
     "end_time": "2019-02-08T09:07:37.311900Z",
     "start_time": "2019-02-08T09:07:37.303052Z"
    }
   },
   "outputs": [],
   "source": [
    "FEATS_EXCLUDED = ['first_active', 'card_id', 'target', 'outliers',\n",
    "                  'hist_purchase_date_max', 'hist_purchase_date_min', \n",
    "                  'new_purchase_date_max', 'new_purchase_date_min']\n",
    "\n",
    "# FEATS_EXCLUDED += drop_features(train, 'hist_duration')\n",
    "# FEATS_EXCLUDED += drop_features(train, 'hist_amount_month_ratio')\n",
    "# FEATS_EXCLUDED += drop_features(train, 'new_duration')\n",
    "# FEATS_EXCLUDED += drop_features(train, 'new_amount_month_ratio')\n",
    "\n",
    "FEATS_EXCLUDED += drop_features(train, 'hist_price')\n",
    "FEATS_EXCLUDED += drop_features(train, 'new_price')"
   ]
  },
  {
   "cell_type": "code",
   "execution_count": 64,
   "metadata": {
    "ExecuteTime": {
     "end_time": "2019-02-08T09:07:37.587848Z",
     "start_time": "2019-02-08T09:07:37.576209Z"
    }
   },
   "outputs": [],
   "source": [
    "param = {'num_leaves': 31,\n",
    "         'min_data_in_leaf': 30, \n",
    "         'objective':'regression',\n",
    "         'max_depth': -1,\n",
    "         'learning_rate': 0.01,\n",
    "         \"min_child_samples\": 20,\n",
    "         \"boosting\": \"gbdt\",\n",
    "         \"feature_fraction\": 0.9,\n",
    "         \"bagging_freq\": 1,\n",
    "         \"bagging_fraction\": 0.9 ,\n",
    "         \"bagging_seed\": 11,\n",
    "         \"metric\": 'rmse',\n",
    "         \"lambda_l1\": 0.1,\n",
    "         \"verbosity\": -1,\n",
    "         \"nthread\": 4,\n",
    "         \"random_state\": 4590}"
   ]
  },
  {
   "cell_type": "code",
   "execution_count": 65,
   "metadata": {
    "ExecuteTime": {
     "end_time": "2019-02-08T09:17:33.282408Z",
     "start_time": "2019-02-08T09:07:37.864881Z"
    },
    "scrolled": false
   },
   "outputs": [
    {
     "name": "stdout",
     "output_type": "stream",
     "text": [
      "fold n°0\n",
      "Training until validation scores don't improve for 200 rounds.\n",
      "[100]\ttraining's rmse: 3.65164\tvalid_1's rmse: 3.71639\n",
      "[200]\ttraining's rmse: 3.56694\tvalid_1's rmse: 3.68553\n",
      "[300]\ttraining's rmse: 3.51088\tvalid_1's rmse: 3.67429\n",
      "[400]\ttraining's rmse: 3.46854\tvalid_1's rmse: 3.66765\n",
      "[500]\ttraining's rmse: 3.43272\tvalid_1's rmse: 3.66397\n",
      "[600]\ttraining's rmse: 3.40279\tvalid_1's rmse: 3.66193\n",
      "[700]\ttraining's rmse: 3.37552\tvalid_1's rmse: 3.66045\n",
      "[800]\ttraining's rmse: 3.35106\tvalid_1's rmse: 3.66002\n",
      "[900]\ttraining's rmse: 3.32785\tvalid_1's rmse: 3.65936\n",
      "[1000]\ttraining's rmse: 3.30671\tvalid_1's rmse: 3.65828\n",
      "[1100]\ttraining's rmse: 3.28663\tvalid_1's rmse: 3.65774\n",
      "[1200]\ttraining's rmse: 3.26755\tvalid_1's rmse: 3.65795\n",
      "[1300]\ttraining's rmse: 3.24905\tvalid_1's rmse: 3.65808\n",
      "Early stopping, best iteration is:\n",
      "[1148]\ttraining's rmse: 3.27725\tvalid_1's rmse: 3.65762\n",
      "fold n°1\n",
      "Training until validation scores don't improve for 200 rounds.\n",
      "[100]\ttraining's rmse: 3.64991\tvalid_1's rmse: 3.72726\n",
      "[200]\ttraining's rmse: 3.56337\tvalid_1's rmse: 3.69699\n",
      "[300]\ttraining's rmse: 3.50801\tvalid_1's rmse: 3.68363\n",
      "[400]\ttraining's rmse: 3.4639\tvalid_1's rmse: 3.67514\n",
      "[500]\ttraining's rmse: 3.42907\tvalid_1's rmse: 3.67011\n",
      "[600]\ttraining's rmse: 3.39853\tvalid_1's rmse: 3.66691\n",
      "[700]\ttraining's rmse: 3.37177\tvalid_1's rmse: 3.66541\n",
      "[800]\ttraining's rmse: 3.34664\tvalid_1's rmse: 3.66475\n",
      "[900]\ttraining's rmse: 3.32431\tvalid_1's rmse: 3.66419\n",
      "[1000]\ttraining's rmse: 3.30276\tvalid_1's rmse: 3.66334\n",
      "[1100]\ttraining's rmse: 3.2822\tvalid_1's rmse: 3.66288\n",
      "[1200]\ttraining's rmse: 3.26272\tvalid_1's rmse: 3.66265\n",
      "[1300]\ttraining's rmse: 3.24474\tvalid_1's rmse: 3.66178\n",
      "[1400]\ttraining's rmse: 3.22664\tvalid_1's rmse: 3.66126\n",
      "[1500]\ttraining's rmse: 3.21033\tvalid_1's rmse: 3.66094\n",
      "[1600]\ttraining's rmse: 3.19378\tvalid_1's rmse: 3.6608\n",
      "[1700]\ttraining's rmse: 3.17736\tvalid_1's rmse: 3.66108\n",
      "[1800]\ttraining's rmse: 3.16201\tvalid_1's rmse: 3.66059\n",
      "[1900]\ttraining's rmse: 3.14653\tvalid_1's rmse: 3.6604\n",
      "[2000]\ttraining's rmse: 3.13155\tvalid_1's rmse: 3.66042\n",
      "Early stopping, best iteration is:\n",
      "[1867]\ttraining's rmse: 3.15094\tvalid_1's rmse: 3.66009\n",
      "fold n°2\n",
      "Training until validation scores don't improve for 200 rounds.\n",
      "[100]\ttraining's rmse: 3.65401\tvalid_1's rmse: 3.71066\n",
      "[200]\ttraining's rmse: 3.56954\tvalid_1's rmse: 3.67757\n",
      "[300]\ttraining's rmse: 3.51485\tvalid_1's rmse: 3.66372\n",
      "[400]\ttraining's rmse: 3.47333\tvalid_1's rmse: 3.65645\n",
      "[500]\ttraining's rmse: 3.43768\tvalid_1's rmse: 3.65145\n"
     ]
    },
    {
     "ename": "KeyboardInterrupt",
     "evalue": "",
     "output_type": "error",
     "traceback": [
      "\u001b[1;31m---------------------------------------------------------------------------\u001b[0m",
      "\u001b[1;31mKeyboardInterrupt\u001b[0m                         Traceback (most recent call last)",
      "\u001b[1;32m<ipython-input-65-d697e65c7fda>\u001b[0m in \u001b[0;36m<module>\u001b[1;34m\u001b[0m\n\u001b[0;32m     13\u001b[0m \u001b[1;33m\u001b[0m\u001b[0m\n\u001b[0;32m     14\u001b[0m     \u001b[0mnum_round\u001b[0m \u001b[1;33m=\u001b[0m \u001b[1;36m10000\u001b[0m\u001b[1;33m\u001b[0m\u001b[1;33m\u001b[0m\u001b[0m\n\u001b[1;32m---> 15\u001b[1;33m     \u001b[0mclf\u001b[0m \u001b[1;33m=\u001b[0m \u001b[0mlgb\u001b[0m\u001b[1;33m.\u001b[0m\u001b[0mtrain\u001b[0m\u001b[1;33m(\u001b[0m\u001b[0mparam\u001b[0m\u001b[1;33m,\u001b[0m \u001b[0mtrn_data\u001b[0m\u001b[1;33m,\u001b[0m \u001b[0mnum_round\u001b[0m\u001b[1;33m,\u001b[0m \u001b[0mvalid_sets\u001b[0m \u001b[1;33m=\u001b[0m \u001b[1;33m[\u001b[0m\u001b[0mtrn_data\u001b[0m\u001b[1;33m,\u001b[0m \u001b[0mval_data\u001b[0m\u001b[1;33m]\u001b[0m\u001b[1;33m,\u001b[0m \u001b[0mverbose_eval\u001b[0m\u001b[1;33m=\u001b[0m\u001b[1;36m100\u001b[0m\u001b[1;33m,\u001b[0m \u001b[0mearly_stopping_rounds\u001b[0m \u001b[1;33m=\u001b[0m \u001b[1;36m200\u001b[0m\u001b[1;33m)\u001b[0m\u001b[1;33m\u001b[0m\u001b[1;33m\u001b[0m\u001b[0m\n\u001b[0m\u001b[0;32m     16\u001b[0m     \u001b[0moof_lgb\u001b[0m\u001b[1;33m[\u001b[0m\u001b[0mval_idx\u001b[0m\u001b[1;33m]\u001b[0m \u001b[1;33m=\u001b[0m \u001b[0mclf\u001b[0m\u001b[1;33m.\u001b[0m\u001b[0mpredict\u001b[0m\u001b[1;33m(\u001b[0m\u001b[0mtrain\u001b[0m\u001b[1;33m.\u001b[0m\u001b[0miloc\u001b[0m\u001b[1;33m[\u001b[0m\u001b[0mval_idx\u001b[0m\u001b[1;33m]\u001b[0m\u001b[1;33m[\u001b[0m\u001b[0mtrain_columns\u001b[0m\u001b[1;33m]\u001b[0m\u001b[1;33m,\u001b[0m \u001b[0mnum_iteration\u001b[0m\u001b[1;33m=\u001b[0m\u001b[0mclf\u001b[0m\u001b[1;33m.\u001b[0m\u001b[0mbest_iteration\u001b[0m\u001b[1;33m)\u001b[0m\u001b[1;33m\u001b[0m\u001b[1;33m\u001b[0m\u001b[0m\n\u001b[0;32m     17\u001b[0m \u001b[1;33m\u001b[0m\u001b[0m\n",
      "\u001b[1;32mc:\\python\\lib\\site-packages\\lightgbm\\engine.py\u001b[0m in \u001b[0;36mtrain\u001b[1;34m(params, train_set, num_boost_round, valid_sets, valid_names, fobj, feval, init_model, feature_name, categorical_feature, early_stopping_rounds, evals_result, verbose_eval, learning_rates, keep_training_booster, callbacks)\u001b[0m\n\u001b[0;32m    214\u001b[0m                                     evaluation_result_list=None))\n\u001b[0;32m    215\u001b[0m \u001b[1;33m\u001b[0m\u001b[0m\n\u001b[1;32m--> 216\u001b[1;33m         \u001b[0mbooster\u001b[0m\u001b[1;33m.\u001b[0m\u001b[0mupdate\u001b[0m\u001b[1;33m(\u001b[0m\u001b[0mfobj\u001b[0m\u001b[1;33m=\u001b[0m\u001b[0mfobj\u001b[0m\u001b[1;33m)\u001b[0m\u001b[1;33m\u001b[0m\u001b[1;33m\u001b[0m\u001b[0m\n\u001b[0m\u001b[0;32m    217\u001b[0m \u001b[1;33m\u001b[0m\u001b[0m\n\u001b[0;32m    218\u001b[0m         \u001b[0mevaluation_result_list\u001b[0m \u001b[1;33m=\u001b[0m \u001b[1;33m[\u001b[0m\u001b[1;33m]\u001b[0m\u001b[1;33m\u001b[0m\u001b[1;33m\u001b[0m\u001b[0m\n",
      "\u001b[1;32mc:\\python\\lib\\site-packages\\lightgbm\\basic.py\u001b[0m in \u001b[0;36mupdate\u001b[1;34m(self, train_set, fobj)\u001b[0m\n\u001b[0;32m   1758\u001b[0m             _safe_call(_LIB.LGBM_BoosterUpdateOneIter(\n\u001b[0;32m   1759\u001b[0m                 \u001b[0mself\u001b[0m\u001b[1;33m.\u001b[0m\u001b[0mhandle\u001b[0m\u001b[1;33m,\u001b[0m\u001b[1;33m\u001b[0m\u001b[1;33m\u001b[0m\u001b[0m\n\u001b[1;32m-> 1760\u001b[1;33m                 ctypes.byref(is_finished)))\n\u001b[0m\u001b[0;32m   1761\u001b[0m             \u001b[0mself\u001b[0m\u001b[1;33m.\u001b[0m\u001b[0m__is_predicted_cur_iter\u001b[0m \u001b[1;33m=\u001b[0m \u001b[1;33m[\u001b[0m\u001b[1;32mFalse\u001b[0m \u001b[1;32mfor\u001b[0m \u001b[0m_\u001b[0m \u001b[1;32min\u001b[0m \u001b[0mrange_\u001b[0m\u001b[1;33m(\u001b[0m\u001b[0mself\u001b[0m\u001b[1;33m.\u001b[0m\u001b[0m__num_dataset\u001b[0m\u001b[1;33m)\u001b[0m\u001b[1;33m]\u001b[0m\u001b[1;33m\u001b[0m\u001b[1;33m\u001b[0m\u001b[0m\n\u001b[0;32m   1762\u001b[0m             \u001b[1;32mreturn\u001b[0m \u001b[0mis_finished\u001b[0m\u001b[1;33m.\u001b[0m\u001b[0mvalue\u001b[0m \u001b[1;33m==\u001b[0m \u001b[1;36m1\u001b[0m\u001b[1;33m\u001b[0m\u001b[1;33m\u001b[0m\u001b[0m\n",
      "\u001b[1;31mKeyboardInterrupt\u001b[0m: "
     ]
    }
   ],
   "source": [
    "folds = StratifiedKFold(n_splits=5, shuffle=True, random_state=15)\n",
    "\n",
    "oof_lgb = np.zeros(len(train))\n",
    "predictions_lgb = np.zeros(len(test))\n",
    "feature_importance = pd.DataFrame()\n",
    "\n",
    "train_columns = [f for f in train.columns if f not in FEATS_EXCLUDED]\n",
    "\n",
    "for fold_, (trn_idx, val_idx) in enumerate(folds.split(train, train['outliers'].values)):    \n",
    "    print(\"fold n°{}\".format(fold_))\n",
    "    trn_data = lgb.Dataset(train.iloc[trn_idx][train_columns], label=train.iloc[trn_idx]['target'])\n",
    "    val_data = lgb.Dataset(train.iloc[val_idx][train_columns], label=train.iloc[val_idx]['target'])\n",
    "\n",
    "    num_round = 10000\n",
    "    clf = lgb.train(param, trn_data, num_round, valid_sets = [trn_data, val_data], verbose_eval=100, early_stopping_rounds = 200)\n",
    "    oof_lgb[val_idx] = clf.predict(train.iloc[val_idx][train_columns], num_iteration=clf.best_iteration)\n",
    "    \n",
    "    predictions_lgb += clf.predict(test[train_columns], num_iteration=clf.best_iteration) / folds.n_splits\n",
    "    \n",
    "    fold_importance = pd.DataFrame()\n",
    "    fold_importance[\"Feature\"] = train_columns\n",
    "    fold_importance[\"importance\"] = clf.feature_importance()\n",
    "    fold_importance[\"fold\"] = fold_ + 1\n",
    "    feature_importance = pd.concat([feature_importance, fold_importance], axis=0)\n",
    "    \n",
    "print(\"CV score: {:<8.5f}\".format(mean_squared_error(train.target.values, oof_lgb)**0.5))"
   ]
  },
  {
   "cell_type": "code",
   "execution_count": 68,
   "metadata": {
    "ExecuteTime": {
     "end_time": "2019-02-08T09:18:37.644365Z",
     "start_time": "2019-02-08T09:18:37.602956Z"
    }
   },
   "outputs": [
    {
     "data": {
      "text/html": [
       "<div>\n",
       "<style scoped>\n",
       "    .dataframe tbody tr th:only-of-type {\n",
       "        vertical-align: middle;\n",
       "    }\n",
       "\n",
       "    .dataframe tbody tr th {\n",
       "        vertical-align: top;\n",
       "    }\n",
       "\n",
       "    .dataframe thead th {\n",
       "        text-align: right;\n",
       "    }\n",
       "</style>\n",
       "<table border=\"1\" class=\"dataframe\">\n",
       "  <thead>\n",
       "    <tr style=\"text-align: right;\">\n",
       "      <th></th>\n",
       "      <th>Feature</th>\n",
       "      <th>importance</th>\n",
       "      <th>fold</th>\n",
       "    </tr>\n",
       "  </thead>\n",
       "  <tbody>\n",
       "    <tr>\n",
       "      <th>153</th>\n",
       "      <td>new_authorized_flag_mean</td>\n",
       "      <td>0</td>\n",
       "      <td>1</td>\n",
       "    </tr>\n",
       "    <tr>\n",
       "      <th>80</th>\n",
       "      <td>hist_purchase_year_mode</td>\n",
       "      <td>0</td>\n",
       "      <td>1</td>\n",
       "    </tr>\n",
       "    <tr>\n",
       "      <th>82</th>\n",
       "      <td>hist_purchase_year_mean</td>\n",
       "      <td>0</td>\n",
       "      <td>1</td>\n",
       "    </tr>\n",
       "    <tr>\n",
       "      <th>83</th>\n",
       "      <td>hist_purchase_year_max</td>\n",
       "      <td>0</td>\n",
       "      <td>1</td>\n",
       "    </tr>\n",
       "    <tr>\n",
       "      <th>84</th>\n",
       "      <td>hist_purchase_year_min</td>\n",
       "      <td>0</td>\n",
       "      <td>1</td>\n",
       "    </tr>\n",
       "    <tr>\n",
       "      <th>26</th>\n",
       "      <td>feature_min</td>\n",
       "      <td>0</td>\n",
       "      <td>1</td>\n",
       "    </tr>\n",
       "    <tr>\n",
       "      <th>261</th>\n",
       "      <td>hist_last_buy</td>\n",
       "      <td>0</td>\n",
       "      <td>1</td>\n",
       "    </tr>\n",
       "    <tr>\n",
       "      <th>202</th>\n",
       "      <td>new_purchase_year_min</td>\n",
       "      <td>0</td>\n",
       "      <td>1</td>\n",
       "    </tr>\n",
       "    <tr>\n",
       "      <th>201</th>\n",
       "      <td>new_purchase_year_max</td>\n",
       "      <td>0</td>\n",
       "      <td>1</td>\n",
       "    </tr>\n",
       "    <tr>\n",
       "      <th>144</th>\n",
       "      <td>hist_category_3_min_mean</td>\n",
       "      <td>0</td>\n",
       "      <td>1</td>\n",
       "    </tr>\n",
       "    <tr>\n",
       "      <th>19</th>\n",
       "      <td>feature_3_outlier</td>\n",
       "      <td>0</td>\n",
       "      <td>1</td>\n",
       "    </tr>\n",
       "    <tr>\n",
       "      <th>198</th>\n",
       "      <td>new_purchase_year_mode</td>\n",
       "      <td>0</td>\n",
       "      <td>1</td>\n",
       "    </tr>\n",
       "    <tr>\n",
       "      <th>200</th>\n",
       "      <td>new_purchase_year_mean</td>\n",
       "      <td>0</td>\n",
       "      <td>1</td>\n",
       "    </tr>\n",
       "    <tr>\n",
       "      <th>140</th>\n",
       "      <td>hist_category_2_min_mean</td>\n",
       "      <td>0</td>\n",
       "      <td>1</td>\n",
       "    </tr>\n",
       "    <tr>\n",
       "      <th>260</th>\n",
       "      <td>hist_first_buy</td>\n",
       "      <td>0</td>\n",
       "      <td>1</td>\n",
       "    </tr>\n",
       "    <tr>\n",
       "      <th>5</th>\n",
       "      <td>first_active_quarter</td>\n",
       "      <td>0</td>\n",
       "      <td>1</td>\n",
       "    </tr>\n",
       "    <tr>\n",
       "      <th>114</th>\n",
       "      <td>hist_purchase_weekend_mode</td>\n",
       "      <td>0</td>\n",
       "      <td>1</td>\n",
       "    </tr>\n",
       "    <tr>\n",
       "      <th>185</th>\n",
       "      <td>new_purchase_amount_over_550</td>\n",
       "      <td>0</td>\n",
       "      <td>1</td>\n",
       "    </tr>\n",
       "    <tr>\n",
       "      <th>67</th>\n",
       "      <td>hist_purchase_amount_over_550</td>\n",
       "      <td>0</td>\n",
       "      <td>1</td>\n",
       "    </tr>\n",
       "    <tr>\n",
       "      <th>263</th>\n",
       "      <td>new_last_buy</td>\n",
       "      <td>1</td>\n",
       "      <td>1</td>\n",
       "    </tr>\n",
       "    <tr>\n",
       "      <th>81</th>\n",
       "      <td>hist_purchase_year_nunique</td>\n",
       "      <td>1</td>\n",
       "      <td>1</td>\n",
       "    </tr>\n",
       "    <tr>\n",
       "      <th>2</th>\n",
       "      <td>feature_3</td>\n",
       "      <td>1</td>\n",
       "      <td>1</td>\n",
       "    </tr>\n",
       "    <tr>\n",
       "      <th>167</th>\n",
       "      <td>new_category_3_mode</td>\n",
       "      <td>1</td>\n",
       "      <td>1</td>\n",
       "    </tr>\n",
       "    <tr>\n",
       "      <th>232</th>\n",
       "      <td>new_purchase_weekend_mode</td>\n",
       "      <td>1</td>\n",
       "      <td>1</td>\n",
       "    </tr>\n",
       "    <tr>\n",
       "      <th>108</th>\n",
       "      <td>hist_purchase_dayofweek_min</td>\n",
       "      <td>1</td>\n",
       "      <td>1</td>\n",
       "    </tr>\n",
       "    <tr>\n",
       "      <th>236</th>\n",
       "      <td>new_month_diff_min</td>\n",
       "      <td>1</td>\n",
       "      <td>1</td>\n",
       "    </tr>\n",
       "    <tr>\n",
       "      <th>151</th>\n",
       "      <td>new_authorized_flag_mode</td>\n",
       "      <td>1</td>\n",
       "      <td>1</td>\n",
       "    </tr>\n",
       "    <tr>\n",
       "      <th>237</th>\n",
       "      <td>new_month_diff_mean</td>\n",
       "      <td>1</td>\n",
       "      <td>1</td>\n",
       "    </tr>\n",
       "    <tr>\n",
       "      <th>25</th>\n",
       "      <td>feature_max</td>\n",
       "      <td>2</td>\n",
       "      <td>1</td>\n",
       "    </tr>\n",
       "    <tr>\n",
       "      <th>154</th>\n",
       "      <td>new_card_id_size</td>\n",
       "      <td>2</td>\n",
       "      <td>1</td>\n",
       "    </tr>\n",
       "    <tr>\n",
       "      <th>...</th>\n",
       "      <td>...</td>\n",
       "      <td>...</td>\n",
       "      <td>...</td>\n",
       "    </tr>\n",
       "    <tr>\n",
       "      <th>55</th>\n",
       "      <td>hist_month_lag_sum</td>\n",
       "      <td>277</td>\n",
       "      <td>1</td>\n",
       "    </tr>\n",
       "    <tr>\n",
       "      <th>119</th>\n",
       "      <td>hist_month_diff_mean</td>\n",
       "      <td>278</td>\n",
       "      <td>1</td>\n",
       "    </tr>\n",
       "    <tr>\n",
       "      <th>180</th>\n",
       "      <td>new_purchase_amount_mean</td>\n",
       "      <td>278</td>\n",
       "      <td>1</td>\n",
       "    </tr>\n",
       "    <tr>\n",
       "      <th>257</th>\n",
       "      <td>new_purchase_date_average</td>\n",
       "      <td>278</td>\n",
       "      <td>1</td>\n",
       "    </tr>\n",
       "    <tr>\n",
       "      <th>229</th>\n",
       "      <td>new_purchase_weekofyear_mean</td>\n",
       "      <td>280</td>\n",
       "      <td>1</td>\n",
       "    </tr>\n",
       "    <tr>\n",
       "      <th>100</th>\n",
       "      <td>hist_purchase_hour_var</td>\n",
       "      <td>299</td>\n",
       "      <td>1</td>\n",
       "    </tr>\n",
       "    <tr>\n",
       "      <th>242</th>\n",
       "      <td>new_Black_Friday_2017_mean</td>\n",
       "      <td>301</td>\n",
       "      <td>1</td>\n",
       "    </tr>\n",
       "    <tr>\n",
       "      <th>158</th>\n",
       "      <td>new_category_1_sum</td>\n",
       "      <td>303</td>\n",
       "      <td>1</td>\n",
       "    </tr>\n",
       "    <tr>\n",
       "      <th>110</th>\n",
       "      <td>hist_purchase_weekofyear_nunique</td>\n",
       "      <td>303</td>\n",
       "      <td>1</td>\n",
       "    </tr>\n",
       "    <tr>\n",
       "      <th>149</th>\n",
       "      <td>hist_purchase_date_uptonow</td>\n",
       "      <td>305</td>\n",
       "      <td>1</td>\n",
       "    </tr>\n",
       "    <tr>\n",
       "      <th>159</th>\n",
       "      <td>new_category_1_mean</td>\n",
       "      <td>305</td>\n",
       "      <td>1</td>\n",
       "    </tr>\n",
       "    <tr>\n",
       "      <th>230</th>\n",
       "      <td>new_purchase_weekofyear_max</td>\n",
       "      <td>314</td>\n",
       "      <td>1</td>\n",
       "    </tr>\n",
       "    <tr>\n",
       "      <th>43</th>\n",
       "      <td>hist_installments_sum</td>\n",
       "      <td>324</td>\n",
       "      <td>1</td>\n",
       "    </tr>\n",
       "    <tr>\n",
       "      <th>124</th>\n",
       "      <td>hist_fathers_day_2017_mean</td>\n",
       "      <td>332</td>\n",
       "      <td>1</td>\n",
       "    </tr>\n",
       "    <tr>\n",
       "      <th>41</th>\n",
       "      <td>hist_category_1_label_mean</td>\n",
       "      <td>336</td>\n",
       "      <td>1</td>\n",
       "    </tr>\n",
       "    <tr>\n",
       "      <th>246</th>\n",
       "      <td>new_duration_max</td>\n",
       "      <td>350</td>\n",
       "      <td>1</td>\n",
       "    </tr>\n",
       "    <tr>\n",
       "      <th>53</th>\n",
       "      <td>hist_merchant_id_nunique</td>\n",
       "      <td>360</td>\n",
       "      <td>1</td>\n",
       "    </tr>\n",
       "    <tr>\n",
       "      <th>265</th>\n",
       "      <td>card_id_size_ratio</td>\n",
       "      <td>361</td>\n",
       "      <td>1</td>\n",
       "    </tr>\n",
       "    <tr>\n",
       "      <th>256</th>\n",
       "      <td>new_purchase_date_diff</td>\n",
       "      <td>364</td>\n",
       "      <td>1</td>\n",
       "    </tr>\n",
       "    <tr>\n",
       "      <th>276</th>\n",
       "      <td>category_1_mean</td>\n",
       "      <td>371</td>\n",
       "      <td>1</td>\n",
       "    </tr>\n",
       "    <tr>\n",
       "      <th>210</th>\n",
       "      <td>new_purchase_day_mean</td>\n",
       "      <td>380</td>\n",
       "      <td>1</td>\n",
       "    </tr>\n",
       "    <tr>\n",
       "      <th>129</th>\n",
       "      <td>hist_duration_mean</td>\n",
       "      <td>381</td>\n",
       "      <td>1</td>\n",
       "    </tr>\n",
       "    <tr>\n",
       "      <th>125</th>\n",
       "      <td>hist_Children_day_2017_mean</td>\n",
       "      <td>382</td>\n",
       "      <td>1</td>\n",
       "    </tr>\n",
       "    <tr>\n",
       "      <th>182</th>\n",
       "      <td>new_purchase_amount_max</td>\n",
       "      <td>388</td>\n",
       "      <td>1</td>\n",
       "    </tr>\n",
       "    <tr>\n",
       "      <th>130</th>\n",
       "      <td>hist_duration_min</td>\n",
       "      <td>397</td>\n",
       "      <td>1</td>\n",
       "    </tr>\n",
       "    <tr>\n",
       "      <th>86</th>\n",
       "      <td>hist_purchase_month_nunique</td>\n",
       "      <td>470</td>\n",
       "      <td>1</td>\n",
       "    </tr>\n",
       "    <tr>\n",
       "      <th>40</th>\n",
       "      <td>hist_category_1_label_sum</td>\n",
       "      <td>508</td>\n",
       "      <td>1</td>\n",
       "    </tr>\n",
       "    <tr>\n",
       "      <th>174</th>\n",
       "      <td>new_month_lag_mean</td>\n",
       "      <td>516</td>\n",
       "      <td>1</td>\n",
       "    </tr>\n",
       "    <tr>\n",
       "      <th>22</th>\n",
       "      <td>first_active_total_day_outlier</td>\n",
       "      <td>588</td>\n",
       "      <td>1</td>\n",
       "    </tr>\n",
       "    <tr>\n",
       "      <th>35</th>\n",
       "      <td>hist_authorized_flag_label_mean</td>\n",
       "      <td>678</td>\n",
       "      <td>1</td>\n",
       "    </tr>\n",
       "  </tbody>\n",
       "</table>\n",
       "<p>293 rows × 3 columns</p>\n",
       "</div>"
      ],
      "text/plain": [
       "                              Feature  importance  fold\n",
       "153          new_authorized_flag_mean           0     1\n",
       "80            hist_purchase_year_mode           0     1\n",
       "82            hist_purchase_year_mean           0     1\n",
       "83             hist_purchase_year_max           0     1\n",
       "84             hist_purchase_year_min           0     1\n",
       "26                        feature_min           0     1\n",
       "261                     hist_last_buy           0     1\n",
       "202             new_purchase_year_min           0     1\n",
       "201             new_purchase_year_max           0     1\n",
       "144          hist_category_3_min_mean           0     1\n",
       "19                  feature_3_outlier           0     1\n",
       "198            new_purchase_year_mode           0     1\n",
       "200            new_purchase_year_mean           0     1\n",
       "140          hist_category_2_min_mean           0     1\n",
       "260                    hist_first_buy           0     1\n",
       "5                first_active_quarter           0     1\n",
       "114        hist_purchase_weekend_mode           0     1\n",
       "185      new_purchase_amount_over_550           0     1\n",
       "67      hist_purchase_amount_over_550           0     1\n",
       "263                      new_last_buy           1     1\n",
       "81         hist_purchase_year_nunique           1     1\n",
       "2                           feature_3           1     1\n",
       "167               new_category_3_mode           1     1\n",
       "232         new_purchase_weekend_mode           1     1\n",
       "108       hist_purchase_dayofweek_min           1     1\n",
       "236                new_month_diff_min           1     1\n",
       "151          new_authorized_flag_mode           1     1\n",
       "237               new_month_diff_mean           1     1\n",
       "25                        feature_max           2     1\n",
       "154                  new_card_id_size           2     1\n",
       "..                                ...         ...   ...\n",
       "55                 hist_month_lag_sum         277     1\n",
       "119              hist_month_diff_mean         278     1\n",
       "180          new_purchase_amount_mean         278     1\n",
       "257         new_purchase_date_average         278     1\n",
       "229      new_purchase_weekofyear_mean         280     1\n",
       "100            hist_purchase_hour_var         299     1\n",
       "242        new_Black_Friday_2017_mean         301     1\n",
       "158                new_category_1_sum         303     1\n",
       "110  hist_purchase_weekofyear_nunique         303     1\n",
       "149        hist_purchase_date_uptonow         305     1\n",
       "159               new_category_1_mean         305     1\n",
       "230       new_purchase_weekofyear_max         314     1\n",
       "43              hist_installments_sum         324     1\n",
       "124        hist_fathers_day_2017_mean         332     1\n",
       "41         hist_category_1_label_mean         336     1\n",
       "246                  new_duration_max         350     1\n",
       "53           hist_merchant_id_nunique         360     1\n",
       "265                card_id_size_ratio         361     1\n",
       "256            new_purchase_date_diff         364     1\n",
       "276                   category_1_mean         371     1\n",
       "210             new_purchase_day_mean         380     1\n",
       "129                hist_duration_mean         381     1\n",
       "125       hist_Children_day_2017_mean         382     1\n",
       "182           new_purchase_amount_max         388     1\n",
       "130                 hist_duration_min         397     1\n",
       "86        hist_purchase_month_nunique         470     1\n",
       "40          hist_category_1_label_sum         508     1\n",
       "174                new_month_lag_mean         516     1\n",
       "22     first_active_total_day_outlier         588     1\n",
       "35    hist_authorized_flag_label_mean         678     1\n",
       "\n",
       "[293 rows x 3 columns]"
      ]
     },
     "execution_count": 68,
     "metadata": {},
     "output_type": "execute_result"
    }
   ],
   "source": [
    "feature_importance[feature_importance.fold == 1].sort_values('importance')"
   ]
  },
  {
   "cell_type": "markdown",
   "metadata": {},
   "source": [
    "# 이상치 없는 데이터"
   ]
  },
  {
   "cell_type": "markdown",
   "metadata": {},
   "source": [
    "## 데이터 로드"
   ]
  },
  {
   "cell_type": "code",
   "execution_count": 5,
   "metadata": {
    "ExecuteTime": {
     "end_time": "2019-02-08T07:03:01.402717Z",
     "start_time": "2019-02-08T07:03:01.398729Z"
    }
   },
   "outputs": [],
   "source": [
    "path = './data/'"
   ]
  },
  {
   "cell_type": "code",
   "execution_count": 6,
   "metadata": {
    "ExecuteTime": {
     "end_time": "2019-02-08T07:03:16.953232Z",
     "start_time": "2019-02-08T07:03:01.547966Z"
    }
   },
   "outputs": [],
   "source": [
    "train = pd.read_csv(path + 'train_v3.csv')\n",
    "test = pd.read_csv(path + 'test_v3.csv')"
   ]
  },
  {
   "cell_type": "code",
   "execution_count": 7,
   "metadata": {
    "ExecuteTime": {
     "end_time": "2019-02-08T07:03:29.283667Z",
     "start_time": "2019-02-08T07:03:29.022371Z"
    }
   },
   "outputs": [],
   "source": [
    "train = train[train.outliers == 0]"
   ]
  },
  {
   "cell_type": "markdown",
   "metadata": {},
   "source": [
    "## 제거할 피처"
   ]
  },
  {
   "cell_type": "code",
   "execution_count": 8,
   "metadata": {
    "ExecuteTime": {
     "end_time": "2019-02-08T07:03:30.002901Z",
     "start_time": "2019-02-08T07:03:30.000930Z"
    }
   },
   "outputs": [],
   "source": [
    "FEATS_EXCLUDED = ['first_active', 'card_id', 'target', 'outliers',\n",
    "                  'hist_purchase_date_max', 'hist_purchase_date_min', \n",
    "                  'new_purchase_date_max', 'new_purchase_date_min']"
   ]
  },
  {
   "cell_type": "markdown",
   "metadata": {},
   "source": [
    "## Parameter"
   ]
  },
  {
   "cell_type": "code",
   "execution_count": 9,
   "metadata": {
    "ExecuteTime": {
     "end_time": "2019-02-08T07:03:30.385738Z",
     "start_time": "2019-02-08T07:03:30.381748Z"
    }
   },
   "outputs": [],
   "source": [
    "param = {'num_leaves': 31,\n",
    "         'min_data_in_leaf': 30, \n",
    "         'objective':'regression',\n",
    "         'max_depth': -1,\n",
    "         'learning_rate': 0.01,\n",
    "         \"min_child_samples\": 20,\n",
    "         \"boosting\": \"gbdt\",\n",
    "         \"feature_fraction\": 0.9,\n",
    "         \"bagging_freq\": 1,\n",
    "         \"bagging_fraction\": 0.9 ,\n",
    "         \"bagging_seed\": 11,\n",
    "         \"metric\": 'rmse',\n",
    "         \"lambda_l1\": 0.1,\n",
    "         \"verbosity\": -1,\n",
    "         \"nthread\": 4,\n",
    "         \"random_state\": 4590}"
   ]
  },
  {
   "cell_type": "markdown",
   "metadata": {},
   "source": [
    "## training model"
   ]
  },
  {
   "cell_type": "code",
   "execution_count": 10,
   "metadata": {
    "ExecuteTime": {
     "end_time": "2019-02-08T07:21:44.604209Z",
     "start_time": "2019-02-08T07:03:33.148134Z"
    },
    "scrolled": false
   },
   "outputs": [
    {
     "name": "stdout",
     "output_type": "stream",
     "text": [
      "fold n°0\n",
      "Training until validation scores don't improve for 200 rounds.\n",
      "[100]\ttraining's rmse: 1.60508\tvalid_1's rmse: 1.61676\n",
      "[200]\ttraining's rmse: 1.57258\tvalid_1's rmse: 1.58947\n",
      "[300]\ttraining's rmse: 1.5569\tvalid_1's rmse: 1.57843\n",
      "[400]\ttraining's rmse: 1.54652\tvalid_1's rmse: 1.57278\n",
      "[500]\ttraining's rmse: 1.53831\tvalid_1's rmse: 1.56901\n",
      "[600]\ttraining's rmse: 1.53133\tvalid_1's rmse: 1.56669\n",
      "[700]\ttraining's rmse: 1.52511\tvalid_1's rmse: 1.56515\n",
      "[800]\ttraining's rmse: 1.51955\tvalid_1's rmse: 1.56427\n",
      "[900]\ttraining's rmse: 1.51443\tvalid_1's rmse: 1.5636\n",
      "[1000]\ttraining's rmse: 1.50958\tvalid_1's rmse: 1.56307\n",
      "[1100]\ttraining's rmse: 1.50494\tvalid_1's rmse: 1.56258\n",
      "[1200]\ttraining's rmse: 1.50054\tvalid_1's rmse: 1.56232\n",
      "[1300]\ttraining's rmse: 1.49619\tvalid_1's rmse: 1.56206\n",
      "[1400]\ttraining's rmse: 1.492\tvalid_1's rmse: 1.5618\n",
      "[1500]\ttraining's rmse: 1.4879\tvalid_1's rmse: 1.56166\n",
      "[1600]\ttraining's rmse: 1.48388\tvalid_1's rmse: 1.56144\n",
      "[1700]\ttraining's rmse: 1.47992\tvalid_1's rmse: 1.56131\n",
      "[1800]\ttraining's rmse: 1.47591\tvalid_1's rmse: 1.56122\n",
      "[1900]\ttraining's rmse: 1.47199\tvalid_1's rmse: 1.5611\n",
      "[2000]\ttraining's rmse: 1.46814\tvalid_1's rmse: 1.56108\n",
      "[2100]\ttraining's rmse: 1.46424\tvalid_1's rmse: 1.56107\n",
      "[2200]\ttraining's rmse: 1.46048\tvalid_1's rmse: 1.56106\n",
      "Early stopping, best iteration is:\n",
      "[2009]\ttraining's rmse: 1.46783\tvalid_1's rmse: 1.56104\n",
      "fold n°1\n",
      "Training until validation scores don't improve for 200 rounds.\n",
      "[100]\ttraining's rmse: 1.60584\tvalid_1's rmse: 1.61461\n",
      "[200]\ttraining's rmse: 1.57339\tvalid_1's rmse: 1.58669\n",
      "[300]\ttraining's rmse: 1.55754\tvalid_1's rmse: 1.5757\n",
      "[400]\ttraining's rmse: 1.54694\tvalid_1's rmse: 1.57008\n",
      "[500]\ttraining's rmse: 1.53863\tvalid_1's rmse: 1.56661\n",
      "[600]\ttraining's rmse: 1.53148\tvalid_1's rmse: 1.56436\n",
      "[700]\ttraining's rmse: 1.52518\tvalid_1's rmse: 1.56301\n",
      "[800]\ttraining's rmse: 1.51953\tvalid_1's rmse: 1.56204\n",
      "[900]\ttraining's rmse: 1.51431\tvalid_1's rmse: 1.56134\n",
      "[1000]\ttraining's rmse: 1.50943\tvalid_1's rmse: 1.56088\n",
      "[1100]\ttraining's rmse: 1.50482\tvalid_1's rmse: 1.56052\n",
      "[1200]\ttraining's rmse: 1.50026\tvalid_1's rmse: 1.56021\n",
      "[1300]\ttraining's rmse: 1.49585\tvalid_1's rmse: 1.55998\n",
      "[1400]\ttraining's rmse: 1.49155\tvalid_1's rmse: 1.5597\n",
      "[1500]\ttraining's rmse: 1.48751\tvalid_1's rmse: 1.5596\n",
      "[1600]\ttraining's rmse: 1.48351\tvalid_1's rmse: 1.55945\n",
      "[1700]\ttraining's rmse: 1.47957\tvalid_1's rmse: 1.55936\n",
      "[1800]\ttraining's rmse: 1.47572\tvalid_1's rmse: 1.55924\n",
      "[1900]\ttraining's rmse: 1.47172\tvalid_1's rmse: 1.55916\n",
      "[2000]\ttraining's rmse: 1.46794\tvalid_1's rmse: 1.55911\n",
      "[2100]\ttraining's rmse: 1.46406\tvalid_1's rmse: 1.55906\n",
      "[2200]\ttraining's rmse: 1.4604\tvalid_1's rmse: 1.55904\n",
      "[2300]\ttraining's rmse: 1.45669\tvalid_1's rmse: 1.55894\n",
      "[2400]\ttraining's rmse: 1.453\tvalid_1's rmse: 1.5589\n",
      "[2500]\ttraining's rmse: 1.44937\tvalid_1's rmse: 1.55896\n",
      "Early stopping, best iteration is:\n",
      "[2340]\ttraining's rmse: 1.45518\tvalid_1's rmse: 1.55886\n",
      "fold n°2\n",
      "Training until validation scores don't improve for 200 rounds.\n",
      "[100]\ttraining's rmse: 1.61072\tvalid_1's rmse: 1.59327\n",
      "[200]\ttraining's rmse: 1.57845\tvalid_1's rmse: 1.56552\n",
      "[300]\ttraining's rmse: 1.56276\tvalid_1's rmse: 1.55478\n",
      "[400]\ttraining's rmse: 1.55234\tvalid_1's rmse: 1.54917\n",
      "[500]\ttraining's rmse: 1.54409\tvalid_1's rmse: 1.54587\n",
      "[600]\ttraining's rmse: 1.53698\tvalid_1's rmse: 1.54351\n",
      "[700]\ttraining's rmse: 1.53075\tvalid_1's rmse: 1.54193\n",
      "[800]\ttraining's rmse: 1.52514\tvalid_1's rmse: 1.54095\n",
      "[900]\ttraining's rmse: 1.51991\tvalid_1's rmse: 1.54028\n",
      "[1000]\ttraining's rmse: 1.51496\tvalid_1's rmse: 1.5397\n",
      "[1100]\ttraining's rmse: 1.5103\tvalid_1's rmse: 1.53929\n",
      "[1200]\ttraining's rmse: 1.50583\tvalid_1's rmse: 1.53903\n",
      "[1300]\ttraining's rmse: 1.50156\tvalid_1's rmse: 1.53884\n",
      "[1400]\ttraining's rmse: 1.49735\tvalid_1's rmse: 1.53867\n",
      "[1500]\ttraining's rmse: 1.49316\tvalid_1's rmse: 1.53842\n",
      "[1600]\ttraining's rmse: 1.48908\tvalid_1's rmse: 1.53824\n",
      "[1700]\ttraining's rmse: 1.48513\tvalid_1's rmse: 1.5382\n",
      "[1800]\ttraining's rmse: 1.48117\tvalid_1's rmse: 1.53814\n",
      "[1900]\ttraining's rmse: 1.47719\tvalid_1's rmse: 1.53812\n",
      "[2000]\ttraining's rmse: 1.47332\tvalid_1's rmse: 1.53811\n",
      "[2100]\ttraining's rmse: 1.46949\tvalid_1's rmse: 1.53796\n",
      "[2200]\ttraining's rmse: 1.46578\tvalid_1's rmse: 1.53788\n",
      "[2300]\ttraining's rmse: 1.46198\tvalid_1's rmse: 1.53771\n",
      "[2400]\ttraining's rmse: 1.45823\tvalid_1's rmse: 1.53766\n",
      "[2500]\ttraining's rmse: 1.45458\tvalid_1's rmse: 1.53766\n",
      "[2600]\ttraining's rmse: 1.45098\tvalid_1's rmse: 1.53763\n",
      "[2700]\ttraining's rmse: 1.44753\tvalid_1's rmse: 1.53766\n",
      "[2800]\ttraining's rmse: 1.44397\tvalid_1's rmse: 1.53755\n",
      "[2900]\ttraining's rmse: 1.44049\tvalid_1's rmse: 1.53756\n",
      "[3000]\ttraining's rmse: 1.43708\tvalid_1's rmse: 1.53756\n",
      "Early stopping, best iteration is:\n",
      "[2827]\ttraining's rmse: 1.44299\tvalid_1's rmse: 1.53752\n",
      "fold n°3\n",
      "Training until validation scores don't improve for 200 rounds.\n",
      "[100]\ttraining's rmse: 1.60593\tvalid_1's rmse: 1.61355\n",
      "[200]\ttraining's rmse: 1.57368\tvalid_1's rmse: 1.58562\n",
      "[300]\ttraining's rmse: 1.55802\tvalid_1's rmse: 1.57458\n",
      "[400]\ttraining's rmse: 1.54765\tvalid_1's rmse: 1.569\n",
      "[500]\ttraining's rmse: 1.53949\tvalid_1's rmse: 1.56552\n",
      "[600]\ttraining's rmse: 1.53253\tvalid_1's rmse: 1.56334\n",
      "[700]\ttraining's rmse: 1.52628\tvalid_1's rmse: 1.56195\n",
      "[800]\ttraining's rmse: 1.52065\tvalid_1's rmse: 1.56101\n",
      "[900]\ttraining's rmse: 1.51555\tvalid_1's rmse: 1.56044\n",
      "[1000]\ttraining's rmse: 1.51064\tvalid_1's rmse: 1.55996\n",
      "[1100]\ttraining's rmse: 1.50611\tvalid_1's rmse: 1.55967\n",
      "[1200]\ttraining's rmse: 1.50167\tvalid_1's rmse: 1.55953\n",
      "[1300]\ttraining's rmse: 1.49734\tvalid_1's rmse: 1.55922\n",
      "[1400]\ttraining's rmse: 1.49322\tvalid_1's rmse: 1.55908\n",
      "[1500]\ttraining's rmse: 1.48899\tvalid_1's rmse: 1.55898\n",
      "[1600]\ttraining's rmse: 1.48502\tvalid_1's rmse: 1.55893\n",
      "[1700]\ttraining's rmse: 1.48107\tvalid_1's rmse: 1.55866\n",
      "[1800]\ttraining's rmse: 1.47718\tvalid_1's rmse: 1.55857\n",
      "[1900]\ttraining's rmse: 1.47327\tvalid_1's rmse: 1.55847\n",
      "[2000]\ttraining's rmse: 1.46946\tvalid_1's rmse: 1.55835\n",
      "[2100]\ttraining's rmse: 1.46566\tvalid_1's rmse: 1.55827\n",
      "[2200]\ttraining's rmse: 1.46196\tvalid_1's rmse: 1.55813\n",
      "[2300]\ttraining's rmse: 1.45828\tvalid_1's rmse: 1.55807\n",
      "[2400]\ttraining's rmse: 1.4545\tvalid_1's rmse: 1.55808\n",
      "[2500]\ttraining's rmse: 1.45083\tvalid_1's rmse: 1.55801\n",
      "[2600]\ttraining's rmse: 1.44723\tvalid_1's rmse: 1.55799\n",
      "[2700]\ttraining's rmse: 1.44368\tvalid_1's rmse: 1.55795\n",
      "Early stopping, best iteration is:\n",
      "[2561]\ttraining's rmse: 1.44862\tvalid_1's rmse: 1.5579\n",
      "fold n°4\n",
      "Training until validation scores don't improve for 200 rounds.\n",
      "[100]\ttraining's rmse: 1.60496\tvalid_1's rmse: 1.61764\n",
      "[200]\ttraining's rmse: 1.5728\tvalid_1's rmse: 1.58927\n",
      "[300]\ttraining's rmse: 1.55708\tvalid_1's rmse: 1.57802\n",
      "[400]\ttraining's rmse: 1.5467\tvalid_1's rmse: 1.57251\n",
      "[500]\ttraining's rmse: 1.53848\tvalid_1's rmse: 1.56926\n",
      "[600]\ttraining's rmse: 1.53131\tvalid_1's rmse: 1.56703\n",
      "[700]\ttraining's rmse: 1.5251\tvalid_1's rmse: 1.56561\n",
      "[800]\ttraining's rmse: 1.51946\tvalid_1's rmse: 1.56454\n",
      "[900]\ttraining's rmse: 1.51439\tvalid_1's rmse: 1.56397\n",
      "[1000]\ttraining's rmse: 1.50963\tvalid_1's rmse: 1.56345\n",
      "[1100]\ttraining's rmse: 1.50491\tvalid_1's rmse: 1.56295\n",
      "[1200]\ttraining's rmse: 1.50048\tvalid_1's rmse: 1.5627\n",
      "[1300]\ttraining's rmse: 1.49605\tvalid_1's rmse: 1.56248\n",
      "[1400]\ttraining's rmse: 1.49174\tvalid_1's rmse: 1.56232\n",
      "[1500]\ttraining's rmse: 1.48761\tvalid_1's rmse: 1.56223\n",
      "[1600]\ttraining's rmse: 1.48359\tvalid_1's rmse: 1.56199\n",
      "[1700]\ttraining's rmse: 1.47965\tvalid_1's rmse: 1.56192\n",
      "[1800]\ttraining's rmse: 1.47565\tvalid_1's rmse: 1.56176\n",
      "[1900]\ttraining's rmse: 1.47187\tvalid_1's rmse: 1.56168\n",
      "[2000]\ttraining's rmse: 1.46798\tvalid_1's rmse: 1.56154\n",
      "[2100]\ttraining's rmse: 1.4641\tvalid_1's rmse: 1.56138\n",
      "[2200]\ttraining's rmse: 1.46037\tvalid_1's rmse: 1.56136\n",
      "[2300]\ttraining's rmse: 1.45658\tvalid_1's rmse: 1.56128\n",
      "[2400]\ttraining's rmse: 1.45303\tvalid_1's rmse: 1.56124\n",
      "[2500]\ttraining's rmse: 1.4494\tvalid_1's rmse: 1.56122\n",
      "[2600]\ttraining's rmse: 1.44584\tvalid_1's rmse: 1.56117\n",
      "[2700]\ttraining's rmse: 1.44221\tvalid_1's rmse: 1.56117\n",
      "[2800]\ttraining's rmse: 1.4387\tvalid_1's rmse: 1.5611\n",
      "[2900]\ttraining's rmse: 1.43526\tvalid_1's rmse: 1.56115\n",
      "Early stopping, best iteration is:\n",
      "[2783]\ttraining's rmse: 1.4393\tvalid_1's rmse: 1.56109\n",
      "CV score: 1.55531 \n"
     ]
    }
   ],
   "source": [
    "folds = StratifiedKFold(n_splits=5, shuffle=True, random_state=15)\n",
    "\n",
    "oof_lgb = np.zeros(len(train))\n",
    "predictions_lgb = np.zeros(len(test))\n",
    "feature_importance = pd.DataFrame()\n",
    "\n",
    "train_columns = [f for f in train.columns if f not in FEATS_EXCLUDED]\n",
    "\n",
    "for fold_, (trn_idx, val_idx) in enumerate(folds.split(train, train['outliers'].values)):    \n",
    "    print(\"fold n°{}\".format(fold_))\n",
    "    trn_data = lgb.Dataset(train.iloc[trn_idx][train_columns], label=train.iloc[trn_idx]['target'])\n",
    "    val_data = lgb.Dataset(train.iloc[val_idx][train_columns], label=train.iloc[val_idx]['target'])\n",
    "    \n",
    "    num_round = 10000\n",
    "    clf = lgb.train(param, trn_data, num_round, valid_sets = [trn_data, val_data], verbose_eval=100, early_stopping_rounds = 200)\n",
    "    oof_lgb[val_idx] = clf.predict(train.iloc[val_idx][train_columns], num_iteration=clf.best_iteration)\n",
    "    \n",
    "    predictions_lgb += clf.predict(test[train_columns], num_iteration=clf.best_iteration) / folds.n_splits\n",
    "    \n",
    "    fold_importance = pd.DataFrame()\n",
    "    fold_importance[\"Feature\"] = train_columns\n",
    "    fold_importance[\"importance\"] = clf.feature_importance()\n",
    "    fold_importance[\"fold\"] = fold_ + 1\n",
    "    feature_importance = pd.concat([feature_importance, fold_importance], axis=0)\n",
    "    \n",
    "print(\"CV score: {:<8.5f}\".format(mean_squared_error(train.target.values, oof_lgb)**0.5))"
   ]
  },
  {
   "cell_type": "code",
   "execution_count": 15,
   "metadata": {
    "ExecuteTime": {
     "end_time": "2019-02-08T07:24:30.281518Z",
     "start_time": "2019-02-08T07:24:30.275488Z"
    }
   },
   "outputs": [],
   "source": [
    "model_without_outliers = pd.DataFrame({\"card_id\":test[\"card_id\"].values})\n",
    "model_without_outliers[\"target\"] = predictions_lgb"
   ]
  },
  {
   "cell_type": "markdown",
   "metadata": {},
   "source": [
    "# 이상치 예측 모델"
   ]
  },
  {
   "cell_type": "markdown",
   "metadata": {},
   "source": [
    "## 데이터 로드"
   ]
  },
  {
   "cell_type": "code",
   "execution_count": 16,
   "metadata": {
    "ExecuteTime": {
     "end_time": "2019-02-08T07:24:46.031602Z",
     "start_time": "2019-02-08T07:24:31.693473Z"
    }
   },
   "outputs": [],
   "source": [
    "train = pd.read_csv(path + 'train_v3.csv')\n",
    "test = pd.read_csv(path + 'test_v3.csv')"
   ]
  },
  {
   "cell_type": "code",
   "execution_count": 17,
   "metadata": {
    "ExecuteTime": {
     "end_time": "2019-02-08T07:24:46.086457Z",
     "start_time": "2019-02-08T07:24:46.033599Z"
    }
   },
   "outputs": [],
   "source": [
    "target = train['outliers']"
   ]
  },
  {
   "cell_type": "markdown",
   "metadata": {},
   "source": [
    "## 제거할 피처"
   ]
  },
  {
   "cell_type": "code",
   "execution_count": 18,
   "metadata": {
    "ExecuteTime": {
     "end_time": "2019-02-08T07:24:46.091444Z",
     "start_time": "2019-02-08T07:24:46.087454Z"
    }
   },
   "outputs": [],
   "source": [
    "FEATS_EXCLUDED = ['first_active', 'card_id', 'target', 'outliers',\n",
    "                  'hist_purchase_date_max', 'hist_purchase_date_min', \n",
    "                  'new_purchase_date_max', 'new_purchase_date_min']"
   ]
  },
  {
   "cell_type": "markdown",
   "metadata": {},
   "source": [
    "## 파라미터"
   ]
  },
  {
   "cell_type": "code",
   "execution_count": 19,
   "metadata": {
    "ExecuteTime": {
     "end_time": "2019-02-08T07:24:46.098423Z",
     "start_time": "2019-02-08T07:24:46.093438Z"
    }
   },
   "outputs": [],
   "source": [
    "param = {'num_leaves': 31,\n",
    "         'min_data_in_leaf': 30, \n",
    "         'objective':'binary',\n",
    "         'max_depth': 6,\n",
    "         'learning_rate': 0.01,\n",
    "         \"boosting\": \"rf\",\n",
    "         \"feature_fraction\": 0.9,\n",
    "         \"bagging_freq\": 1,\n",
    "         \"bagging_fraction\": 0.9 ,\n",
    "         \"bagging_seed\": 11,\n",
    "         \"metric\": 'binary_logloss',\n",
    "         \"lambda_l1\": 0.1,\n",
    "         \"verbosity\": -1,\n",
    "         \"random_state\": 2333}"
   ]
  },
  {
   "cell_type": "code",
   "execution_count": 20,
   "metadata": {
    "ExecuteTime": {
     "end_time": "2019-02-08T07:27:41.525388Z",
     "start_time": "2019-02-08T07:24:46.101416Z"
    }
   },
   "outputs": [
    {
     "name": "stdout",
     "output_type": "stream",
     "text": [
      "fold n°0\n",
      "Training until validation scores don't improve for 200 rounds.\n",
      "[100]\ttraining's binary_logloss: 0.0439393\tvalid_1's binary_logloss: 0.0466941\n",
      "[200]\ttraining's binary_logloss: 0.0439582\tvalid_1's binary_logloss: 0.0466935\n",
      "Early stopping, best iteration is:\n",
      "[9]\ttraining's binary_logloss: 0.0439586\tvalid_1's binary_logloss: 0.0465615\n",
      "fold n°1\n",
      "Training until validation scores don't improve for 200 rounds.\n",
      "[100]\ttraining's binary_logloss: 0.0439916\tvalid_1's binary_logloss: 0.0471326\n",
      "[200]\ttraining's binary_logloss: 0.044006\tvalid_1's binary_logloss: 0.0471322\n",
      "Early stopping, best iteration is:\n",
      "[23]\ttraining's binary_logloss: 0.0439602\tvalid_1's binary_logloss: 0.0470829\n",
      "fold n°2\n",
      "Training until validation scores don't improve for 200 rounds.\n",
      "[100]\ttraining's binary_logloss: 0.0444197\tvalid_1's binary_logloss: 0.046345\n",
      "[200]\ttraining's binary_logloss: 0.0443985\tvalid_1's binary_logloss: 0.046319\n",
      "[300]\ttraining's binary_logloss: 0.0443899\tvalid_1's binary_logloss: 0.0462997\n",
      "[400]\ttraining's binary_logloss: 0.0443929\tvalid_1's binary_logloss: 0.0462866\n",
      "[500]\ttraining's binary_logloss: 0.0443896\tvalid_1's binary_logloss: 0.0462947\n",
      "[600]\ttraining's binary_logloss: 0.0443942\tvalid_1's binary_logloss: 0.0463057\n",
      "Early stopping, best iteration is:\n",
      "[406]\ttraining's binary_logloss: 0.0443867\tvalid_1's binary_logloss: 0.0462782\n",
      "fold n°3\n",
      "Training until validation scores don't improve for 200 rounds.\n",
      "[100]\ttraining's binary_logloss: 0.0442598\tvalid_1's binary_logloss: 0.0448344\n",
      "[200]\ttraining's binary_logloss: 0.0442657\tvalid_1's binary_logloss: 0.0448134\n",
      "[300]\ttraining's binary_logloss: 0.0442635\tvalid_1's binary_logloss: 0.0448185\n",
      "Early stopping, best iteration is:\n",
      "[187]\ttraining's binary_logloss: 0.0442536\tvalid_1's binary_logloss: 0.0448076\n",
      "fold n°4\n",
      "Training until validation scores don't improve for 200 rounds.\n",
      "[100]\ttraining's binary_logloss: 0.0442483\tvalid_1's binary_logloss: 0.0464303\n",
      "[200]\ttraining's binary_logloss: 0.0442343\tvalid_1's binary_logloss: 0.0463916\n",
      "Early stopping, best iteration is:\n",
      "[32]\ttraining's binary_logloss: 0.0442167\tvalid_1's binary_logloss: 0.0464128\n",
      "CV score: 0.04623 \n"
     ]
    }
   ],
   "source": [
    "folds = StratifiedKFold(n_splits=5, shuffle=True, random_state=15)\n",
    "\n",
    "oof_lgb = np.zeros(len(train))\n",
    "predictions_lgb = np.zeros(len(test))\n",
    "feature_importance = pd.DataFrame()\n",
    "\n",
    "train_columns = [f for f in train.columns if f not in FEATS_EXCLUDED]\n",
    "\n",
    "for fold_, (trn_idx, val_idx) in enumerate(folds.split(train, train['outliers'].values)):    \n",
    "    print(\"fold n°{}\".format(fold_))\n",
    "    trn_data = lgb.Dataset(train.iloc[trn_idx][train_columns], label=target.iloc[trn_idx])\n",
    "    val_data = lgb.Dataset(train.iloc[val_idx][train_columns], label=target.iloc[val_idx])\n",
    "\n",
    "    num_round = 10000\n",
    "    clf = lgb.train(param, trn_data, num_round, valid_sets = [trn_data, val_data], verbose_eval=100, early_stopping_rounds = 200)\n",
    "    oof_lgb[val_idx] = clf.predict(train.iloc[val_idx][train_columns], num_iteration=clf.best_iteration)\n",
    "    \n",
    "    predictions_lgb += clf.predict(test[train_columns], num_iteration=clf.best_iteration) / folds.n_splits\n",
    "    \n",
    "    fold_importance = pd.DataFrame()\n",
    "    fold_importance[\"Feature\"] = train_columns\n",
    "    fold_importance[\"importance\"] = clf.feature_importance()\n",
    "    fold_importance[\"fold\"] = fold_ + 1\n",
    "    feature_importance = pd.concat([feature_importance, fold_importance], axis=0)\n",
    "    \n",
    "print(\"CV score: {:<8.5f}\".format(log_loss(target.values, oof_lgb)))"
   ]
  },
  {
   "cell_type": "code",
   "execution_count": 21,
   "metadata": {
    "ExecuteTime": {
     "end_time": "2019-02-08T07:27:41.533324Z",
     "start_time": "2019-02-08T07:27:41.526342Z"
    }
   },
   "outputs": [],
   "source": [
    "outlier_prob = pd.DataFrame({\"card_id\":test[\"card_id\"].values})\n",
    "outlier_prob[\"target\"] = predictions_lgb"
   ]
  },
  {
   "cell_type": "markdown",
   "metadata": {},
   "source": [
    "# Combining"
   ]
  },
  {
   "cell_type": "code",
   "execution_count": 24,
   "metadata": {
    "ExecuteTime": {
     "end_time": "2019-02-08T07:28:02.793934Z",
     "start_time": "2019-02-08T07:28:01.622516Z"
    }
   },
   "outputs": [
    {
     "data": {
      "text/plain": [
       "<matplotlib.axes._subplots.AxesSubplot at 0x250f9fdb470>"
      ]
     },
     "execution_count": 24,
     "metadata": {},
     "output_type": "execute_result"
    },
    {
     "data": {
      "image/png": "[encoded data removed]",
      "text/plain": [
       "<Figure size 432x288 with 1 Axes>"
      ]
     },
     "metadata": {
      "needs_background": "light"
     },
     "output_type": "display_data"
    }
   ],
   "source": [
    "sns.distplot(train.target)"
   ]
  },
  {
   "cell_type": "code",
   "execution_count": 25,
   "metadata": {
    "ExecuteTime": {
     "end_time": "2019-02-08T07:28:26.920603Z",
     "start_time": "2019-02-08T07:28:26.899659Z"
    }
   },
   "outputs": [],
   "source": [
    "outlier_id = pd.DataFrame(outlier_prob.sort_values(by='target',ascending = False).head(50000)['card_id'])"
   ]
  },
  {
   "cell_type": "code",
   "execution_count": 26,
   "metadata": {
    "ExecuteTime": {
     "end_time": "2019-02-08T07:28:28.712224Z",
     "start_time": "2019-02-08T07:28:28.602265Z"
    }
   },
   "outputs": [],
   "source": [
    "best_submission = pd.read_csv(path + 'submission_best_score.csv')"
   ]
  },
  {
   "cell_type": "code",
   "execution_count": 27,
   "metadata": {
    "ExecuteTime": {
     "end_time": "2019-02-08T07:28:29.490918Z",
     "start_time": "2019-02-08T07:28:29.430879Z"
    }
   },
   "outputs": [],
   "source": [
    "most_likely_liers = best_submission.merge(outlier_id,how='right')"
   ]
  },
  {
   "cell_type": "code",
   "execution_count": 28,
   "metadata": {
    "ExecuteTime": {
     "end_time": "2019-02-08T07:28:58.071494Z",
     "start_time": "2019-02-08T07:28:31.439469Z"
    }
   },
   "outputs": [],
   "source": [
    "for card_id in most_likely_liers['card_id']:\n",
    "    model_without_outliers.loc[model_without_outliers['card_id']==card_id,'target'] = most_likely_liers.loc[most_likely_liers['card_id']==card_id,'target'].values"
   ]
  },
  {
   "cell_type": "code",
   "execution_count": 29,
   "metadata": {
    "ExecuteTime": {
     "end_time": "2019-02-08T07:28:58.489697Z",
     "start_time": "2019-02-08T07:28:58.073499Z"
    }
   },
   "outputs": [],
   "source": [
    "model_without_outliers.to_csv(\"./data/combining_submission.csv\", index=False)"
   ]
  },
  {
   "cell_type": "code",
   "execution_count": null,
   "metadata": {},
   "outputs": [],
   "source": []
  }
 ],
 "metadata": {
  "kernelspec": {
   "display_name": "Python 3",
   "language": "python",
   "name": "python3"
  },
  "language_info": {
   "codemirror_mode": {
    "name": "ipython",
    "version": 3
   },
   "file_extension": ".py",
   "mimetype": "text/x-python",
   "name": "python",
   "nbconvert_exporter": "python",
   "pygments_lexer": "ipython3",
   "version": "3.6.7"
  },
  "toc": {
   "base_numbering": 1,
   "nav_menu": {},
   "number_sections": true,
   "sideBar": true,
   "skip_h1_title": false,
   "title_cell": "Table of Contents",
   "title_sidebar": "Contents",
   "toc_cell": false,
   "toc_position": {},
   "toc_section_display": true,
   "toc_window_display": true
  }
 },
 "nbformat": 4,
 "nbformat_minor": 2
}
