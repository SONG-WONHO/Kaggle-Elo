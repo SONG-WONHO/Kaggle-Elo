{
 "cells": [
  {
   "cell_type": "markdown",
   "metadata": {},
   "source": [
    "# 사전 작업"
   ]
  },
  {
   "cell_type": "markdown",
   "metadata": {},
   "source": [
    "## 모듈 로드"
   ]
  },
  {
   "cell_type": "code",
   "execution_count": 1,
   "metadata": {
    "ExecuteTime": {
     "end_time": "2019-02-15T19:07:27.041271Z",
     "start_time": "2019-02-15T19:07:26.046637Z"
    }
   },
   "outputs": [],
   "source": [
    "import numpy as np\n",
    "import pandas as pd\n",
    "import matplotlib.pyplot as plt\n",
    "import datetime\n",
    "import seaborn as sns\n",
    "import gc"
   ]
  },
  {
   "cell_type": "code",
   "execution_count": 2,
   "metadata": {
    "ExecuteTime": {
     "end_time": "2019-02-15T19:07:27.227082Z",
     "start_time": "2019-02-15T19:07:27.041271Z"
    }
   },
   "outputs": [],
   "source": [
    "import lightgbm as lgb\n",
    "from sklearn.metrics import mean_squared_error\n",
    "from sklearn.metrics import log_loss\n",
    "from sklearn.model_selection import KFold, StratifiedKFold"
   ]
  },
  {
   "cell_type": "code",
   "execution_count": 3,
   "metadata": {
    "ExecuteTime": {
     "end_time": "2019-02-15T19:07:27.230466Z",
     "start_time": "2019-02-15T19:07:27.228080Z"
    }
   },
   "outputs": [],
   "source": [
    "import warnings\n",
    "warnings.filterwarnings('ignore')"
   ]
  },
  {
   "cell_type": "code",
   "execution_count": 4,
   "metadata": {
    "ExecuteTime": {
     "end_time": "2019-02-15T19:07:27.235454Z",
     "start_time": "2019-02-15T19:07:27.232461Z"
    }
   },
   "outputs": [],
   "source": [
    "pd.set_option('display.max_columns', 400)"
   ]
  },
  {
   "cell_type": "markdown",
   "metadata": {},
   "source": [
    "# 데이터 로드"
   ]
  },
  {
   "cell_type": "code",
   "execution_count": 5,
   "metadata": {
    "ExecuteTime": {
     "end_time": "2019-02-15T19:07:27.240440Z",
     "start_time": "2019-02-15T19:07:27.236449Z"
    }
   },
   "outputs": [],
   "source": [
    "path = './data/'"
   ]
  },
  {
   "cell_type": "code",
   "execution_count": 6,
   "metadata": {
    "ExecuteTime": {
     "end_time": "2019-02-15T19:07:43.162306Z",
     "start_time": "2019-02-15T19:07:28.118232Z"
    }
   },
   "outputs": [],
   "source": [
    "train = pd.read_csv(path + 'train_v3.csv')\n",
    "test = pd.read_csv(path + 'test_v3.csv')"
   ]
  },
  {
   "cell_type": "code",
   "execution_count": 14,
   "metadata": {
    "ExecuteTime": {
     "end_time": "2019-02-15T19:08:42.922308Z",
     "start_time": "2019-02-15T19:08:42.918352Z"
    }
   },
   "outputs": [],
   "source": [
    "FEATS_EXCLUDED = ['first_active', 'card_id', 'target', 'outliers',\n",
    "                  'hist_purchase_date_max', 'hist_purchase_date_min', \n",
    "                  'new_purchase_date_max', 'new_purchase_date_min']"
   ]
  },
  {
   "cell_type": "code",
   "execution_count": 16,
   "metadata": {
    "ExecuteTime": {
     "end_time": "2019-02-15T19:09:44.146764Z",
     "start_time": "2019-02-15T19:09:44.141780Z"
    }
   },
   "outputs": [],
   "source": [
    "def cat_encoding(data):\n",
    "    if np.abs(data) <= 1:\n",
    "        return 1\n",
    "    else:\n",
    "        return 0"
   ]
  },
  {
   "cell_type": "code",
   "execution_count": 18,
   "metadata": {
    "ExecuteTime": {
     "end_time": "2019-02-15T19:10:02.296446Z",
     "start_time": "2019-02-15T19:10:01.883188Z"
    }
   },
   "outputs": [],
   "source": [
    "train.target = train.target.apply(cat_encoding)"
   ]
  },
  {
   "cell_type": "markdown",
   "metadata": {},
   "source": [
    "# Lgb"
   ]
  },
  {
   "cell_type": "code",
   "execution_count": 24,
   "metadata": {
    "ExecuteTime": {
     "end_time": "2019-02-15T19:13:10.655775Z",
     "start_time": "2019-02-15T19:13:10.649760Z"
    }
   },
   "outputs": [],
   "source": [
    "param = {'num_leaves': 31,\n",
    "         'min_data_in_leaf': 30, \n",
    "         'objective':'binary',\n",
    "         'max_depth': -1,\n",
    "         'learning_rate': 0.01,\n",
    "         \"min_child_samples\": 20,\n",
    "         \"boosting\": \"gbdt\",\n",
    "         \"feature_fraction\": 0.9,\n",
    "         \"bagging_freq\": 1,\n",
    "         \"bagging_fraction\": 0.9 ,\n",
    "         \"bagging_seed\": 11,\n",
    "         \"metric\": 'binary_logloss',\n",
    "         \"lambda_l1\": 0.1,\n",
    "         \"verbosity\": -1,\n",
    "         \"nthread\": 4,\n",
    "         \"random_state\": 4590}"
   ]
  },
  {
   "cell_type": "code",
   "execution_count": 25,
   "metadata": {
    "ExecuteTime": {
     "end_time": "2019-02-15T19:16:30.292024Z",
     "start_time": "2019-02-15T19:13:14.809704Z"
    }
   },
   "outputs": [
    {
     "name": "stdout",
     "output_type": "stream",
     "text": [
      "fold n°0\n",
      "Training until validation scores don't improve for 200 rounds.\n",
      "[100]\ttraining's binary_logloss: 0.646569\tvalid_1's binary_logloss: 0.646705\n",
      "[200]\ttraining's binary_logloss: 0.634989\tvalid_1's binary_logloss: 0.636504\n",
      "[300]\ttraining's binary_logloss: 0.628706\tvalid_1's binary_logloss: 0.632082\n",
      "[400]\ttraining's binary_logloss: 0.624229\tvalid_1's binary_logloss: 0.629681\n",
      "[500]\ttraining's binary_logloss: 0.62065\tvalid_1's binary_logloss: 0.628264\n",
      "[600]\ttraining's binary_logloss: 0.617623\tvalid_1's binary_logloss: 0.627374\n",
      "[700]\ttraining's binary_logloss: 0.614935\tvalid_1's binary_logloss: 0.62688\n",
      "[800]\ttraining's binary_logloss: 0.612468\tvalid_1's binary_logloss: 0.62651\n",
      "[900]\ttraining's binary_logloss: 0.61014\tvalid_1's binary_logloss: 0.62633\n",
      "[1000]\ttraining's binary_logloss: 0.607899\tvalid_1's binary_logloss: 0.626132\n",
      "[1100]\ttraining's binary_logloss: 0.605694\tvalid_1's binary_logloss: 0.625987\n",
      "[1200]\ttraining's binary_logloss: 0.603576\tvalid_1's binary_logloss: 0.625893\n",
      "[1300]\ttraining's binary_logloss: 0.601471\tvalid_1's binary_logloss: 0.625786\n",
      "[1400]\ttraining's binary_logloss: 0.599426\tvalid_1's binary_logloss: 0.625725\n",
      "[1500]\ttraining's binary_logloss: 0.597434\tvalid_1's binary_logloss: 0.625682\n",
      "[1600]\ttraining's binary_logloss: 0.595436\tvalid_1's binary_logloss: 0.625594\n",
      "[1700]\ttraining's binary_logloss: 0.593418\tvalid_1's binary_logloss: 0.625549\n",
      "[1800]\ttraining's binary_logloss: 0.591487\tvalid_1's binary_logloss: 0.625533\n",
      "[1900]\ttraining's binary_logloss: 0.58953\tvalid_1's binary_logloss: 0.625527\n",
      "[2000]\ttraining's binary_logloss: 0.587632\tvalid_1's binary_logloss: 0.625518\n",
      "[2100]\ttraining's binary_logloss: 0.585737\tvalid_1's binary_logloss: 0.625502\n",
      "[2200]\ttraining's binary_logloss: 0.583845\tvalid_1's binary_logloss: 0.625487\n"
     ]
    },
    {
     "ename": "KeyboardInterrupt",
     "evalue": "",
     "output_type": "error",
     "traceback": [
      "\u001b[1;31m---------------------------------------------------------------------------\u001b[0m",
      "\u001b[1;31mKeyboardInterrupt\u001b[0m                         Traceback (most recent call last)",
      "\u001b[1;32m<ipython-input-25-05e90dba04ea>\u001b[0m in \u001b[0;36m<module>\u001b[1;34m\u001b[0m\n\u001b[0;32m     13\u001b[0m \u001b[1;33m\u001b[0m\u001b[0m\n\u001b[0;32m     14\u001b[0m     \u001b[0mnum_round\u001b[0m \u001b[1;33m=\u001b[0m \u001b[1;36m10000\u001b[0m\u001b[1;33m\u001b[0m\u001b[1;33m\u001b[0m\u001b[0m\n\u001b[1;32m---> 15\u001b[1;33m     \u001b[0mclf\u001b[0m \u001b[1;33m=\u001b[0m \u001b[0mlgb\u001b[0m\u001b[1;33m.\u001b[0m\u001b[0mtrain\u001b[0m\u001b[1;33m(\u001b[0m\u001b[0mparam\u001b[0m\u001b[1;33m,\u001b[0m \u001b[0mtrn_data\u001b[0m\u001b[1;33m,\u001b[0m \u001b[0mnum_round\u001b[0m\u001b[1;33m,\u001b[0m \u001b[0mvalid_sets\u001b[0m \u001b[1;33m=\u001b[0m \u001b[1;33m[\u001b[0m\u001b[0mtrn_data\u001b[0m\u001b[1;33m,\u001b[0m \u001b[0mval_data\u001b[0m\u001b[1;33m]\u001b[0m\u001b[1;33m,\u001b[0m \u001b[0mverbose_eval\u001b[0m\u001b[1;33m=\u001b[0m\u001b[1;36m100\u001b[0m\u001b[1;33m,\u001b[0m \u001b[0mearly_stopping_rounds\u001b[0m \u001b[1;33m=\u001b[0m \u001b[1;36m200\u001b[0m\u001b[1;33m)\u001b[0m\u001b[1;33m\u001b[0m\u001b[1;33m\u001b[0m\u001b[0m\n\u001b[0m\u001b[0;32m     16\u001b[0m     \u001b[0moof_lgb\u001b[0m\u001b[1;33m[\u001b[0m\u001b[0mval_idx\u001b[0m\u001b[1;33m]\u001b[0m \u001b[1;33m=\u001b[0m \u001b[0mclf\u001b[0m\u001b[1;33m.\u001b[0m\u001b[0mpredict\u001b[0m\u001b[1;33m(\u001b[0m\u001b[0mtrain\u001b[0m\u001b[1;33m.\u001b[0m\u001b[0miloc\u001b[0m\u001b[1;33m[\u001b[0m\u001b[0mval_idx\u001b[0m\u001b[1;33m]\u001b[0m\u001b[1;33m[\u001b[0m\u001b[0mtrain_columns\u001b[0m\u001b[1;33m]\u001b[0m\u001b[1;33m,\u001b[0m \u001b[0mnum_iteration\u001b[0m\u001b[1;33m=\u001b[0m\u001b[0mclf\u001b[0m\u001b[1;33m.\u001b[0m\u001b[0mbest_iteration\u001b[0m\u001b[1;33m)\u001b[0m\u001b[1;33m\u001b[0m\u001b[1;33m\u001b[0m\u001b[0m\n\u001b[0;32m     17\u001b[0m \u001b[1;33m\u001b[0m\u001b[0m\n",
      "\u001b[1;32mc:\\python\\lib\\site-packages\\lightgbm\\engine.py\u001b[0m in \u001b[0;36mtrain\u001b[1;34m(params, train_set, num_boost_round, valid_sets, valid_names, fobj, feval, init_model, feature_name, categorical_feature, early_stopping_rounds, evals_result, verbose_eval, learning_rates, keep_training_booster, callbacks)\u001b[0m\n\u001b[0;32m    214\u001b[0m                                     evaluation_result_list=None))\n\u001b[0;32m    215\u001b[0m \u001b[1;33m\u001b[0m\u001b[0m\n\u001b[1;32m--> 216\u001b[1;33m         \u001b[0mbooster\u001b[0m\u001b[1;33m.\u001b[0m\u001b[0mupdate\u001b[0m\u001b[1;33m(\u001b[0m\u001b[0mfobj\u001b[0m\u001b[1;33m=\u001b[0m\u001b[0mfobj\u001b[0m\u001b[1;33m)\u001b[0m\u001b[1;33m\u001b[0m\u001b[1;33m\u001b[0m\u001b[0m\n\u001b[0m\u001b[0;32m    217\u001b[0m \u001b[1;33m\u001b[0m\u001b[0m\n\u001b[0;32m    218\u001b[0m         \u001b[0mevaluation_result_list\u001b[0m \u001b[1;33m=\u001b[0m \u001b[1;33m[\u001b[0m\u001b[1;33m]\u001b[0m\u001b[1;33m\u001b[0m\u001b[1;33m\u001b[0m\u001b[0m\n",
      "\u001b[1;32mc:\\python\\lib\\site-packages\\lightgbm\\basic.py\u001b[0m in \u001b[0;36mupdate\u001b[1;34m(self, train_set, fobj)\u001b[0m\n\u001b[0;32m   1758\u001b[0m             _safe_call(_LIB.LGBM_BoosterUpdateOneIter(\n\u001b[0;32m   1759\u001b[0m                 \u001b[0mself\u001b[0m\u001b[1;33m.\u001b[0m\u001b[0mhandle\u001b[0m\u001b[1;33m,\u001b[0m\u001b[1;33m\u001b[0m\u001b[1;33m\u001b[0m\u001b[0m\n\u001b[1;32m-> 1760\u001b[1;33m                 ctypes.byref(is_finished)))\n\u001b[0m\u001b[0;32m   1761\u001b[0m             \u001b[0mself\u001b[0m\u001b[1;33m.\u001b[0m\u001b[0m__is_predicted_cur_iter\u001b[0m \u001b[1;33m=\u001b[0m \u001b[1;33m[\u001b[0m\u001b[1;32mFalse\u001b[0m \u001b[1;32mfor\u001b[0m \u001b[0m_\u001b[0m \u001b[1;32min\u001b[0m \u001b[0mrange_\u001b[0m\u001b[1;33m(\u001b[0m\u001b[0mself\u001b[0m\u001b[1;33m.\u001b[0m\u001b[0m__num_dataset\u001b[0m\u001b[1;33m)\u001b[0m\u001b[1;33m]\u001b[0m\u001b[1;33m\u001b[0m\u001b[1;33m\u001b[0m\u001b[0m\n\u001b[0;32m   1762\u001b[0m             \u001b[1;32mreturn\u001b[0m \u001b[0mis_finished\u001b[0m\u001b[1;33m.\u001b[0m\u001b[0mvalue\u001b[0m \u001b[1;33m==\u001b[0m \u001b[1;36m1\u001b[0m\u001b[1;33m\u001b[0m\u001b[1;33m\u001b[0m\u001b[0m\n",
      "\u001b[1;31mKeyboardInterrupt\u001b[0m: "
     ]
    }
   ],
   "source": [
    "folds = StratifiedKFold(n_splits=5, shuffle=True, random_state=15)\n",
    "\n",
    "oof_lgb = np.zeros(len(train))\n",
    "predictions_lgb = np.zeros(len(test))\n",
    "feature_importance = pd.DataFrame()\n",
    "\n",
    "train_columns = [f for f in train.columns if f not in FEATS_EXCLUDED]\n",
    "\n",
    "for fold_, (trn_idx, val_idx) in enumerate(folds.split(train, train.target.values)):    \n",
    "    print(\"fold n°{}\".format(fold_))\n",
    "    trn_data = lgb.Dataset(train.iloc[trn_idx][train_columns], label=train.iloc[trn_idx]['target'])\n",
    "    val_data = lgb.Dataset(train.iloc[val_idx][train_columns], label=train.iloc[val_idx]['target'])\n",
    "\n",
    "    num_round = 10000\n",
    "    clf = lgb.train(param, trn_data, num_round, valid_sets = [trn_data, val_data], verbose_eval=100, early_stopping_rounds = 200)\n",
    "    oof_lgb[val_idx] = clf.predict(train.iloc[val_idx][train_columns], num_iteration=clf.best_iteration)\n",
    "    \n",
    "    predictions_lgb += clf.predict(test[train_columns], num_iteration=clf.best_iteration) / folds.n_splits\n",
    "    \n",
    "    fold_importance = pd.DataFrame()\n",
    "    fold_importance[\"Feature\"] = train_columns\n",
    "    fold_importance[\"importance\"] = clf.feature_importance()\n",
    "    fold_importance[\"fold\"] = fold_ + 1\n",
    "    feature_importance = pd.concat([feature_importance, fold_importance], axis=0)\n",
    "    \n",
    "print(\"CV score: {:<8.5f}\".format(mean_squared_error(train.target.values, oof_lgb)**0.5))"
   ]
  },
  {
   "cell_type": "code",
   "execution_count": 26,
   "metadata": {
    "ExecuteTime": {
     "end_time": "2019-02-15T19:20:02.106482Z",
     "start_time": "2019-02-15T19:20:01.841737Z"
    }
   },
   "outputs": [],
   "source": [
    "z1 = pd.read_csv('./data/zztmp (1).csv')\n",
    "z2 = pd.read_csv('./data/zztmp (2).csv')\n",
    "z3 = pd.read_csv('./data/zztmp (3).csv')"
   ]
  },
  {
   "cell_type": "code",
   "execution_count": 34,
   "metadata": {
    "ExecuteTime": {
     "end_time": "2019-02-15T19:21:13.369234Z",
     "start_time": "2019-02-15T19:21:13.300032Z"
    }
   },
   "outputs": [],
   "source": [
    "sub = pd.read_csv('./data/sample_submission.csv')"
   ]
  },
  {
   "cell_type": "code",
   "execution_count": 44,
   "metadata": {
    "ExecuteTime": {
     "end_time": "2019-02-15T19:24:12.955969Z",
     "start_time": "2019-02-15T19:24:12.857930Z"
    }
   },
   "outputs": [],
   "source": [
    "subm = pd.read_csv('./data/submission_combining_neg.csv')"
   ]
  },
  {
   "cell_type": "code",
   "execution_count": 45,
   "metadata": {
    "ExecuteTime": {
     "end_time": "2019-02-15T19:24:57.010123Z",
     "start_time": "2019-02-15T19:24:57.004149Z"
    }
   },
   "outputs": [],
   "source": [
    "sub.target = z1.target + subm.target"
   ]
  },
  {
   "cell_type": "code",
   "execution_count": 47,
   "metadata": {
    "ExecuteTime": {
     "end_time": "2019-02-15T19:25:04.760619Z",
     "start_time": "2019-02-15T19:25:04.756631Z"
    }
   },
   "outputs": [],
   "source": [
    "sub.target = sub.target / 2"
   ]
  },
  {
   "cell_type": "code",
   "execution_count": 36,
   "metadata": {
    "ExecuteTime": {
     "end_time": "2019-02-15T19:21:29.188552Z",
     "start_time": "2019-02-15T19:21:29.184589Z"
    }
   },
   "outputs": [],
   "source": [
    "sub.target = z1.target + z2.target + z3.target"
   ]
  },
  {
   "cell_type": "code",
   "execution_count": 38,
   "metadata": {
    "ExecuteTime": {
     "end_time": "2019-02-15T19:21:39.576891Z",
     "start_time": "2019-02-15T19:21:39.571906Z"
    }
   },
   "outputs": [],
   "source": [
    "sub.target = sub.target / 3"
   ]
  },
  {
   "cell_type": "code",
   "execution_count": 49,
   "metadata": {
    "ExecuteTime": {
     "end_time": "2019-02-15T19:25:14.075489Z",
     "start_time": "2019-02-15T19:25:13.742534Z"
    }
   },
   "outputs": [],
   "source": [
    "sub.to_csv('./data/z4.csv', index=False)"
   ]
  },
  {
   "cell_type": "code",
   "execution_count": null,
   "metadata": {},
   "outputs": [],
   "source": []
  }
 ],
 "metadata": {
  "kernelspec": {
   "display_name": "Python 3",
   "language": "python",
   "name": "python3"
  },
  "language_info": {
   "codemirror_mode": {
    "name": "ipython",
    "version": 3
   },
   "file_extension": ".py",
   "mimetype": "text/x-python",
   "name": "python",
   "nbconvert_exporter": "python",
   "pygments_lexer": "ipython3",
   "version": "3.6.7"
  },
  "toc": {
   "base_numbering": 1,
   "nav_menu": {},
   "number_sections": true,
   "sideBar": true,
   "skip_h1_title": false,
   "title_cell": "Table of Contents",
   "title_sidebar": "Contents",
   "toc_cell": false,
   "toc_position": {},
   "toc_section_display": true,
   "toc_window_display": false
  }
 },
 "nbformat": 4,
 "nbformat_minor": 2
}
