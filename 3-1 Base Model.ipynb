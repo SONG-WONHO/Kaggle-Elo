{
 "cells": [
  {
   "cell_type": "markdown",
   "metadata": {},
   "source": [
    "# Base Model\n",
    "* 피처엔지니어링 없이 기본적인 스코어 확인"
   ]
  },
  {
   "cell_type": "markdown",
   "metadata": {},
   "source": [
    "## 모듈 임포트"
   ]
  },
  {
   "cell_type": "code",
   "execution_count": 1,
   "metadata": {
    "ExecuteTime": {
     "end_time": "2019-01-20T21:47:11.804709Z",
     "start_time": "2019-01-20T21:47:09.821885Z"
    }
   },
   "outputs": [],
   "source": [
    "import numpy as np\n",
    "import pandas as pd\n",
    "import matplotlib.pyplot as plt\n",
    "import seaborn as sns"
   ]
  },
  {
   "cell_type": "code",
   "execution_count": 2,
   "metadata": {
    "ExecuteTime": {
     "end_time": "2019-01-20T21:47:11.814768Z",
     "start_time": "2019-01-20T21:47:11.807700Z"
    }
   },
   "outputs": [],
   "source": [
    "import warnings\n",
    "warnings.filterwarnings('ignore')"
   ]
  },
  {
   "cell_type": "code",
   "execution_count": 3,
   "metadata": {
    "ExecuteTime": {
     "end_time": "2019-01-20T21:47:25.723187Z",
     "start_time": "2019-01-20T21:47:25.552885Z"
    }
   },
   "outputs": [],
   "source": [
    "d = pd.read_csv('./data/sub.csv')"
   ]
  },
  {
   "cell_type": "code",
   "execution_count": 5,
   "metadata": {
    "ExecuteTime": {
     "end_time": "2019-01-20T21:47:32.266283Z",
     "start_time": "2019-01-20T21:47:32.259376Z"
    }
   },
   "outputs": [],
   "source": [
    "d.target = -8"
   ]
  },
  {
   "cell_type": "code",
   "execution_count": 7,
   "metadata": {
    "ExecuteTime": {
     "end_time": "2019-01-20T21:47:42.882614Z",
     "start_time": "2019-01-20T21:47:42.128682Z"
    }
   },
   "outputs": [],
   "source": [
    "d.to_csv('./data/sub.csv')"
   ]
  },
  {
   "cell_type": "markdown",
   "metadata": {},
   "source": [
    "## 데이터 로드"
   ]
  },
  {
   "cell_type": "code",
   "execution_count": 3,
   "metadata": {
    "ExecuteTime": {
     "end_time": "2019-01-20T06:52:43.096337Z",
     "start_time": "2019-01-20T06:52:43.092381Z"
    }
   },
   "outputs": [],
   "source": [
    "path = './data/'"
   ]
  },
  {
   "cell_type": "code",
   "execution_count": 24,
   "metadata": {
    "ExecuteTime": {
     "end_time": "2019-01-20T07:18:08.659908Z",
     "start_time": "2019-01-20T07:18:08.394032Z"
    }
   },
   "outputs": [],
   "source": [
    "train = pd.read_csv(path + 'train.csv')\n",
    "test = pd.read_csv(path + 'test.csv')\n",
    "# history = pd.read_csv(path + 'historical_transactions.csv')\n",
    "# new_history = pd.read_csv(path + 'new_merchant_transactions.csv')\n",
    "# merchant = pd.read_csv(path + 'merchants.csv')"
   ]
  },
  {
   "cell_type": "markdown",
   "metadata": {},
   "source": [
    "## 데이터 선처리"
   ]
  },
  {
   "cell_type": "code",
   "execution_count": 8,
   "metadata": {
    "ExecuteTime": {
     "end_time": "2019-01-20T07:16:31.860326Z",
     "start_time": "2019-01-20T07:16:25.617347Z"
    }
   },
   "outputs": [],
   "source": [
    "agg_history = history.groupby('card_id').mean()"
   ]
  },
  {
   "cell_type": "code",
   "execution_count": 25,
   "metadata": {
    "ExecuteTime": {
     "end_time": "2019-01-20T07:18:13.158136Z",
     "start_time": "2019-01-20T07:18:12.762597Z"
    }
   },
   "outputs": [],
   "source": [
    "train = pd.merge(train, agg_history, on='card_id' ,how='left')\n",
    "test = pd.merge(test, agg_history, on='card_id' ,how='left')"
   ]
  },
  {
   "cell_type": "code",
   "execution_count": 26,
   "metadata": {
    "ExecuteTime": {
     "end_time": "2019-01-20T07:18:13.824254Z",
     "start_time": "2019-01-20T07:18:13.815245Z"
    }
   },
   "outputs": [],
   "source": [
    "train.set_index('card_id', inplace=True)\n",
    "test.set_index('card_id', inplace=True)"
   ]
  },
  {
   "cell_type": "code",
   "execution_count": 27,
   "metadata": {
    "ExecuteTime": {
     "end_time": "2019-01-20T07:18:15.548958Z",
     "start_time": "2019-01-20T07:18:15.510684Z"
    }
   },
   "outputs": [],
   "source": [
    "train = train.drop(train.dtypes[train.dtypes == object].index, axis=1)\n",
    "test = test.drop(test.dtypes[test.dtypes == object].index, axis=1)"
   ]
  },
  {
   "cell_type": "code",
   "execution_count": 28,
   "metadata": {
    "ExecuteTime": {
     "end_time": "2019-01-20T07:18:32.606895Z",
     "start_time": "2019-01-20T07:18:32.597865Z"
    }
   },
   "outputs": [],
   "source": [
    "train.fillna(0, inplace=True)\n",
    "test.fillna(0, inplace=True)"
   ]
  },
  {
   "cell_type": "markdown",
   "metadata": {},
   "source": [
    "## 모델 모듈 임포트"
   ]
  },
  {
   "cell_type": "code",
   "execution_count": 29,
   "metadata": {
    "ExecuteTime": {
     "end_time": "2019-01-20T07:18:34.773525Z",
     "start_time": "2019-01-20T07:18:34.768596Z"
    }
   },
   "outputs": [],
   "source": [
    "from sklearn.tree import DecisionTreeRegressor\n",
    "from sklearn.ensemble import RandomForestRegressor\n",
    "from sklearn.ensemble import AdaBoostRegressor\n",
    "from sklearn.ensemble import ExtraTreesRegressor\n",
    "from sklearn.ensemble import GradientBoostingRegressor\n",
    "from sklearn.ensemble import BaggingRegressor\n",
    "from lightgbm import LGBMRegressor\n",
    "from catboost import CatBoostRegressor\n",
    "from sklearn.linear_model import LinearRegression\n",
    "\n",
    "from sklearn.metrics import mean_squared_error as mse\n",
    "\n",
    "from sklearn.model_selection import GridSearchCV\n",
    "from sklearn.model_selection import KFold"
   ]
  },
  {
   "cell_type": "code",
   "execution_count": 46,
   "metadata": {
    "ExecuteTime": {
     "end_time": "2019-01-20T07:22:09.060713Z",
     "start_time": "2019-01-20T07:22:09.054730Z"
    }
   },
   "outputs": [],
   "source": [
    "lgb = LGBMRegressor(boosting_type='gbdt', class_weight=None, colsample_bytree=1.0,\n",
    "                    importance_type='split', learning_rate=0.1, max_depth=8,\n",
    "                    min_child_samples=20, min_child_weight=0.001,\n",
    "                    min_split_gain=0.0, n_estimators=10, n_jobs=-1, num_leaves=31,\n",
    "                    random_state=0)"
   ]
  },
  {
   "cell_type": "code",
   "execution_count": 47,
   "metadata": {
    "ExecuteTime": {
     "end_time": "2019-01-20T07:22:09.225045Z",
     "start_time": "2019-01-20T07:22:09.221080Z"
    }
   },
   "outputs": [],
   "source": [
    "lr = LinearRegression()"
   ]
  },
  {
   "cell_type": "code",
   "execution_count": 48,
   "metadata": {
    "ExecuteTime": {
     "end_time": "2019-01-20T07:22:09.391208Z",
     "start_time": "2019-01-20T07:22:09.386221Z"
    }
   },
   "outputs": [],
   "source": [
    "cv = KFold(5, shuffle=True, random_state=0)"
   ]
  },
  {
   "cell_type": "code",
   "execution_count": 49,
   "metadata": {
    "ExecuteTime": {
     "end_time": "2019-01-20T07:22:11.921464Z",
     "start_time": "2019-01-20T07:22:09.536902Z"
    }
   },
   "outputs": [
    {
     "name": "stdout",
     "output_type": "stream",
     "text": [
      "[K = 0] train rmse = 3.8335786493772415, cv_rmse = 3.835029436997053\n",
      "[K = 1] train rmse = 3.825703772386243, cv_rmse = 3.866156877031664\n",
      "[K = 2] train rmse = 3.8354324978345815, cv_rmse = 3.818239280896086\n",
      "[K = 3] train rmse = 3.838217366037447, cv_rmse = 3.8042307589817144\n",
      "[K = 4] train rmse = 3.819357889849804, cv_rmse = 3.888622155479791\n"
     ]
    }
   ],
   "source": [
    "for i, (idx_train, idx_cv) in enumerate(cv.split(train)):\n",
    "    df_train = train.iloc[idx_train]\n",
    "    df_cv = train.iloc[idx_cv]\n",
    "    \n",
    "    x_train = df_train.drop(['target'], axis=1)\n",
    "    y_train = df_train['target']\n",
    "    \n",
    "    x_cv = df_cv.drop(['target'], axis=1)\n",
    "    y_cv = df_cv['target']\n",
    "    \n",
    "    model = lgb\n",
    "    model.fit(x_train, y_train)\n",
    "    print(\"[K = {}] train rmse = {}, cv_rmse = {}\".format(i, np.sqrt(np.mean((model.predict(x_train) - y_train) ** 2)), np.sqrt(np.mean((model.predict(x_cv) - y_cv) ** 2))))"
   ]
  },
  {
   "cell_type": "code",
   "execution_count": 50,
   "metadata": {
    "ExecuteTime": {
     "end_time": "2019-01-20T07:22:13.817552Z",
     "start_time": "2019-01-20T07:22:13.725306Z"
    }
   },
   "outputs": [],
   "source": [
    "pred = pd.DataFrame(model.predict(test), index=test.index, columns=['target'])"
   ]
  },
  {
   "cell_type": "code",
   "execution_count": 51,
   "metadata": {
    "ExecuteTime": {
     "end_time": "2019-01-20T07:22:14.504222Z",
     "start_time": "2019-01-20T07:22:14.231084Z"
    }
   },
   "outputs": [],
   "source": [
    "pred.to_csv('./data/sub.csv')"
   ]
  }
 ],
 "metadata": {
  "kernelspec": {
   "display_name": "Python 3",
   "language": "python",
   "name": "python3"
  },
  "language_info": {
   "codemirror_mode": {
    "name": "ipython",
    "version": 3
   },
   "file_extension": ".py",
   "mimetype": "text/x-python",
   "name": "python",
   "nbconvert_exporter": "python",
   "pygments_lexer": "ipython3",
   "version": "3.6.7"
  },
  "toc": {
   "base_numbering": 1,
   "nav_menu": {},
   "number_sections": true,
   "sideBar": true,
   "skip_h1_title": false,
   "title_cell": "Table of Contents",
   "title_sidebar": "Contents",
   "toc_cell": false,
   "toc_position": {},
   "toc_section_display": true,
   "toc_window_display": true
  }
 },
 "nbformat": 4,
 "nbformat_minor": 2
}
