{
 "cells": [
  {
   "cell_type": "markdown",
   "metadata": {},
   "source": [
    "# 데이터 포함관계 확인\n",
    "---\n",
    "* 기본적인 EDA를 진행할 예정입니다.\n",
    "* 데이터 사이의 포함관계 확인을 위해 작성했습니다."
   ]
  },
  {
   "cell_type": "markdown",
   "metadata": {},
   "source": [
    "## 모듈 임포트"
   ]
  },
  {
   "cell_type": "code",
   "execution_count": 1,
   "metadata": {
    "ExecuteTime": {
     "end_time": "2019-01-18T13:39:54.161449Z",
     "start_time": "2019-01-18T13:39:53.315362Z"
    }
   },
   "outputs": [],
   "source": [
    "import numpy as np\n",
    "import pandas as pd\n",
    "import matplotlib.pyplot as plt\n",
    "import gc"
   ]
  },
  {
   "cell_type": "markdown",
   "metadata": {},
   "source": [
    "## 데이터 로드"
   ]
  },
  {
   "cell_type": "code",
   "execution_count": 2,
   "metadata": {
    "ExecuteTime": {
     "end_time": "2019-01-18T13:39:54.165903Z",
     "start_time": "2019-01-18T13:39:54.162942Z"
    }
   },
   "outputs": [],
   "source": [
    "path = './data/'"
   ]
  },
  {
   "cell_type": "code",
   "execution_count": 3,
   "metadata": {
    "ExecuteTime": {
     "end_time": "2019-01-18T13:40:55.361496Z",
     "start_time": "2019-01-18T13:39:54.167896Z"
    }
   },
   "outputs": [],
   "source": [
    "train = pd.read_csv(path + 'train.csv')\n",
    "test = pd.read_csv(path + 'test.csv')\n",
    "history = pd.read_csv(path + 'historical_transactions.csv')\n",
    "new_history = pd.read_csv(path + 'new_merchant_transactions.csv')\n",
    "merchant = pd.read_csv(path + 'merchants.csv')"
   ]
  },
  {
   "cell_type": "markdown",
   "metadata": {},
   "source": [
    "## 각 데이터 고유 인덱스 개수\n",
    "\n",
    "* train 과 history, new_history의 외래키: card_id\n",
    "* history, new_history와 merchant의 외래키: merchant_id"
   ]
  },
  {
   "cell_type": "markdown",
   "metadata": {},
   "source": [
    "### card_id"
   ]
  },
  {
   "cell_type": "code",
   "execution_count": 4,
   "metadata": {
    "ExecuteTime": {
     "end_time": "2019-01-18T13:40:55.447233Z",
     "start_time": "2019-01-18T13:40:55.364454Z"
    }
   },
   "outputs": [
    {
     "name": "stdout",
     "output_type": "stream",
     "text": [
      "train card_id 주어진 데이터:  201917\n",
      "train card_id 고유 인덱스:  201917\n"
     ]
    }
   ],
   "source": [
    "print(\"train card_id 주어진 데이터: \",train.card_id.shape[0])\n",
    "print(\"train card_id 고유 인덱스: \",len(train.card_id.unique()))"
   ]
  },
  {
   "cell_type": "code",
   "execution_count": 5,
   "metadata": {
    "ExecuteTime": {
     "end_time": "2019-01-18T13:40:55.493147Z",
     "start_time": "2019-01-18T13:40:55.450251Z"
    }
   },
   "outputs": [
    {
     "name": "stdout",
     "output_type": "stream",
     "text": [
      "test card_id 주어진 데이터:  123623\n",
      "test card_id 고유 인덱스:  123623\n"
     ]
    }
   ],
   "source": [
    "print(\"test card_id 주어진 데이터: \",test.card_id.shape[0])\n",
    "print(\"test card_id 고유 인덱스: \",len(test.card_id.unique()))"
   ]
  },
  {
   "cell_type": "code",
   "execution_count": 6,
   "metadata": {
    "ExecuteTime": {
     "end_time": "2019-01-18T13:40:57.195564Z",
     "start_time": "2019-01-18T13:40:55.494107Z"
    }
   },
   "outputs": [
    {
     "name": "stdout",
     "output_type": "stream",
     "text": [
      "history card_id 주어진 데이터:  29112361\n",
      "history card_id 고유 인덱스:  325540\n"
     ]
    }
   ],
   "source": [
    "print(\"history card_id 주어진 데이터: \", history.card_id.shape[0])\n",
    "print(\"history card_id 고유 인덱스: \", len(history.card_id.unique()))"
   ]
  },
  {
   "cell_type": "code",
   "execution_count": 7,
   "metadata": {
    "ExecuteTime": {
     "end_time": "2019-01-18T13:40:57.369092Z",
     "start_time": "2019-01-18T13:40:57.197553Z"
    }
   },
   "outputs": [
    {
     "name": "stdout",
     "output_type": "stream",
     "text": [
      "new_history card_id 주어진 데이터:  1963031\n",
      "new_history card_id 고유 인덱스:  290001\n"
     ]
    }
   ],
   "source": [
    "print(\"new_history card_id 주어진 데이터: \", new_history.card_id.shape[0])\n",
    "print(\"new_history card_id 고유 인덱스: \", len(new_history.card_id.unique()))"
   ]
  },
  {
   "cell_type": "code",
   "execution_count": 8,
   "metadata": {
    "ExecuteTime": {
     "end_time": "2019-01-18T13:40:59.452521Z",
     "start_time": "2019-01-18T13:40:57.371089Z"
    }
   },
   "outputs": [
    {
     "data": {
      "text/plain": [
       "True"
      ]
     },
     "execution_count": 8,
     "metadata": {},
     "output_type": "execute_result"
    }
   ],
   "source": [
    "# new_history가 history의 부분집합인가\n",
    "set(new_history.card_id.unique()).issubset(set(history.card_id.unique()))"
   ]
  },
  {
   "cell_type": "code",
   "execution_count": 9,
   "metadata": {
    "ExecuteTime": {
     "end_time": "2019-01-18T13:41:01.286615Z",
     "start_time": "2019-01-18T13:40:59.454516Z"
    }
   },
   "outputs": [
    {
     "data": {
      "text/plain": [
       "True"
      ]
     },
     "execution_count": 9,
     "metadata": {},
     "output_type": "execute_result"
    }
   ],
   "source": [
    "# train이 history의 부분집합인가\n",
    "set(train.card_id.unique()).issubset(set(history.card_id.unique()))"
   ]
  },
  {
   "cell_type": "code",
   "execution_count": 10,
   "metadata": {
    "ExecuteTime": {
     "end_time": "2019-01-18T13:41:03.119712Z",
     "start_time": "2019-01-18T13:41:01.287611Z"
    }
   },
   "outputs": [
    {
     "data": {
      "text/plain": [
       "True"
      ]
     },
     "execution_count": 10,
     "metadata": {},
     "output_type": "execute_result"
    }
   ],
   "source": [
    "# test가 history의 부분집합인가\n",
    "set(test.card_id.unique()).issubset(set(history.card_id.unique()))"
   ]
  },
  {
   "cell_type": "code",
   "execution_count": 11,
   "metadata": {
    "ExecuteTime": {
     "end_time": "2019-01-18T13:41:03.391984Z",
     "start_time": "2019-01-18T13:41:03.121707Z"
    }
   },
   "outputs": [
    {
     "data": {
      "text/plain": [
       "0"
      ]
     },
     "execution_count": 11,
     "metadata": {},
     "output_type": "execute_result"
    }
   ],
   "source": [
    "# train 과 test의 중복 확인\n",
    "len(list(train.card_id.unique()) + list(test.card_id.unique())) - len(set(list(train.card_id.unique()) + list(test.card_id.unique())))"
   ]
  },
  {
   "cell_type": "code",
   "execution_count": 12,
   "metadata": {
    "ExecuteTime": {
     "end_time": "2019-01-18T13:41:03.917495Z",
     "start_time": "2019-01-18T13:41:03.393979Z"
    }
   },
   "outputs": [
    {
     "data": {
      "text/plain": [
       "179986"
      ]
     },
     "execution_count": 12,
     "metadata": {},
     "output_type": "execute_result"
    }
   ],
   "source": [
    "# train과 new history 중복 확인\n",
    "len(list(new_history.card_id.unique()) + list(train.card_id.unique())) - len(set(list(new_history.card_id.unique()) + list(train.card_id.unique())))"
   ]
  },
  {
   "cell_type": "code",
   "execution_count": 13,
   "metadata": {
    "ExecuteTime": {
     "end_time": "2019-01-18T13:41:04.531379Z",
     "start_time": "2019-01-18T13:41:03.918491Z"
    }
   },
   "outputs": [
    {
     "data": {
      "text/plain": [
       "110015"
      ]
     },
     "execution_count": 13,
     "metadata": {},
     "output_type": "execute_result"
    }
   ],
   "source": [
    "# test와 new history 중복 확인\n",
    "len(list(new_history.card_id.unique()) + list(test.card_id.unique())) - len(set(list(new_history.card_id.unique()) + list(test.card_id.unique())))"
   ]
  },
  {
   "cell_type": "code",
   "execution_count": 14,
   "metadata": {
    "ExecuteTime": {
     "end_time": "2019-01-18T13:42:57.568464Z",
     "start_time": "2019-01-18T13:41:04.533375Z"
    }
   },
   "outputs": [
    {
     "name": "stdout",
     "output_type": "stream",
     "text": [
      "history와 new history 합친 것 인덱스:  31075392\n",
      "history와 new history 중복제거 인덱스: 31075392\n"
     ]
    }
   ],
   "source": [
    "# history와 new history 사이에 중복된 행이 존재할까?\n",
    "check = pd.concat([history, new_history], axis = 0)\n",
    "print(\"history와 new history 합친 것 인덱스: \", check.shape[0])\n",
    "print(\"history와 new history 중복제거 인덱스:\", check.drop_duplicates().shape[0])"
   ]
  },
  {
   "cell_type": "markdown",
   "metadata": {},
   "source": [
    "#### 결론\n",
    "* history의 고유 인덱스의 개수 = train의 고유 인덱스의 개수 + test의 고유 인덱스의 개수\n",
    "* new_history의 고유 인덱스는 history의 고유 인덱스의 부분집합 (new_history가 history의 부분집합이라는 소리가 아닙니다 !!)\n",
    "* new_history와 history 사이에 중복된 행은 없음\n",
    "* train의 고유 인덱스는 총 201917개, new_history와 train의 중복 인덱스는 총 179986개\n",
    "* test의 고유 인덱스는 총 123623개, new_history와 test의 중복인덱스는 총 110015개\n",
    "* 즉, train의 89%, test의 89%가 new_history와 관계있음"
   ]
  },
  {
   "cell_type": "code",
   "execution_count": 15,
   "metadata": {
    "ExecuteTime": {
     "end_time": "2019-01-18T13:42:57.598383Z",
     "start_time": "2019-01-18T13:42:57.575444Z"
    }
   },
   "outputs": [
    {
     "data": {
      "text/plain": [
       "0.8899233961317877"
      ]
     },
     "execution_count": 15,
     "metadata": {},
     "output_type": "execute_result"
    }
   ],
   "source": [
    "110015 / 123623"
   ]
  },
  {
   "cell_type": "markdown",
   "metadata": {},
   "source": [
    "### merchant_id"
   ]
  },
  {
   "cell_type": "code",
   "execution_count": 16,
   "metadata": {
    "ExecuteTime": {
     "end_time": "2019-01-18T13:43:02.347675Z",
     "start_time": "2019-01-18T13:42:57.600379Z"
    }
   },
   "outputs": [
    {
     "name": "stdout",
     "output_type": "stream",
     "text": [
      "history merchant_id 주어진 데이터:  29112361\n",
      "history merchant_id 고유 인덱스:  326312\n"
     ]
    }
   ],
   "source": [
    "print(\"history merchant_id 주어진 데이터: \", history.merchant_id.shape[0])\n",
    "print(\"history merchant_id 고유 인덱스: \", len(history.merchant_id.unique()))"
   ]
  },
  {
   "cell_type": "code",
   "execution_count": 17,
   "metadata": {
    "ExecuteTime": {
     "end_time": "2019-01-18T13:43:02.816277Z",
     "start_time": "2019-01-18T13:43:02.349668Z"
    }
   },
   "outputs": [
    {
     "name": "stdout",
     "output_type": "stream",
     "text": [
      "new_history merchant_id 주어진 데이터:  1963031\n",
      "new_history merchant_id 고유 인덱스:  226130\n"
     ]
    }
   ],
   "source": [
    "print(\"new_history merchant_id 주어진 데이터: \", new_history.merchant_id.shape[0])\n",
    "print(\"new_history merchant_id 고유 인덱스: \", len(new_history.merchant_id.unique()))"
   ]
  },
  {
   "cell_type": "code",
   "execution_count": 18,
   "metadata": {
    "ExecuteTime": {
     "end_time": "2019-01-18T13:43:02.936953Z",
     "start_time": "2019-01-18T13:43:02.825253Z"
    },
    "scrolled": true
   },
   "outputs": [
    {
     "name": "stdout",
     "output_type": "stream",
     "text": [
      "merchant merchant_id 주어진 데이터:  334696\n",
      "merchant merchant_id 고유 인덱스:  334633\n"
     ]
    }
   ],
   "source": [
    "print(\"merchant merchant_id 주어진 데이터: \", merchant.merchant_id.shape[0])\n",
    "print(\"merchant merchant_id 고유 인덱스: \", len(merchant.merchant_id.unique()))"
   ]
  },
  {
   "cell_type": "code",
   "execution_count": 19,
   "metadata": {
    "ExecuteTime": {
     "end_time": "2019-01-18T13:43:07.156079Z",
     "start_time": "2019-01-18T13:43:02.938948Z"
    }
   },
   "outputs": [
    {
     "data": {
      "text/plain": [
       "217808"
      ]
     },
     "execution_count": 19,
     "metadata": {},
     "output_type": "execute_result"
    }
   ],
   "source": [
    "# history와 new history의 교집합 개수\n",
    "len(set(history.merchant_id.unique()).intersection(set(new_history.merchant_id.unique())))"
   ]
  },
  {
   "cell_type": "code",
   "execution_count": 20,
   "metadata": {
    "ExecuteTime": {
     "end_time": "2019-01-18T13:43:11.061862Z",
     "start_time": "2019-01-18T13:43:07.161065Z"
    }
   },
   "outputs": [
    {
     "data": {
      "text/plain": [
       "False"
      ]
     },
     "execution_count": 20,
     "metadata": {},
     "output_type": "execute_result"
    }
   ],
   "source": [
    "# history가 merchant의 부분집합인가\n",
    "set(new_history.merchant_id.unique()).issubset(set(history.merchant_id.unique()))"
   ]
  },
  {
   "cell_type": "code",
   "execution_count": 21,
   "metadata": {
    "ExecuteTime": {
     "end_time": "2019-01-18T13:43:11.549598Z",
     "start_time": "2019-01-18T13:43:11.065963Z"
    }
   },
   "outputs": [
    {
     "data": {
      "text/plain": [
       "False"
      ]
     },
     "execution_count": 21,
     "metadata": {},
     "output_type": "execute_result"
    }
   ],
   "source": [
    "# new_history가 merchant의 부분집합인가\n",
    "set(new_history.merchant_id.unique()).issubset(set(merchant.merchant_id.unique()))"
   ]
  },
  {
   "cell_type": "code",
   "execution_count": 22,
   "metadata": {
    "ExecuteTime": {
     "end_time": "2019-01-18T13:43:15.346091Z",
     "start_time": "2019-01-18T13:43:11.550566Z"
    }
   },
   "outputs": [
    {
     "data": {
      "text/plain": [
       "{nan}"
      ]
     },
     "execution_count": 22,
     "metadata": {},
     "output_type": "execute_result"
    }
   ],
   "source": [
    "# history 부분집합이 아니다. 그럼 무엇때문에?\n",
    "set(history.merchant_id.unique()).difference(set(merchant.merchant_id.unique()))"
   ]
  },
  {
   "cell_type": "code",
   "execution_count": 23,
   "metadata": {
    "ExecuteTime": {
     "end_time": "2019-01-18T13:43:15.905084Z",
     "start_time": "2019-01-18T13:43:15.348088Z"
    }
   },
   "outputs": [
    {
     "data": {
      "text/plain": [
       "{nan}"
      ]
     },
     "execution_count": 23,
     "metadata": {},
     "output_type": "execute_result"
    }
   ],
   "source": [
    "# new history 부분집합이 아니다. 그럼 무엇때문에?\n",
    "set(new_history.merchant_id.unique()).difference(set(merchant.merchant_id.unique()))"
   ]
  },
  {
   "cell_type": "code",
   "execution_count": 24,
   "metadata": {
    "ExecuteTime": {
     "end_time": "2019-01-18T13:43:20.200519Z",
     "start_time": "2019-01-18T13:43:15.906082Z"
    }
   },
   "outputs": [
    {
     "data": {
      "text/plain": [
       "True"
      ]
     },
     "execution_count": 24,
     "metadata": {},
     "output_type": "execute_result"
    }
   ],
   "source": [
    "# 널을 제거하고 부분집합인지 확인 - history와 merchant\n",
    "set(history.merchant_id.dropna().unique()).issubset(set(merchant.merchant_id.unique()))"
   ]
  },
  {
   "cell_type": "code",
   "execution_count": 26,
   "metadata": {
    "ExecuteTime": {
     "end_time": "2019-01-18T13:43:37.720098Z",
     "start_time": "2019-01-18T13:43:37.225230Z"
    }
   },
   "outputs": [
    {
     "data": {
      "text/plain": [
       "True"
      ]
     },
     "execution_count": 26,
     "metadata": {},
     "output_type": "execute_result"
    }
   ],
   "source": [
    "# 널을 제거하고 부분집합인지 확인 - new_history와 merchant\n",
    "set(new_history.merchant_id.dropna().unique()).issubset(set(merchant.merchant_id.unique()))"
   ]
  },
  {
   "cell_type": "markdown",
   "metadata": {},
   "source": [
    "#### 결론\n",
    "* history의 merchant_id와 new_history의 merchant_id가 중복되는 경우가 많다. 케글 홈페이지의 new_merchant 데이터 설명이 ..?\n",
    "* history의 merchant_id의 고유 인덱스는 merchant의 merchant_id의 고유 인덱스의 부분 집합 (단, null 제거 시)\n",
    "* new_history의 merchant_id의 고유 인덱스는 merchant의 merchant_id의 고유 인덱스의 부분 집합 (단, null 제거 시)"
   ]
  }
 ],
 "metadata": {
  "kernelspec": {
   "display_name": "Python 3",
   "language": "python",
   "name": "python3"
  },
  "language_info": {
   "codemirror_mode": {
    "name": "ipython",
    "version": 3
   },
   "file_extension": ".py",
   "mimetype": "text/x-python",
   "name": "python",
   "nbconvert_exporter": "python",
   "pygments_lexer": "ipython3",
   "version": "3.6.7"
  },
  "toc": {
   "base_numbering": 1,
   "nav_menu": {},
   "number_sections": true,
   "sideBar": true,
   "skip_h1_title": false,
   "title_cell": "Table of Contents",
   "title_sidebar": "Contents",
   "toc_cell": false,
   "toc_position": {},
   "toc_section_display": true,
   "toc_window_display": false
  }
 },
 "nbformat": 4,
 "nbformat_minor": 2
}
