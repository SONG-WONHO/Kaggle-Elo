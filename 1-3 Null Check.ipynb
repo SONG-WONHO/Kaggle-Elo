{
 "cells": [
  {
   "cell_type": "markdown",
   "metadata": {},
   "source": [
    "# 널 값에 대해 체크"
   ]
  },
  {
   "cell_type": "markdown",
   "metadata": {},
   "source": [
    "## 모듈 임포트"
   ]
  },
  {
   "cell_type": "code",
   "execution_count": 1,
   "metadata": {
    "ExecuteTime": {
     "end_time": "2019-02-17T16:17:33.123063Z",
     "start_time": "2019-02-17T16:17:32.421430Z"
    }
   },
   "outputs": [],
   "source": [
    "import numpy as np\n",
    "import pandas as pd\n",
    "import matplotlib.pyplot as plt\n",
    "import seaborn as sns\n",
    "import gc"
   ]
  },
  {
   "cell_type": "markdown",
   "metadata": {},
   "source": [
    "## 데이터 로드"
   ]
  },
  {
   "cell_type": "code",
   "execution_count": 2,
   "metadata": {
    "ExecuteTime": {
     "end_time": "2019-02-17T16:17:33.814994Z",
     "start_time": "2019-02-17T16:17:33.812002Z"
    }
   },
   "outputs": [],
   "source": [
    "path = './data/'"
   ]
  },
  {
   "cell_type": "code",
   "execution_count": 3,
   "metadata": {
    "ExecuteTime": {
     "end_time": "2019-02-17T16:18:45.825907Z",
     "start_time": "2019-02-17T16:17:34.160216Z"
    }
   },
   "outputs": [],
   "source": [
    "train = pd.read_csv(path + 'train.csv')\n",
    "test = pd.read_csv(path + 'test.csv')\n",
    "history = pd.read_csv(path + 'historical_transactions.csv')\n",
    "new_history = pd.read_csv(path + 'new_merchant_transactions.csv')\n",
    "merchant = pd.read_csv(path + 'merchants.csv')"
   ]
  },
  {
   "cell_type": "markdown",
   "metadata": {
    "ExecuteTime": {
     "end_time": "2019-01-20T05:23:17.905042Z",
     "start_time": "2019-01-20T05:23:17.897064Z"
    }
   },
   "source": [
    "## Null 확인"
   ]
  },
  {
   "cell_type": "code",
   "execution_count": 4,
   "metadata": {
    "ExecuteTime": {
     "end_time": "2019-02-17T16:19:57.890441Z",
     "start_time": "2019-02-17T16:19:57.872508Z"
    }
   },
   "outputs": [],
   "source": [
    "def check_null(data):\n",
    "    result = {}\n",
    "    \n",
    "    # 널 개수\n",
    "    temp = []    \n",
    "    for v in data.columns:\n",
    "        temp.append(sum(data[v].isnull() * 1))\n",
    "    result['is_null_cnt'] = temp.copy()\n",
    "    \n",
    "    # 널 비율\n",
    "    temp = []\n",
    "    for v in data.columns:\n",
    "        temp.append(sum(data[v].isnull() * 1) / data.shape[0])\n",
    "    result['is_null_rate'] = temp.copy()\n",
    "    \n",
    "    \n",
    "    return pd.DataFrame(result, index=data.columns)"
   ]
  },
  {
   "cell_type": "code",
   "execution_count": 69,
   "metadata": {
    "ExecuteTime": {
     "end_time": "2019-01-20T05:46:20.558582Z",
     "start_time": "2019-01-20T05:46:20.482824Z"
    }
   },
   "outputs": [
    {
     "name": "stdout",
     "output_type": "stream",
     "text": [
      "                    is_null_cnt  is_null_rate\n",
      "first_active_month            0           0.0\n",
      "card_id                       0           0.0\n",
      "feature_1                     0           0.0\n",
      "feature_2                     0           0.0\n",
      "feature_3                     0           0.0\n",
      "target                        0           0.0\n"
     ]
    }
   ],
   "source": [
    "print(check_null(train))"
   ]
  },
  {
   "cell_type": "code",
   "execution_count": 70,
   "metadata": {
    "ExecuteTime": {
     "end_time": "2019-01-20T05:46:20.951452Z",
     "start_time": "2019-01-20T05:46:20.909564Z"
    }
   },
   "outputs": [
    {
     "name": "stdout",
     "output_type": "stream",
     "text": [
      "                    is_null_cnt  is_null_rate\n",
      "first_active_month            1      0.000008\n",
      "card_id                       0      0.000000\n",
      "feature_1                     0      0.000000\n",
      "feature_2                     0      0.000000\n",
      "feature_3                     0      0.000000\n"
     ]
    }
   ],
   "source": [
    "print(check_null(test))"
   ]
  },
  {
   "cell_type": "code",
   "execution_count": 71,
   "metadata": {
    "ExecuteTime": {
     "end_time": "2019-01-20T05:46:46.625981Z",
     "start_time": "2019-01-20T05:46:22.879418Z"
    }
   },
   "outputs": [
    {
     "name": "stdout",
     "output_type": "stream",
     "text": [
      "                      is_null_cnt  is_null_rate\n",
      "authorized_flag                 0      0.000000\n",
      "card_id                         0      0.000000\n",
      "city_id                         0      0.000000\n",
      "category_1                      0      0.000000\n",
      "installments                    0      0.000000\n",
      "category_3                 178159      0.006120\n",
      "merchant_category_id            0      0.000000\n",
      "merchant_id                138481      0.004757\n",
      "month_lag                       0      0.000000\n",
      "purchase_amount                 0      0.000000\n",
      "purchase_date                   0      0.000000\n",
      "category_2                2652864      0.091125\n",
      "state_id                        0      0.000000\n",
      "subsector_id                    0      0.000000\n"
     ]
    }
   ],
   "source": [
    "print(check_null(history))"
   ]
  },
  {
   "cell_type": "code",
   "execution_count": 72,
   "metadata": {
    "ExecuteTime": {
     "end_time": "2019-01-20T05:46:48.283704Z",
     "start_time": "2019-01-20T05:46:46.627974Z"
    }
   },
   "outputs": [
    {
     "name": "stdout",
     "output_type": "stream",
     "text": [
      "                      is_null_cnt  is_null_rate\n",
      "authorized_flag                 0      0.000000\n",
      "card_id                         0      0.000000\n",
      "city_id                         0      0.000000\n",
      "category_1                      0      0.000000\n",
      "installments                    0      0.000000\n",
      "category_3                  55922      0.028488\n",
      "merchant_category_id            0      0.000000\n",
      "merchant_id                 26216      0.013355\n",
      "month_lag                       0      0.000000\n",
      "purchase_amount                 0      0.000000\n",
      "purchase_date                   0      0.000000\n",
      "category_2                 111745      0.056925\n",
      "state_id                        0      0.000000\n",
      "subsector_id                    0      0.000000\n"
     ]
    }
   ],
   "source": [
    "print(check_null(new_history))"
   ]
  },
  {
   "cell_type": "code",
   "execution_count": 73,
   "metadata": {
    "ExecuteTime": {
     "end_time": "2019-01-20T05:46:48.629665Z",
     "start_time": "2019-01-20T05:46:48.284700Z"
    }
   },
   "outputs": [
    {
     "name": "stdout",
     "output_type": "stream",
     "text": [
      "                             is_null_cnt  is_null_rate\n",
      "merchant_id                            0      0.000000\n",
      "merchant_group_id                      0      0.000000\n",
      "merchant_category_id                   0      0.000000\n",
      "subsector_id                           0      0.000000\n",
      "numerical_1                            0      0.000000\n",
      "numerical_2                            0      0.000000\n",
      "category_1                             0      0.000000\n",
      "most_recent_sales_range                0      0.000000\n",
      "most_recent_purchases_range            0      0.000000\n",
      "avg_sales_lag3                        13      0.000039\n",
      "avg_purchases_lag3                     0      0.000000\n",
      "active_months_lag3                     0      0.000000\n",
      "avg_sales_lag6                        13      0.000039\n",
      "avg_purchases_lag6                     0      0.000000\n",
      "active_months_lag6                     0      0.000000\n",
      "avg_sales_lag12                       13      0.000039\n",
      "avg_purchases_lag12                    0      0.000000\n",
      "active_months_lag12                    0      0.000000\n",
      "category_4                             0      0.000000\n",
      "city_id                                0      0.000000\n",
      "state_id                               0      0.000000\n",
      "category_2                         11887      0.035516\n"
     ]
    }
   ],
   "source": [
    "print(check_null(merchant))"
   ]
  },
  {
   "cell_type": "markdown",
   "metadata": {},
   "source": [
    "### history에서 merchant_id가 null인 친구"
   ]
  },
  {
   "cell_type": "code",
   "execution_count": 112,
   "metadata": {
    "ExecuteTime": {
     "end_time": "2019-01-20T06:03:37.196938Z",
     "start_time": "2019-01-20T06:03:26.427692Z"
    }
   },
   "outputs": [],
   "source": [
    "card_id = history.iloc[history.merchant_id.dropna().index].card_id.unique()"
   ]
  },
  {
   "cell_type": "code",
   "execution_count": 117,
   "metadata": {
    "ExecuteTime": {
     "end_time": "2019-01-20T06:04:14.240305Z",
     "start_time": "2019-01-20T06:04:14.096286Z"
    }
   },
   "outputs": [
    {
     "data": {
      "text/plain": [
       "True"
      ]
     },
     "execution_count": 117,
     "metadata": {},
     "output_type": "execute_result"
    }
   ],
   "source": [
    "set(train.card_id.unique()).issubset(set(card_id))"
   ]
  },
  {
   "cell_type": "code",
   "execution_count": 118,
   "metadata": {
    "ExecuteTime": {
     "end_time": "2019-01-20T06:04:21.336934Z",
     "start_time": "2019-01-20T06:04:21.232097Z"
    }
   },
   "outputs": [
    {
     "data": {
      "text/plain": [
       "True"
      ]
     },
     "execution_count": 118,
     "metadata": {},
     "output_type": "execute_result"
    }
   ],
   "source": [
    "set(test.card_id.unique()).issubset(set(card_id))"
   ]
  },
  {
   "cell_type": "markdown",
   "metadata": {},
   "source": [
    "* history에서 merchant_id가 null인 친구를 드랍해도 card_id에 공백은 없음"
   ]
  },
  {
   "cell_type": "markdown",
   "metadata": {},
   "source": [
    "## First Active Month"
   ]
  },
  {
   "cell_type": "markdown",
   "metadata": {},
   "source": [
    "### first active null checking"
   ]
  },
  {
   "cell_type": "code",
   "execution_count": 44,
   "metadata": {
    "ExecuteTime": {
     "end_time": "2019-02-16T09:09:36.297932Z",
     "start_time": "2019-02-16T09:09:36.285965Z"
    }
   },
   "outputs": [
    {
     "data": {
      "text/html": [
       "<div>\n",
       "<style scoped>\n",
       "    .dataframe tbody tr th:only-of-type {\n",
       "        vertical-align: middle;\n",
       "    }\n",
       "\n",
       "    .dataframe tbody tr th {\n",
       "        vertical-align: top;\n",
       "    }\n",
       "\n",
       "    .dataframe thead th {\n",
       "        text-align: right;\n",
       "    }\n",
       "</style>\n",
       "<table border=\"1\" class=\"dataframe\">\n",
       "  <thead>\n",
       "    <tr style=\"text-align: right;\">\n",
       "      <th></th>\n",
       "      <th>first_active_month</th>\n",
       "      <th>card_id</th>\n",
       "      <th>purchase_date</th>\n",
       "      <th>is_equal</th>\n",
       "    </tr>\n",
       "  </thead>\n",
       "  <tbody>\n",
       "    <tr>\n",
       "      <th>11578</th>\n",
       "      <td>NaN</td>\n",
       "      <td>C_ID_c27b4f80f7</td>\n",
       "      <td>2017-03</td>\n",
       "      <td>0</td>\n",
       "    </tr>\n",
       "  </tbody>\n",
       "</table>\n",
       "</div>"
      ],
      "text/plain": [
       "      first_active_month          card_id purchase_date  is_equal\n",
       "11578                NaN  C_ID_c27b4f80f7       2017-03         0"
      ]
     },
     "execution_count": 44,
     "metadata": {},
     "output_type": "execute_result"
    }
   ],
   "source": [
    "test[test.first_active_month.isna()]"
   ]
  },
  {
   "cell_type": "code",
   "execution_count": 12,
   "metadata": {
    "ExecuteTime": {
     "end_time": "2019-02-16T08:56:50.636924Z",
     "start_time": "2019-02-16T08:56:25.889089Z"
    }
   },
   "outputs": [],
   "source": [
    "first_purchase_date = history.groupby('card_id').purchase_date.min()\n",
    "first_purchase_date = first_purchase_date.to_frame().reset_index()"
   ]
  },
  {
   "cell_type": "code",
   "execution_count": 23,
   "metadata": {
    "ExecuteTime": {
     "end_time": "2019-02-16T08:58:20.090816Z",
     "start_time": "2019-02-16T08:58:19.744709Z"
    }
   },
   "outputs": [],
   "source": [
    "train = train.merge(first_purchase_date, on='card_id', how='left')[['first_active_month', 'card_id', 'purchase_date']]\n",
    "test = test.merge(first_purchase_date, on='card_id', how='left')[['first_active_month', 'card_id', 'purchase_date']]"
   ]
  },
  {
   "cell_type": "code",
   "execution_count": 48,
   "metadata": {
    "ExecuteTime": {
     "end_time": "2019-02-16T09:42:14.577520Z",
     "start_time": "2019-02-16T09:42:14.565513Z"
    }
   },
   "outputs": [
    {
     "data": {
      "text/html": [
       "<div>\n",
       "<style scoped>\n",
       "    .dataframe tbody tr th:only-of-type {\n",
       "        vertical-align: middle;\n",
       "    }\n",
       "\n",
       "    .dataframe tbody tr th {\n",
       "        vertical-align: top;\n",
       "    }\n",
       "\n",
       "    .dataframe thead th {\n",
       "        text-align: right;\n",
       "    }\n",
       "</style>\n",
       "<table border=\"1\" class=\"dataframe\">\n",
       "  <thead>\n",
       "    <tr style=\"text-align: right;\">\n",
       "      <th></th>\n",
       "      <th>first_active_month</th>\n",
       "      <th>card_id</th>\n",
       "      <th>purchase_date</th>\n",
       "      <th>is_equal</th>\n",
       "    </tr>\n",
       "  </thead>\n",
       "  <tbody>\n",
       "    <tr>\n",
       "      <th>11578</th>\n",
       "      <td>NaN</td>\n",
       "      <td>C_ID_c27b4f80f7</td>\n",
       "      <td>2017-03</td>\n",
       "      <td>0</td>\n",
       "    </tr>\n",
       "  </tbody>\n",
       "</table>\n",
       "</div>"
      ],
      "text/plain": [
       "      first_active_month          card_id purchase_date  is_equal\n",
       "11578                NaN  C_ID_c27b4f80f7       2017-03         0"
      ]
     },
     "execution_count": 48,
     "metadata": {},
     "output_type": "execute_result"
    }
   ],
   "source": [
    "test[test.first_active_month.isna()]"
   ]
  },
  {
   "cell_type": "code",
   "execution_count": 32,
   "metadata": {
    "ExecuteTime": {
     "end_time": "2019-02-16T09:06:00.084135Z",
     "start_time": "2019-02-16T09:05:59.946477Z"
    }
   },
   "outputs": [],
   "source": [
    "test.purchase_date = test.purchase_date.str[:7]"
   ]
  },
  {
   "cell_type": "code",
   "execution_count": 36,
   "metadata": {
    "ExecuteTime": {
     "end_time": "2019-02-16T09:07:07.235392Z",
     "start_time": "2019-02-16T09:07:07.231446Z"
    }
   },
   "outputs": [],
   "source": [
    "def equal(data):\n",
    "    if data.first_active_month == data.purchase_date:\n",
    "        return 1\n",
    "    else:\n",
    "        return 0"
   ]
  },
  {
   "cell_type": "code",
   "execution_count": 38,
   "metadata": {
    "ExecuteTime": {
     "end_time": "2019-02-16T09:07:26.982306Z",
     "start_time": "2019-02-16T09:07:24.564382Z"
    }
   },
   "outputs": [],
   "source": [
    "test['is_equal'] = test.apply(equal, axis=1)"
   ]
  },
  {
   "cell_type": "code",
   "execution_count": 40,
   "metadata": {
    "ExecuteTime": {
     "end_time": "2019-02-16T09:07:33.194853Z",
     "start_time": "2019-02-16T09:07:33.187820Z"
    }
   },
   "outputs": [
    {
     "data": {
      "text/plain": [
       "1    76524\n",
       "0    47099\n",
       "Name: is_equal, dtype: int64"
      ]
     },
     "execution_count": 40,
     "metadata": {},
     "output_type": "execute_result"
    }
   ],
   "source": [
    "test.is_equal.value_counts()"
   ]
  },
  {
   "cell_type": "code",
   "execution_count": 42,
   "metadata": {
    "ExecuteTime": {
     "end_time": "2019-02-16T09:07:52.976899Z",
     "start_time": "2019-02-16T09:07:52.956953Z"
    },
    "collapsed": true
   },
   "outputs": [
    {
     "data": {
      "text/html": [
       "<div>\n",
       "<style scoped>\n",
       "    .dataframe tbody tr th:only-of-type {\n",
       "        vertical-align: middle;\n",
       "    }\n",
       "\n",
       "    .dataframe tbody tr th {\n",
       "        vertical-align: top;\n",
       "    }\n",
       "\n",
       "    .dataframe thead th {\n",
       "        text-align: right;\n",
       "    }\n",
       "</style>\n",
       "<table border=\"1\" class=\"dataframe\">\n",
       "  <thead>\n",
       "    <tr style=\"text-align: right;\">\n",
       "      <th></th>\n",
       "      <th>first_active_month</th>\n",
       "      <th>card_id</th>\n",
       "      <th>purchase_date</th>\n",
       "      <th>is_equal</th>\n",
       "    </tr>\n",
       "  </thead>\n",
       "  <tbody>\n",
       "    <tr>\n",
       "      <th>4</th>\n",
       "      <td>2015-12</td>\n",
       "      <td>C_ID_2b5e3df5c2</td>\n",
       "      <td>2017-01</td>\n",
       "      <td>0</td>\n",
       "    </tr>\n",
       "    <tr>\n",
       "      <th>9</th>\n",
       "      <td>2016-03</td>\n",
       "      <td>C_ID_6d8dba8475</td>\n",
       "      <td>2017-01</td>\n",
       "      <td>0</td>\n",
       "    </tr>\n",
       "    <tr>\n",
       "      <th>12</th>\n",
       "      <td>2016-04</td>\n",
       "      <td>C_ID_8375dfdaa2</td>\n",
       "      <td>2017-01</td>\n",
       "      <td>0</td>\n",
       "    </tr>\n",
       "    <tr>\n",
       "      <th>13</th>\n",
       "      <td>2016-12</td>\n",
       "      <td>C_ID_79d149c008</td>\n",
       "      <td>2017-01</td>\n",
       "      <td>0</td>\n",
       "    </tr>\n",
       "    <tr>\n",
       "      <th>14</th>\n",
       "      <td>2016-08</td>\n",
       "      <td>C_ID_7f1041e8e1</td>\n",
       "      <td>2017-01</td>\n",
       "      <td>0</td>\n",
       "    </tr>\n",
       "    <tr>\n",
       "      <th>18</th>\n",
       "      <td>2017-11</td>\n",
       "      <td>C_ID_e457bbd71d</td>\n",
       "      <td>2017-10</td>\n",
       "      <td>0</td>\n",
       "    </tr>\n",
       "    <tr>\n",
       "      <th>20</th>\n",
       "      <td>2016-10</td>\n",
       "      <td>C_ID_48243da9c4</td>\n",
       "      <td>2017-01</td>\n",
       "      <td>0</td>\n",
       "    </tr>\n",
       "    <tr>\n",
       "      <th>24</th>\n",
       "      <td>2016-05</td>\n",
       "      <td>C_ID_b54cfad8b2</td>\n",
       "      <td>2017-02</td>\n",
       "      <td>0</td>\n",
       "    </tr>\n",
       "    <tr>\n",
       "      <th>25</th>\n",
       "      <td>2013-03</td>\n",
       "      <td>C_ID_4b82e26faa</td>\n",
       "      <td>2017-01</td>\n",
       "      <td>0</td>\n",
       "    </tr>\n",
       "    <tr>\n",
       "      <th>26</th>\n",
       "      <td>2016-04</td>\n",
       "      <td>C_ID_60a453531a</td>\n",
       "      <td>2017-01</td>\n",
       "      <td>0</td>\n",
       "    </tr>\n",
       "    <tr>\n",
       "      <th>33</th>\n",
       "      <td>2014-12</td>\n",
       "      <td>C_ID_5005a6ad0e</td>\n",
       "      <td>2017-01</td>\n",
       "      <td>0</td>\n",
       "    </tr>\n",
       "    <tr>\n",
       "      <th>40</th>\n",
       "      <td>2015-12</td>\n",
       "      <td>C_ID_2558bddd83</td>\n",
       "      <td>2017-01</td>\n",
       "      <td>0</td>\n",
       "    </tr>\n",
       "    <tr>\n",
       "      <th>41</th>\n",
       "      <td>2016-03</td>\n",
       "      <td>C_ID_5077e2007a</td>\n",
       "      <td>2017-01</td>\n",
       "      <td>0</td>\n",
       "    </tr>\n",
       "    <tr>\n",
       "      <th>43</th>\n",
       "      <td>2016-12</td>\n",
       "      <td>C_ID_f27972fa70</td>\n",
       "      <td>2017-01</td>\n",
       "      <td>0</td>\n",
       "    </tr>\n",
       "    <tr>\n",
       "      <th>47</th>\n",
       "      <td>2017-11</td>\n",
       "      <td>C_ID_8f9dc072c4</td>\n",
       "      <td>2017-10</td>\n",
       "      <td>0</td>\n",
       "    </tr>\n",
       "    <tr>\n",
       "      <th>48</th>\n",
       "      <td>2016-07</td>\n",
       "      <td>C_ID_11ca664f8c</td>\n",
       "      <td>2017-01</td>\n",
       "      <td>0</td>\n",
       "    </tr>\n",
       "    <tr>\n",
       "      <th>51</th>\n",
       "      <td>2016-10</td>\n",
       "      <td>C_ID_df2ae73120</td>\n",
       "      <td>2017-01</td>\n",
       "      <td>0</td>\n",
       "    </tr>\n",
       "    <tr>\n",
       "      <th>58</th>\n",
       "      <td>2015-12</td>\n",
       "      <td>C_ID_59406e1778</td>\n",
       "      <td>2017-01</td>\n",
       "      <td>0</td>\n",
       "    </tr>\n",
       "    <tr>\n",
       "      <th>61</th>\n",
       "      <td>2016-08</td>\n",
       "      <td>C_ID_06a7a6f70d</td>\n",
       "      <td>2017-01</td>\n",
       "      <td>0</td>\n",
       "    </tr>\n",
       "    <tr>\n",
       "      <th>67</th>\n",
       "      <td>2016-09</td>\n",
       "      <td>C_ID_5a3419552f</td>\n",
       "      <td>2017-02</td>\n",
       "      <td>0</td>\n",
       "    </tr>\n",
       "    <tr>\n",
       "      <th>68</th>\n",
       "      <td>2016-05</td>\n",
       "      <td>C_ID_17cb2f55f2</td>\n",
       "      <td>2017-02</td>\n",
       "      <td>0</td>\n",
       "    </tr>\n",
       "    <tr>\n",
       "      <th>72</th>\n",
       "      <td>2016-11</td>\n",
       "      <td>C_ID_562a791678</td>\n",
       "      <td>2017-03</td>\n",
       "      <td>0</td>\n",
       "    </tr>\n",
       "    <tr>\n",
       "      <th>76</th>\n",
       "      <td>2016-03</td>\n",
       "      <td>C_ID_ef5198fe59</td>\n",
       "      <td>2017-01</td>\n",
       "      <td>0</td>\n",
       "    </tr>\n",
       "    <tr>\n",
       "      <th>78</th>\n",
       "      <td>2016-12</td>\n",
       "      <td>C_ID_fa6b4db855</td>\n",
       "      <td>2017-01</td>\n",
       "      <td>0</td>\n",
       "    </tr>\n",
       "    <tr>\n",
       "      <th>80</th>\n",
       "      <td>2016-11</td>\n",
       "      <td>C_ID_338bed6617</td>\n",
       "      <td>2017-01</td>\n",
       "      <td>0</td>\n",
       "    </tr>\n",
       "    <tr>\n",
       "      <th>83</th>\n",
       "      <td>2016-04</td>\n",
       "      <td>C_ID_348cbde97c</td>\n",
       "      <td>2017-01</td>\n",
       "      <td>0</td>\n",
       "    </tr>\n",
       "    <tr>\n",
       "      <th>91</th>\n",
       "      <td>2015-12</td>\n",
       "      <td>C_ID_df503a36ae</td>\n",
       "      <td>2017-01</td>\n",
       "      <td>0</td>\n",
       "    </tr>\n",
       "    <tr>\n",
       "      <th>92</th>\n",
       "      <td>2015-03</td>\n",
       "      <td>C_ID_00b966c727</td>\n",
       "      <td>2017-01</td>\n",
       "      <td>0</td>\n",
       "    </tr>\n",
       "    <tr>\n",
       "      <th>93</th>\n",
       "      <td>2016-08</td>\n",
       "      <td>C_ID_af9e0d2367</td>\n",
       "      <td>2017-01</td>\n",
       "      <td>0</td>\n",
       "    </tr>\n",
       "    <tr>\n",
       "      <th>94</th>\n",
       "      <td>2016-12</td>\n",
       "      <td>C_ID_a9935875b9</td>\n",
       "      <td>2017-01</td>\n",
       "      <td>0</td>\n",
       "    </tr>\n",
       "    <tr>\n",
       "      <th>...</th>\n",
       "      <td>...</td>\n",
       "      <td>...</td>\n",
       "      <td>...</td>\n",
       "      <td>...</td>\n",
       "    </tr>\n",
       "    <tr>\n",
       "      <th>123534</th>\n",
       "      <td>2014-11</td>\n",
       "      <td>C_ID_87f659888f</td>\n",
       "      <td>2017-01</td>\n",
       "      <td>0</td>\n",
       "    </tr>\n",
       "    <tr>\n",
       "      <th>123536</th>\n",
       "      <td>2016-06</td>\n",
       "      <td>C_ID_fb95581430</td>\n",
       "      <td>2017-01</td>\n",
       "      <td>0</td>\n",
       "    </tr>\n",
       "    <tr>\n",
       "      <th>123541</th>\n",
       "      <td>2012-07</td>\n",
       "      <td>C_ID_f96d1e1fbd</td>\n",
       "      <td>2017-02</td>\n",
       "      <td>0</td>\n",
       "    </tr>\n",
       "    <tr>\n",
       "      <th>123546</th>\n",
       "      <td>2016-08</td>\n",
       "      <td>C_ID_aff63214c8</td>\n",
       "      <td>2017-01</td>\n",
       "      <td>0</td>\n",
       "    </tr>\n",
       "    <tr>\n",
       "      <th>123548</th>\n",
       "      <td>2015-12</td>\n",
       "      <td>C_ID_c933053998</td>\n",
       "      <td>2017-01</td>\n",
       "      <td>0</td>\n",
       "    </tr>\n",
       "    <tr>\n",
       "      <th>123554</th>\n",
       "      <td>2015-01</td>\n",
       "      <td>C_ID_1e719c6ceb</td>\n",
       "      <td>2017-01</td>\n",
       "      <td>0</td>\n",
       "    </tr>\n",
       "    <tr>\n",
       "      <th>123558</th>\n",
       "      <td>2016-10</td>\n",
       "      <td>C_ID_7c414299af</td>\n",
       "      <td>2017-01</td>\n",
       "      <td>0</td>\n",
       "    </tr>\n",
       "    <tr>\n",
       "      <th>123561</th>\n",
       "      <td>2016-05</td>\n",
       "      <td>C_ID_7ef23f6475</td>\n",
       "      <td>2017-02</td>\n",
       "      <td>0</td>\n",
       "    </tr>\n",
       "    <tr>\n",
       "      <th>123563</th>\n",
       "      <td>2016-08</td>\n",
       "      <td>C_ID_fa663c45c2</td>\n",
       "      <td>2017-01</td>\n",
       "      <td>0</td>\n",
       "    </tr>\n",
       "    <tr>\n",
       "      <th>123566</th>\n",
       "      <td>2014-08</td>\n",
       "      <td>C_ID_da84ba321f</td>\n",
       "      <td>2017-01</td>\n",
       "      <td>0</td>\n",
       "    </tr>\n",
       "    <tr>\n",
       "      <th>123569</th>\n",
       "      <td>2016-04</td>\n",
       "      <td>C_ID_712abacd9b</td>\n",
       "      <td>2017-01</td>\n",
       "      <td>0</td>\n",
       "    </tr>\n",
       "    <tr>\n",
       "      <th>123571</th>\n",
       "      <td>2014-09</td>\n",
       "      <td>C_ID_101ce4636e</td>\n",
       "      <td>2017-01</td>\n",
       "      <td>0</td>\n",
       "    </tr>\n",
       "    <tr>\n",
       "      <th>123576</th>\n",
       "      <td>2015-02</td>\n",
       "      <td>C_ID_4d81faf4b8</td>\n",
       "      <td>2017-01</td>\n",
       "      <td>0</td>\n",
       "    </tr>\n",
       "    <tr>\n",
       "      <th>123578</th>\n",
       "      <td>2015-09</td>\n",
       "      <td>C_ID_c592539591</td>\n",
       "      <td>2017-03</td>\n",
       "      <td>0</td>\n",
       "    </tr>\n",
       "    <tr>\n",
       "      <th>123579</th>\n",
       "      <td>2016-07</td>\n",
       "      <td>C_ID_97a507ef6b</td>\n",
       "      <td>2017-02</td>\n",
       "      <td>0</td>\n",
       "    </tr>\n",
       "    <tr>\n",
       "      <th>123581</th>\n",
       "      <td>2016-11</td>\n",
       "      <td>C_ID_5ecbcfe49d</td>\n",
       "      <td>2017-01</td>\n",
       "      <td>0</td>\n",
       "    </tr>\n",
       "    <tr>\n",
       "      <th>123585</th>\n",
       "      <td>2015-12</td>\n",
       "      <td>C_ID_85e8168aea</td>\n",
       "      <td>2017-03</td>\n",
       "      <td>0</td>\n",
       "    </tr>\n",
       "    <tr>\n",
       "      <th>123586</th>\n",
       "      <td>2016-08</td>\n",
       "      <td>C_ID_aeae40874b</td>\n",
       "      <td>2017-01</td>\n",
       "      <td>0</td>\n",
       "    </tr>\n",
       "    <tr>\n",
       "      <th>123589</th>\n",
       "      <td>2014-11</td>\n",
       "      <td>C_ID_cbeaefc4dc</td>\n",
       "      <td>2017-01</td>\n",
       "      <td>0</td>\n",
       "    </tr>\n",
       "    <tr>\n",
       "      <th>123593</th>\n",
       "      <td>2016-07</td>\n",
       "      <td>C_ID_cd42a5db89</td>\n",
       "      <td>2017-01</td>\n",
       "      <td>0</td>\n",
       "    </tr>\n",
       "    <tr>\n",
       "      <th>123600</th>\n",
       "      <td>2016-12</td>\n",
       "      <td>C_ID_2932a6ea37</td>\n",
       "      <td>2017-01</td>\n",
       "      <td>0</td>\n",
       "    </tr>\n",
       "    <tr>\n",
       "      <th>123608</th>\n",
       "      <td>2016-12</td>\n",
       "      <td>C_ID_dc842bba27</td>\n",
       "      <td>2017-01</td>\n",
       "      <td>0</td>\n",
       "    </tr>\n",
       "    <tr>\n",
       "      <th>123609</th>\n",
       "      <td>2016-12</td>\n",
       "      <td>C_ID_bd625edce0</td>\n",
       "      <td>2017-01</td>\n",
       "      <td>0</td>\n",
       "    </tr>\n",
       "    <tr>\n",
       "      <th>123611</th>\n",
       "      <td>2016-08</td>\n",
       "      <td>C_ID_ad358eb92e</td>\n",
       "      <td>2017-01</td>\n",
       "      <td>0</td>\n",
       "    </tr>\n",
       "    <tr>\n",
       "      <th>123612</th>\n",
       "      <td>2016-04</td>\n",
       "      <td>C_ID_7d9bcec574</td>\n",
       "      <td>2017-01</td>\n",
       "      <td>0</td>\n",
       "    </tr>\n",
       "    <tr>\n",
       "      <th>123613</th>\n",
       "      <td>2015-11</td>\n",
       "      <td>C_ID_b588b35e15</td>\n",
       "      <td>2017-01</td>\n",
       "      <td>0</td>\n",
       "    </tr>\n",
       "    <tr>\n",
       "      <th>123615</th>\n",
       "      <td>2014-12</td>\n",
       "      <td>C_ID_727d3ec5da</td>\n",
       "      <td>2017-03</td>\n",
       "      <td>0</td>\n",
       "    </tr>\n",
       "    <tr>\n",
       "      <th>123617</th>\n",
       "      <td>2016-10</td>\n",
       "      <td>C_ID_0e74bd4966</td>\n",
       "      <td>2017-04</td>\n",
       "      <td>0</td>\n",
       "    </tr>\n",
       "    <tr>\n",
       "      <th>123620</th>\n",
       "      <td>2016-09</td>\n",
       "      <td>C_ID_21d56d950c</td>\n",
       "      <td>2017-04</td>\n",
       "      <td>0</td>\n",
       "    </tr>\n",
       "    <tr>\n",
       "      <th>123622</th>\n",
       "      <td>2016-10</td>\n",
       "      <td>C_ID_87e7979a5f</td>\n",
       "      <td>2017-01</td>\n",
       "      <td>0</td>\n",
       "    </tr>\n",
       "  </tbody>\n",
       "</table>\n",
       "<p>47099 rows × 4 columns</p>\n",
       "</div>"
      ],
      "text/plain": [
       "       first_active_month          card_id purchase_date  is_equal\n",
       "4                 2015-12  C_ID_2b5e3df5c2       2017-01         0\n",
       "9                 2016-03  C_ID_6d8dba8475       2017-01         0\n",
       "12                2016-04  C_ID_8375dfdaa2       2017-01         0\n",
       "13                2016-12  C_ID_79d149c008       2017-01         0\n",
       "14                2016-08  C_ID_7f1041e8e1       2017-01         0\n",
       "18                2017-11  C_ID_e457bbd71d       2017-10         0\n",
       "20                2016-10  C_ID_48243da9c4       2017-01         0\n",
       "24                2016-05  C_ID_b54cfad8b2       2017-02         0\n",
       "25                2013-03  C_ID_4b82e26faa       2017-01         0\n",
       "26                2016-04  C_ID_60a453531a       2017-01         0\n",
       "33                2014-12  C_ID_5005a6ad0e       2017-01         0\n",
       "40                2015-12  C_ID_2558bddd83       2017-01         0\n",
       "41                2016-03  C_ID_5077e2007a       2017-01         0\n",
       "43                2016-12  C_ID_f27972fa70       2017-01         0\n",
       "47                2017-11  C_ID_8f9dc072c4       2017-10         0\n",
       "48                2016-07  C_ID_11ca664f8c       2017-01         0\n",
       "51                2016-10  C_ID_df2ae73120       2017-01         0\n",
       "58                2015-12  C_ID_59406e1778       2017-01         0\n",
       "61                2016-08  C_ID_06a7a6f70d       2017-01         0\n",
       "67                2016-09  C_ID_5a3419552f       2017-02         0\n",
       "68                2016-05  C_ID_17cb2f55f2       2017-02         0\n",
       "72                2016-11  C_ID_562a791678       2017-03         0\n",
       "76                2016-03  C_ID_ef5198fe59       2017-01         0\n",
       "78                2016-12  C_ID_fa6b4db855       2017-01         0\n",
       "80                2016-11  C_ID_338bed6617       2017-01         0\n",
       "83                2016-04  C_ID_348cbde97c       2017-01         0\n",
       "91                2015-12  C_ID_df503a36ae       2017-01         0\n",
       "92                2015-03  C_ID_00b966c727       2017-01         0\n",
       "93                2016-08  C_ID_af9e0d2367       2017-01         0\n",
       "94                2016-12  C_ID_a9935875b9       2017-01         0\n",
       "...                   ...              ...           ...       ...\n",
       "123534            2014-11  C_ID_87f659888f       2017-01         0\n",
       "123536            2016-06  C_ID_fb95581430       2017-01         0\n",
       "123541            2012-07  C_ID_f96d1e1fbd       2017-02         0\n",
       "123546            2016-08  C_ID_aff63214c8       2017-01         0\n",
       "123548            2015-12  C_ID_c933053998       2017-01         0\n",
       "123554            2015-01  C_ID_1e719c6ceb       2017-01         0\n",
       "123558            2016-10  C_ID_7c414299af       2017-01         0\n",
       "123561            2016-05  C_ID_7ef23f6475       2017-02         0\n",
       "123563            2016-08  C_ID_fa663c45c2       2017-01         0\n",
       "123566            2014-08  C_ID_da84ba321f       2017-01         0\n",
       "123569            2016-04  C_ID_712abacd9b       2017-01         0\n",
       "123571            2014-09  C_ID_101ce4636e       2017-01         0\n",
       "123576            2015-02  C_ID_4d81faf4b8       2017-01         0\n",
       "123578            2015-09  C_ID_c592539591       2017-03         0\n",
       "123579            2016-07  C_ID_97a507ef6b       2017-02         0\n",
       "123581            2016-11  C_ID_5ecbcfe49d       2017-01         0\n",
       "123585            2015-12  C_ID_85e8168aea       2017-03         0\n",
       "123586            2016-08  C_ID_aeae40874b       2017-01         0\n",
       "123589            2014-11  C_ID_cbeaefc4dc       2017-01         0\n",
       "123593            2016-07  C_ID_cd42a5db89       2017-01         0\n",
       "123600            2016-12  C_ID_2932a6ea37       2017-01         0\n",
       "123608            2016-12  C_ID_dc842bba27       2017-01         0\n",
       "123609            2016-12  C_ID_bd625edce0       2017-01         0\n",
       "123611            2016-08  C_ID_ad358eb92e       2017-01         0\n",
       "123612            2016-04  C_ID_7d9bcec574       2017-01         0\n",
       "123613            2015-11  C_ID_b588b35e15       2017-01         0\n",
       "123615            2014-12  C_ID_727d3ec5da       2017-03         0\n",
       "123617            2016-10  C_ID_0e74bd4966       2017-04         0\n",
       "123620            2016-09  C_ID_21d56d950c       2017-04         0\n",
       "123622            2016-10  C_ID_87e7979a5f       2017-01         0\n",
       "\n",
       "[47099 rows x 4 columns]"
      ]
     },
     "execution_count": 42,
     "metadata": {},
     "output_type": "execute_result"
    }
   ],
   "source": [
    "test[test.is_equal == 0]"
   ]
  },
  {
   "cell_type": "code",
   "execution_count": 46,
   "metadata": {
    "ExecuteTime": {
     "end_time": "2019-02-16T09:10:12.475212Z",
     "start_time": "2019-02-16T09:10:12.445330Z"
    },
    "collapsed": true
   },
   "outputs": [
    {
     "data": {
      "text/html": [
       "<div>\n",
       "<style scoped>\n",
       "    .dataframe tbody tr th:only-of-type {\n",
       "        vertical-align: middle;\n",
       "    }\n",
       "\n",
       "    .dataframe tbody tr th {\n",
       "        vertical-align: top;\n",
       "    }\n",
       "\n",
       "    .dataframe thead th {\n",
       "        text-align: right;\n",
       "    }\n",
       "</style>\n",
       "<table border=\"1\" class=\"dataframe\">\n",
       "  <thead>\n",
       "    <tr style=\"text-align: right;\">\n",
       "      <th></th>\n",
       "      <th>first_active_month</th>\n",
       "      <th>card_id</th>\n",
       "      <th>purchase_date</th>\n",
       "      <th>is_equal</th>\n",
       "    </tr>\n",
       "  </thead>\n",
       "  <tbody>\n",
       "    <tr>\n",
       "      <th>10</th>\n",
       "      <td>2017-03</td>\n",
       "      <td>C_ID_4859ac9ed5</td>\n",
       "      <td>2017-03</td>\n",
       "      <td>1</td>\n",
       "    </tr>\n",
       "    <tr>\n",
       "      <th>34</th>\n",
       "      <td>2017-03</td>\n",
       "      <td>C_ID_b00860b6a5</td>\n",
       "      <td>2017-03</td>\n",
       "      <td>1</td>\n",
       "    </tr>\n",
       "    <tr>\n",
       "      <th>38</th>\n",
       "      <td>2017-03</td>\n",
       "      <td>C_ID_8eaa79db4f</td>\n",
       "      <td>2017-03</td>\n",
       "      <td>1</td>\n",
       "    </tr>\n",
       "    <tr>\n",
       "      <th>42</th>\n",
       "      <td>2017-03</td>\n",
       "      <td>C_ID_66715f7d2b</td>\n",
       "      <td>2017-03</td>\n",
       "      <td>1</td>\n",
       "    </tr>\n",
       "    <tr>\n",
       "      <th>46</th>\n",
       "      <td>2017-03</td>\n",
       "      <td>C_ID_57940f34ad</td>\n",
       "      <td>2017-03</td>\n",
       "      <td>1</td>\n",
       "    </tr>\n",
       "    <tr>\n",
       "      <th>72</th>\n",
       "      <td>2016-11</td>\n",
       "      <td>C_ID_562a791678</td>\n",
       "      <td>2017-03</td>\n",
       "      <td>0</td>\n",
       "    </tr>\n",
       "    <tr>\n",
       "      <th>102</th>\n",
       "      <td>2017-03</td>\n",
       "      <td>C_ID_403d457c52</td>\n",
       "      <td>2017-03</td>\n",
       "      <td>1</td>\n",
       "    </tr>\n",
       "    <tr>\n",
       "      <th>170</th>\n",
       "      <td>2017-03</td>\n",
       "      <td>C_ID_5ac4488f3c</td>\n",
       "      <td>2017-03</td>\n",
       "      <td>1</td>\n",
       "    </tr>\n",
       "    <tr>\n",
       "      <th>212</th>\n",
       "      <td>2017-03</td>\n",
       "      <td>C_ID_415fc459f1</td>\n",
       "      <td>2017-03</td>\n",
       "      <td>1</td>\n",
       "    </tr>\n",
       "    <tr>\n",
       "      <th>216</th>\n",
       "      <td>2016-08</td>\n",
       "      <td>C_ID_524851647a</td>\n",
       "      <td>2017-03</td>\n",
       "      <td>0</td>\n",
       "    </tr>\n",
       "    <tr>\n",
       "      <th>257</th>\n",
       "      <td>2017-03</td>\n",
       "      <td>C_ID_37ed75f403</td>\n",
       "      <td>2017-03</td>\n",
       "      <td>1</td>\n",
       "    </tr>\n",
       "    <tr>\n",
       "      <th>260</th>\n",
       "      <td>2016-08</td>\n",
       "      <td>C_ID_9ff39d9f8f</td>\n",
       "      <td>2017-03</td>\n",
       "      <td>0</td>\n",
       "    </tr>\n",
       "    <tr>\n",
       "      <th>263</th>\n",
       "      <td>2017-03</td>\n",
       "      <td>C_ID_9f3c474704</td>\n",
       "      <td>2017-03</td>\n",
       "      <td>1</td>\n",
       "    </tr>\n",
       "    <tr>\n",
       "      <th>292</th>\n",
       "      <td>2017-03</td>\n",
       "      <td>C_ID_be968701f8</td>\n",
       "      <td>2017-03</td>\n",
       "      <td>1</td>\n",
       "    </tr>\n",
       "    <tr>\n",
       "      <th>301</th>\n",
       "      <td>2016-09</td>\n",
       "      <td>C_ID_3162e8711f</td>\n",
       "      <td>2017-03</td>\n",
       "      <td>0</td>\n",
       "    </tr>\n",
       "    <tr>\n",
       "      <th>322</th>\n",
       "      <td>2017-03</td>\n",
       "      <td>C_ID_75048175f8</td>\n",
       "      <td>2017-03</td>\n",
       "      <td>1</td>\n",
       "    </tr>\n",
       "    <tr>\n",
       "      <th>331</th>\n",
       "      <td>2017-03</td>\n",
       "      <td>C_ID_2aa82ee67f</td>\n",
       "      <td>2017-03</td>\n",
       "      <td>1</td>\n",
       "    </tr>\n",
       "    <tr>\n",
       "      <th>334</th>\n",
       "      <td>2016-12</td>\n",
       "      <td>C_ID_2b11143b2d</td>\n",
       "      <td>2017-03</td>\n",
       "      <td>0</td>\n",
       "    </tr>\n",
       "    <tr>\n",
       "      <th>337</th>\n",
       "      <td>2016-12</td>\n",
       "      <td>C_ID_19d087b9fc</td>\n",
       "      <td>2017-03</td>\n",
       "      <td>0</td>\n",
       "    </tr>\n",
       "    <tr>\n",
       "      <th>345</th>\n",
       "      <td>2017-03</td>\n",
       "      <td>C_ID_432fad8d0c</td>\n",
       "      <td>2017-03</td>\n",
       "      <td>1</td>\n",
       "    </tr>\n",
       "    <tr>\n",
       "      <th>362</th>\n",
       "      <td>2017-03</td>\n",
       "      <td>C_ID_b33e0f675e</td>\n",
       "      <td>2017-03</td>\n",
       "      <td>1</td>\n",
       "    </tr>\n",
       "    <tr>\n",
       "      <th>364</th>\n",
       "      <td>2017-03</td>\n",
       "      <td>C_ID_a1e1912c2a</td>\n",
       "      <td>2017-03</td>\n",
       "      <td>1</td>\n",
       "    </tr>\n",
       "    <tr>\n",
       "      <th>366</th>\n",
       "      <td>2016-12</td>\n",
       "      <td>C_ID_9563a35a7f</td>\n",
       "      <td>2017-03</td>\n",
       "      <td>0</td>\n",
       "    </tr>\n",
       "    <tr>\n",
       "      <th>374</th>\n",
       "      <td>2016-12</td>\n",
       "      <td>C_ID_4c525e9990</td>\n",
       "      <td>2017-03</td>\n",
       "      <td>0</td>\n",
       "    </tr>\n",
       "    <tr>\n",
       "      <th>390</th>\n",
       "      <td>2017-03</td>\n",
       "      <td>C_ID_b36ca5620f</td>\n",
       "      <td>2017-03</td>\n",
       "      <td>1</td>\n",
       "    </tr>\n",
       "    <tr>\n",
       "      <th>402</th>\n",
       "      <td>2017-03</td>\n",
       "      <td>C_ID_6b0ac2784f</td>\n",
       "      <td>2017-03</td>\n",
       "      <td>1</td>\n",
       "    </tr>\n",
       "    <tr>\n",
       "      <th>403</th>\n",
       "      <td>2017-03</td>\n",
       "      <td>C_ID_512386b5f4</td>\n",
       "      <td>2017-03</td>\n",
       "      <td>1</td>\n",
       "    </tr>\n",
       "    <tr>\n",
       "      <th>443</th>\n",
       "      <td>2017-03</td>\n",
       "      <td>C_ID_a875715dd5</td>\n",
       "      <td>2017-03</td>\n",
       "      <td>1</td>\n",
       "    </tr>\n",
       "    <tr>\n",
       "      <th>447</th>\n",
       "      <td>2017-05</td>\n",
       "      <td>C_ID_c1edb6769c</td>\n",
       "      <td>2017-03</td>\n",
       "      <td>0</td>\n",
       "    </tr>\n",
       "    <tr>\n",
       "      <th>466</th>\n",
       "      <td>2017-03</td>\n",
       "      <td>C_ID_cd78d27cae</td>\n",
       "      <td>2017-03</td>\n",
       "      <td>1</td>\n",
       "    </tr>\n",
       "    <tr>\n",
       "      <th>...</th>\n",
       "      <td>...</td>\n",
       "      <td>...</td>\n",
       "      <td>...</td>\n",
       "      <td>...</td>\n",
       "    </tr>\n",
       "    <tr>\n",
       "      <th>123226</th>\n",
       "      <td>2016-08</td>\n",
       "      <td>C_ID_9d5ce09d00</td>\n",
       "      <td>2017-03</td>\n",
       "      <td>0</td>\n",
       "    </tr>\n",
       "    <tr>\n",
       "      <th>123228</th>\n",
       "      <td>2017-03</td>\n",
       "      <td>C_ID_90dd6942c8</td>\n",
       "      <td>2017-03</td>\n",
       "      <td>1</td>\n",
       "    </tr>\n",
       "    <tr>\n",
       "      <th>123235</th>\n",
       "      <td>2017-03</td>\n",
       "      <td>C_ID_16975f1f8a</td>\n",
       "      <td>2017-03</td>\n",
       "      <td>1</td>\n",
       "    </tr>\n",
       "    <tr>\n",
       "      <th>123240</th>\n",
       "      <td>2017-03</td>\n",
       "      <td>C_ID_e17c7a5953</td>\n",
       "      <td>2017-03</td>\n",
       "      <td>1</td>\n",
       "    </tr>\n",
       "    <tr>\n",
       "      <th>123244</th>\n",
       "      <td>2017-03</td>\n",
       "      <td>C_ID_d81c47ab5f</td>\n",
       "      <td>2017-03</td>\n",
       "      <td>1</td>\n",
       "    </tr>\n",
       "    <tr>\n",
       "      <th>123291</th>\n",
       "      <td>2017-03</td>\n",
       "      <td>C_ID_c83b062401</td>\n",
       "      <td>2017-03</td>\n",
       "      <td>1</td>\n",
       "    </tr>\n",
       "    <tr>\n",
       "      <th>123292</th>\n",
       "      <td>2015-08</td>\n",
       "      <td>C_ID_12740267e0</td>\n",
       "      <td>2017-03</td>\n",
       "      <td>0</td>\n",
       "    </tr>\n",
       "    <tr>\n",
       "      <th>123306</th>\n",
       "      <td>2016-10</td>\n",
       "      <td>C_ID_804b36480b</td>\n",
       "      <td>2017-03</td>\n",
       "      <td>0</td>\n",
       "    </tr>\n",
       "    <tr>\n",
       "      <th>123323</th>\n",
       "      <td>2017-03</td>\n",
       "      <td>C_ID_451e4109ab</td>\n",
       "      <td>2017-03</td>\n",
       "      <td>1</td>\n",
       "    </tr>\n",
       "    <tr>\n",
       "      <th>123324</th>\n",
       "      <td>2015-12</td>\n",
       "      <td>C_ID_2b886acf99</td>\n",
       "      <td>2017-03</td>\n",
       "      <td>0</td>\n",
       "    </tr>\n",
       "    <tr>\n",
       "      <th>123342</th>\n",
       "      <td>2017-05</td>\n",
       "      <td>C_ID_2fb7dbdc01</td>\n",
       "      <td>2017-03</td>\n",
       "      <td>0</td>\n",
       "    </tr>\n",
       "    <tr>\n",
       "      <th>123357</th>\n",
       "      <td>2017-03</td>\n",
       "      <td>C_ID_6775dd5279</td>\n",
       "      <td>2017-03</td>\n",
       "      <td>1</td>\n",
       "    </tr>\n",
       "    <tr>\n",
       "      <th>123394</th>\n",
       "      <td>2017-03</td>\n",
       "      <td>C_ID_dcce940a53</td>\n",
       "      <td>2017-03</td>\n",
       "      <td>1</td>\n",
       "    </tr>\n",
       "    <tr>\n",
       "      <th>123396</th>\n",
       "      <td>2017-03</td>\n",
       "      <td>C_ID_95649fe8c1</td>\n",
       "      <td>2017-03</td>\n",
       "      <td>1</td>\n",
       "    </tr>\n",
       "    <tr>\n",
       "      <th>123408</th>\n",
       "      <td>2017-03</td>\n",
       "      <td>C_ID_ebdb124281</td>\n",
       "      <td>2017-03</td>\n",
       "      <td>1</td>\n",
       "    </tr>\n",
       "    <tr>\n",
       "      <th>123414</th>\n",
       "      <td>2017-03</td>\n",
       "      <td>C_ID_04c254d39a</td>\n",
       "      <td>2017-03</td>\n",
       "      <td>1</td>\n",
       "    </tr>\n",
       "    <tr>\n",
       "      <th>123434</th>\n",
       "      <td>2017-03</td>\n",
       "      <td>C_ID_1765325f21</td>\n",
       "      <td>2017-03</td>\n",
       "      <td>1</td>\n",
       "    </tr>\n",
       "    <tr>\n",
       "      <th>123444</th>\n",
       "      <td>2017-03</td>\n",
       "      <td>C_ID_c06b6a9627</td>\n",
       "      <td>2017-03</td>\n",
       "      <td>1</td>\n",
       "    </tr>\n",
       "    <tr>\n",
       "      <th>123451</th>\n",
       "      <td>2013-07</td>\n",
       "      <td>C_ID_e0c48bf292</td>\n",
       "      <td>2017-03</td>\n",
       "      <td>0</td>\n",
       "    </tr>\n",
       "    <tr>\n",
       "      <th>123452</th>\n",
       "      <td>2017-03</td>\n",
       "      <td>C_ID_bae7cff91e</td>\n",
       "      <td>2017-03</td>\n",
       "      <td>1</td>\n",
       "    </tr>\n",
       "    <tr>\n",
       "      <th>123479</th>\n",
       "      <td>2017-03</td>\n",
       "      <td>C_ID_7498e2fd81</td>\n",
       "      <td>2017-03</td>\n",
       "      <td>1</td>\n",
       "    </tr>\n",
       "    <tr>\n",
       "      <th>123500</th>\n",
       "      <td>2017-03</td>\n",
       "      <td>C_ID_845af9836a</td>\n",
       "      <td>2017-03</td>\n",
       "      <td>1</td>\n",
       "    </tr>\n",
       "    <tr>\n",
       "      <th>123507</th>\n",
       "      <td>2016-11</td>\n",
       "      <td>C_ID_4f3323c5cb</td>\n",
       "      <td>2017-03</td>\n",
       "      <td>0</td>\n",
       "    </tr>\n",
       "    <tr>\n",
       "      <th>123509</th>\n",
       "      <td>2017-03</td>\n",
       "      <td>C_ID_20baa139fc</td>\n",
       "      <td>2017-03</td>\n",
       "      <td>1</td>\n",
       "    </tr>\n",
       "    <tr>\n",
       "      <th>123549</th>\n",
       "      <td>2017-03</td>\n",
       "      <td>C_ID_6a8e6bf9ca</td>\n",
       "      <td>2017-03</td>\n",
       "      <td>1</td>\n",
       "    </tr>\n",
       "    <tr>\n",
       "      <th>123568</th>\n",
       "      <td>2017-03</td>\n",
       "      <td>C_ID_95d2f0991a</td>\n",
       "      <td>2017-03</td>\n",
       "      <td>1</td>\n",
       "    </tr>\n",
       "    <tr>\n",
       "      <th>123578</th>\n",
       "      <td>2015-09</td>\n",
       "      <td>C_ID_c592539591</td>\n",
       "      <td>2017-03</td>\n",
       "      <td>0</td>\n",
       "    </tr>\n",
       "    <tr>\n",
       "      <th>123585</th>\n",
       "      <td>2015-12</td>\n",
       "      <td>C_ID_85e8168aea</td>\n",
       "      <td>2017-03</td>\n",
       "      <td>0</td>\n",
       "    </tr>\n",
       "    <tr>\n",
       "      <th>123587</th>\n",
       "      <td>2017-03</td>\n",
       "      <td>C_ID_fbe7d93ad2</td>\n",
       "      <td>2017-03</td>\n",
       "      <td>1</td>\n",
       "    </tr>\n",
       "    <tr>\n",
       "      <th>123615</th>\n",
       "      <td>2014-12</td>\n",
       "      <td>C_ID_727d3ec5da</td>\n",
       "      <td>2017-03</td>\n",
       "      <td>0</td>\n",
       "    </tr>\n",
       "  </tbody>\n",
       "</table>\n",
       "<p>6711 rows × 4 columns</p>\n",
       "</div>"
      ],
      "text/plain": [
       "       first_active_month          card_id purchase_date  is_equal\n",
       "10                2017-03  C_ID_4859ac9ed5       2017-03         1\n",
       "34                2017-03  C_ID_b00860b6a5       2017-03         1\n",
       "38                2017-03  C_ID_8eaa79db4f       2017-03         1\n",
       "42                2017-03  C_ID_66715f7d2b       2017-03         1\n",
       "46                2017-03  C_ID_57940f34ad       2017-03         1\n",
       "72                2016-11  C_ID_562a791678       2017-03         0\n",
       "102               2017-03  C_ID_403d457c52       2017-03         1\n",
       "170               2017-03  C_ID_5ac4488f3c       2017-03         1\n",
       "212               2017-03  C_ID_415fc459f1       2017-03         1\n",
       "216               2016-08  C_ID_524851647a       2017-03         0\n",
       "257               2017-03  C_ID_37ed75f403       2017-03         1\n",
       "260               2016-08  C_ID_9ff39d9f8f       2017-03         0\n",
       "263               2017-03  C_ID_9f3c474704       2017-03         1\n",
       "292               2017-03  C_ID_be968701f8       2017-03         1\n",
       "301               2016-09  C_ID_3162e8711f       2017-03         0\n",
       "322               2017-03  C_ID_75048175f8       2017-03         1\n",
       "331               2017-03  C_ID_2aa82ee67f       2017-03         1\n",
       "334               2016-12  C_ID_2b11143b2d       2017-03         0\n",
       "337               2016-12  C_ID_19d087b9fc       2017-03         0\n",
       "345               2017-03  C_ID_432fad8d0c       2017-03         1\n",
       "362               2017-03  C_ID_b33e0f675e       2017-03         1\n",
       "364               2017-03  C_ID_a1e1912c2a       2017-03         1\n",
       "366               2016-12  C_ID_9563a35a7f       2017-03         0\n",
       "374               2016-12  C_ID_4c525e9990       2017-03         0\n",
       "390               2017-03  C_ID_b36ca5620f       2017-03         1\n",
       "402               2017-03  C_ID_6b0ac2784f       2017-03         1\n",
       "403               2017-03  C_ID_512386b5f4       2017-03         1\n",
       "443               2017-03  C_ID_a875715dd5       2017-03         1\n",
       "447               2017-05  C_ID_c1edb6769c       2017-03         0\n",
       "466               2017-03  C_ID_cd78d27cae       2017-03         1\n",
       "...                   ...              ...           ...       ...\n",
       "123226            2016-08  C_ID_9d5ce09d00       2017-03         0\n",
       "123228            2017-03  C_ID_90dd6942c8       2017-03         1\n",
       "123235            2017-03  C_ID_16975f1f8a       2017-03         1\n",
       "123240            2017-03  C_ID_e17c7a5953       2017-03         1\n",
       "123244            2017-03  C_ID_d81c47ab5f       2017-03         1\n",
       "123291            2017-03  C_ID_c83b062401       2017-03         1\n",
       "123292            2015-08  C_ID_12740267e0       2017-03         0\n",
       "123306            2016-10  C_ID_804b36480b       2017-03         0\n",
       "123323            2017-03  C_ID_451e4109ab       2017-03         1\n",
       "123324            2015-12  C_ID_2b886acf99       2017-03         0\n",
       "123342            2017-05  C_ID_2fb7dbdc01       2017-03         0\n",
       "123357            2017-03  C_ID_6775dd5279       2017-03         1\n",
       "123394            2017-03  C_ID_dcce940a53       2017-03         1\n",
       "123396            2017-03  C_ID_95649fe8c1       2017-03         1\n",
       "123408            2017-03  C_ID_ebdb124281       2017-03         1\n",
       "123414            2017-03  C_ID_04c254d39a       2017-03         1\n",
       "123434            2017-03  C_ID_1765325f21       2017-03         1\n",
       "123444            2017-03  C_ID_c06b6a9627       2017-03         1\n",
       "123451            2013-07  C_ID_e0c48bf292       2017-03         0\n",
       "123452            2017-03  C_ID_bae7cff91e       2017-03         1\n",
       "123479            2017-03  C_ID_7498e2fd81       2017-03         1\n",
       "123500            2017-03  C_ID_845af9836a       2017-03         1\n",
       "123507            2016-11  C_ID_4f3323c5cb       2017-03         0\n",
       "123509            2017-03  C_ID_20baa139fc       2017-03         1\n",
       "123549            2017-03  C_ID_6a8e6bf9ca       2017-03         1\n",
       "123568            2017-03  C_ID_95d2f0991a       2017-03         1\n",
       "123578            2015-09  C_ID_c592539591       2017-03         0\n",
       "123585            2015-12  C_ID_85e8168aea       2017-03         0\n",
       "123587            2017-03  C_ID_fbe7d93ad2       2017-03         1\n",
       "123615            2014-12  C_ID_727d3ec5da       2017-03         0\n",
       "\n",
       "[6711 rows x 4 columns]"
      ]
     },
     "execution_count": 46,
     "metadata": {},
     "output_type": "execute_result"
    }
   ],
   "source": [
    "test[test.purchase_date == '2017-03']"
   ]
  },
  {
   "cell_type": "code",
   "execution_count": 43,
   "metadata": {
    "ExecuteTime": {
     "end_time": "2019-02-16T09:08:35.627917Z",
     "start_time": "2019-02-16T09:08:35.598998Z"
    },
    "collapsed": true
   },
   "outputs": [
    {
     "data": {
      "text/plain": [
       "2017-01    42296\n",
       "2017-09     8836\n",
       "2017-02     8726\n",
       "2017-08     8449\n",
       "2017-10     8330\n",
       "2017-11     7780\n",
       "2017-07     7589\n",
       "2017-03     6711\n",
       "2017-06     6493\n",
       "2017-04     6270\n",
       "2017-05     6139\n",
       "2017-12     6004\n",
       "Name: purchase_date, dtype: int64"
      ]
     },
     "execution_count": 43,
     "metadata": {},
     "output_type": "execute_result"
    }
   ],
   "source": [
    "test.purchase_date.value_counts()"
   ]
  },
  {
   "cell_type": "code",
   "execution_count": 51,
   "metadata": {
    "ExecuteTime": {
     "end_time": "2019-02-16T09:45:41.274706Z",
     "start_time": "2019-02-16T09:45:41.253762Z"
    },
    "collapsed": true
   },
   "outputs": [
    {
     "data": {
      "text/plain": [
       "['2011-11',\n",
       " '2011-12',\n",
       " '2012-02',\n",
       " '2012-03',\n",
       " '2012-04',\n",
       " '2012-05',\n",
       " '2012-06',\n",
       " '2012-07',\n",
       " '2012-08',\n",
       " '2012-09',\n",
       " '2012-10',\n",
       " '2012-11',\n",
       " '2012-12',\n",
       " '2013-01',\n",
       " '2013-02',\n",
       " '2013-03',\n",
       " '2013-04',\n",
       " '2013-05',\n",
       " '2013-06',\n",
       " '2013-07',\n",
       " '2013-08',\n",
       " '2013-09',\n",
       " '2013-10',\n",
       " '2013-11',\n",
       " '2013-12',\n",
       " '2014-01',\n",
       " '2014-02',\n",
       " '2014-03',\n",
       " '2014-04',\n",
       " '2014-05',\n",
       " '2014-06',\n",
       " '2014-07',\n",
       " '2014-08',\n",
       " '2014-09',\n",
       " '2014-10',\n",
       " '2014-11',\n",
       " '2014-12',\n",
       " '2015-01',\n",
       " '2015-02',\n",
       " '2015-03',\n",
       " '2015-04',\n",
       " '2015-05',\n",
       " '2015-06',\n",
       " '2015-07',\n",
       " '2015-08',\n",
       " '2015-09',\n",
       " '2015-10',\n",
       " '2015-11',\n",
       " '2015-12',\n",
       " '2016-01',\n",
       " '2016-02',\n",
       " '2016-03',\n",
       " '2016-04',\n",
       " '2016-05',\n",
       " '2016-06',\n",
       " '2016-07',\n",
       " '2016-08',\n",
       " '2016-09',\n",
       " '2016-10',\n",
       " '2016-11',\n",
       " '2016-12',\n",
       " '2017-01',\n",
       " '2017-02',\n",
       " '2017-03',\n",
       " '2017-04',\n",
       " '2017-05',\n",
       " '2017-06',\n",
       " '2017-07',\n",
       " '2017-08',\n",
       " '2017-09',\n",
       " '2017-10',\n",
       " '2017-11',\n",
       " '2017-12',\n",
       " '2018-01',\n",
       " '2018-02']"
      ]
     },
     "execution_count": 51,
     "metadata": {},
     "output_type": "execute_result"
    }
   ],
   "source": [
    "sorted(train.first_active_month.value_counts().index)"
   ]
  },
  {
   "cell_type": "code",
   "execution_count": 57,
   "metadata": {
    "ExecuteTime": {
     "end_time": "2019-02-16T09:46:35.650460Z",
     "start_time": "2019-02-16T09:46:35.221496Z"
    },
    "collapsed": true
   },
   "outputs": [
    {
     "data": {
      "text/plain": [
       "['2017-03',\n",
       " '2017-04',\n",
       " '2017-05',\n",
       " '2017-06',\n",
       " '2017-07',\n",
       " '2017-08',\n",
       " '2017-09',\n",
       " '2017-10',\n",
       " '2017-11',\n",
       " '2017-12',\n",
       " '2018-01',\n",
       " '2018-02',\n",
       " '2018-03',\n",
       " '2018-04']"
      ]
     },
     "execution_count": 57,
     "metadata": {},
     "output_type": "execute_result"
    }
   ],
   "source": [
    "sorted(new_history.purchase_date.str[:7].unique())"
   ]
  },
  {
   "cell_type": "markdown",
   "metadata": {},
   "source": [
    "## Null check new"
   ]
  },
  {
   "cell_type": "code",
   "execution_count": 9,
   "metadata": {
    "ExecuteTime": {
     "end_time": "2019-02-17T16:22:56.267580Z",
     "start_time": "2019-02-17T16:22:55.424828Z"
    }
   },
   "outputs": [],
   "source": [
    "history.city_id.replace(-1, np.nan, inplace=True)\n",
    "history.installments.replace(-1, np.nan, inplace=True)\n",
    "history.installments.replace(999, np.nan, inplace=True)\n",
    "history.merchant_category_id.replace(-1, np.nan, inplace=True)\n",
    "history.subsector_id.replace(-1, np.nan, inplace=True)\n",
    "history.state_id.replace(-1, np.nan, inplace=True)"
   ]
  },
  {
   "cell_type": "code",
   "execution_count": 10,
   "metadata": {
    "ExecuteTime": {
     "end_time": "2019-02-17T16:23:21.390409Z",
     "start_time": "2019-02-17T16:22:56.793547Z"
    }
   },
   "outputs": [
    {
     "data": {
      "text/html": [
       "<div>\n",
       "<style scoped>\n",
       "    .dataframe tbody tr th:only-of-type {\n",
       "        vertical-align: middle;\n",
       "    }\n",
       "\n",
       "    .dataframe tbody tr th {\n",
       "        vertical-align: top;\n",
       "    }\n",
       "\n",
       "    .dataframe thead th {\n",
       "        text-align: right;\n",
       "    }\n",
       "</style>\n",
       "<table border=\"1\" class=\"dataframe\">\n",
       "  <thead>\n",
       "    <tr style=\"text-align: right;\">\n",
       "      <th></th>\n",
       "      <th>is_null_cnt</th>\n",
       "      <th>is_null_rate</th>\n",
       "    </tr>\n",
       "  </thead>\n",
       "  <tbody>\n",
       "    <tr>\n",
       "      <th>authorized_flag</th>\n",
       "      <td>0</td>\n",
       "      <td>0.000000</td>\n",
       "    </tr>\n",
       "    <tr>\n",
       "      <th>card_id</th>\n",
       "      <td>0</td>\n",
       "      <td>0.000000</td>\n",
       "    </tr>\n",
       "    <tr>\n",
       "      <th>city_id</th>\n",
       "      <td>2478624</td>\n",
       "      <td>0.085140</td>\n",
       "    </tr>\n",
       "    <tr>\n",
       "      <th>category_1</th>\n",
       "      <td>0</td>\n",
       "      <td>0.000000</td>\n",
       "    </tr>\n",
       "    <tr>\n",
       "      <th>installments</th>\n",
       "      <td>178347</td>\n",
       "      <td>0.006126</td>\n",
       "    </tr>\n",
       "    <tr>\n",
       "      <th>category_3</th>\n",
       "      <td>178159</td>\n",
       "      <td>0.006120</td>\n",
       "    </tr>\n",
       "    <tr>\n",
       "      <th>merchant_category_id</th>\n",
       "      <td>2252</td>\n",
       "      <td>0.000077</td>\n",
       "    </tr>\n",
       "    <tr>\n",
       "      <th>merchant_id</th>\n",
       "      <td>138481</td>\n",
       "      <td>0.004757</td>\n",
       "    </tr>\n",
       "    <tr>\n",
       "      <th>month_lag</th>\n",
       "      <td>0</td>\n",
       "      <td>0.000000</td>\n",
       "    </tr>\n",
       "    <tr>\n",
       "      <th>purchase_amount</th>\n",
       "      <td>0</td>\n",
       "      <td>0.000000</td>\n",
       "    </tr>\n",
       "    <tr>\n",
       "      <th>purchase_date</th>\n",
       "      <td>0</td>\n",
       "      <td>0.000000</td>\n",
       "    </tr>\n",
       "    <tr>\n",
       "      <th>category_2</th>\n",
       "      <td>2652864</td>\n",
       "      <td>0.091125</td>\n",
       "    </tr>\n",
       "    <tr>\n",
       "      <th>state_id</th>\n",
       "      <td>2652864</td>\n",
       "      <td>0.091125</td>\n",
       "    </tr>\n",
       "    <tr>\n",
       "      <th>subsector_id</th>\n",
       "      <td>2252</td>\n",
       "      <td>0.000077</td>\n",
       "    </tr>\n",
       "  </tbody>\n",
       "</table>\n",
       "</div>"
      ],
      "text/plain": [
       "                      is_null_cnt  is_null_rate\n",
       "authorized_flag                 0      0.000000\n",
       "card_id                         0      0.000000\n",
       "city_id                   2478624      0.085140\n",
       "category_1                      0      0.000000\n",
       "installments               178347      0.006126\n",
       "category_3                 178159      0.006120\n",
       "merchant_category_id         2252      0.000077\n",
       "merchant_id                138481      0.004757\n",
       "month_lag                       0      0.000000\n",
       "purchase_amount                 0      0.000000\n",
       "purchase_date                   0      0.000000\n",
       "category_2                2652864      0.091125\n",
       "state_id                  2652864      0.091125\n",
       "subsector_id                 2252      0.000077"
      ]
     },
     "execution_count": 10,
     "metadata": {},
     "output_type": "execute_result"
    }
   ],
   "source": [
    "check_null(history)"
   ]
  },
  {
   "cell_type": "code",
   "execution_count": 12,
   "metadata": {
    "ExecuteTime": {
     "end_time": "2019-02-17T17:32:17.450801Z",
     "start_time": "2019-02-17T17:32:17.436823Z"
    }
   },
   "outputs": [
    {
     "data": {
      "text/plain": [
       "0.016666666666666666"
      ]
     },
     "execution_count": 12,
     "metadata": {},
     "output_type": "execute_result"
    }
   ],
   "source": [
    "3 / 180"
   ]
  },
  {
   "cell_type": "code",
   "execution_count": 13,
   "metadata": {
    "ExecuteTime": {
     "end_time": "2019-02-17T17:32:28.526633Z",
     "start_time": "2019-02-17T17:32:28.521646Z"
    }
   },
   "outputs": [
    {
     "data": {
      "text/plain": [
       "0.010930233709890698"
      ]
     },
     "execution_count": 13,
     "metadata": {},
     "output_type": "execute_result"
    }
   ],
   "source": [
    "2207 / len(train)"
   ]
  }
 ],
 "metadata": {
  "kernelspec": {
   "display_name": "Python 3",
   "language": "python",
   "name": "python3"
  },
  "language_info": {
   "codemirror_mode": {
    "name": "ipython",
    "version": 3
   },
   "file_extension": ".py",
   "mimetype": "text/x-python",
   "name": "python",
   "nbconvert_exporter": "python",
   "pygments_lexer": "ipython3",
   "version": "3.6.7"
  },
  "toc": {
   "base_numbering": 1,
   "nav_menu": {},
   "number_sections": true,
   "sideBar": true,
   "skip_h1_title": false,
   "title_cell": "Table of Contents",
   "title_sidebar": "Contents",
   "toc_cell": false,
   "toc_position": {},
   "toc_section_display": true,
   "toc_window_display": true
  }
 },
 "nbformat": 4,
 "nbformat_minor": 2
}
