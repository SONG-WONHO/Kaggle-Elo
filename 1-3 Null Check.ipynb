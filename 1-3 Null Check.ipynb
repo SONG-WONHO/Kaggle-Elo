{
 "cells": [
  {
   "cell_type": "markdown",
   "metadata": {},
   "source": [
    "# 널 값에 대해 체크"
   ]
  },
  {
   "cell_type": "markdown",
   "metadata": {},
   "source": [
    "## 모듈 임포트"
   ]
  },
  {
   "cell_type": "code",
   "execution_count": 77,
   "metadata": {
    "ExecuteTime": {
     "end_time": "2019-01-20T05:49:55.209591Z",
     "start_time": "2019-01-20T05:49:54.405038Z"
    }
   },
   "outputs": [],
   "source": [
    "import numpy as np\n",
    "import pandas as pd\n",
    "import matplotlib.pyplot as plt\n",
    "import seaborn as sns\n",
    "import gc"
   ]
  },
  {
   "cell_type": "markdown",
   "metadata": {},
   "source": [
    "## 데이터 로드"
   ]
  },
  {
   "cell_type": "code",
   "execution_count": 2,
   "metadata": {
    "ExecuteTime": {
     "end_time": "2019-01-20T05:18:21.752240Z",
     "start_time": "2019-01-20T05:18:21.749247Z"
    }
   },
   "outputs": [],
   "source": [
    "path = './data/'"
   ]
  },
  {
   "cell_type": "code",
   "execution_count": 3,
   "metadata": {
    "ExecuteTime": {
     "end_time": "2019-01-20T05:19:18.624933Z",
     "start_time": "2019-01-20T05:18:26.523044Z"
    }
   },
   "outputs": [],
   "source": [
    "train = pd.read_csv(path + 'train.csv')\n",
    "test = pd.read_csv(path + 'test.csv')\n",
    "history = pd.read_csv(path + 'historical_transactions.csv')\n",
    "new_history = pd.read_csv(path + 'new_merchant_transactions.csv')\n",
    "merchant = pd.read_csv(path + 'merchants.csv')"
   ]
  },
  {
   "cell_type": "markdown",
   "metadata": {
    "ExecuteTime": {
     "end_time": "2019-01-20T05:23:17.905042Z",
     "start_time": "2019-01-20T05:23:17.897064Z"
    }
   },
   "source": [
    "## Null 확인"
   ]
  },
  {
   "cell_type": "code",
   "execution_count": 74,
   "metadata": {
    "ExecuteTime": {
     "end_time": "2019-01-20T05:46:48.636647Z",
     "start_time": "2019-01-20T05:46:48.631660Z"
    }
   },
   "outputs": [],
   "source": [
    "def check_null(data):\n",
    "    result = {}\n",
    "    \n",
    "    # 널 개수\n",
    "    temp = []    \n",
    "    for v in data.columns:\n",
    "        temp.append(sum(data[v].isnull() * 1))\n",
    "    result['is_null_cnt'] = temp.copy()\n",
    "    \n",
    "    # 널 비율\n",
    "    temp = []\n",
    "    for v in data.columns:\n",
    "        temp.append(sum(data[v].isnull() * 1) / data.shape[0])\n",
    "    result['is_null_rate'] = temp.copy()\n",
    "    \n",
    "    \n",
    "    return pd.DataFrame(result, index=data.columns)"
   ]
  },
  {
   "cell_type": "code",
   "execution_count": 69,
   "metadata": {
    "ExecuteTime": {
     "end_time": "2019-01-20T05:46:20.558582Z",
     "start_time": "2019-01-20T05:46:20.482824Z"
    }
   },
   "outputs": [
    {
     "name": "stdout",
     "output_type": "stream",
     "text": [
      "                    is_null_cnt  is_null_rate\n",
      "first_active_month            0           0.0\n",
      "card_id                       0           0.0\n",
      "feature_1                     0           0.0\n",
      "feature_2                     0           0.0\n",
      "feature_3                     0           0.0\n",
      "target                        0           0.0\n"
     ]
    }
   ],
   "source": [
    "print(check_null(train))"
   ]
  },
  {
   "cell_type": "code",
   "execution_count": 70,
   "metadata": {
    "ExecuteTime": {
     "end_time": "2019-01-20T05:46:20.951452Z",
     "start_time": "2019-01-20T05:46:20.909564Z"
    }
   },
   "outputs": [
    {
     "name": "stdout",
     "output_type": "stream",
     "text": [
      "                    is_null_cnt  is_null_rate\n",
      "first_active_month            1      0.000008\n",
      "card_id                       0      0.000000\n",
      "feature_1                     0      0.000000\n",
      "feature_2                     0      0.000000\n",
      "feature_3                     0      0.000000\n"
     ]
    }
   ],
   "source": [
    "print(check_null(test))"
   ]
  },
  {
   "cell_type": "code",
   "execution_count": 71,
   "metadata": {
    "ExecuteTime": {
     "end_time": "2019-01-20T05:46:46.625981Z",
     "start_time": "2019-01-20T05:46:22.879418Z"
    }
   },
   "outputs": [
    {
     "name": "stdout",
     "output_type": "stream",
     "text": [
      "                      is_null_cnt  is_null_rate\n",
      "authorized_flag                 0      0.000000\n",
      "card_id                         0      0.000000\n",
      "city_id                         0      0.000000\n",
      "category_1                      0      0.000000\n",
      "installments                    0      0.000000\n",
      "category_3                 178159      0.006120\n",
      "merchant_category_id            0      0.000000\n",
      "merchant_id                138481      0.004757\n",
      "month_lag                       0      0.000000\n",
      "purchase_amount                 0      0.000000\n",
      "purchase_date                   0      0.000000\n",
      "category_2                2652864      0.091125\n",
      "state_id                        0      0.000000\n",
      "subsector_id                    0      0.000000\n"
     ]
    }
   ],
   "source": [
    "print(check_null(history))"
   ]
  },
  {
   "cell_type": "code",
   "execution_count": 72,
   "metadata": {
    "ExecuteTime": {
     "end_time": "2019-01-20T05:46:48.283704Z",
     "start_time": "2019-01-20T05:46:46.627974Z"
    }
   },
   "outputs": [
    {
     "name": "stdout",
     "output_type": "stream",
     "text": [
      "                      is_null_cnt  is_null_rate\n",
      "authorized_flag                 0      0.000000\n",
      "card_id                         0      0.000000\n",
      "city_id                         0      0.000000\n",
      "category_1                      0      0.000000\n",
      "installments                    0      0.000000\n",
      "category_3                  55922      0.028488\n",
      "merchant_category_id            0      0.000000\n",
      "merchant_id                 26216      0.013355\n",
      "month_lag                       0      0.000000\n",
      "purchase_amount                 0      0.000000\n",
      "purchase_date                   0      0.000000\n",
      "category_2                 111745      0.056925\n",
      "state_id                        0      0.000000\n",
      "subsector_id                    0      0.000000\n"
     ]
    }
   ],
   "source": [
    "print(check_null(new_history))"
   ]
  },
  {
   "cell_type": "code",
   "execution_count": 73,
   "metadata": {
    "ExecuteTime": {
     "end_time": "2019-01-20T05:46:48.629665Z",
     "start_time": "2019-01-20T05:46:48.284700Z"
    }
   },
   "outputs": [
    {
     "name": "stdout",
     "output_type": "stream",
     "text": [
      "                             is_null_cnt  is_null_rate\n",
      "merchant_id                            0      0.000000\n",
      "merchant_group_id                      0      0.000000\n",
      "merchant_category_id                   0      0.000000\n",
      "subsector_id                           0      0.000000\n",
      "numerical_1                            0      0.000000\n",
      "numerical_2                            0      0.000000\n",
      "category_1                             0      0.000000\n",
      "most_recent_sales_range                0      0.000000\n",
      "most_recent_purchases_range            0      0.000000\n",
      "avg_sales_lag3                        13      0.000039\n",
      "avg_purchases_lag3                     0      0.000000\n",
      "active_months_lag3                     0      0.000000\n",
      "avg_sales_lag6                        13      0.000039\n",
      "avg_purchases_lag6                     0      0.000000\n",
      "active_months_lag6                     0      0.000000\n",
      "avg_sales_lag12                       13      0.000039\n",
      "avg_purchases_lag12                    0      0.000000\n",
      "active_months_lag12                    0      0.000000\n",
      "category_4                             0      0.000000\n",
      "city_id                                0      0.000000\n",
      "state_id                               0      0.000000\n",
      "category_2                         11887      0.035516\n"
     ]
    }
   ],
   "source": [
    "print(check_null(merchant))"
   ]
  },
  {
   "cell_type": "markdown",
   "metadata": {},
   "source": [
    "### history에서 merchant_id가 null인 친구"
   ]
  },
  {
   "cell_type": "code",
   "execution_count": 112,
   "metadata": {
    "ExecuteTime": {
     "end_time": "2019-01-20T06:03:37.196938Z",
     "start_time": "2019-01-20T06:03:26.427692Z"
    }
   },
   "outputs": [],
   "source": [
    "card_id = history.iloc[history.merchant_id.dropna().index].card_id.unique()"
   ]
  },
  {
   "cell_type": "code",
   "execution_count": 117,
   "metadata": {
    "ExecuteTime": {
     "end_time": "2019-01-20T06:04:14.240305Z",
     "start_time": "2019-01-20T06:04:14.096286Z"
    }
   },
   "outputs": [
    {
     "data": {
      "text/plain": [
       "True"
      ]
     },
     "execution_count": 117,
     "metadata": {},
     "output_type": "execute_result"
    }
   ],
   "source": [
    "set(train.card_id.unique()).issubset(set(card_id))"
   ]
  },
  {
   "cell_type": "code",
   "execution_count": 118,
   "metadata": {
    "ExecuteTime": {
     "end_time": "2019-01-20T06:04:21.336934Z",
     "start_time": "2019-01-20T06:04:21.232097Z"
    }
   },
   "outputs": [
    {
     "data": {
      "text/plain": [
       "True"
      ]
     },
     "execution_count": 118,
     "metadata": {},
     "output_type": "execute_result"
    }
   ],
   "source": [
    "set(test.card_id.unique()).issubset(set(card_id))"
   ]
  },
  {
   "cell_type": "markdown",
   "metadata": {},
   "source": [
    "* history에서 merchant_id가 null인 친구를 드랍해도 card_id에 공백은 없음"
   ]
  }
 ],
 "metadata": {
  "kernelspec": {
   "display_name": "Python 3",
   "language": "python",
   "name": "python3"
  },
  "language_info": {
   "codemirror_mode": {
    "name": "ipython",
    "version": 3
   },
   "file_extension": ".py",
   "mimetype": "text/x-python",
   "name": "python",
   "nbconvert_exporter": "python",
   "pygments_lexer": "ipython3",
   "version": "3.6.7"
  },
  "toc": {
   "base_numbering": 1,
   "nav_menu": {},
   "number_sections": true,
   "sideBar": true,
   "skip_h1_title": false,
   "title_cell": "Table of Contents",
   "title_sidebar": "Contents",
   "toc_cell": false,
   "toc_position": {},
   "toc_section_display": true,
   "toc_window_display": false
  }
 },
 "nbformat": 4,
 "nbformat_minor": 2
}
