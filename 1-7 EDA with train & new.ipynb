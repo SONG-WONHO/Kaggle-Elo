{
 "cells": [
  {
   "cell_type": "markdown",
   "metadata": {},
   "source": [
    "# EDA\n",
    "* 각 데이터 시트별로 살펴보겠습니다."
   ]
  },
  {
   "cell_type": "markdown",
   "metadata": {},
   "source": [
    "## 모듈 로드"
   ]
  },
  {
   "cell_type": "code",
   "execution_count": 1,
   "metadata": {
    "ExecuteTime": {
     "end_time": "2019-02-16T00:57:47.772805Z",
     "start_time": "2019-02-16T00:57:46.700266Z"
    }
   },
   "outputs": [],
   "source": [
    "import numpy as np\n",
    "import pandas as pd\n",
    "import matplotlib.pyplot as plt\n",
    "import seaborn as sns\n",
    "import gc"
   ]
  },
  {
   "cell_type": "code",
   "execution_count": 2,
   "metadata": {
    "ExecuteTime": {
     "end_time": "2019-02-16T00:57:47.787994Z",
     "start_time": "2019-02-16T00:57:47.772805Z"
    }
   },
   "outputs": [],
   "source": [
    "import warnings\n",
    "warnings.filterwarnings('ignore')"
   ]
  },
  {
   "cell_type": "code",
   "execution_count": 3,
   "metadata": {
    "ExecuteTime": {
     "end_time": "2019-02-16T00:57:47.794973Z",
     "start_time": "2019-02-16T00:57:47.790983Z"
    }
   },
   "outputs": [],
   "source": [
    "pd.set_option('display.max_columns', 400)\n",
    "pd.set_option('display.max_rows', 800)"
   ]
  },
  {
   "cell_type": "markdown",
   "metadata": {},
   "source": [
    "## 데이터 로드"
   ]
  },
  {
   "cell_type": "code",
   "execution_count": 4,
   "metadata": {
    "ExecuteTime": {
     "end_time": "2019-02-16T00:57:48.051759Z",
     "start_time": "2019-02-16T00:57:48.047769Z"
    }
   },
   "outputs": [],
   "source": [
    "path = './data/'"
   ]
  },
  {
   "cell_type": "code",
   "execution_count": 14,
   "metadata": {
    "ExecuteTime": {
     "end_time": "2019-02-16T00:58:57.383861Z",
     "start_time": "2019-02-16T00:58:04.093831Z"
    },
    "scrolled": true
   },
   "outputs": [],
   "source": [
    "train = pd.read_csv(path + 'train.csv')\n",
    "test = pd.read_csv(path + 'test.csv')\n",
    "history = pd.read_csv(path + 'historical_transactions.csv')\n",
    "new_history = pd.read_csv(path + 'new_merchant_transactions.csv')\n",
    "# merchant = pd.read_csv(path + 'merchants.csv')"
   ]
  },
  {
   "cell_type": "code",
   "execution_count": 15,
   "metadata": {
    "ExecuteTime": {
     "end_time": "2019-02-16T00:58:57.631201Z",
     "start_time": "2019-02-16T00:58:57.390843Z"
    }
   },
   "outputs": [],
   "source": [
    "train = pd.read_csv(path + 'train.csv')"
   ]
  },
  {
   "cell_type": "code",
   "execution_count": 16,
   "metadata": {
    "ExecuteTime": {
     "end_time": "2019-02-16T00:58:57.693038Z",
     "start_time": "2019-02-16T00:58:57.632200Z"
    }
   },
   "outputs": [],
   "source": [
    "train = train.sort_values('target')"
   ]
  },
  {
   "cell_type": "code",
   "execution_count": 17,
   "metadata": {
    "ExecuteTime": {
     "end_time": "2019-02-16T00:58:57.713980Z",
     "start_time": "2019-02-16T00:58:57.697026Z"
    }
   },
   "outputs": [
    {
     "data": {
      "text/html": [
       "<div>\n",
       "<style scoped>\n",
       "    .dataframe tbody tr th:only-of-type {\n",
       "        vertical-align: middle;\n",
       "    }\n",
       "\n",
       "    .dataframe tbody tr th {\n",
       "        vertical-align: top;\n",
       "    }\n",
       "\n",
       "    .dataframe thead th {\n",
       "        text-align: right;\n",
       "    }\n",
       "</style>\n",
       "<table border=\"1\" class=\"dataframe\">\n",
       "  <thead>\n",
       "    <tr style=\"text-align: right;\">\n",
       "      <th></th>\n",
       "      <th>first_active_month</th>\n",
       "      <th>card_id</th>\n",
       "      <th>feature_1</th>\n",
       "      <th>feature_2</th>\n",
       "      <th>feature_3</th>\n",
       "      <th>target</th>\n",
       "    </tr>\n",
       "  </thead>\n",
       "  <tbody>\n",
       "    <tr>\n",
       "      <th>127775</th>\n",
       "      <td>2017-09</td>\n",
       "      <td>C_ID_ac31c6e995</td>\n",
       "      <td>1</td>\n",
       "      <td>1</td>\n",
       "      <td>0</td>\n",
       "      <td>13.602322</td>\n",
       "    </tr>\n",
       "    <tr>\n",
       "      <th>179615</th>\n",
       "      <td>2017-08</td>\n",
       "      <td>C_ID_f804f44163</td>\n",
       "      <td>3</td>\n",
       "      <td>2</td>\n",
       "      <td>1</td>\n",
       "      <td>13.609871</td>\n",
       "    </tr>\n",
       "    <tr>\n",
       "      <th>5252</th>\n",
       "      <td>2017-08</td>\n",
       "      <td>C_ID_1b28c8af6b</td>\n",
       "      <td>3</td>\n",
       "      <td>2</td>\n",
       "      <td>1</td>\n",
       "      <td>14.855160</td>\n",
       "    </tr>\n",
       "    <tr>\n",
       "      <th>101409</th>\n",
       "      <td>2017-01</td>\n",
       "      <td>C_ID_756c5e3732</td>\n",
       "      <td>1</td>\n",
       "      <td>1</td>\n",
       "      <td>0</td>\n",
       "      <td>15.011358</td>\n",
       "    </tr>\n",
       "    <tr>\n",
       "      <th>81505</th>\n",
       "      <td>2017-01</td>\n",
       "      <td>C_ID_a87b483e03</td>\n",
       "      <td>3</td>\n",
       "      <td>2</td>\n",
       "      <td>1</td>\n",
       "      <td>15.171020</td>\n",
       "    </tr>\n",
       "    <tr>\n",
       "      <th>82971</th>\n",
       "      <td>2016-11</td>\n",
       "      <td>C_ID_ecc4e2e188</td>\n",
       "      <td>5</td>\n",
       "      <td>2</td>\n",
       "      <td>1</td>\n",
       "      <td>15.294621</td>\n",
       "    </tr>\n",
       "    <tr>\n",
       "      <th>4459</th>\n",
       "      <td>2017-05</td>\n",
       "      <td>C_ID_700c15a07d</td>\n",
       "      <td>3</td>\n",
       "      <td>2</td>\n",
       "      <td>1</td>\n",
       "      <td>15.606405</td>\n",
       "    </tr>\n",
       "    <tr>\n",
       "      <th>162468</th>\n",
       "      <td>2017-02</td>\n",
       "      <td>C_ID_b0f1d28bd3</td>\n",
       "      <td>5</td>\n",
       "      <td>1</td>\n",
       "      <td>1</td>\n",
       "      <td>15.994455</td>\n",
       "    </tr>\n",
       "    <tr>\n",
       "      <th>4460</th>\n",
       "      <td>2017-01</td>\n",
       "      <td>C_ID_1c8a5b9d44</td>\n",
       "      <td>5</td>\n",
       "      <td>1</td>\n",
       "      <td>1</td>\n",
       "      <td>17.675716</td>\n",
       "    </tr>\n",
       "    <tr>\n",
       "      <th>41325</th>\n",
       "      <td>2017-05</td>\n",
       "      <td>C_ID_a4e600deef</td>\n",
       "      <td>5</td>\n",
       "      <td>1</td>\n",
       "      <td>1</td>\n",
       "      <td>17.965068</td>\n",
       "    </tr>\n",
       "  </tbody>\n",
       "</table>\n",
       "</div>"
      ],
      "text/plain": [
       "       first_active_month          card_id  feature_1  feature_2  feature_3  \\\n",
       "127775            2017-09  C_ID_ac31c6e995          1          1          0   \n",
       "179615            2017-08  C_ID_f804f44163          3          2          1   \n",
       "5252              2017-08  C_ID_1b28c8af6b          3          2          1   \n",
       "101409            2017-01  C_ID_756c5e3732          1          1          0   \n",
       "81505             2017-01  C_ID_a87b483e03          3          2          1   \n",
       "82971             2016-11  C_ID_ecc4e2e188          5          2          1   \n",
       "4459              2017-05  C_ID_700c15a07d          3          2          1   \n",
       "162468            2017-02  C_ID_b0f1d28bd3          5          1          1   \n",
       "4460              2017-01  C_ID_1c8a5b9d44          5          1          1   \n",
       "41325             2017-05  C_ID_a4e600deef          5          1          1   \n",
       "\n",
       "           target  \n",
       "127775  13.602322  \n",
       "179615  13.609871  \n",
       "5252    14.855160  \n",
       "101409  15.011358  \n",
       "81505   15.171020  \n",
       "82971   15.294621  \n",
       "4459    15.606405  \n",
       "162468  15.994455  \n",
       "4460    17.675716  \n",
       "41325   17.965068  "
      ]
     },
     "execution_count": 17,
     "metadata": {},
     "output_type": "execute_result"
    }
   ],
   "source": [
    "train.tail(10)"
   ]
  },
  {
   "cell_type": "markdown",
   "metadata": {},
   "source": [
    "# 1"
   ]
  },
  {
   "cell_type": "code",
   "execution_count": 18,
   "metadata": {
    "ExecuteTime": {
     "end_time": "2019-02-16T00:59:00.675120Z",
     "start_time": "2019-02-16T00:58:57.716972Z"
    }
   },
   "outputs": [],
   "source": [
    "temp = history.card_id.value_counts().to_frame().reset_index()\n",
    "temp.columns = ['card_id', 'card_cnt']"
   ]
  },
  {
   "cell_type": "code",
   "execution_count": 19,
   "metadata": {
    "ExecuteTime": {
     "end_time": "2019-02-16T00:59:01.095997Z",
     "start_time": "2019-02-16T00:59:00.677115Z"
    }
   },
   "outputs": [],
   "source": [
    "temp_new = new_history.card_id.value_counts().to_frame().reset_index()\n",
    "temp_new.columns = ['card_id', 'card_cnt_new']"
   ]
  },
  {
   "cell_type": "code",
   "execution_count": 20,
   "metadata": {
    "ExecuteTime": {
     "end_time": "2019-02-16T00:59:01.896097Z",
     "start_time": "2019-02-16T00:59:01.096993Z"
    }
   },
   "outputs": [],
   "source": [
    "train = train.merge(temp, on='card_id', how='left').merge(temp_new, on='card_id', how='left')\n",
    "test = test.merge(temp, on='card_id', how='left').merge(temp_new, on='card_id', how='left')"
   ]
  },
  {
   "cell_type": "markdown",
   "metadata": {},
   "source": [
    "# 2"
   ]
  },
  {
   "cell_type": "code",
   "execution_count": 21,
   "metadata": {
    "ExecuteTime": {
     "end_time": "2019-02-16T00:59:09.093562Z",
     "start_time": "2019-02-16T00:59:01.896778Z"
    }
   },
   "outputs": [],
   "source": [
    "temp_Y = history[history.authorized_flag == 'Y'].card_id.value_counts().to_frame().reset_index()\n",
    "temp_Y.columns = ['card_id', 'card_cnt_Y']"
   ]
  },
  {
   "cell_type": "code",
   "execution_count": 22,
   "metadata": {
    "ExecuteTime": {
     "end_time": "2019-02-16T00:59:11.769447Z",
     "start_time": "2019-02-16T00:59:09.094560Z"
    }
   },
   "outputs": [],
   "source": [
    "temp_N = history[history.authorized_flag == 'N'].card_id.value_counts().to_frame().reset_index()\n",
    "temp_N.columns = ['card_id', 'card_cnt_N']"
   ]
  },
  {
   "cell_type": "code",
   "execution_count": 23,
   "metadata": {
    "ExecuteTime": {
     "end_time": "2019-02-16T00:59:12.425708Z",
     "start_time": "2019-02-16T00:59:11.770414Z"
    }
   },
   "outputs": [],
   "source": [
    "temp_new_Y = new_history[new_history.authorized_flag == 'Y'].card_id.value_counts().to_frame().reset_index()\n",
    "temp_new_Y.columns = ['card_id', 'card_cnt_new_Y']"
   ]
  },
  {
   "cell_type": "code",
   "execution_count": 24,
   "metadata": {
    "ExecuteTime": {
     "end_time": "2019-02-16T00:59:12.541374Z",
     "start_time": "2019-02-16T00:59:12.426660Z"
    }
   },
   "outputs": [],
   "source": [
    "temp_new_N = new_history[new_history.authorized_flag == 'N'].card_id.value_counts().to_frame().reset_index()\n",
    "temp_new_N.columns = ['card_id', 'card_cnt_new_N']"
   ]
  },
  {
   "cell_type": "code",
   "execution_count": 25,
   "metadata": {
    "ExecuteTime": {
     "end_time": "2019-02-16T00:59:13.837207Z",
     "start_time": "2019-02-16T00:59:12.543349Z"
    }
   },
   "outputs": [],
   "source": [
    "train = train.merge(temp_Y, on='card_id', how='left').merge(temp_N, on='card_id', how='left').merge(temp_new_Y, on='card_id', how='left').merge(temp_new_N, on='card_id', how='left')\n",
    "test = test.merge(temp_Y, on='card_id', how='left').merge(temp_N, on='card_id', how='left').merge(temp_new_Y, on='card_id', how='left').merge(temp_new_N, on='card_id', how='left')"
   ]
  },
  {
   "cell_type": "code",
   "execution_count": 26,
   "metadata": {
    "ExecuteTime": {
     "end_time": "2019-02-16T00:59:13.916985Z",
     "start_time": "2019-02-16T00:59:13.838891Z"
    }
   },
   "outputs": [],
   "source": [
    "train.fillna(0, inplace=True)\n",
    "test.fillna(0, inplace=True)"
   ]
  },
  {
   "cell_type": "code",
   "execution_count": 27,
   "metadata": {
    "ExecuteTime": {
     "end_time": "2019-02-16T00:59:13.967569Z",
     "start_time": "2019-02-16T00:59:13.918635Z"
    }
   },
   "outputs": [],
   "source": [
    "train = train.sort_values('target')[['card_id', 'card_cnt', 'card_cnt_Y', 'card_cnt_N', 'card_cnt_new', 'card_cnt_new_Y', 'card_cnt_new_N', 'target']]\n",
    "test = test[['card_id', 'card_cnt', 'card_cnt_Y', 'card_cnt_N', 'card_cnt_new', 'card_cnt_new_Y', 'card_cnt_new_N']]"
   ]
  },
  {
   "cell_type": "code",
   "execution_count": 28,
   "metadata": {
    "ExecuteTime": {
     "end_time": "2019-02-16T00:59:42.230493Z",
     "start_time": "2019-02-16T00:59:41.758625Z"
    }
   },
   "outputs": [
    {
     "data": {
      "image/png": "[encoded data removed]",
      "text/plain": [
       "<Figure size 1152x576 with 1 Axes>"
      ]
     },
     "metadata": {
      "needs_background": "light"
     },
     "output_type": "display_data"
    }
   ],
   "source": [
    "plt.subplots(figsize=(16,8))\n",
    "plt.plot(train.target.values, train.card_cnt.values, '+')\n",
    "plt.xlabel('target')\n",
    "plt.ylabel('cnt_Y')\n",
    "plt.show();"
   ]
  },
  {
   "cell_type": "code",
   "execution_count": 31,
   "metadata": {
    "ExecuteTime": {
     "end_time": "2019-02-16T01:00:00.862576Z",
     "start_time": "2019-02-16T01:00:00.547419Z"
    }
   },
   "outputs": [
    {
     "data": {
      "image/png": "[encoded data removed]",
      "text/plain": [
       "<Figure size 1152x576 with 1 Axes>"
      ]
     },
     "metadata": {
      "needs_background": "light"
     },
     "output_type": "display_data"
    }
   ],
   "source": [
    "plt.subplots(figsize=(16,8))\n",
    "plt.plot(train.target.values, train.card_cnt_new_Y.values, '+')\n",
    "# plt.ylim\n",
    "plt.xlabel('target')\n",
    "plt.ylabel('new_cnt')\n",
    "plt.show();"
   ]
  },
  {
   "cell_type": "code",
   "execution_count": 35,
   "metadata": {
    "ExecuteTime": {
     "end_time": "2019-02-16T01:01:30.319591Z",
     "start_time": "2019-02-16T01:01:30.297618Z"
    }
   },
   "outputs": [
    {
     "data": {
      "text/plain": [
       "(167043, 8)"
      ]
     },
     "execution_count": 35,
     "metadata": {},
     "output_type": "execute_result"
    }
   ],
   "source": [
    "train[train.card_cnt_new <= 10].shape"
   ]
  },
  {
   "cell_type": "code",
   "execution_count": 151,
   "metadata": {
    "ExecuteTime": {
     "end_time": "2019-02-15T18:53:13.791998Z",
     "start_time": "2019-02-15T18:53:13.776089Z"
    }
   },
   "outputs": [
    {
     "data": {
      "text/plain": [
       "(109092, 8)"
      ]
     },
     "execution_count": 151,
     "metadata": {},
     "output_type": "execute_result"
    }
   ],
   "source": [
    "train[train.card_cnt_new <5].shape"
   ]
  },
  {
   "cell_type": "code",
   "execution_count": 155,
   "metadata": {
    "ExecuteTime": {
     "end_time": "2019-02-15T18:55:14.481780Z",
     "start_time": "2019-02-15T18:55:14.461836Z"
    }
   },
   "outputs": [
    {
     "data": {
      "text/plain": [
       "(115158, 8)"
      ]
     },
     "execution_count": 155,
     "metadata": {},
     "output_type": "execute_result"
    }
   ],
   "source": [
    "train[np.abs(train.target) < 1].shape"
   ]
  },
  {
   "cell_type": "code",
   "execution_count": 161,
   "metadata": {
    "ExecuteTime": {
     "end_time": "2019-02-15T18:58:00.323369Z",
     "start_time": "2019-02-15T18:58:00.316374Z"
    }
   },
   "outputs": [
    {
     "data": {
      "text/plain": [
       "3.870558916131629"
      ]
     },
     "execution_count": 161,
     "metadata": {},
     "output_type": "execute_result"
    }
   ],
   "source": [
    "np.mean(train.target.values ** 2) ** 0.5"
   ]
  },
  {
   "cell_type": "code",
   "execution_count": 167,
   "metadata": {
    "ExecuteTime": {
     "end_time": "2019-02-15T18:58:48.681314Z",
     "start_time": "2019-02-15T18:58:48.664392Z"
    }
   },
   "outputs": [
    {
     "data": {
      "text/plain": [
       "0.5216419364758058"
      ]
     },
     "execution_count": 167,
     "metadata": {},
     "output_type": "execute_result"
    }
   ],
   "source": [
    "np.mean(train[np.abs(train.target) <= 1].target.values ** 2) ** 0.5"
   ]
  },
  {
   "cell_type": "code",
   "execution_count": null,
   "metadata": {},
   "outputs": [],
   "source": []
  }
 ],
 "metadata": {
  "kernelspec": {
   "display_name": "Python 3",
   "language": "python",
   "name": "python3"
  },
  "language_info": {
   "codemirror_mode": {
    "name": "ipython",
    "version": 3
   },
   "file_extension": ".py",
   "mimetype": "text/x-python",
   "name": "python",
   "nbconvert_exporter": "python",
   "pygments_lexer": "ipython3",
   "version": "3.6.7"
  },
  "toc": {
   "base_numbering": 1,
   "nav_menu": {},
   "number_sections": true,
   "sideBar": true,
   "skip_h1_title": false,
   "title_cell": "Table of Contents",
   "title_sidebar": "Contents",
   "toc_cell": false,
   "toc_position": {},
   "toc_section_display": true,
   "toc_window_display": false
  }
 },
 "nbformat": 4,
 "nbformat_minor": 2
}
