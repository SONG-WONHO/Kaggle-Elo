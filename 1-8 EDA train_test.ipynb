{
 "cells": [
  {
   "cell_type": "markdown",
   "metadata": {},
   "source": [
    "# EDA\n",
    "* 각 데이터 시트별로 살펴보겠습니다."
   ]
  },
  {
   "cell_type": "markdown",
   "metadata": {},
   "source": [
    "## 모듈 로드"
   ]
  },
  {
   "cell_type": "code",
   "execution_count": 1,
   "metadata": {
    "ExecuteTime": {
     "end_time": "2019-02-16T11:24:25.084394Z",
     "start_time": "2019-02-16T11:24:24.032758Z"
    }
   },
   "outputs": [],
   "source": [
    "import numpy as np\n",
    "import pandas as pd\n",
    "import matplotlib.pyplot as plt\n",
    "import seaborn as sns\n",
    "import gc"
   ]
  },
  {
   "cell_type": "code",
   "execution_count": 2,
   "metadata": {
    "ExecuteTime": {
     "end_time": "2019-02-16T11:24:25.097412Z",
     "start_time": "2019-02-16T11:24:25.084394Z"
    }
   },
   "outputs": [],
   "source": [
    "import warnings\n",
    "warnings.filterwarnings('ignore')"
   ]
  },
  {
   "cell_type": "code",
   "execution_count": 3,
   "metadata": {
    "ExecuteTime": {
     "end_time": "2019-02-16T11:24:25.102398Z",
     "start_time": "2019-02-16T11:24:25.098409Z"
    }
   },
   "outputs": [],
   "source": [
    "pd.set_option('display.max_columns', 400)\n",
    "pd.set_option('display.max_rows', 400)"
   ]
  },
  {
   "cell_type": "markdown",
   "metadata": {},
   "source": [
    "## 데이터 로드"
   ]
  },
  {
   "cell_type": "code",
   "execution_count": 4,
   "metadata": {
    "ExecuteTime": {
     "end_time": "2019-02-16T11:24:26.258512Z",
     "start_time": "2019-02-16T11:24:26.254507Z"
    }
   },
   "outputs": [],
   "source": [
    "path = './data/'"
   ]
  },
  {
   "cell_type": "code",
   "execution_count": 142,
   "metadata": {
    "ExecuteTime": {
     "end_time": "2019-02-16T12:00:18.142995Z",
     "start_time": "2019-02-16T12:00:17.744026Z"
    }
   },
   "outputs": [],
   "source": [
    "data = pd.read_csv('./data_feature_engineering/train_test_v5.csv')"
   ]
  },
  {
   "cell_type": "code",
   "execution_count": 143,
   "metadata": {
    "ExecuteTime": {
     "end_time": "2019-02-16T12:00:18.222771Z",
     "start_time": "2019-02-16T12:00:18.145003Z"
    }
   },
   "outputs": [
    {
     "name": "stdout",
     "output_type": "stream",
     "text": [
      "<class 'pandas.core.frame.DataFrame'>\n",
      "RangeIndex: 325540 entries, 0 to 325539\n",
      "Data columns (total 11 columns):\n",
      "card_id                                 325540 non-null object\n",
      "feature_1                               325540 non-null int64\n",
      "feature_2                               325540 non-null int64\n",
      "feature_3                               325540 non-null int64\n",
      "first_active_month                      325540 non-null int64\n",
      "outliers                                201917 non-null float64\n",
      "target                                  201917 non-null float64\n",
      "first_active                            325540 non-null object\n",
      "first_active_year                       325540 non-null int64\n",
      "first_active_elapsed_time_from_trade    325540 non-null int64\n",
      "first_active_total_day                  325540 non-null float64\n",
      "dtypes: float64(3), int64(6), object(2)\n",
      "memory usage: 27.3+ MB\n"
     ]
    }
   ],
   "source": [
    "data.info()"
   ]
  },
  {
   "cell_type": "code",
   "execution_count": 144,
   "metadata": {
    "ExecuteTime": {
     "end_time": "2019-02-16T12:00:18.257678Z",
     "start_time": "2019-02-16T12:00:18.223770Z"
    }
   },
   "outputs": [],
   "source": [
    "train = data[data.target.notnull()]\n",
    "test = data[data.target.isnull()]"
   ]
  },
  {
   "cell_type": "code",
   "execution_count": 145,
   "metadata": {
    "ExecuteTime": {
     "end_time": "2019-02-16T12:00:20.382828Z",
     "start_time": "2019-02-16T12:00:20.367873Z"
    }
   },
   "outputs": [
    {
     "data": {
      "text/html": [
       "<div>\n",
       "<style scoped>\n",
       "    .dataframe tbody tr th:only-of-type {\n",
       "        vertical-align: middle;\n",
       "    }\n",
       "\n",
       "    .dataframe tbody tr th {\n",
       "        vertical-align: top;\n",
       "    }\n",
       "\n",
       "    .dataframe thead th {\n",
       "        text-align: right;\n",
       "    }\n",
       "</style>\n",
       "<table border=\"1\" class=\"dataframe\">\n",
       "  <thead>\n",
       "    <tr style=\"text-align: right;\">\n",
       "      <th></th>\n",
       "      <th>card_id</th>\n",
       "      <th>feature_1</th>\n",
       "      <th>feature_2</th>\n",
       "      <th>feature_3</th>\n",
       "      <th>first_active_month</th>\n",
       "      <th>outliers</th>\n",
       "      <th>target</th>\n",
       "      <th>first_active</th>\n",
       "      <th>first_active_year</th>\n",
       "      <th>first_active_elapsed_time_from_trade</th>\n",
       "      <th>first_active_total_day</th>\n",
       "    </tr>\n",
       "  </thead>\n",
       "  <tbody>\n",
       "    <tr>\n",
       "      <th>0</th>\n",
       "      <td>C_ID_92a2005557</td>\n",
       "      <td>5</td>\n",
       "      <td>2</td>\n",
       "      <td>1</td>\n",
       "      <td>6</td>\n",
       "      <td>0.0</td>\n",
       "      <td>-0.820283</td>\n",
       "      <td>2017-06-01</td>\n",
       "      <td>2017</td>\n",
       "      <td>333</td>\n",
       "      <td>17318.0</td>\n",
       "    </tr>\n",
       "    <tr>\n",
       "      <th>1</th>\n",
       "      <td>C_ID_3d0044924f</td>\n",
       "      <td>4</td>\n",
       "      <td>1</td>\n",
       "      <td>0</td>\n",
       "      <td>1</td>\n",
       "      <td>0.0</td>\n",
       "      <td>0.392913</td>\n",
       "      <td>2017-01-01</td>\n",
       "      <td>2017</td>\n",
       "      <td>484</td>\n",
       "      <td>17167.0</td>\n",
       "    </tr>\n",
       "    <tr>\n",
       "      <th>2</th>\n",
       "      <td>C_ID_d639edf6cd</td>\n",
       "      <td>2</td>\n",
       "      <td>2</td>\n",
       "      <td>0</td>\n",
       "      <td>8</td>\n",
       "      <td>0.0</td>\n",
       "      <td>0.688056</td>\n",
       "      <td>2016-08-01</td>\n",
       "      <td>2016</td>\n",
       "      <td>637</td>\n",
       "      <td>17014.0</td>\n",
       "    </tr>\n",
       "    <tr>\n",
       "      <th>3</th>\n",
       "      <td>C_ID_186d6a6901</td>\n",
       "      <td>4</td>\n",
       "      <td>3</td>\n",
       "      <td>0</td>\n",
       "      <td>9</td>\n",
       "      <td>0.0</td>\n",
       "      <td>0.142495</td>\n",
       "      <td>2017-09-01</td>\n",
       "      <td>2017</td>\n",
       "      <td>241</td>\n",
       "      <td>17410.0</td>\n",
       "    </tr>\n",
       "    <tr>\n",
       "      <th>4</th>\n",
       "      <td>C_ID_cdbd2c0db2</td>\n",
       "      <td>1</td>\n",
       "      <td>3</td>\n",
       "      <td>0</td>\n",
       "      <td>11</td>\n",
       "      <td>0.0</td>\n",
       "      <td>-0.159749</td>\n",
       "      <td>2017-11-01</td>\n",
       "      <td>2017</td>\n",
       "      <td>180</td>\n",
       "      <td>17471.0</td>\n",
       "    </tr>\n",
       "  </tbody>\n",
       "</table>\n",
       "</div>"
      ],
      "text/plain": [
       "           card_id  feature_1  feature_2  feature_3  first_active_month  \\\n",
       "0  C_ID_92a2005557          5          2          1                   6   \n",
       "1  C_ID_3d0044924f          4          1          0                   1   \n",
       "2  C_ID_d639edf6cd          2          2          0                   8   \n",
       "3  C_ID_186d6a6901          4          3          0                   9   \n",
       "4  C_ID_cdbd2c0db2          1          3          0                  11   \n",
       "\n",
       "   outliers    target first_active  first_active_year  \\\n",
       "0       0.0 -0.820283   2017-06-01               2017   \n",
       "1       0.0  0.392913   2017-01-01               2017   \n",
       "2       0.0  0.688056   2016-08-01               2016   \n",
       "3       0.0  0.142495   2017-09-01               2017   \n",
       "4       0.0 -0.159749   2017-11-01               2017   \n",
       "\n",
       "   first_active_elapsed_time_from_trade  first_active_total_day  \n",
       "0                                   333                 17318.0  \n",
       "1                                   484                 17167.0  \n",
       "2                                   637                 17014.0  \n",
       "3                                   241                 17410.0  \n",
       "4                                   180                 17471.0  "
      ]
     },
     "execution_count": 145,
     "metadata": {},
     "output_type": "execute_result"
    }
   ],
   "source": [
    "train.head()"
   ]
  },
  {
   "cell_type": "code",
   "execution_count": 112,
   "metadata": {
    "ExecuteTime": {
     "end_time": "2019-02-16T11:56:18.869672Z",
     "start_time": "2019-02-16T11:56:18.712137Z"
    }
   },
   "outputs": [
    {
     "data": {
      "image/png": "[encoded data removed]",
      "text/plain": [
       "<Figure size 864x288 with 1 Axes>"
      ]
     },
     "metadata": {
      "needs_background": "light"
     },
     "output_type": "display_data"
    }
   ],
   "source": [
    "f, ax = plt.subplots(figsize=(12, 4))\n",
    "sns.countplot(x='feature_1', hue='outliers',data=train)\n",
    "plt.show()"
   ]
  },
  {
   "cell_type": "code",
   "execution_count": 113,
   "metadata": {
    "ExecuteTime": {
     "end_time": "2019-02-16T11:56:22.241141Z",
     "start_time": "2019-02-16T11:56:19.262149Z"
    }
   },
   "outputs": [
    {
     "data": {
      "text/plain": [
       "<matplotlib.axes._subplots.AxesSubplot at 0x23605c95780>"
      ]
     },
     "execution_count": 113,
     "metadata": {},
     "output_type": "execute_result"
    },
    {
     "data": {
      "image/png": "[encoded data removed]",
      "text/plain": [
       "<Figure size 864x288 with 1 Axes>"
      ]
     },
     "metadata": {
      "needs_background": "light"
     },
     "output_type": "display_data"
    }
   ],
   "source": [
    "f, ax = plt.subplots(figsize=(12, 4))\n",
    "sns.stripplot(train.feature_min, train.target, size=1.5)"
   ]
  },
  {
   "cell_type": "code",
   "execution_count": 114,
   "metadata": {
    "ExecuteTime": {
     "end_time": "2019-02-16T11:56:22.261129Z",
     "start_time": "2019-02-16T11:56:22.243170Z"
    }
   },
   "outputs": [
    {
     "data": {
      "text/plain": [
       "1    0.619663\n",
       "2    0.619364\n",
       "3    0.623420\n",
       "Name: feature_2, dtype: float64"
      ]
     },
     "execution_count": 114,
     "metadata": {},
     "output_type": "execute_result"
    }
   ],
   "source": [
    "feature = 'feature_2'\n",
    "train[feature].value_counts() / (test[feature].value_counts() + train[feature].value_counts())"
   ]
  },
  {
   "cell_type": "code",
   "execution_count": 115,
   "metadata": {
    "ExecuteTime": {
     "end_time": "2019-02-16T11:56:22.276054Z",
     "start_time": "2019-02-16T11:56:22.262085Z"
    }
   },
   "outputs": [
    {
     "data": {
      "text/plain": [
       "3    0.378039\n",
       "2    0.379427\n",
       "5    0.381433\n",
       "4    0.382779\n",
       "1    0.380908\n",
       "Name: feature_1, dtype: float64"
      ]
     },
     "execution_count": 115,
     "metadata": {},
     "output_type": "execute_result"
    }
   ],
   "source": [
    "test.feature_1.value_counts() / (test.feature_1.value_counts() + train.feature_1.value_counts())"
   ]
  },
  {
   "cell_type": "markdown",
   "metadata": {},
   "source": [
    "## model"
   ]
  },
  {
   "cell_type": "code",
   "execution_count": 131,
   "metadata": {
    "ExecuteTime": {
     "end_time": "2019-02-16T11:59:08.770036Z",
     "start_time": "2019-02-16T11:59:08.766860Z"
    }
   },
   "outputs": [],
   "source": [
    "import lightgbm as lgb\n",
    "from sklearn.metrics import mean_squared_error\n",
    "from sklearn.metrics import log_loss\n",
    "from sklearn.model_selection import KFold, StratifiedKFold"
   ]
  },
  {
   "cell_type": "code",
   "execution_count": 132,
   "metadata": {
    "ExecuteTime": {
     "end_time": "2019-02-16T11:59:08.953825Z",
     "start_time": "2019-02-16T11:59:08.949870Z"
    }
   },
   "outputs": [],
   "source": [
    "FEATS_EXCLUDED = ['first_active', 'card_id', 'target', 'outliers']"
   ]
  },
  {
   "cell_type": "code",
   "execution_count": 133,
   "metadata": {
    "ExecuteTime": {
     "end_time": "2019-02-16T11:59:09.421734Z",
     "start_time": "2019-02-16T11:59:09.414786Z"
    }
   },
   "outputs": [],
   "source": [
    "param = {'num_leaves': 31,\n",
    "         'min_data_in_leaf': 30, \n",
    "         'objective':'regression',\n",
    "         'max_depth': -1,\n",
    "         'learning_rate': 0.01,\n",
    "         \"min_child_samples\": 20,\n",
    "         \"boosting\": \"gbdt\",\n",
    "         \"feature_fraction\": 0.9,\n",
    "         \"bagging_freq\": 1,\n",
    "         \"bagging_fraction\": 0.9 ,\n",
    "         \"bagging_seed\": 11,\n",
    "         \"metric\": 'rmse',\n",
    "         \"lambda_l1\": 0.1,\n",
    "         \"verbosity\": -1,\n",
    "         \"nthread\": 4,\n",
    "         \"random_state\": 4590}"
   ]
  },
  {
   "cell_type": "code",
   "execution_count": 134,
   "metadata": {
    "ExecuteTime": {
     "end_time": "2019-02-16T11:59:27.101028Z",
     "start_time": "2019-02-16T11:59:09.930215Z"
    }
   },
   "outputs": [
    {
     "name": "stdout",
     "output_type": "stream",
     "text": [
      "fold n°0\n",
      "Training until validation scores don't improve for 100 rounds.\n",
      "[100]\ttraining's rmse: 3.83805\tvalid_1's rmse: 3.8458\n",
      "[200]\ttraining's rmse: 3.83542\tvalid_1's rmse: 3.84603\n",
      "Early stopping, best iteration is:\n",
      "[135]\ttraining's rmse: 3.83677\tvalid_1's rmse: 3.84559\n",
      "fold n°1\n",
      "Training until validation scores don't improve for 100 rounds.\n",
      "[100]\ttraining's rmse: 3.83807\tvalid_1's rmse: 3.84598\n",
      "[200]\ttraining's rmse: 3.83563\tvalid_1's rmse: 3.84567\n",
      "Early stopping, best iteration is:\n",
      "[148]\ttraining's rmse: 3.83652\tvalid_1's rmse: 3.84553\n",
      "fold n°2\n",
      "Training until validation scores don't improve for 100 rounds.\n",
      "[100]\ttraining's rmse: 3.84099\tvalid_1's rmse: 3.83429\n",
      "[200]\ttraining's rmse: 3.83843\tvalid_1's rmse: 3.8343\n",
      "Early stopping, best iteration is:\n",
      "[134]\ttraining's rmse: 3.83976\tvalid_1's rmse: 3.83402\n",
      "fold n°3\n",
      "Training until validation scores don't improve for 100 rounds.\n",
      "[100]\ttraining's rmse: 3.83873\tvalid_1's rmse: 3.8435\n",
      "[200]\ttraining's rmse: 3.83619\tvalid_1's rmse: 3.84336\n",
      "Early stopping, best iteration is:\n",
      "[144]\ttraining's rmse: 3.83724\tvalid_1's rmse: 3.84316\n",
      "fold n°4\n",
      "Training until validation scores don't improve for 100 rounds.\n",
      "[100]\ttraining's rmse: 3.83899\tvalid_1's rmse: 3.84256\n",
      "[200]\ttraining's rmse: 3.83656\tvalid_1's rmse: 3.84174\n",
      "[300]\ttraining's rmse: 3.83568\tvalid_1's rmse: 3.84209\n",
      "Early stopping, best iteration is:\n",
      "[210]\ttraining's rmse: 3.83643\tvalid_1's rmse: 3.84173\n",
      "CV score: 3.84201 \n"
     ]
    }
   ],
   "source": [
    "folds = StratifiedKFold(n_splits=5, shuffle=True, random_state=15)\n",
    "\n",
    "oof_lgb = np.zeros(len(train))\n",
    "predictions_lgb = np.zeros(len(test))\n",
    "feature_importance = pd.DataFrame()\n",
    "\n",
    "train_columns = [f for f in train.columns if f not in FEATS_EXCLUDED]\n",
    "\n",
    "for fold_, (trn_idx, val_idx) in enumerate(folds.split(train, train['outliers'].values)):    \n",
    "    print(\"fold n°{}\".format(fold_))\n",
    "    trn_data = lgb.Dataset(train.iloc[trn_idx][train_columns], label=train.iloc[trn_idx]['target'])\n",
    "    val_data = lgb.Dataset(train.iloc[val_idx][train_columns], label=train.iloc[val_idx]['target'])\n",
    "\n",
    "    num_round = 10000\n",
    "    clf = lgb.train(param, trn_data, num_round, valid_sets = [trn_data, val_data], verbose_eval=100, early_stopping_rounds = 100)\n",
    "    oof_lgb[val_idx] = clf.predict(train.iloc[val_idx][train_columns], num_iteration=clf.best_iteration)\n",
    "    \n",
    "    predictions_lgb += clf.predict(test[train_columns], num_iteration=clf.best_iteration) / folds.n_splits\n",
    "    \n",
    "    fold_importance = pd.DataFrame()\n",
    "    fold_importance[\"Feature\"] = train_columns\n",
    "    fold_importance[\"importance\"] = clf.feature_importance()\n",
    "    fold_importance[\"fold\"] = fold_ + 1\n",
    "    feature_importance = pd.concat([feature_importance, fold_importance], axis=0)\n",
    "    \n",
    "print(\"CV score: {:<8.5f}\".format(mean_squared_error(train.target.values, oof_lgb)**0.5))"
   ]
  },
  {
   "cell_type": "code",
   "execution_count": 135,
   "metadata": {
    "ExecuteTime": {
     "end_time": "2019-02-16T11:59:37.642157Z",
     "start_time": "2019-02-16T11:59:37.639167Z"
    }
   },
   "outputs": [],
   "source": [
    "from sklearn.ensemble import RandomForestRegressor\n",
    "from sklearn.linear_model import Lasso"
   ]
  },
  {
   "cell_type": "code",
   "execution_count": 136,
   "metadata": {
    "ExecuteTime": {
     "end_time": "2019-02-16T11:59:37.929953Z",
     "start_time": "2019-02-16T11:59:37.925998Z"
    }
   },
   "outputs": [],
   "source": [
    "rf = RandomForestRegressor(n_estimators=100, max_depth=10, n_jobs=-1)\n",
    "rf = Lasso(alpha=0.01)"
   ]
  },
  {
   "cell_type": "code",
   "execution_count": 139,
   "metadata": {
    "ExecuteTime": {
     "end_time": "2019-02-16T12:00:00.284950Z",
     "start_time": "2019-02-16T11:59:56.315276Z"
    }
   },
   "outputs": [
    {
     "name": "stdout",
     "output_type": "stream",
     "text": [
      "fold n°0\n",
      "CV score: 3.84837 \n",
      "fold n°1\n",
      "CV score: 3.84874 \n",
      "fold n°2\n",
      "CV score: 3.83524 \n",
      "fold n°3\n",
      "CV score: 3.84569 \n",
      "fold n°4\n",
      "CV score: 3.84478 \n",
      "CV score: 3.84457 \n"
     ]
    }
   ],
   "source": [
    "folds = StratifiedKFold(n_splits=5, shuffle=True, random_state=15)\n",
    "\n",
    "oof_lgb = np.zeros(len(train))\n",
    "feature_importance = pd.DataFrame()\n",
    "\n",
    "train_columns = [f for f in train.columns if f not in FEATS_EXCLUDED]\n",
    "\n",
    "for fold_, (trn_idx, val_idx) in enumerate(folds.split(train, train['outliers'].values)):    \n",
    "    print(\"fold n°{}\".format(fold_))\n",
    "    x_train = train.iloc[trn_idx][train_columns]\n",
    "    y_train = train.iloc[trn_idx]['target']\n",
    "    \n",
    "    x_val = train.iloc[val_idx][train_columns]\n",
    "    y_val = train.iloc[val_idx]['target']\n",
    "\n",
    "    rf.fit(x_train, y_train)\n",
    "    oof_lgb[val_idx] = rf.predict(x_val)\n",
    "    print(\"CV score: {:<8.5f}\".format(mean_squared_error(y_val.values, oof_lgb[val_idx])**0.5))\n",
    "#     fold_importance = pd.DataFrame()\n",
    "#     fold_importance[\"Feature\"] = train_columns\n",
    "#     fold_importance[\"importance\"] = rf.feature_importance()\n",
    "#     fold_importance[\"fold\"] = fold_ + 1\n",
    "#     feature_importance = pd.concat([feature_importance, fold_importance], axis=0)\n",
    "    \n",
    "print(\"CV score: {:<8.5f}\".format(mean_squared_error(train.target.values, oof_lgb)**0.5))"
   ]
  },
  {
   "cell_type": "code",
   "execution_count": 140,
   "metadata": {
    "ExecuteTime": {
     "end_time": "2019-02-16T12:00:07.350083Z",
     "start_time": "2019-02-16T12:00:07.345126Z"
    }
   },
   "outputs": [
    {
     "data": {
      "text/plain": [
       "array([-0.00000000e+00, -0.00000000e+00,  4.71551532e-15,  2.55186106e-02,\n",
       "       -0.00000000e+00,  7.37424197e-03, -1.87613626e-03,  9.12473545e-03,\n",
       "       -5.81152568e-04,  1.01512887e-16, -0.00000000e+00, -0.00000000e+00,\n",
       "        0.00000000e+00, -0.00000000e+00, -0.00000000e+00, -0.00000000e+00,\n",
       "        0.00000000e+00,  0.00000000e+00, -2.67413096e-02,  8.26460977e-03,\n",
       "       -0.00000000e+00, -0.00000000e+00, -0.00000000e+00, -0.00000000e+00,\n",
       "       -0.00000000e+00, -0.00000000e+00])"
      ]
     },
     "execution_count": 140,
     "metadata": {},
     "output_type": "execute_result"
    }
   ],
   "source": [
    "rf.coef_"
   ]
  },
  {
   "cell_type": "code",
   "execution_count": null,
   "metadata": {},
   "outputs": [],
   "source": []
  }
 ],
 "metadata": {
  "kernelspec": {
   "display_name": "Python 3",
   "language": "python",
   "name": "python3"
  },
  "language_info": {
   "codemirror_mode": {
    "name": "ipython",
    "version": 3
   },
   "file_extension": ".py",
   "mimetype": "text/x-python",
   "name": "python",
   "nbconvert_exporter": "python",
   "pygments_lexer": "ipython3",
   "version": "3.6.7"
  },
  "toc": {
   "base_numbering": 1,
   "nav_menu": {},
   "number_sections": true,
   "sideBar": true,
   "skip_h1_title": false,
   "title_cell": "Table of Contents",
   "title_sidebar": "Contents",
   "toc_cell": false,
   "toc_position": {},
   "toc_section_display": true,
   "toc_window_display": false
  }
 },
 "nbformat": 4,
 "nbformat_minor": 2
}
