{
 "cells": [
  {
   "cell_type": "markdown",
   "metadata": {},
   "source": [
    "# Base Model 2\n",
    "* FE V1 이후 기본적인 스코어 확인"
   ]
  },
  {
   "cell_type": "markdown",
   "metadata": {},
   "source": [
    "## 모듈 임포트"
   ]
  },
  {
   "cell_type": "code",
   "execution_count": 24,
   "metadata": {
    "ExecuteTime": {
     "end_time": "2019-01-24T11:04:21.981973Z",
     "start_time": "2019-01-24T11:04:21.978948Z"
    }
   },
   "outputs": [],
   "source": [
    "import numpy as np\n",
    "import pandas as pd\n",
    "import matplotlib.pyplot as plt\n",
    "import seaborn as sns\n",
    "import time"
   ]
  },
  {
   "cell_type": "code",
   "execution_count": 25,
   "metadata": {
    "ExecuteTime": {
     "end_time": "2019-01-24T11:04:22.145838Z",
     "start_time": "2019-01-24T11:04:22.141881Z"
    }
   },
   "outputs": [],
   "source": [
    "import warnings\n",
    "warnings.filterwarnings('ignore')"
   ]
  },
  {
   "cell_type": "markdown",
   "metadata": {},
   "source": [
    "## 데이터 로드"
   ]
  },
  {
   "cell_type": "code",
   "execution_count": 26,
   "metadata": {
    "ExecuteTime": {
     "end_time": "2019-01-24T11:04:22.436175Z",
     "start_time": "2019-01-24T11:04:22.431189Z"
    }
   },
   "outputs": [],
   "source": [
    "path = './data/'"
   ]
  },
  {
   "cell_type": "code",
   "execution_count": 31,
   "metadata": {
    "ExecuteTime": {
     "end_time": "2019-01-24T11:04:59.962561Z",
     "start_time": "2019-01-24T11:04:57.733525Z"
    }
   },
   "outputs": [],
   "source": [
    "train = pd.read_csv(path + 'new_train_v1.csv')\n",
    "test = pd.read_csv(path + 'new_test_v1.csv')\n",
    "# history = pd.read_csv(path + 'historical_transactions.csv')\n",
    "# new_history = pd.read_csv(path + 'new_merchant_transactions.csv')\n",
    "# merchant = pd.read_csv(path + 'merchants.csv')"
   ]
  },
  {
   "cell_type": "markdown",
   "metadata": {},
   "source": [
    "## 선처리"
   ]
  },
  {
   "cell_type": "code",
   "execution_count": 32,
   "metadata": {
    "ExecuteTime": {
     "end_time": "2019-01-24T11:05:00.087250Z",
     "start_time": "2019-01-24T11:04:59.964556Z"
    }
   },
   "outputs": [],
   "source": [
    "for df in [train, test]:\n",
    "    df.set_index(\"card_id\", inplace=True)\n",
    "    df.drop(['first_active_month'], axis = 1, inplace=True)"
   ]
  },
  {
   "cell_type": "code",
   "execution_count": 29,
   "metadata": {
    "ExecuteTime": {
     "end_time": "2019-01-24T11:04:41.025117Z",
     "start_time": "2019-01-24T11:04:40.906471Z"
    }
   },
   "outputs": [
    {
     "data": {
      "text/plain": [
       "0    199710\n",
       "1      2207\n",
       "Name: outliers, dtype: int64"
      ]
     },
     "execution_count": 29,
     "metadata": {},
     "output_type": "execute_result"
    }
   ],
   "source": [
    "train['outliers'] = 0\n",
    "train.loc[train['target'] < -30, 'outliers'] = 1\n",
    "train['outliers'].value_counts()"
   ]
  },
  {
   "cell_type": "code",
   "execution_count": 39,
   "metadata": {
    "ExecuteTime": {
     "end_time": "2019-01-24T11:05:58.562556Z",
     "start_time": "2019-01-24T11:05:58.555575Z"
    }
   },
   "outputs": [
    {
     "data": {
      "text/plain": [
       "Index(['C_ID_8186f3fcc1', 'C_ID_b9379a30ea', 'C_ID_e9120f535c',\n",
       "       'C_ID_65715cb80d', 'C_ID_ae77d244b6', 'C_ID_c4262c902e',\n",
       "       'C_ID_6a2c823e5f', 'C_ID_98e1cb10b6', 'C_ID_eb8175721a',\n",
       "       'C_ID_a2580006bf',\n",
       "       ...\n",
       "       'C_ID_85cd7bbd0c', 'C_ID_22d40c59ff', 'C_ID_f28fb61248',\n",
       "       'C_ID_9789d0a73d', 'C_ID_d8920df04d', 'C_ID_e34ea29439',\n",
       "       'C_ID_081082a629', 'C_ID_6f61bed11c', 'C_ID_d6c86b18cd',\n",
       "       'C_ID_09250aa6bf'],\n",
       "      dtype='object', name='card_id', length=2207)"
      ]
     },
     "execution_count": 39,
     "metadata": {},
     "output_type": "execute_result"
    }
   ],
   "source": [
    "train.index[train.target < -20]"
   ]
  },
  {
   "cell_type": "code",
   "execution_count": 41,
   "metadata": {
    "ExecuteTime": {
     "end_time": "2019-01-24T11:06:14.853929Z",
     "start_time": "2019-01-24T11:06:14.762848Z"
    }
   },
   "outputs": [],
   "source": [
    "train = train.drop(train.index[train.target < -20])"
   ]
  },
  {
   "cell_type": "markdown",
   "metadata": {},
   "source": [
    "## 모델 모듈 임포트"
   ]
  },
  {
   "cell_type": "code",
   "execution_count": 42,
   "metadata": {
    "ExecuteTime": {
     "end_time": "2019-01-24T11:06:15.659651Z",
     "start_time": "2019-01-24T11:06:15.655506Z"
    }
   },
   "outputs": [],
   "source": [
    "from sklearn.tree import DecisionTreeRegressor\n",
    "from sklearn.ensemble import RandomForestRegressor\n",
    "from sklearn.ensemble import AdaBoostRegressor\n",
    "from sklearn.ensemble import ExtraTreesRegressor\n",
    "from sklearn.ensemble import GradientBoostingRegressor\n",
    "from sklearn.ensemble import BaggingRegressor\n",
    "from lightgbm import LGBMRegressor\n",
    "from catboost import CatBoostRegressor\n",
    "from sklearn.linear_model import LinearRegression\n",
    "\n",
    "from sklearn.metrics import mean_squared_error as mse\n",
    "\n",
    "from sklearn.model_selection import GridSearchCV\n",
    "from sklearn.model_selection import KFold"
   ]
  },
  {
   "cell_type": "code",
   "execution_count": 43,
   "metadata": {
    "ExecuteTime": {
     "end_time": "2019-01-24T11:06:16.878460Z",
     "start_time": "2019-01-24T11:06:16.874470Z"
    }
   },
   "outputs": [],
   "source": [
    "lgb = LGBMRegressor(boosting_type='gbdt', class_weight=None, colsample_bytree=1.0,\n",
    "                    importance_type='split', learning_rate=0.1, max_depth=8,\n",
    "                    min_child_samples=20, min_child_weight=0.001,\n",
    "                    min_split_gain=0.0, n_estimators=10, n_jobs=-1, num_leaves=31,\n",
    "                    random_state=0)"
   ]
  },
  {
   "cell_type": "code",
   "execution_count": 45,
   "metadata": {
    "ExecuteTime": {
     "end_time": "2019-01-24T11:06:19.994103Z",
     "start_time": "2019-01-24T11:06:19.991078Z"
    }
   },
   "outputs": [],
   "source": [
    "cv = KFold(5, shuffle=True, random_state=0)"
   ]
  },
  {
   "cell_type": "code",
   "execution_count": 46,
   "metadata": {
    "ExecuteTime": {
     "end_time": "2019-01-24T11:06:28.418152Z",
     "start_time": "2019-01-24T11:06:20.474419Z"
    }
   },
   "outputs": [
    {
     "name": "stdout",
     "output_type": "stream",
     "text": [
      "[K = 0] train rmse = 1.7004060265594525, cv_rmse = 1.7071903686511614\n",
      "[K = 1] train rmse = 1.7007295191804148, cv_rmse = 1.7059109618335895\n",
      "[K = 2] train rmse = 1.6969847768787572, cv_rmse = 1.7202453449619661\n",
      "[K = 3] train rmse = 1.7011612654742774, cv_rmse = 1.7043420941668572\n",
      "[K = 4] train rmse = 1.7053409038312954, cv_rmse = 1.6877648193613277\n"
     ]
    }
   ],
   "source": [
    "for i, (idx_train, idx_cv) in enumerate(cv.split(train)):\n",
    "    df_train = train.iloc[idx_train]\n",
    "    df_cv = train.iloc[idx_cv]\n",
    "    \n",
    "    x_train = df_train.drop(['target'], axis=1)\n",
    "    y_train = df_train['target']\n",
    "    \n",
    "    x_cv = df_cv.drop(['target'], axis=1)\n",
    "    y_cv = df_cv['target']\n",
    "    \n",
    "    model = lgb\n",
    "    model.fit(x_train, y_train)\n",
    "    print(\"[K = {}] train rmse = {}, cv_rmse = {}\".format(i, np.sqrt(np.mean((model.predict(x_train) - y_train) ** 2)), np.sqrt(np.mean((model.predict(x_cv) - y_cv) ** 2))))"
   ]
  },
  {
   "cell_type": "code",
   "execution_count": 53,
   "metadata": {
    "ExecuteTime": {
     "end_time": "2019-01-24T11:09:03.175584Z",
     "start_time": "2019-01-24T11:09:02.456187Z"
    }
   },
   "outputs": [],
   "source": [
    "sample_submission = pd.read_csv('./data/sample_submission.csv')\n",
    "sample_submission['target'] = model.predict(test)\n",
    "sample_submission.to_csv('./data/sub.csv', index=False)"
   ]
  },
  {
   "cell_type": "markdown",
   "metadata": {},
   "source": [
    "## 모델 모듈 임포트"
   ]
  },
  {
   "cell_type": "code",
   "execution_count": 49,
   "metadata": {
    "ExecuteTime": {
     "end_time": "2019-01-24T10:24:54.810647Z",
     "start_time": "2019-01-24T10:24:54.801445Z"
    }
   },
   "outputs": [],
   "source": [
    "from sklearn.tree import DecisionTreeRegressor\n",
    "from sklearn.ensemble import RandomForestRegressor\n",
    "from sklearn.ensemble import AdaBoostRegressor\n",
    "from sklearn.ensemble import ExtraTreesRegressor\n",
    "from sklearn.ensemble import GradientBoostingRegressor\n",
    "from sklearn.ensemble import BaggingRegressor\n",
    "from lightgbm import LGBMRegressor\n",
    "from catboost import CatBoostRegressor\n",
    "from sklearn.linear_model import LinearRegression\n",
    "\n",
    "from sklearn.metrics import mean_squared_error as mse\n",
    "\n",
    "from sklearn.model_selection import GridSearchCV\n",
    "from sklearn.model_selection import KFold\n",
    "from sklearn.model_selection import StratifiedKFold\n",
    "from sklearn.metrics import mean_squared_error\n",
    "from sklearn.linear_model import Ridge\n",
    "\n",
    "import lightgbm as lgb\n",
    "import xgboost as xgb\n"
   ]
  },
  {
   "cell_type": "code",
   "execution_count": 39,
   "metadata": {
    "ExecuteTime": {
     "end_time": "2019-01-24T09:38:31.401816Z",
     "start_time": "2019-01-24T09:38:31.388556Z"
    }
   },
   "outputs": [],
   "source": [
    "train_columns = [c for c in train.columns if c not in ['card_id', 'first_active_month','target','outliers']]"
   ]
  },
  {
   "cell_type": "code",
   "execution_count": 43,
   "metadata": {
    "ExecuteTime": {
     "end_time": "2019-01-24T09:42:17.172527Z",
     "start_time": "2019-01-24T09:42:17.162904Z"
    }
   },
   "outputs": [],
   "source": [
    "param = {'num_leaves': 31,\n",
    "         'min_data_in_leaf': 30, \n",
    "         'objective':'regression',\n",
    "         'max_depth': -1,\n",
    "         'learning_rate': 0.01,\n",
    "         \"min_child_samples\": 20,\n",
    "         \"boosting\": \"gbdt\",\n",
    "         \"feature_fraction\": 0.9,\n",
    "         \"bagging_freq\": 1,\n",
    "         \"bagging_fraction\": 0.9 ,\n",
    "         \"bagging_seed\": 11,\n",
    "         \"metric\": 'rmse',\n",
    "         \"lambda_l1\": 0.1,\n",
    "         \"verbosity\": -1,\n",
    "         \"nthread\": 8,\n",
    "         \"random_state\": 4590}"
   ]
  },
  {
   "cell_type": "code",
   "execution_count": 44,
   "metadata": {
    "ExecuteTime": {
     "end_time": "2019-01-24T09:44:08.592624Z",
     "start_time": "2019-01-24T09:42:17.553975Z"
    }
   },
   "outputs": [
    {
     "name": "stdout",
     "output_type": "stream",
     "text": [
      "fold n°0\n",
      "Training until validation scores don't improve for 200 rounds.\n",
      "[100]\ttraining's rmse: 3.72414\tvalid_1's rmse: 3.76795\n",
      "[200]\ttraining's rmse: 3.66914\tvalid_1's rmse: 3.75358\n",
      "[300]\ttraining's rmse: 3.63287\tvalid_1's rmse: 3.75054\n",
      "[400]\ttraining's rmse: 3.60695\tvalid_1's rmse: 3.74932\n",
      "[500]\ttraining's rmse: 3.58779\tvalid_1's rmse: 3.74898\n",
      "[600]\ttraining's rmse: 3.57146\tvalid_1's rmse: 3.74864\n",
      "[700]\ttraining's rmse: 3.55696\tvalid_1's rmse: 3.74886\n",
      "[800]\ttraining's rmse: 3.54252\tvalid_1's rmse: 3.74916\n",
      "Early stopping, best iteration is:\n",
      "[638]\ttraining's rmse: 3.56589\tvalid_1's rmse: 3.74851\n",
      "fold n°1\n",
      "Training until validation scores don't improve for 200 rounds.\n",
      "[100]\ttraining's rmse: 3.72046\tvalid_1's rmse: 3.77741\n",
      "[200]\ttraining's rmse: 3.66356\tvalid_1's rmse: 3.76519\n",
      "[300]\ttraining's rmse: 3.62734\tvalid_1's rmse: 3.7632\n",
      "[400]\ttraining's rmse: 3.60267\tvalid_1's rmse: 3.76285\n",
      "[500]\ttraining's rmse: 3.58478\tvalid_1's rmse: 3.76293\n",
      "Early stopping, best iteration is:\n",
      "[394]\ttraining's rmse: 3.60384\tvalid_1's rmse: 3.76272\n",
      "fold n°2\n",
      "Training until validation scores don't improve for 200 rounds.\n",
      "[100]\ttraining's rmse: 3.72295\tvalid_1's rmse: 3.76603\n",
      "[200]\ttraining's rmse: 3.66628\tvalid_1's rmse: 3.75064\n",
      "[300]\ttraining's rmse: 3.62962\tvalid_1's rmse: 3.7484\n",
      "[400]\ttraining's rmse: 3.60404\tvalid_1's rmse: 3.7482\n",
      "[500]\ttraining's rmse: 3.58442\tvalid_1's rmse: 3.74868\n",
      "Early stopping, best iteration is:\n",
      "[325]\ttraining's rmse: 3.6223\tvalid_1's rmse: 3.74802\n",
      "fold n°3\n",
      "Training until validation scores don't improve for 200 rounds.\n",
      "[100]\ttraining's rmse: 3.72608\tvalid_1's rmse: 3.76327\n",
      "[200]\ttraining's rmse: 3.67182\tvalid_1's rmse: 3.74737\n",
      "[300]\ttraining's rmse: 3.63468\tvalid_1's rmse: 3.74447\n",
      "[400]\ttraining's rmse: 3.60917\tvalid_1's rmse: 3.74444\n",
      "[500]\ttraining's rmse: 3.5903\tvalid_1's rmse: 3.74398\n",
      "[600]\ttraining's rmse: 3.57415\tvalid_1's rmse: 3.74438\n",
      "Early stopping, best iteration is:\n",
      "[496]\ttraining's rmse: 3.59093\tvalid_1's rmse: 3.7439\n",
      "fold n°4\n",
      "Training until validation scores don't improve for 200 rounds.\n",
      "[100]\ttraining's rmse: 3.7217\tvalid_1's rmse: 3.77028\n",
      "[200]\ttraining's rmse: 3.66619\tvalid_1's rmse: 3.75502\n",
      "[300]\ttraining's rmse: 3.63017\tvalid_1's rmse: 3.7513\n",
      "[400]\ttraining's rmse: 3.606\tvalid_1's rmse: 3.74973\n",
      "[500]\ttraining's rmse: 3.5866\tvalid_1's rmse: 3.74886\n",
      "[600]\ttraining's rmse: 3.56897\tvalid_1's rmse: 3.74862\n",
      "[700]\ttraining's rmse: 3.55384\tvalid_1's rmse: 3.74856\n",
      "[800]\ttraining's rmse: 3.53976\tvalid_1's rmse: 3.74868\n",
      "Early stopping, best iteration is:\n",
      "[691]\ttraining's rmse: 3.55512\tvalid_1's rmse: 3.74842\n",
      "CV score: 3.75032 \n"
     ]
    }
   ],
   "source": [
    "oof_lgb_3 = np.zeros(len(train))\n",
    "predictions_lgb_3 = np.zeros(len(test))\n",
    "start = time.time()\n",
    "\n",
    "folds = StratifiedKFold(n_splits=5, shuffle=True, random_state=15)\n",
    "\n",
    "for fold_, (trn_idx, val_idx) in enumerate(folds.split(train,train['outliers'].values)):    \n",
    "    print(\"fold n°{}\".format(fold_))\n",
    "    trn_data = lgb.Dataset(train.iloc[trn_idx][train_columns], label=target.iloc[trn_idx])\n",
    "    val_data = lgb.Dataset(train.iloc[val_idx][train_columns], label=target.iloc[val_idx])\n",
    "\n",
    "    num_round = 10000\n",
    "    clf = lgb.train(param, trn_data, num_round, valid_sets = [trn_data, val_data], verbose_eval=100, early_stopping_rounds = 200)\n",
    "    oof_lgb_3[val_idx] = clf.predict(train.iloc[val_idx][train_columns], num_iteration=clf.best_iteration)\n",
    "    \n",
    "    predictions_lgb_3 += clf.predict(test[train_columns], num_iteration=clf.best_iteration) / folds.n_splits\n",
    "\n",
    "np.save('oof_lgb_3', oof_lgb_3)\n",
    "np.save('predictions_lgb_3', predictions_lgb_3)\n",
    "print(\"CV score: {:<8.5f}\".format(mean_squared_error(oof_lgb_3, target)**0.5))"
   ]
  },
  {
   "cell_type": "code",
   "execution_count": 46,
   "metadata": {
    "ExecuteTime": {
     "end_time": "2019-01-24T09:44:41.677413Z",
     "start_time": "2019-01-24T09:44:41.671081Z"
    }
   },
   "outputs": [],
   "source": [
    "xgb_params = {'eta': 0.005, 'max_depth': 10, 'subsample': 0.8, 'colsample_bytree': 0.8, \n",
    "          'objective': 'reg:linear', 'eval_metric': 'rmse', 'silent': True}"
   ]
  },
  {
   "cell_type": "code",
   "execution_count": 47,
   "metadata": {
    "ExecuteTime": {
     "end_time": "2019-01-24T10:23:52.271290Z",
     "start_time": "2019-01-24T09:44:42.308563Z"
    },
    "scrolled": false
   },
   "outputs": [
    {
     "name": "stdout",
     "output_type": "stream",
     "text": [
      "-\n",
      "Fold 1\n",
      "xgb 0--------------------------------------------------\n",
      "[0]\ttrain-rmse:3.94883\tvalid-rmse:3.95491\n",
      "Multiple eval metrics have been passed: 'valid-rmse' will be used for early stopping.\n",
      "\n",
      "Will train until valid-rmse hasn't improved in 50 rounds.\n",
      "Stopping. Best iteration:\n",
      "[608]\ttrain-rmse:3.22901\tvalid-rmse:3.752\n",
      "\n",
      "-\n",
      "Fold 2\n",
      "xgb 1--------------------------------------------------\n",
      "[0]\ttrain-rmse:3.94872\tvalid-rmse:3.95413\n",
      "Multiple eval metrics have been passed: 'valid-rmse' will be used for early stopping.\n",
      "\n",
      "Will train until valid-rmse hasn't improved in 50 rounds.\n",
      "Stopping. Best iteration:\n",
      "[514]\ttrain-rmse:3.28388\tvalid-rmse:3.76508\n",
      "\n",
      "-\n",
      "Fold 3\n",
      "xgb 2--------------------------------------------------\n",
      "[0]\ttrain-rmse:3.95191\tvalid-rmse:3.9422\n",
      "Multiple eval metrics have been passed: 'valid-rmse' will be used for early stopping.\n",
      "\n",
      "Will train until valid-rmse hasn't improved in 50 rounds.\n",
      "Stopping. Best iteration:\n",
      "[503]\ttrain-rmse:3.29795\tvalid-rmse:3.75636\n",
      "\n",
      "-\n",
      "Fold 4\n",
      "xgb 3--------------------------------------------------\n",
      "[0]\ttrain-rmse:3.94998\tvalid-rmse:3.94952\n",
      "Multiple eval metrics have been passed: 'valid-rmse' will be used for early stopping.\n",
      "\n",
      "Will train until valid-rmse hasn't improved in 50 rounds.\n",
      "Stopping. Best iteration:\n",
      "[629]\ttrain-rmse:3.21337\tvalid-rmse:3.74664\n",
      "\n",
      "-\n",
      "Fold 5\n",
      "xgb 4--------------------------------------------------\n",
      "[0]\ttrain-rmse:3.94903\tvalid-rmse:3.95378\n",
      "Multiple eval metrics have been passed: 'valid-rmse' will be used for early stopping.\n",
      "\n",
      "Will train until valid-rmse hasn't improved in 50 rounds.\n",
      "Stopping. Best iteration:\n",
      "[603]\ttrain-rmse:3.23851\tvalid-rmse:3.74935\n",
      "\n"
     ]
    },
    {
     "data": {
      "text/plain": [
       "3.7542866203548657"
      ]
     },
     "execution_count": 47,
     "metadata": {},
     "output_type": "execute_result"
    }
   ],
   "source": [
    "oof_xgb_3 = np.zeros(len(train))\n",
    "predictions_xgb_3 = np.zeros(len(test))\n",
    "\n",
    "folds = StratifiedKFold(n_splits=5, shuffle=True, random_state=15)\n",
    "\n",
    "for fold_, (trn_idx, val_idx) in enumerate(folds.split(train,train['outliers'].values)):    \n",
    "    print('-')\n",
    "    print(\"Fold {}\".format(fold_ + 1))\n",
    "    trn_data = xgb.DMatrix(data=train.iloc[trn_idx][train_columns], label=target.iloc[trn_idx])\n",
    "    val_data = xgb.DMatrix(data=train.iloc[val_idx][train_columns], label=target.iloc[val_idx])\n",
    "    watchlist = [(trn_data, 'train'), (val_data, 'valid')]\n",
    "    print(\"xgb \" + str(fold_) + \"-\" * 50)\n",
    "    num_round = 10000\n",
    "    xgb_model = xgb.train(xgb_params, trn_data, num_round, watchlist, early_stopping_rounds=50, verbose_eval=1000)\n",
    "    oof_xgb_3[val_idx] = xgb_model.predict(xgb.DMatrix(train.iloc[val_idx][train_columns]), ntree_limit=xgb_model.best_ntree_limit+50)\n",
    "\n",
    "    predictions_xgb_3 += xgb_model.predict(xgb.DMatrix(test[train_columns]), ntree_limit=xgb_model.best_ntree_limit+50) / folds.n_splits\n",
    "    \n",
    "np.save('oof_xgb_3', oof_xgb_3)\n",
    "np.save('predictions_xgb_3', predictions_xgb_3)\n",
    "np.sqrt(mean_squared_error(target.values, oof_xgb_3))"
   ]
  },
  {
   "cell_type": "code",
   "execution_count": 50,
   "metadata": {
    "ExecuteTime": {
     "end_time": "2019-01-24T10:24:57.975923Z",
     "start_time": "2019-01-24T10:24:57.614050Z"
    }
   },
   "outputs": [
    {
     "name": "stdout",
     "output_type": "stream",
     "text": [
      "fold n°0\n",
      "fold n°1\n",
      "fold n°2\n",
      "fold n°3\n",
      "fold n°4\n"
     ]
    },
    {
     "data": {
      "text/plain": [
       "3.749507598369251"
      ]
     },
     "execution_count": 50,
     "metadata": {},
     "output_type": "execute_result"
    }
   ],
   "source": [
    "train_stack = np.vstack([oof_lgb_3, oof_xgb_3]).transpose()\n",
    "test_stack = np.vstack([predictions_lgb_3, predictions_xgb_3]).transpose()\n",
    "\n",
    "folds = StratifiedKFold(n_splits=5, shuffle=True, random_state=15)\n",
    "oof = np.zeros(train_stack.shape[0])\n",
    "predictions = np.zeros(test_stack.shape[0])\n",
    "\n",
    "for fold_, (trn_idx, val_idx) in enumerate(folds.split(train_stack, train['outliers'].values)):\n",
    "    print(\"fold n°{}\".format(fold_))\n",
    "    trn_data, trn_y = train_stack[trn_idx], target.iloc[trn_idx].values\n",
    "    val_data, val_y = train_stack[val_idx], target.iloc[val_idx].values\n",
    "\n",
    "    clf = Ridge(alpha=1)\n",
    "    clf.fit(trn_data, trn_y)\n",
    "    \n",
    "    oof[val_idx] = clf.predict(val_data)\n",
    "    predictions += clf.predict(test_stack) / folds.n_splits\n",
    "\n",
    "\n",
    "np.sqrt(mean_squared_error(target.values, oof))"
   ]
  },
  {
   "cell_type": "code",
   "execution_count": 54,
   "metadata": {
    "ExecuteTime": {
     "end_time": "2019-01-24T10:26:37.063977Z",
     "start_time": "2019-01-24T10:26:36.070100Z"
    }
   },
   "outputs": [],
   "source": [
    "sample_submission = pd.read_csv('./data/sample_submission.csv')\n",
    "sample_submission['target'] = predictions\n",
    "sample_submission.to_csv('./data/sub.csv', index=False)"
   ]
  }
 ],
 "metadata": {
  "kernelspec": {
   "display_name": "Python 3",
   "language": "python",
   "name": "python3"
  },
  "language_info": {
   "codemirror_mode": {
    "name": "ipython",
    "version": 3
   },
   "file_extension": ".py",
   "mimetype": "text/x-python",
   "name": "python",
   "nbconvert_exporter": "python",
   "pygments_lexer": "ipython3",
   "version": "3.6.7"
  },
  "toc": {
   "base_numbering": 1,
   "nav_menu": {},
   "number_sections": true,
   "sideBar": true,
   "skip_h1_title": false,
   "title_cell": "Table of Contents",
   "title_sidebar": "Contents",
   "toc_cell": false,
   "toc_position": {},
   "toc_section_display": true,
   "toc_window_display": true
  }
 },
 "nbformat": 4,
 "nbformat_minor": 2
}
